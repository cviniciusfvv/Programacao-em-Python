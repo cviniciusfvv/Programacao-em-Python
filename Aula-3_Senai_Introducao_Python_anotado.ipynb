{
  "cells": [
    {
      "cell_type": "markdown",
      "metadata": {
        "id": "Xt2qGKLLUHkI"
      },
      "source": [
        "# Aula 3: Introdução à Linguagem de Programação Python\n",
        "Bem vindo ao Google Colaboratory!\n",
        "Nós iremos utilizar essa plataforma para fazer nossas atividades com o Python. Vamos fazer alguns testes?"
      ]
    },
    {
      "cell_type": "markdown",
      "metadata": {
        "id": "gBRRvc22SeHM"
      },
      "source": [
        "# **MATCH** CASE em PYTHON"
      ]
    },
    {
      "cell_type": "markdown",
      "metadata": {
        "id": "5DCQUEkISgLM"
      },
      "source": [
        "## Você sabe o que é **Match** Case Python? Eu vou te mostrar como essa estrutura vai te ajudar e vai substituir IF e ELSE do seu código\n",
        "\n",
        "\n",
        "```\n",
        "valor = int(input(\"Digite 1-Saque ou 2-Depósito 3-Saldo :\"))\n",
        "\n",
        "match valor:\n",
        "  case 1:\n",
        "    print(\"Saque - Informe o Valor\")\n",
        "  case 2:\n",
        "    print(\"Depósito - Informe a conta\")\n",
        "  case 3:\n",
        "    print(\"Saldo - C/C ou Poupança\")\n",
        "  case _:\n",
        "    print(\"1 2 ou 3 apenas\")\n",
        "```"
      ]
    },
    {
      "cell_type": "code",
      "execution_count": 6,
      "metadata": {
        "id": "7CmKRjqJTpmC"
      },
      "outputs": [
        {
          "name": "stdout",
          "output_type": "stream",
          "text": [
            "1 2 ou 3 apenas\n"
          ]
        }
      ],
      "source": [
        "valor = int(input(\"Digite 1-Saque ou 2-Depósito 3-Saldo :\"))\n",
        "\n",
        "match valor:\n",
        "  case 1:\n",
        "    print(\"Saque - Informe o Valor\")\n",
        "  case 2:\n",
        "    print(\"Depósito - Informe a conta\")\n",
        "  case 3:\n",
        "    print(\"Saldo - C/C ou Poupança\")\n",
        "  case _:\n",
        "    print(\"1 2 ou 3 apenas\")"
      ]
    },
    {
      "cell_type": "code",
      "execution_count": 1,
      "metadata": {
        "id": "lyrZcyT1-PW0"
      },
      "outputs": [
        {
          "ename": "SyntaxError",
          "evalue": "expected ':' (3895678768.py, line 6)",
          "output_type": "error",
          "traceback": [
            "\u001b[1;36m  Cell \u001b[1;32mIn[1], line 6\u001b[1;36m\u001b[0m\n\u001b[1;33m    if(ctatipo == 1)\u001b[0m\n\u001b[1;37m                    ^\u001b[0m\n\u001b[1;31mSyntaxError\u001b[0m\u001b[1;31m:\u001b[0m expected ':'\n"
          ]
        }
      ],
      "source": [
        "valor = int(input(\"Digite 1-Saque ou 2-Depósito 3-Saldo :\"))\n",
        "\n",
        "match valor:\n",
        "  case 1:\n",
        "    ctatipo = int(input (\"1-poupança / 2 - C/C\"))\n",
        "    if(ctatipo == 1)\n",
        "    print(\"Saque - Informe o Valor\")\n",
        "    elif (ctatipo == 2)\n",
        "    \n",
        "  case 2:\n",
        "    print(\"Depósito - Informe a conta\")\n",
        "  case 3:\n",
        "    print(\"Saldo - C/C ou Poupança\")\n",
        "  case _:\n",
        "    print(\"1 2 ou 3 apenas\")"
      ]
    },
    {
      "cell_type": "markdown",
      "metadata": {
        "id": "e2mPSuG-Sn01"
      },
      "source": [
        "## Match Case:\n",
        "\n",
        "Como vamos transformar este código em um Match case?\n",
        "\n",
        "Match case é como o Python chama essa estrutura em outras linguagens ela é chamada de Switch Case.\n",
        "\n",
        "Nós vamos inserir na linha abaixo da variável  “Match” em seguida colocamos o nome da variável que neste caso é dia.\n",
        "\n",
        "Nosso objetivo é avaliar os casos da variável dia.\n",
        "\n",
        "Quais são os casos? Vamos inserir os casos na próxima linha.\n",
        "\n",
        "\n",
        "\n",
        "```\n",
        "\n",
        "match dia:\n",
        "  case 1:\n",
        "    print (\"Domingo\")\n",
        "  case 2:\n",
        "    print (\"Segunda\")\n",
        "  case 3:\n",
        "    print (\"Terça\")\n",
        "  case 4:\n",
        "    print (\"Quarta\" )\n",
        "  case 5:\n",
        "    print (\"Quinta\")\n",
        "  case 6:\n",
        "    print (\"Sexta\")\n",
        "  case 7:\n",
        "    print (\"Sábado\")\n",
        "  case _:\n",
        "    print(\"A semana só tem 7 dias :(\")\n",
        "\n",
        "```"
      ]
    },
    {
      "cell_type": "code",
      "execution_count": 18,
      "metadata": {
        "id": "nunE0800SzVU"
      },
      "outputs": [
        {
          "name": "stdout",
          "output_type": "stream",
          "text": [
            "A semana só tem 7 dias:\n"
          ]
        }
      ],
      "source": [
        "dia = int(input(\"Digite p dia da semana :\"))\n",
        "\n",
        "match dia:\n",
        "  case 1:\n",
        "    print (\"Domingo\")\n",
        "  case 2:\n",
        "    print (\"Segunda\")\n",
        "  case 3:\n",
        "    print (\"Terça\")\n",
        "  case 4:\n",
        "    print (\"Quarta\")\n",
        "  case 5:\n",
        "    print (\"Quinta\")\n",
        "  case 6:\n",
        "    print (\"Sexta\")\n",
        "  case 7:\n",
        "    print (\"Sábado\")\n",
        "  case _:\n",
        "    print(\"A semana só tem 7 dias:\")"
      ]
    },
    {
      "cell_type": "markdown",
      "metadata": {
        "id": "4wCdMWFL_uXU"
      },
      "source": [
        "## Exercício 01\n",
        "Faça o JOGO\n",
        "\n",
        "*PEDRA\n",
        "\n",
        "*PAPEL\n",
        "\n",
        "*TESOURA\n"
      ]
    },
    {
      "cell_type": "code",
      "execution_count": 11,
      "metadata": {
        "id": "1X3V10gHAgCf"
      },
      "outputs": [
        {
          "name": "stdout",
          "output_type": "stream",
          "text": [
            "Ganhou Prayboi\n",
            "O que o pc jogou: 3\n",
            "O que o usuário jogou: 1\n"
          ]
        }
      ],
      "source": [
        "import random\n",
        "\n",
        "pc = random.randint(1, 3)\n",
        "usuario = int(input(\"Digite: 1 - pedra, 2 - papel, 3 - tesoura\"))\n",
        "\n",
        "match usuario:\n",
        "    case 1:\n",
        "        if pc == 1:\n",
        "            print(\"Empate!\")\n",
        "        elif pc == 2:\n",
        "            print(\"Perdeu Prayboi\")\n",
        "        elif pc == 3:\n",
        "            print(\"Ganhou Prayboi\")\n",
        "\n",
        "    case 2:\n",
        "        if pc == 1:\n",
        "            print(\"Ganhou Prayboi\")\n",
        "        elif pc == 2:\n",
        "            print(\"Empate!\")\n",
        "        elif pc == 3:\n",
        "            print(\"Perdeu Prayboi\")\n",
        "\n",
        "    case 3:\n",
        "        if pc == 1:\n",
        "            print(\"Perdeu Prayboi\")\n",
        "        elif pc == 2:\n",
        "            print(\"Ganhou Prayboi\")\n",
        "        elif pc == 3:\n",
        "            print(\"Empate!\")\n",
        "\n",
        "print(\"O que o pc jogou:\", pc)\n",
        "print(\"O que o usuário jogou:\", usuario)\n"
      ]
    },
    {
      "cell_type": "markdown",
      "metadata": {
        "id": "XAaPLqeN4ude"
      },
      "source": [
        "## Exercício 2\n",
        "\n",
        "Faça uma aplicação que simule um Caixa eletrônico onde;\n",
        "\n",
        "\n",
        "*   1 - Saque\n",
        "*   2 - Depósito\n",
        "*   3 - Transferência\n",
        "*   4 - Saldo\n",
        "\n",
        "      *   C/C\n",
        "      *   POUPANÇA\n",
        "\n",
        "\n",
        "\n",
        "\n",
        "\n"
      ]
    },
    {
      "cell_type": "code",
      "execution_count": 8,
      "metadata": {
        "id": "59dwOoaX5PiC"
      },
      "outputs": [
        {
          "name": "stdout",
          "output_type": "stream",
          "text": [
            "1 para saque, 2 deposito, 3 tranferencia ou 4 saldo de C/C ou poupnça apenas\n"
          ]
        }
      ],
      "source": [
        "\n",
        "valor = int(input(\"Digite 1-Saque ou 2-Depósito 3-tranferencia 4-Saldo: CC ou poupança:\"))\n",
        "\n",
        "match valor:\n",
        "  case 1:\n",
        "    print(\"Saque - Informe o Valor\")\n",
        "  case 2:\n",
        "    print(\"Depósito - Informe a conta\")\n",
        "  case 3:\n",
        "    print(\"Transferencia\")\n",
        "  case 4:\n",
        "    valor1 = int(input(\"Digite para ver da 1-C/C ou 2-Poupança:\"))\n",
        "    if (valor1 == 1):\n",
        "      print(\"C/C\")\n",
        "    elif (valor1 == 2):\n",
        "      print(\"Poupança\")\n",
        "    else:\n",
        "      print(\"digite 1 C/C ou 2 Poupança\")\n",
        "  case _:\n",
        "    print(\"1 para saque, 2 deposito, 3 tranferencia ou 4 saldo de C/C ou poupnça apenas\")\n"
      ]
    },
    {
      "cell_type": "markdown",
      "metadata": {
        "id": "qfhOrRrw5Th9"
      },
      "source": [
        "## Exercício 3\n",
        "\n",
        "Faça uma aplicação Python parfa escolher um candidato entre 4 candidatos em uma eleição.\n",
        "\n",
        "\n",
        "*   Bob Esponja\n",
        "*   Lula Molusco\n",
        "*   Sirigueijo\n",
        "*   Patrick\n",
        "\n",
        "\n",
        "\n",
        "\n"
      ]
    },
    {
      "cell_type": "code",
      "execution_count": 24,
      "metadata": {
        "id": "24MJanT4531D"
      },
      "outputs": [
        {
          "name": "stdout",
          "output_type": "stream",
          "text": [
            "a votação vai de 1 a 4\n"
          ]
        }
      ],
      "source": [
        "valor = int(input(\"Escolha seu candidato: 1-Bob Esponja, 2- Lula Molusco, 3- Siriguijo, 4- Patrick\"))\n",
        "\n",
        "match valor:\n",
        "    case 1:\n",
        "        print(\"Você votou no Bob Esponja\")\n",
        "    case 2:\n",
        "        print(\"Você votou Lula Malusco\")\n",
        "    case 3: \n",
        "        print(\"Você votou Siriguejo\")\n",
        "    case 4:\n",
        "        print(\"Você votou Patruck\")\n",
        "    case _:\n",
        "        print(\"a votação vai de 1 a 4\")"
      ]
    }
  ],
  "metadata": {
    "colab": {
      "provenance": []
    },
    "kernelspec": {
      "display_name": "Python 3",
      "name": "python3"
    },
    "language_info": {
      "codemirror_mode": {
        "name": "ipython",
        "version": 3
      },
      "file_extension": ".py",
      "mimetype": "text/x-python",
      "name": "python",
      "nbconvert_exporter": "python",
      "pygments_lexer": "ipython3",
      "version": "3.11.6"
    }
  },
  "nbformat": 4,
  "nbformat_minor": 0
}
