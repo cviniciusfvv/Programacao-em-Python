{
  "nbformat": 4,
  "nbformat_minor": 0,
  "metadata": {
    "colab": {
      "provenance": []
    },
    "kernelspec": {
      "name": "python3",
      "display_name": "Python 3"
    },
    "language_info": {
      "name": "python"
    }
  },
  "cells": [
    {
      "cell_type": "markdown",
      "source": [
        "# Aula 4: Introdução à Linguagem de Programação Python\n",
        "Bem vindo ao Google Colaboratory!\n",
        "Nós iremos utilizar essa plataforma para fazer nossas atividades com o Python. Vamos fazer alguns testes?"
      ],
      "metadata": {
        "id": "lOaY1253RR1K"
      }
    },
    {
      "cell_type": "markdown",
      "source": [
        "# **Laços** de **repetição**\n",
        "Existem basicamente dois tipos de laços de repetição em Python: o laço **while**, usado quando não sabemos exatamente quantas vezes o bloco será repetido, assim será definida uma determinada condição e quando essa for atingida o bloco se encerrará; e o laço **for**, usado quando sabemos quantas vezes o bloco será repetido, como por exemplo se desejarmos que o código será executado dez vezes."
      ],
      "metadata": {
        "id": "UoCkZq7YRejt"
      }
    },
    {
      "cell_type": "markdown",
      "source": [
        "# Comando While\n",
        "Para compreendermos melhor o laço while (na tradução literal para a língua portuguesa “enquanto”) podemos utilizar como exemplo a calculadora desenvolvida no capítulo anterior. Vamos adicionar alguns comandos para que o script se repita até que o usuário deseje encerrá-lo."
      ],
      "metadata": {
        "id": "93Jbzei4RzhZ"
      }
    },
    {
      "cell_type": "code",
      "source": [
        "nome = input(\"Digite um nome:\")\n",
        "while nome != \"Sair\":\n",
        "    nome = input(\"Digite um novo nome:\")"
      ],
      "metadata": {
        "id": "lMkhngIJCkbL"
      },
      "execution_count": null,
      "outputs": []
    },
    {
      "cell_type": "markdown",
      "source": [
        "## Exercício 01\n",
        "\n",
        "Faça uma aplicativo Python que leia dois números e efetue as operações;\n",
        "\n",
        "1 para Soma\n",
        "\n",
        "2 para Subtração\n",
        "\n",
        "3 para Multiplicação\n",
        "\n",
        "4 para Divisão\n",
        "\n",
        "5 para SAIR"
      ],
      "metadata": {
        "id": "8oOXW_enDJo3"
      }
    },
    {
      "cell_type": "code",
      "source": [],
      "metadata": {
        "id": "ZhC1k7ivf7YM"
      },
      "execution_count": null,
      "outputs": []
    },
    {
      "cell_type": "code",
      "source": [
        "operacao = 0\n",
        "while operacao != 5:\n",
        "  valor1 = int(input(\"entre com o primeiro número:\"))\n",
        "  valor2 = int(input(\"entre com o segundo número:\"))\n",
        "  operacao = int(input(\"Escolha: \\n 1-Soma\\n 2-subtração\\n 3-Mult\\n 4-Divisão\\n 5-Sair \"))\n",
        "  if operacao == 1:\n",
        "    soma = valor1 + valor2\n",
        "    print(soma)"
      ],
      "metadata": {
        "id": "iM9AZMxqHOha"
      },
      "execution_count": null,
      "outputs": []
    },
    {
      "cell_type": "markdown",
      "source": [
        "## Exercício 02\n",
        "\n",
        "Faça um programa, utilizando while, que mostre na tela de 0 até N, em que N é o limite inserido pelo usuário."
      ],
      "metadata": {
        "id": "BAwA7YXXDj1Z"
      }
    },
    {
      "cell_type": "code",
      "source": [
        "n = int(input(\"Digite o valor limite:\"))\n",
        "inicio = 1\n",
        "while inicio <= n:\n",
        "  print (inicio)\n",
        "  inicio+= 1"
      ],
      "metadata": {
        "id": "4cCFjsp1D6CE",
        "colab": {
          "base_uri": "https://localhost:8080/"
        },
        "outputId": "546caff1-3b8f-4c96-9d0d-75a2d0ecf631"
      },
      "execution_count": null,
      "outputs": [
        {
          "output_type": "stream",
          "name": "stdout",
          "text": [
            "Digite o valor limite:23\n",
            "1\n",
            "2\n",
            "3\n",
            "4\n",
            "5\n",
            "6\n",
            "7\n",
            "8\n",
            "9\n",
            "10\n",
            "11\n",
            "12\n",
            "13\n",
            "14\n",
            "15\n",
            "16\n",
            "17\n",
            "18\n",
            "19\n",
            "20\n",
            "21\n",
            "22\n",
            "23\n"
          ]
        }
      ]
    },
    {
      "cell_type": "markdown",
      "source": [
        "## Exercício 03\n",
        "\n",
        "Faça um programa, utilizando while e listas, que permita o usuário escrever o nome de cinco pessoas e os mostre na tela."
      ],
      "metadata": {
        "id": "Qnk-QiVoD63G"
      }
    },
    {
      "cell_type": "code",
      "source": [
        "nomes = []\n",
        "while len(nomes) <6:\n",
        "  user = input(\"Digite um  nome: \")\n",
        "  nomes.append(user)\n",
        "\n",
        "23\n",
        "print(nomes)"
      ],
      "metadata": {
        "id": "3O2lXLYEEk6r",
        "colab": {
          "base_uri": "https://localhost:8080/"
        },
        "outputId": "fcdbc122-e13e-4dfb-b631-787acb755baa"
      },
      "execution_count": null,
      "outputs": [
        {
          "output_type": "stream",
          "name": "stdout",
          "text": [
            "Digite um  nome: 1\n",
            "Digite um  nome: 2\n",
            "Digite um  nome: 3\n",
            "Digite um  nome: 4\n",
            "Digite um  nome: 5\n",
            "Digite um  nome: 6\n",
            "['1', '2', '3', '4', '5', '6']\n"
          ]
        }
      ]
    },
    {
      "cell_type": "markdown",
      "source": [
        "## Exercício 04\n",
        "\n",
        "Faça um programa co WHILE que peça uma nota, entre zero e dez. Mostre uma mensagem caso o valor seja inválido e continue pedindo até que o usuário informe um valor válido"
      ],
      "metadata": {
        "id": "s73kgditYsSt"
      }
    },
    {
      "cell_type": "code",
      "source": [
        "cont = 0\n",
        "nota = int(input(\"digite um numero:\"))\n",
        "while (nota>=0) and (nota <=10):\n",
        "  nota =int(input(\"Número: \"))\n"
      ],
      "metadata": {
        "id": "NSQ_6ZmHYwnZ"
      },
      "execution_count": null,
      "outputs": []
    },
    {
      "cell_type": "markdown",
      "source": [
        "---"
      ],
      "metadata": {
        "id": "tel00Vm6UZOD"
      }
    },
    {
      "cell_type": "markdown",
      "source": [
        "# Comando for\n",
        "*texto em itálico*\n",
        "O comando **for** (na tradução literal para a língua portuguesa “para”), diferente do comando while, realiza iterações sobre coleções. Sendo assim, a cada “volta” do laço, a variável definida na chamada do for assume o valor de um dos elementos da coleção. A execução do comando é finalizada quando chega ao fim da coleção ou através de um comando de interrupção, como veremos em breve."
      ],
      "metadata": {
        "id": "JhfVu4T7UbGw"
      }
    },
    {
      "cell_type": "code",
      "source": [
        "for i in range(1,10,2):\n",
        "\tprint(i)"
      ],
      "metadata": {
        "id": "k8pnlSMLUne3"
      },
      "execution_count": null,
      "outputs": []
    },
    {
      "cell_type": "code",
      "source": [
        "for i in range(10):\n",
        "\tprint(i)"
      ],
      "metadata": {
        "id": "z3pI2vdxCEqJ"
      },
      "execution_count": null,
      "outputs": []
    },
    {
      "cell_type": "markdown",
      "source": [
        "\n",
        "# Execício 05\n",
        "\n",
        "Faça um programa, utilizando for, que peça para o usuário inserir um número N e mostre na tela todos os números ímpares até N."
      ],
      "metadata": {
        "id": "oOgCMntbE377"
      }
    },
    {
      "cell_type": "code",
      "source": [
        "n = int(input(\"Digite um numero:\"))\n",
        "for i in range(n):\n",
        "  valor = i % 2\n",
        "  if valor != 0:\n",
        "    print(i)\n",
        "\n"
      ],
      "metadata": {
        "id": "mENhqj0jFek7",
        "colab": {
          "base_uri": "https://localhost:8080/"
        },
        "outputId": "aadb6556-d19e-4de4-cdef-83aa556015f0"
      },
      "execution_count": null,
      "outputs": [
        {
          "output_type": "stream",
          "name": "stdout",
          "text": [
            "Digite um numero:20\n",
            "1\n",
            "3\n",
            "5\n",
            "7\n",
            "9\n",
            "11\n",
            "13\n",
            "15\n",
            "17\n",
            "19\n"
          ]
        }
      ]
    },
    {
      "cell_type": "markdown",
      "source": [
        "# Exercício 06\n",
        "\n",
        "Faça um programa, utilizando for leia e grave 10 nomes em uma lista. No final outro for para exibir os nomes da lista."
      ],
      "metadata": {
        "id": "vFzK9Wj3Ibfy"
      }
    },
    {
      "cell_type": "code",
      "source": [
        "\n",
        "# Define a lista\n",
        "nomes = []\n",
        "for i in range(10):\n",
        "  user = input(\"Digite um  nome: \")\n",
        "    #passa o valor de USER para a lista\n",
        "  nomes.append(user)\n",
        "\n",
        "print(nomes)\n"
      ],
      "metadata": {
        "id": "mDJhkiZiIi9f",
        "colab": {
          "base_uri": "https://localhost:8080/"
        },
        "outputId": "432eaa80-d188-4a44-ab53-8effc8893194"
      },
      "execution_count": null,
      "outputs": [
        {
          "output_type": "stream",
          "name": "stdout",
          "text": [
            "Digite um  nome: 1\n",
            "Digite um  nome: 2\n",
            "Digite um  nome: 3\n",
            "Digite um  nome: 4\n",
            "Digite um  nome: 5\n",
            "Digite um  nome: 6\n",
            "Digite um  nome: 7\n",
            "Digite um  nome: 8\n",
            "Digite um  nome: 9\n",
            "Digite um  nome: 10\n",
            "['1', '2', '3', '4', '5', '6', '7', '8', '9', '10']\n"
          ]
        }
      ]
    },
    {
      "cell_type": "markdown",
      "source": [
        "# Exercício 07\n",
        "\n",
        "Faça um programa Python com while que leia 5 numeros pares e armazene os numeros em uma lista."
      ],
      "metadata": {
        "id": "7FRPCaqIXN_u"
      }
    },
    {
      "cell_type": "code",
      "source": [
        "numeros= []\n",
        "for i in range(5):\n",
        "  num = int(input(\"Digite um numero:\"))\n",
        "  valor = num % 2\n",
        "  if valor == 0:\n",
        "    numeros.append(num)\n",
        "\n",
        "print(numeros)"
      ],
      "metadata": {
        "id": "7cRM8m71XbT_",
        "colab": {
          "base_uri": "https://localhost:8080/"
        },
        "outputId": "f63b20df-467f-4299-cdf2-0109b9aab860"
      },
      "execution_count": null,
      "outputs": [
        {
          "output_type": "stream",
          "name": "stdout",
          "text": [
            "Digite um numero:1\n",
            "Digite um numero:2\n",
            "Digite um numero:3\n",
            "Digite um numero:4\n",
            "Digite um numero:5\n",
            "[2, 4]\n"
          ]
        }
      ]
    },
    {
      "cell_type": "markdown",
      "source": [
        "---"
      ],
      "metadata": {
        "id": "1vrH7xhoXcKH"
      }
    },
    {
      "cell_type": "markdown",
      "source": [
        "# Cláusulas break e continue\n",
        "Caso desejemos alterar o fluxo de execução de um laço de repetição, podemos utilizar as cláusulas: break, para interromper a execução, ou continue, para prosseguir para a próxima iteração. Veja:\n",
        "\n"
      ],
      "metadata": {
        "id": "LcUsaoeyUud1"
      }
    },
    {
      "cell_type": "code",
      "source": [
        "for i in range(10):\n",
        "\tif i == 5:\n",
        "\t\tcontinue\n",
        "\tif i < 8:\n",
        "\t\tprint(i)\n",
        "\tif i == 8:\n",
        "\t\tbreak\n",
        "# Sera impresso: 0 1 2 3 4 6 7"
      ],
      "metadata": {
        "id": "GKs5BxuaU1aa",
        "outputId": "6d879928-7b48-42f8-a41e-15d913c869f1",
        "colab": {
          "base_uri": "https://localhost:8080/"
        }
      },
      "execution_count": null,
      "outputs": [
        {
          "output_type": "stream",
          "name": "stdout",
          "text": [
            "0\n",
            "1\n",
            "2\n",
            "3\n",
            "4\n",
            "6\n",
            "7\n"
          ]
        }
      ]
    },
    {
      "cell_type": "code",
      "source": [
        "import urllib.request\n",
        "from bs4 import BeautifulSoup\n",
        "\n",
        "\n",
        "wiki = 'https://pt.wikipedia.org/wiki/Lista_de_capitais_do_Brasil_por_%C3%A1rea'\n",
        "page = urllib.request.urlopen(wiki)\n",
        "soup = BeautifulSoup(page, 'html.parser')\n",
        "table = soup.find('table')\n",
        "\n",
        "\n",
        "A=[]\n",
        "B=[]\n",
        "C=[]\n",
        "D=[]\n",
        "E=[]\n",
        "\n",
        "\n",
        "for row in table.findAll('tr'):\n",
        "    cells = row.findAll('td')\n",
        "    if len(cells)==5:\n",
        "        A.append(cells[0].find(string=True))\n",
        "        B.append(cells[1].find(string=True))\n",
        "        C.append(cells[2].find(string=True))\n",
        "        D.append(cells[3].find('a').text)\n",
        "        E.append(cells[4].find(string=True))\n",
        "\n",
        "\n",
        "import pandas as pd\n",
        "\n",
        "df = pd.DataFrame(index=A, columns=['Posição'])\n",
        "\n",
        "df['Posição']=A\n",
        "df['Estado']=B\n",
        "df['Código/IBGE']=C\n",
        "df['Capital']=D\n",
        "df['Área']=E\n",
        "\n",
        "df\n",
        "\n",
        "pessoas = pd.DataFrame(df)\n",
        "type(pessoas)\n",
        "\n",
        "pessoas.to_csv('pessoas.csv')"
      ],
      "metadata": {
        "id": "aTYk4yuiYWgW"
      },
      "execution_count": null,
      "outputs": []
    }
  ]
}