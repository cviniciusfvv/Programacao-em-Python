{
  "cells": [
    {
      "cell_type": "markdown",
      "metadata": {
        "id": "lOaY1253RR1K"
      },
      "source": [
        "# Aula 4: Introdução à Linguagem de Programação Python\n",
        "Bem vindo ao Google Colaboratory!\n",
        "Nós iremos utilizar essa plataforma para fazer nossas atividades com o Python. Vamos fazer alguns testes?"
      ]
    },
    {
      "cell_type": "markdown",
      "metadata": {
        "id": "UoCkZq7YRejt"
      },
      "source": [
        "# **Laços** de **repetição**\n",
        "Existem basicamente dois tipos de laços de repetição em Python: o laço **while**, usado quando não sabemos exatamente quantas vezes o bloco será repetido, assim será definida uma determinada condição e quando essa for atingida o bloco se encerrará; e o laço **for**, usado quando sabemos quantas vezes o bloco será repetido, como por exemplo se desejarmos que o código será executado dez vezes."
      ]
    },
    {
      "cell_type": "markdown",
      "metadata": {
        "id": "93Jbzei4RzhZ"
      },
      "source": [
        "# Comando While\n",
        "Para compreendermos melhor o laço while (na tradução literal para a língua portuguesa “enquanto”) podemos utilizar como exemplo a calculadora desenvolvida no capítulo anterior. Vamos adicionar alguns comandos para que o script se repita até que o usuário deseje encerrá-lo."
      ]
    },
    {
      "cell_type": "code",
      "execution_count": 6,
      "metadata": {
        "id": "lMkhngIJCkbL"
      },
      "outputs": [],
      "source": [
        "nome = input(\"Digite um nome:\")\n",
        "while nome != \"Sair\":\n",
        "    nome = input(\"Digite um novo nome:\")"
      ]
    },
    {
      "cell_type": "markdown",
      "metadata": {
        "id": "8oOXW_enDJo3"
      },
      "source": [
        "## Exercício 01\n",
        "\n",
        "Faça uma aplicativo Python que leia dois números e efetue as operações;\n",
        "\n",
        "1 para Soma\n",
        "\n",
        "2 para Subtração\n",
        "\n",
        "3 para Multiplicação\n",
        "\n",
        "4 para Divisão\n",
        "\n",
        "5 para SAIR"
      ]
    },
    {
      "cell_type": "code",
      "execution_count": 26,
      "metadata": {
        "id": "ZhC1k7ivf7YM"
      },
      "outputs": [
        {
          "name": "stdout",
          "output_type": "stream",
          "text": [
            "Não é possível dividir por zero.\n",
            "Saindo...\n"
          ]
        }
      ],
      "source": [
        "operacao = 0\n",
        "\n",
        "while operacao != 5:\n",
        "    valor1 = int(input(\"Entre com o primeiro número: \"))\n",
        "    valor2 = int(input(\"Entre com o segundo número: \"))\n",
        "    operacao = int(input(\"Escolha: \\n 1-Soma\\n 2-Subtração\\n 3-Multiplicação\\n 4-Divisão\\n 5-Sair \"))\n",
        "\n",
        "    if operacao == 1:\n",
        "        soma = valor1 + valor2\n",
        "        print(soma)\n",
        "    elif operacao == 2:\n",
        "        subtracao = valor1 - valor2\n",
        "        print(subtracao)\n",
        "    elif operacao == 3:\n",
        "        mult = valor1 * valor2\n",
        "        print(mult)\n",
        "    elif operacao == 4:\n",
        "        if valor2 == 0:\n",
        "            print(\"Não é possível dividir por zero.\")\n",
        "        else:\n",
        "            div = valor1 / valor2\n",
        "            print(div)\n",
        "    elif operacao == 5:\n",
        "        print(\"Saindo...\")\n",
        "    else:\n",
        "        print(\"Opção inválida. Tente novamente.\")\n"
      ]
    },
    {
      "cell_type": "code",
      "execution_count": 12,
      "metadata": {
        "id": "iM9AZMxqHOha"
      },
      "outputs": [
        {
          "name": "stdout",
          "output_type": "stream",
          "text": [
            "10\n"
          ]
        },
        {
          "ename": "ValueError",
          "evalue": "invalid literal for int() with base 10: ''",
          "output_type": "error",
          "traceback": [
            "\u001b[1;31m---------------------------------------------------------------------------\u001b[0m",
            "\u001b[1;31mValueError\u001b[0m                                Traceback (most recent call last)",
            "Cell \u001b[1;32mIn[12], line 3\u001b[0m\n\u001b[0;32m      1\u001b[0m operacao \u001b[39m=\u001b[39m \u001b[39m0\u001b[39m\n\u001b[0;32m      2\u001b[0m \u001b[39mwhile\u001b[39;00m operacao \u001b[39m!=\u001b[39m \u001b[39m5\u001b[39m:\n\u001b[1;32m----> 3\u001b[0m   valor1 \u001b[39m=\u001b[39m \u001b[39mint\u001b[39;49m(\u001b[39minput\u001b[39;49m(\u001b[39m\"\u001b[39;49m\u001b[39mentre com o primeiro número:\u001b[39;49m\u001b[39m\"\u001b[39;49m))\n\u001b[0;32m      4\u001b[0m   valor2 \u001b[39m=\u001b[39m \u001b[39mint\u001b[39m(\u001b[39minput\u001b[39m(\u001b[39m\"\u001b[39m\u001b[39mentre com o segundo número:\u001b[39m\u001b[39m\"\u001b[39m))\n\u001b[0;32m      5\u001b[0m   operacao \u001b[39m=\u001b[39m \u001b[39mint\u001b[39m(\u001b[39minput\u001b[39m(\u001b[39m\"\u001b[39m\u001b[39mEscolha: \u001b[39m\u001b[39m\\n\u001b[39;00m\u001b[39m 1-Soma\u001b[39m\u001b[39m\\n\u001b[39;00m\u001b[39m 2-subtração\u001b[39m\u001b[39m\\n\u001b[39;00m\u001b[39m 3-Mult\u001b[39m\u001b[39m\\n\u001b[39;00m\u001b[39m 4-Divisão\u001b[39m\u001b[39m\\n\u001b[39;00m\u001b[39m 5-Sair \u001b[39m\u001b[39m\"\u001b[39m))\n",
            "\u001b[1;31mValueError\u001b[0m: invalid literal for int() with base 10: ''"
          ]
        }
      ],
      "source": [
        "operacao = 0\n",
        "while operacao != 5:\n",
        "  valor1 = int(input(\"entre com o primeiro número:\"))\n",
        "  valor2 = int(input(\"entre com o segundo número:\"))\n",
        "  operacao = int(input(\"Escolha: \\n 1-Soma\\n 2-subtração\\n 3-Mult\\n 4-Divisão\\n 5-Sair \"))\n",
        "  if operacao == 1:\n",
        "    soma = valor1 + valor2\n",
        "    print(soma)"
      ]
    },
    {
      "cell_type": "markdown",
      "metadata": {
        "id": "BAwA7YXXDj1Z"
      },
      "source": [
        "## Exercício 02\n",
        "\n",
        "Faça um programa, utilizando while, que mostre na tela de 0 até N, em que N é o limite inserido pelo usuário."
      ]
    },
    {
      "cell_type": "code",
      "execution_count": 28,
      "metadata": {
        "colab": {
          "base_uri": "https://localhost:8080/"
        },
        "id": "4cCFjsp1D6CE",
        "outputId": "546caff1-3b8f-4c96-9d0d-75a2d0ecf631"
      },
      "outputs": [
        {
          "name": "stdout",
          "output_type": "stream",
          "text": [
            "1\n",
            "2\n",
            "3\n",
            "4\n",
            "5\n",
            "6\n",
            "7\n",
            "8\n",
            "9\n",
            "10\n",
            "11\n",
            "12\n",
            "13\n",
            "14\n",
            "15\n",
            "16\n",
            "17\n",
            "18\n",
            "19\n",
            "20\n",
            "21\n",
            "22\n",
            "23\n",
            "24\n",
            "25\n",
            "26\n",
            "27\n",
            "28\n",
            "29\n",
            "30\n",
            "31\n",
            "32\n",
            "33\n",
            "34\n",
            "35\n",
            "36\n",
            "37\n",
            "38\n",
            "39\n",
            "40\n",
            "41\n",
            "42\n",
            "43\n",
            "44\n",
            "45\n",
            "46\n",
            "47\n",
            "48\n",
            "49\n",
            "50\n",
            "51\n",
            "52\n",
            "53\n",
            "54\n",
            "55\n",
            "56\n",
            "57\n",
            "58\n",
            "59\n",
            "60\n"
          ]
        }
      ],
      "source": [
        "n = int(input(\"Digite o valor limite:\"))\n",
        "inicio = 1\n",
        "while inicio <= n:\n",
        "  print (inicio)\n",
        "  inicio+= 1"
      ]
    },
    {
      "cell_type": "markdown",
      "metadata": {
        "id": "Qnk-QiVoD63G"
      },
      "source": [
        "## Exercício 03\n",
        "\n",
        "Faça um programa, utilizando while e listas, que permita o usuário escrever o nome de cinco pessoas e os mostre na tela."
      ]
    },
    {
      "cell_type": "code",
      "execution_count": 37,
      "metadata": {
        "colab": {
          "base_uri": "https://localhost:8080/"
        },
        "id": "3O2lXLYEEk6r",
        "outputId": "fcdbc122-e13e-4dfb-b631-787acb755baa"
      },
      "outputs": [
        {
          "ename": "KeyboardInterrupt",
          "evalue": "Interrupted by user",
          "output_type": "error",
          "traceback": [
            "\u001b[1;31m---------------------------------------------------------------------------\u001b[0m",
            "\u001b[1;31mKeyboardInterrupt\u001b[0m                         Traceback (most recent call last)",
            "Cell \u001b[1;32mIn[37], line 3\u001b[0m\n\u001b[0;32m      1\u001b[0m nomes \u001b[39m=\u001b[39m []\n\u001b[0;32m      2\u001b[0m \u001b[39mwhile\u001b[39;00m \u001b[39mlen\u001b[39m(nomes) \u001b[39m<\u001b[39m\u001b[39m6\u001b[39m:\n\u001b[1;32m----> 3\u001b[0m   user \u001b[39m=\u001b[39m \u001b[39minput\u001b[39;49m(\u001b[39m\"\u001b[39;49m\u001b[39mDigite um  nome: \u001b[39;49m\u001b[39m\"\u001b[39;49m)\n\u001b[0;32m      4\u001b[0m   nomes\u001b[39m.\u001b[39mappend(user)\n\u001b[0;32m      6\u001b[0m \u001b[39m23\u001b[39m\n",
            "File \u001b[1;32mc:\\ProgramData\\anaconda3\\lib\\site-packages\\ipykernel\\kernelbase.py:1175\u001b[0m, in \u001b[0;36mKernel.raw_input\u001b[1;34m(self, prompt)\u001b[0m\n\u001b[0;32m   1171\u001b[0m \u001b[39mif\u001b[39;00m \u001b[39mnot\u001b[39;00m \u001b[39mself\u001b[39m\u001b[39m.\u001b[39m_allow_stdin:\n\u001b[0;32m   1172\u001b[0m     \u001b[39mraise\u001b[39;00m StdinNotImplementedError(\n\u001b[0;32m   1173\u001b[0m         \u001b[39m\"\u001b[39m\u001b[39mraw_input was called, but this frontend does not support input requests.\u001b[39m\u001b[39m\"\u001b[39m\n\u001b[0;32m   1174\u001b[0m     )\n\u001b[1;32m-> 1175\u001b[0m \u001b[39mreturn\u001b[39;00m \u001b[39mself\u001b[39;49m\u001b[39m.\u001b[39;49m_input_request(\n\u001b[0;32m   1176\u001b[0m     \u001b[39mstr\u001b[39;49m(prompt),\n\u001b[0;32m   1177\u001b[0m     \u001b[39mself\u001b[39;49m\u001b[39m.\u001b[39;49m_parent_ident[\u001b[39m\"\u001b[39;49m\u001b[39mshell\u001b[39;49m\u001b[39m\"\u001b[39;49m],\n\u001b[0;32m   1178\u001b[0m     \u001b[39mself\u001b[39;49m\u001b[39m.\u001b[39;49mget_parent(\u001b[39m\"\u001b[39;49m\u001b[39mshell\u001b[39;49m\u001b[39m\"\u001b[39;49m),\n\u001b[0;32m   1179\u001b[0m     password\u001b[39m=\u001b[39;49m\u001b[39mFalse\u001b[39;49;00m,\n\u001b[0;32m   1180\u001b[0m )\n",
            "File \u001b[1;32mc:\\ProgramData\\anaconda3\\lib\\site-packages\\ipykernel\\kernelbase.py:1217\u001b[0m, in \u001b[0;36mKernel._input_request\u001b[1;34m(self, prompt, ident, parent, password)\u001b[0m\n\u001b[0;32m   1214\u001b[0m             \u001b[39mbreak\u001b[39;00m\n\u001b[0;32m   1215\u001b[0m \u001b[39mexcept\u001b[39;00m \u001b[39mKeyboardInterrupt\u001b[39;00m:\n\u001b[0;32m   1216\u001b[0m     \u001b[39m# re-raise KeyboardInterrupt, to truncate traceback\u001b[39;00m\n\u001b[1;32m-> 1217\u001b[0m     \u001b[39mraise\u001b[39;00m \u001b[39mKeyboardInterrupt\u001b[39;00m(\u001b[39m\"\u001b[39m\u001b[39mInterrupted by user\u001b[39m\u001b[39m\"\u001b[39m) \u001b[39mfrom\u001b[39;00m \u001b[39mNone\u001b[39m\n\u001b[0;32m   1218\u001b[0m \u001b[39mexcept\u001b[39;00m \u001b[39mException\u001b[39;00m:\n\u001b[0;32m   1219\u001b[0m     \u001b[39mself\u001b[39m\u001b[39m.\u001b[39mlog\u001b[39m.\u001b[39mwarning(\u001b[39m\"\u001b[39m\u001b[39mInvalid Message:\u001b[39m\u001b[39m\"\u001b[39m, exc_info\u001b[39m=\u001b[39m\u001b[39mTrue\u001b[39;00m)\n",
            "\u001b[1;31mKeyboardInterrupt\u001b[0m: Interrupted by user"
          ]
        }
      ],
      "source": [
        "nomes = []\n",
        "while len(nomes) <6:\n",
        "  user = input(\"Digite um  nome: \")\n",
        "  nomes.append(user)\n",
        "\n",
        "23\n",
        "print(nomes)"
      ]
    },
    {
      "cell_type": "markdown",
      "metadata": {
        "id": "s73kgditYsSt"
      },
      "source": [
        "## Exercício 04\n",
        "\n",
        "Faça um programa co WHILE que peça uma nota, entre zero e dez. Mostre uma mensagem caso o valor seja inválido e continue pedindo até que o usuário informe um valor válido"
      ]
    },
    {
      "cell_type": "code",
      "execution_count": 31,
      "metadata": {
        "id": "NSQ_6ZmHYwnZ"
      },
      "outputs": [],
      "source": [
        "cont = 0\n",
        "nota = int(input(\"digite um numero:\"))\n",
        "while (nota>=0) and (nota <=10):\n",
        "  nota =int(input(\"Número: \"))\n"
      ]
    },
    {
      "cell_type": "markdown",
      "metadata": {
        "id": "tel00Vm6UZOD"
      },
      "source": [
        "---"
      ]
    },
    {
      "cell_type": "markdown",
      "metadata": {
        "id": "JhfVu4T7UbGw"
      },
      "source": [
        "# Comando for\n",
        "*texto em itálico*\n",
        "O comando **for** (na tradução literal para a língua portuguesa “para”), diferente do comando while, realiza iterações sobre coleções. Sendo assim, a cada “volta” do laço, a variável definida na chamada do for assume o valor de um dos elementos da coleção. A execução do comando é finalizada quando chega ao fim da coleção ou através de um comando de interrupção, como veremos em breve."
      ]
    },
    {
      "cell_type": "code",
      "execution_count": null,
      "metadata": {
        "id": "k8pnlSMLUne3"
      },
      "outputs": [],
      "source": [
        "for i in range(1,10,2):\n",
        "\tprint(i)"
      ]
    },
    {
      "cell_type": "code",
      "execution_count": null,
      "metadata": {
        "id": "z3pI2vdxCEqJ"
      },
      "outputs": [],
      "source": [
        "for i in range(10):\n",
        "\tprint(i)"
      ]
    },
    {
      "cell_type": "markdown",
      "metadata": {
        "id": "oOgCMntbE377"
      },
      "source": [
        "\n",
        "# Execício 05\n",
        "\n",
        "Faça um programa, utilizando for, que peça para o usuário inserir um número N e mostre na tela todos os números ímpares até N."
      ]
    },
    {
      "cell_type": "code",
      "execution_count": 34,
      "metadata": {
        "colab": {
          "base_uri": "https://localhost:8080/"
        },
        "id": "mENhqj0jFek7",
        "outputId": "aadb6556-d19e-4de4-cdef-83aa556015f0"
      },
      "outputs": [
        {
          "name": "stdout",
          "output_type": "stream",
          "text": [
            "1\n",
            "3\n",
            "5\n",
            "7\n",
            "9\n",
            "11\n",
            "13\n",
            "15\n",
            "17\n",
            "19\n",
            "21\n",
            "23\n",
            "25\n",
            "27\n",
            "29\n",
            "31\n",
            "33\n",
            "35\n",
            "37\n",
            "39\n",
            "41\n",
            "43\n",
            "45\n",
            "47\n",
            "49\n",
            "51\n",
            "53\n",
            "55\n",
            "57\n",
            "59\n",
            "61\n",
            "63\n",
            "65\n",
            "67\n",
            "69\n",
            "71\n",
            "73\n",
            "75\n",
            "77\n",
            "79\n",
            "81\n",
            "83\n",
            "85\n",
            "87\n",
            "89\n",
            "91\n",
            "93\n",
            "95\n",
            "97\n",
            "99\n"
          ]
        }
      ],
      "source": [
        "n = int(input(\"Digite um numero:\"))\n",
        "for i in range(n):\n",
        "  valor = i % 2\n",
        "  if valor != 0:\n",
        "    print(i)\n",
        "\n"
      ]
    },
    {
      "cell_type": "markdown",
      "metadata": {
        "id": "vFzK9Wj3Ibfy"
      },
      "source": [
        "# Exercício 06\n",
        "\n",
        "Faça um programa, utilizando for leia e grave 10 nomes em uma lista. No final outro for para exibir os nomes da lista."
      ]
    },
    {
      "cell_type": "code",
      "execution_count": null,
      "metadata": {
        "colab": {
          "base_uri": "https://localhost:8080/"
        },
        "id": "mDJhkiZiIi9f",
        "outputId": "432eaa80-d188-4a44-ab53-8effc8893194"
      },
      "outputs": [
        {
          "name": "stdout",
          "output_type": "stream",
          "text": [
            "Digite um  nome: 1\n",
            "Digite um  nome: 2\n",
            "Digite um  nome: 3\n",
            "Digite um  nome: 4\n",
            "Digite um  nome: 5\n",
            "Digite um  nome: 6\n",
            "Digite um  nome: 7\n",
            "Digite um  nome: 8\n",
            "Digite um  nome: 9\n",
            "Digite um  nome: 10\n",
            "['1', '2', '3', '4', '5', '6', '7', '8', '9', '10']\n"
          ]
        }
      ],
      "source": [
        "\n",
        "# Define a lista\n",
        "nomes = []\n",
        "for i in range(10):\n",
        "  user = input(\"Digite um  nome: \")\n",
        "    #passa o valor de USER para a lista\n",
        "  nomes.append(user)\n",
        "\n",
        "print(nomes)\n"
      ]
    },
    {
      "cell_type": "markdown",
      "metadata": {
        "id": "7FRPCaqIXN_u"
      },
      "source": [
        "# Exercício 07\n",
        "\n",
        "Faça um programa Python com while que leia 5 numeros pares e armazene os numeros em uma lista."
      ]
    },
    {
      "cell_type": "code",
      "execution_count": null,
      "metadata": {
        "colab": {
          "base_uri": "https://localhost:8080/"
        },
        "id": "7cRM8m71XbT_",
        "outputId": "f63b20df-467f-4299-cdf2-0109b9aab860"
      },
      "outputs": [
        {
          "name": "stdout",
          "output_type": "stream",
          "text": [
            "Digite um numero:1\n",
            "Digite um numero:2\n",
            "Digite um numero:3\n",
            "Digite um numero:4\n",
            "Digite um numero:5\n",
            "[2, 4]\n"
          ]
        }
      ],
      "source": [
        "numeros= []\n",
        "for i in range(5):\n",
        "  num = int(input(\"Digite um numero:\"))\n",
        "  valor = num % 2\n",
        "  if valor == 0:\n",
        "    numeros.append(num)\n",
        "\n",
        "print(numeros)"
      ]
    },
    {
      "cell_type": "markdown",
      "metadata": {
        "id": "1vrH7xhoXcKH"
      },
      "source": [
        "---"
      ]
    },
    {
      "cell_type": "markdown",
      "metadata": {
        "id": "LcUsaoeyUud1"
      },
      "source": [
        "# Cláusulas break e continue\n",
        "Caso desejemos alterar o fluxo de execução de um laço de repetição, podemos utilizar as cláusulas: break, para interromper a execução, ou continue, para prosseguir para a próxima iteração. Veja:\n",
        "\n"
      ]
    },
    {
      "cell_type": "code",
      "execution_count": 33,
      "metadata": {
        "colab": {
          "base_uri": "https://localhost:8080/"
        },
        "id": "GKs5BxuaU1aa",
        "outputId": "6d879928-7b48-42f8-a41e-15d913c869f1"
      },
      "outputs": [
        {
          "name": "stdout",
          "output_type": "stream",
          "text": [
            "0\n",
            "1\n",
            "2\n",
            "3\n",
            "4\n",
            "6\n",
            "7\n"
          ]
        }
      ],
      "source": [
        "for i in range(10):\n",
        "\tif i == 5:\n",
        "\t\tcontinue\n",
        "\tif i < 8:\n",
        "\t\tprint(i)\n",
        "\tif i == 8:\n",
        "\t\tbreak\n",
        "# Sera impresso: 0 1 2 3 4 6 7"
      ]
    },
    {
      "cell_type": "code",
      "execution_count": null,
      "metadata": {
        "id": "aTYk4yuiYWgW"
      },
      "outputs": [],
      "source": [
        "import urllib.request\n",
        "from bs4 import BeautifulSoup\n",
        "\n",
        "\n",
        "wiki = 'https://pt.wikipedia.org/wiki/Lista_de_capitais_do_Brasil_por_%C3%A1rea'\n",
        "page = urllib.request.urlopen(wiki)\n",
        "soup = BeautifulSoup(page, 'html.parser')\n",
        "table = soup.find('table')\n",
        "\n",
        "\n",
        "A=[]\n",
        "B=[]\n",
        "C=[]\n",
        "D=[]\n",
        "E=[]\n",
        "\n",
        "\n",
        "for row in table.findAll('tr'):\n",
        "    cells = row.findAll('td')\n",
        "    if len(cells)==5:\n",
        "        A.append(cells[0].find(string=True))\n",
        "        B.append(cells[1].find(string=True))\n",
        "        C.append(cells[2].find(string=True))\n",
        "        D.append(cells[3].find('a').text)\n",
        "        E.append(cells[4].find(string=True))\n",
        "\n",
        "\n",
        "import pandas as pd\n",
        "\n",
        "df = pd.DataFrame(index=A, columns=['Posição'])\n",
        "\n",
        "df['Posição']=A\n",
        "df['Estado']=B\n",
        "df['Código/IBGE']=C\n",
        "df['Capital']=D\n",
        "df['Área']=E\n",
        "\n",
        "df\n",
        "\n",
        "pessoas = pd.DataFrame(df)\n",
        "type(pessoas)\n",
        "\n",
        "pessoas.to_csv('pessoas.csv')"
      ]
    },
    {
      "attachments": {},
      "cell_type": "markdown",
      "metadata": {},
      "source": [
        "## 01\n",
        "Faça um programa, utilizando while, que mostre na tela os números de 0 a 100."
      ]
    },
    {
      "cell_type": "code",
      "execution_count": 1,
      "metadata": {},
      "outputs": [
        {
          "name": "stdout",
          "output_type": "stream",
          "text": [
            "1\n",
            "2\n",
            "3\n",
            "4\n",
            "5\n",
            "6\n",
            "7\n",
            "8\n",
            "9\n",
            "10\n",
            "11\n",
            "12\n",
            "13\n",
            "14\n",
            "15\n",
            "16\n",
            "17\n",
            "18\n",
            "19\n",
            "20\n",
            "21\n",
            "22\n",
            "23\n",
            "24\n",
            "25\n",
            "26\n",
            "27\n",
            "28\n",
            "29\n",
            "30\n",
            "31\n",
            "32\n",
            "33\n",
            "34\n",
            "35\n",
            "36\n",
            "37\n",
            "38\n",
            "39\n",
            "40\n",
            "41\n",
            "42\n",
            "43\n",
            "44\n",
            "45\n",
            "46\n",
            "47\n",
            "48\n",
            "49\n",
            "50\n",
            "51\n",
            "52\n",
            "53\n",
            "54\n",
            "55\n",
            "56\n",
            "57\n",
            "58\n",
            "59\n",
            "60\n",
            "61\n",
            "62\n",
            "63\n",
            "64\n",
            "65\n",
            "66\n",
            "67\n",
            "68\n",
            "69\n",
            "70\n",
            "71\n",
            "72\n",
            "73\n",
            "74\n",
            "75\n",
            "76\n",
            "77\n",
            "78\n",
            "79\n",
            "80\n",
            "81\n",
            "82\n",
            "83\n",
            "84\n",
            "85\n",
            "86\n",
            "87\n",
            "88\n",
            "89\n",
            "90\n",
            "91\n",
            "92\n",
            "93\n",
            "94\n",
            "95\n",
            "96\n",
            "97\n",
            "98\n",
            "99\n",
            "100\n"
          ]
        }
      ],
      "source": [
        "n = 100\n",
        "inicio = 1\n",
        "while inicio <= n:\n",
        "  print (inicio)\n",
        "  inicio+= 1"
      ]
    },
    {
      "attachments": {},
      "cell_type": "markdown",
      "metadata": {},
      "source": [
        "## 02\n",
        "Faça um programa, utilizando while e listas, que permita o usuário escrever o nome dos seus cinco melhores amigos :-) e os mostre na tela."
      ]
    },
    {
      "cell_type": "code",
      "execution_count": 4,
      "metadata": {},
      "outputs": [
        {
          "name": "stdout",
          "output_type": "stream",
          "text": [
            "['Carlos', 'Jutair', 'Lendro', 'gg', 'hh']\n"
          ]
        }
      ],
      "source": [
        "nomes = []\n",
        "while len(nomes) <5:\n",
        "  user = input(\"Digite seus 5 melhores: \")\n",
        "  nomes.append(user)\n",
        "\n",
        "print(nomes)"
      ]
    },
    {
      "attachments": {},
      "cell_type": "markdown",
      "metadata": {},
      "source": [
        "## 3\n",
        "\n",
        "Faça um algoritimos ultilizando o comando while que mostra uma contagem regressiva na tela iniciando em dez e terminando em zero. Mostrando uma mensagem fim após a contagem"
      ]
    },
    {
      "cell_type": "code",
      "execution_count": 11,
      "metadata": {},
      "outputs": [
        {
          "name": "stdout",
          "output_type": "stream",
          "text": [
            "10\n",
            "9\n",
            "8\n",
            "7\n",
            "6\n",
            "5\n",
            "4\n",
            "3\n",
            "2\n",
            "1\n"
          ]
        }
      ],
      "source": [
        "num = 10\n",
        "while num >0:\n",
        "  print (num)\n",
        "  num-= 1"
      ]
    },
    {
      "attachments": {},
      "cell_type": "markdown",
      "metadata": {},
      "source": [
        "\n",
        "# Exercício For\n",
        "\n",
        "## 01\n",
        "\n",
        "Faça um programa, utilizando for, que peça para o usuário inserir quanto quer poupar por mês de janeiro à dezembro lembrando que a taxa de juros será de 5% ao mês.(juros composto).\n"
      ]
    },
    {
      "cell_type": "code",
      "execution_count": 8,
      "metadata": {},
      "outputs": [
        {
          "name": "stdout",
          "output_type": "stream",
          "text": [
            "R$:105.00\n",
            "R$:215.25\n",
            "R$:331.01\n",
            "R$:452.56\n",
            "R$:580.19\n",
            "R$:714.20\n",
            "R$:854.91\n",
            "R$:1002.66\n",
            "R$:1157.79\n",
            "R$:1320.68\n",
            "R$:1491.71\n",
            "R$:1671.30\n",
            "valor final R$: 1671.30\n"
          ]
        }
      ],
      "source": [
        "periodo = int(input(\"Quantos meses você quer insvestir\"))\n",
        "for i in range(0,periodo):\n",
        "  valor=float(input(\"Valor do depósito R$:\"))\n",
        "  total+=valor\n",
        "  total+=total*0.05\n",
        "  print(f\"R$:{total:.2f}\")\n",
        "\n",
        "print(f\"valor final R$: {total:.2f}\" )"
      ]
    },
    {
      "cell_type": "code",
      "execution_count": 7,
      "metadata": {},
      "outputs": [
        {
          "name": "stdout",
          "output_type": "stream",
          "text": [
            "R$:105.00\n",
            "R$:110.25\n",
            "R$:115.76\n",
            "R$:121.55\n",
            "R$:127.63\n",
            "R$:134.01\n",
            "R$:140.71\n",
            "R$:147.75\n",
            "R$:155.13\n",
            "R$:162.89\n",
            "R$:171.03\n",
            "R$:179.59\n",
            "valor final R$: 179.59\n"
          ]
        }
      ],
      "source": [
        "valor = float(input(\" Valor do deposito R$:\"))\n",
        "for i in range (12):\n",
        "    valor += valor * 0.05\n",
        "    print(f\"R$:{valor:.2f}\")\n",
        "\n",
        "print(f\"valor final R$: {valor:.2f}\" )\n",
        "\n"
      ]
    }
  ],
  "metadata": {
    "colab": {
      "provenance": []
    },
    "kernelspec": {
      "display_name": "Python 3",
      "name": "python3"
    },
    "language_info": {
      "codemirror_mode": {
        "name": "ipython",
        "version": 3
      },
      "file_extension": ".py",
      "mimetype": "text/x-python",
      "name": "python",
      "nbconvert_exporter": "python",
      "pygments_lexer": "ipython3",
      "version": "3.11.6"
    }
  },
  "nbformat": 4,
  "nbformat_minor": 0
}
