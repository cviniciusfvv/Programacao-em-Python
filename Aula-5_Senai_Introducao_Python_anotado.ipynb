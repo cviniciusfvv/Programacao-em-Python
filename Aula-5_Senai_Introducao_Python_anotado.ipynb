{
  "cells": [
    {
      "cell_type": "markdown",
      "metadata": {
        "id": "mlu-XKovTmi5"
      },
      "source": [
        "# Aula 5: Introdução à Linguagem de Programação Python\n",
        "Bem vindo ao Google Colaboratory!\n",
        "Nós iremos utilizar essa plataforma para fazer nossas atividades com o Python. Vamos fazer alguns testes?\n",
        "\n",
        "As funções Python servem para: Dividir e classificar o código em partes mais simples para depurar e programar com maior facilidade. Reutilizar o código, evitando repetições desnecessárias em um programa.\n",
        "\n",
        "# Criando funções no Python\n"
      ]
    },
    {
      "cell_type": "markdown",
      "metadata": {
        "id": "fgFMQiboT0zs"
      },
      "source": [
        "\n",
        "A sintaxe de uma função é definida por três partes: nome, parâmetros e corpo, o qual agrupa uma sequência de linhas que representa algum comportamento. No código abaixo, temos um exemplo de declaração de função em Python:"
      ]
    },
    {
      "cell_type": "code",
      "execution_count": 14,
      "metadata": {
        "id": "cTD5nzA8Tl5y"
      },
      "outputs": [
        {
          "name": "stdout",
          "output_type": "stream",
          "text": [
            "Olá Oscar\n"
          ]
        }
      ],
      "source": [
        "meu_nome = \"Oscar\"\n",
        "def hello():\n",
        "  print('Olá',meu_nome)\n",
        "hello()"
      ]
    },
    {
      "cell_type": "markdown",
      "metadata": {
        "id": "RPtlF-HzVgNM"
      },
      "source": [
        "Para “chamar” uma função, utilizamos o nome que foi definido, dessa forma:"
      ]
    },
    {
      "cell_type": "code",
      "execution_count": 3,
      "metadata": {
        "colab": {
          "base_uri": "https://localhost:8080/"
        },
        "id": "tNScprPrVkdN",
        "outputId": "a4b5042e-0a90-4707-cb9e-195d1e5b309b"
      },
      "outputs": [
        {
          "name": "stdout",
          "output_type": "stream",
          "text": [
            "Olá Oscar\n"
          ]
        }
      ],
      "source": [
        "meu_nome = \"Oscar\"\n",
        "\n",
        "def nome():\n",
        "  print('Olá',meu_nome)\n",
        "\n",
        "nome()"
      ]
    },
    {
      "cell_type": "markdown",
      "metadata": {
        "id": "g4t3hxITVr48"
      },
      "source": [
        "# Parâmetros\n",
        "Além de executar código, funções também podem receber e retornar dados.\n",
        "\n",
        "Podemos enviar dados para uma função através de seus parâmetros.\n",
        "\n",
        "**Exemplo** 1:"
      ]
    },
    {
      "cell_type": "code",
      "execution_count": 15,
      "metadata": {
        "colab": {
          "base_uri": "https://localhost:8080/"
        },
        "id": "6i-4qFHtV6bq",
        "outputId": "b8b70398-5e82-4ea0-ff79-a0ae01679d03"
      },
      "outputs": [
        {
          "name": "stdout",
          "output_type": "stream",
          "text": [
            "Nome: Erickson\n",
            "Nome: Renan\n",
            "Nome: Daniel\n"
          ]
        }
      ],
      "source": [
        "def imprime_nome(nome):\n",
        "    print(f\"Nome: {nome}\")\n",
        "\n",
        "\n",
        "imprime_nome(\"Erickson\")\n",
        "imprime_nome(\"Renan\")\n",
        "imprime_nome(\"Daniel\")"
      ]
    },
    {
      "cell_type": "code",
      "execution_count": 19,
      "metadata": {
        "colab": {
          "base_uri": "https://localhost:8080/"
        },
        "id": "aVwmbglOpnyq",
        "outputId": "d07a1ee9-7f39-4036-8803-e3f8e2e645e9"
      },
      "outputs": [
        {
          "name": "stdout",
          "output_type": "stream",
          "text": [
            "Olá Oscar\n"
          ]
        }
      ],
      "source": [
        "meu_nome = \"Oscar\"\n",
        "\n",
        "def nome(nome):\n",
        "  print('Olá',nome)\n",
        "nome(meu_nome)"
      ]
    },
    {
      "cell_type": "markdown",
      "metadata": {
        "id": "7f_RNZFTWHKf"
      },
      "source": [
        "Caso nenhum valor seja infomado ao chamar a função, um erro será gerado. Por exemplo, o seguinte código:\n",
        "\n",
        "**Exemplo** 02:"
      ]
    },
    {
      "cell_type": "code",
      "execution_count": 21,
      "metadata": {
        "colab": {
          "base_uri": "https://localhost:8080/",
          "height": 218
        },
        "id": "qJbYnr23WJ0D",
        "outputId": "358618d1-1f1c-4025-c8f5-978ea8be0fdb"
      },
      "outputs": [
        {
          "name": "stdout",
          "output_type": "stream",
          "text": [
            "Nome: aula de python\n"
          ]
        }
      ],
      "source": [
        "def imprime_nome(nome):\n",
        "    print(f\"Nome: {nome}\")\n",
        "\n",
        "imprime_nome(\"aula de python\")"
      ]
    },
    {
      "cell_type": "markdown",
      "metadata": {
        "id": "Ofg8uWsDXbkG"
      },
      "source": [
        "**Exemplo** 03"
      ]
    },
    {
      "cell_type": "code",
      "execution_count": 24,
      "metadata": {
        "colab": {
          "base_uri": "https://localhost:8080/"
        },
        "id": "Na1_-Z5AXhU9",
        "outputId": "9214427a-b17c-436a-95d9-ea92ba4d8359"
      },
      "outputs": [
        {
          "name": "stdout",
          "output_type": "stream",
          "text": [
            "60\n"
          ]
        }
      ],
      "source": [
        "# Criando a função:\n",
        "def dobrar(x):\n",
        "    print(x * 2)\n",
        "# Chamando a função criada:\n",
        "dobrar(30)"
      ]
    },
    {
      "cell_type": "markdown",
      "metadata": {
        "id": "jCcG22_5X2br"
      },
      "source": [
        "**Exemplo** 04:"
      ]
    },
    {
      "cell_type": "code",
      "execution_count": 33,
      "metadata": {
        "colab": {
          "base_uri": "https://localhost:8080/"
        },
        "id": "dDV0S0GBX5YT",
        "outputId": "24d5b1b6-3b24-4ea3-deba-03bd930977fe"
      },
      "outputs": [
        {
          "name": "stdout",
          "output_type": "stream",
          "text": [
            "60\n",
            "1000\n"
          ]
        }
      ],
      "source": [
        "# Criando a função:\n",
        "def dobrar(x):\n",
        "   x *= 2\n",
        "   return x\n",
        "# Chamando a função criada:\n",
        "a = dobrar(30)\n",
        "print(a)\n",
        "print(dobrar(500))"
      ]
    },
    {
      "cell_type": "markdown",
      "metadata": {
        "id": "nUZclqFi_BlW"
      },
      "source": [
        "# Exercício 01"
      ]
    },
    {
      "cell_type": "markdown",
      "metadata": {
        "id": "Wk8_izKN_Fjd"
      },
      "source": [
        "Faça um programa, com uma função que necessite de um argumento. A função retorna o valor de caractere ‘P’, se seu argumento for positivo, e ‘N’, se seu argumento for zero ou negativo."
      ]
    },
    {
      "cell_type": "code",
      "execution_count": 60,
      "metadata": {
        "id": "u2lnuaI6ABL1"
      },
      "outputs": [
        {
          "name": "stdout",
          "output_type": "stream",
          "text": [
            "Impar\n"
          ]
        }
      ],
      "source": [
        "def caracter(num):\n",
        "    if num%2 == 0:\n",
        "        return \"Par\"\n",
        "    else:\n",
        "        return \"Impar\"\n",
        "valor = caracter(float(input(\"Digite um numero\")))\n",
        "print(valor)"
      ]
    },
    {
      "cell_type": "markdown",
      "metadata": {
        "id": "WEIhGZSjBVvs"
      },
      "source": [
        "# Exercício 02\n",
        "Desenvolva uma solução python que receba três números, e identifica o maior através de uma função e o menor número através de outra função"
      ]
    },
    {
      "cell_type": "code",
      "execution_count": 87,
      "metadata": {
        "id": "7W-OxQqtB1--"
      },
      "outputs": [
        {
          "name": "stdout",
          "output_type": "stream",
          "text": [
            "Maior 3\n"
          ]
        }
      ],
      "source": [
        "#continuar o exercício/ encontrar o menor número\n",
        "\n",
        "def maior(n1,n2,n3):\n",
        "  if(n1 > n2 and n1 > n3):\n",
        "    n_maior = n1\n",
        "    print(f\"Maior {n_maior}\")\n",
        "  elif(n2 > n1 and n2 > n3):\n",
        "    n_maior = n2\n",
        "    print(f\"Maior {n_maior}\")\n",
        "  elif(n3 > n1 and n3 > n2):\n",
        "    n_maior = n3\n",
        "    print(f\"Maior {n_maior}\")\n",
        "\n",
        "def menor(n1,n2,n3):\n",
        "  if(n1 < n2 and n1 < n3):\n",
        "    n_menor = n1\n",
        "    print(f\"menor {n_menor}\")\n",
        "  elif(n2 < n1 and n2 < n3):\n",
        "    n_menor = n2\n",
        "    print(f\"menor {n_menor}\")\n",
        "  elif(n3 > n1 and n3 > n2):\n",
        "    n_menor = n3\n",
        "    print(f\"menor {n_menor}\")\n",
        "\n",
        "n1 = int(input(\"digite o primeiro numero:\"))\n",
        "n2 = int(input(\"digite o segundo numero:\"))\n",
        "n3 = int(input(\"digite o terceiro numero:\"))\n",
        "\n",
        "maior(n1,n2,n3)\n",
        "menor(n1,n2,n3)"
      ]
    },
    {
      "cell_type": "markdown",
      "metadata": {
        "id": "9Ye_XUdgXNpX"
      },
      "source": [
        "# Exercício 03\n",
        "Faça um programa, com uma função que necessite de três argumentos, e que forneça a soma desses três argumentos."
      ]
    },
    {
      "cell_type": "code",
      "execution_count": 86,
      "metadata": {
        "id": "T7Wkgt4BXaPI"
      },
      "outputs": [
        {
          "name": "stdout",
          "output_type": "stream",
          "text": [
            "Resultado da soma: 3\n"
          ]
        }
      ],
      "source": [
        "def argumento(a1,a2,a3):\n",
        "    soma = a1 + a2 + a3\n",
        "    print(f\"Resultado da soma: {soma}\")\n",
        "\n",
        "a1 = int(input(\"digite o primeiro numero:\"))\n",
        "a2 = int(input(\"digite o segundo numero:\"))\n",
        "a3 = int(input(\"digite o terceiro numero:\"))\n",
        "argumento(a1,a2,a3)\n"
      ]
    },
    {
      "cell_type": "markdown",
      "metadata": {
        "id": "1Q8rurW4wFyj"
      },
      "source": [
        "# Exercício 04\n",
        "Fazer uma função que recebe três\n",
        "argumentos, e que retorne a media desses três argumentos.\n"
      ]
    },
    {
      "cell_type": "code",
      "execution_count": 94,
      "metadata": {
        "id": "n7xi2D1cwKng"
      },
      "outputs": [
        {
          "name": "stdout",
          "output_type": "stream",
          "text": [
            "Resultado da media: 10.0\n",
            "você passou!! parabéns\n"
          ]
        }
      ],
      "source": [
        "def argumento(a1,a2,a3):\n",
        "    media = (a1 + a2 + a3)/3\n",
        "    print(f\"Resultado da media: {media}\")\n",
        "    if media > 6:\n",
        "        print(\"você passou!! parabéns\")\n",
        "    else:\n",
        "        print(\"Você não passou!! porra marreco\")\n",
        "\n",
        "\n",
        "a1 = int(input(\"digite o primeiro numero:\"))\n",
        "a2 = int(input(\"digite o segundo numero:\"))\n",
        "a3 = int(input(\"digite o terceiro numero:\"))\n",
        "argumento(a1,a2,a3)"
      ]
    },
    {
      "cell_type": "markdown",
      "metadata": {
        "id": "Osdgcj1zwLcB"
      },
      "source": [
        "# Exercício 05\n",
        "\n",
        "Fala um app Python que chame uma Função de passe como parâmetro \"NOME\" e \"IDADE\"  e informe dentro da função se o a pessoa é Maior ou Menor.\n"
      ]
    },
    {
      "cell_type": "code",
      "execution_count": 107,
      "metadata": {
        "id": "kY26yb0Yu5CS"
      },
      "outputs": [
        {
          "name": "stdout",
          "output_type": "stream",
          "text": [
            "Olá -15, vai tomar seu toddynho comédia.\n"
          ]
        }
      ],
      "source": [
        "def verificar_idade(nome, idade):\n",
        "    idade = int(idade)\n",
        "\n",
        "    if idade >= 18:\n",
        "        print(f\"Olá {nome}, você é maior de idade, pode entrar.\")\n",
        "    else:\n",
        "        print(f\"Olá {nome}, vai tomar seu toddynho comédia.\")\n",
        "\n",
        "nome = input(\"Digite seu nome: \")\n",
        "idade = input(\"Digite sua idade: \")\n",
        "\n",
        "verificar_idade(nome, idade)"
      ]
    },
    {
      "cell_type": "markdown",
      "metadata": {
        "id": "8lwiWUhRu50P"
      },
      "source": [
        "# Exerício 06\n",
        "Faça um aplicativo Python que chame uma função para calcular o reajuste de um salário. Se o salário foi maior que 5000 reais dar um realuste de 10% e se for Menor que 5000 reais dar um reajuste de 15%."
      ]
    },
    {
      "cell_type": "code",
      "execution_count": 118,
      "metadata": {
        "id": "n5EtXwy0vk2W"
      },
      "outputs": [
        {
          "data": {
            "text/plain": [
              "5748.85"
            ]
          },
          "execution_count": 118,
          "metadata": {},
          "output_type": "execute_result"
        }
      ],
      "source": [
        "def agumento(salario):\n",
        "    salario = float(salario)\n",
        "    if salario >= 5000:\n",
        "        aumento = salario * (10/100)\n",
        "        novo_salario = aumento +salario\n",
        "        #print(f\"Seu antigo salario é: {salario:.2f}\")\n",
        "        #print(f\"Seu aumento é {aumento:.2f}\")\n",
        "        #print(f\"Seu novo salario é {novo_salario:.2f}\")\n",
        "        return novo_salario\n",
        "    elif salario <= 4999:\n",
        "        aumento = salario * (15/100)\n",
        "        novo_salario = aumento + salario\n",
        "        #print(f\"Seu antigo salario é: {salario:.2f}\")\n",
        "        #print(f\"Seu aumento é {aumento:.2f}\")\n",
        "        #print(f\"Seu novo salario é {novo_salario:.2f}\")\n",
        "        return novo_salario\n",
        "salario = input(\"Digite seu salario: \")\n",
        "agumento(salario)"
      ]
    },
    {
      "cell_type": "markdown",
      "metadata": {
        "id": "4cwlayeivjXG"
      },
      "source": [
        "# Exercício 07\n",
        "\n",
        "Faça uma lógica Python que  calcule a área de um triângulo passando os valores dos lados do triangulo através da função."
      ]
    },
    {
      "cell_type": "code",
      "execution_count": 138,
      "metadata": {
        "id": "t_r3DqCuvhF1"
      },
      "outputs": [
        {
          "name": "stdout",
          "output_type": "stream",
          "text": [
            "A área do triângulo é: 0.06\n"
          ]
        }
      ],
      "source": [
        "def calcular_area_triangulo(b, a):\n",
        "    area = (b * a) / 2\n",
        "    return area\n",
        "b = float(input(\"Digite base: \"))\n",
        "a = float(input(\"Digite altura: \"))\n",
        "area_triangulo = calcular_area_triangulo(b, a)\n",
        "print(f\"A área do triângulo é: {area_triangulo:.2f}\")\n"
      ]
    },
    {
      "cell_type": "markdown",
      "metadata": {},
      "source": [
        "# Exercício 08\n",
        "\n",
        "Faça uma lógica Python que  calcule a área de um trapésio."
      ]
    },
    {
      "cell_type": "code",
      "execution_count": 11,
      "metadata": {},
      "outputs": [
        {
          "name": "stdout",
          "output_type": "stream",
          "text": [
            "A base menor é maior que base maior\n"
          ]
        }
      ],
      "source": [
        "def calcular_area_trapesio(b, a, B):\n",
        "    if B > b:\n",
        "        area = ((b + B) * a) / 2\n",
        "        return area\n",
        "    else:\n",
        "        print(\"A base menor é maior que base maior\")\n",
        "        return None\n",
        "\n",
        "B = float(input(\"Digite base maior: \"))\n",
        "b = float(input(\"Digite base menor: \"))\n",
        "a = float(input(\"Digite altura: \"))\n",
        "area_trapesio = calcular_area_trapesio(b, a, B)\n",
        "if area_trapesio is not None:\n",
        "    print(f\"A área do trapézio é: {area_trapesio:.2f}\")\n"
      ]
    },
    {
      "cell_type": "markdown",
      "metadata": {},
      "source": [
        "Exercício 09\n",
        "\n",
        "Faça um programa que tenha uma função chamada contador(), que\n",
        "receba três parâmetros: início, fim e passo. Seu programa tem que\n",
        "realizar três contagens através da função criada:\n",
        "\n",
        "Exemplo\n",
        "\n",
        " de 1 até 10, de 1 em 1;\n",
        "\n",
        " de 10 até 0, de 2 em 2"
      ]
    },
    {
      "cell_type": "code",
      "execution_count": 1,
      "metadata": {},
      "outputs": [
        {
          "name": "stdout",
          "output_type": "stream",
          "text": [
            "Contagem de 1 até 10, de 1 em 1:\n",
            "0 1 2 3 4 5 6 7 8 9 10 \n",
            "Contagem de 10 até 0, de 1 em 1:\n",
            "10 9 8 7 6 5 4 3 2 1 0 \n",
            "\n",
            "Contagem de 1 até 10, de 2 em 2:\n",
            "0 2 4 6 8 10 \n",
            "Contagem de 10 até 0, de 2 em 2:\n",
            "10 8 6 4 2 0 \n"
          ]
        }
      ],
      "source": [
        "import time\n",
        "\n",
        "def contador(inicio, fim, passo): \n",
        "    if inicio < fim:\n",
        "        for i in range(inicio, fim + 1, passo):\n",
        "            print(i, end=' ')\n",
        "            time.sleep(0.5)\n",
        "        print()\n",
        "    else:\n",
        "        for i in range(inicio, fim - 1, -passo):\n",
        "            print(i, end=' ')\n",
        "            time.sleep(0.5)\n",
        "        print()\n",
        "\n",
        "print(\"Contagem de 1 até 10, de 1 em 1:\")\n",
        "contador(0, 10, 1)\n",
        "print(\"Contagem de 10 até 0, de 1 em 1:\")\n",
        "contador(10, 0, 1)\n",
        "\n",
        "print(\"\\nContagem de 1 até 10, de 2 em 2:\")\n",
        "contador(0, 10, 2)\n",
        "print(\"Contagem de 10 até 0, de 2 em 2:\")\n",
        "contador(10, 0, 2)\n"
      ]
    }
  ],
  "metadata": {
    "colab": {
      "provenance": []
    },
    "kernelspec": {
      "display_name": "Python 3 (ipykernel)",
      "language": "python",
      "name": "python3"
    },
    "language_info": {
      "codemirror_mode": {
        "name": "ipython",
        "version": 3
      },
      "file_extension": ".py",
      "mimetype": "text/x-python",
      "name": "python",
      "nbconvert_exporter": "python",
      "pygments_lexer": "ipython3",
      "version": "3.11.6"
    }
  },
  "nbformat": 4,
  "nbformat_minor": 0
}
