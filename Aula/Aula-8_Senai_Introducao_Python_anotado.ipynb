{
  "cells": [
    {
      "cell_type": "markdown",
      "metadata": {
        "id": "on3UfBxe7wSe"
      },
      "source": [
        "# Aula 8 Introdução à Linguagem de Programação Python\n",
        "Bem vindo ao Google Colaboratory! Nós iremos utilizar essa plataforma para fazer nossas atividades com o Python. Vamos fazer alguns testes?"
      ]
    },
    {
      "cell_type": "markdown",
      "metadata": {
        "id": "AFjLS7ZV3EsM"
      },
      "source": [
        "# Funções para coleções\n",
        "O Python conta com funções úteis quando se trabalha com coleções. Vejamos algumas delas:\n",
        "\n",
        "nen()\n",
        "sum()\n",
        "min()\n",
        "max()"
      ]
    },
    {
      "cell_type": "markdown",
      "metadata": {
        "id": "3tslyIVp3HCy"
      },
      "source": [
        "Veremos a seguir, as funções min() e max()"
      ]
    },
    {
      "cell_type": "code",
      "execution_count": 8,
      "metadata": {
        "colab": {
          "base_uri": "https://localhost:8080/"
        },
        "id": "qg5jvvVu3K5D",
        "outputId": "f1352e3b-ac07-4434-945c-6ac56ba7e0fd"
      },
      "outputs": [
        {
          "name": "stdout",
          "output_type": "stream",
          "text": [
            "0\n",
            "20\n",
            "Alex\n",
            "Renata\n"
          ]
        }
      ],
      "source": [
        "numeros = [15, 5, 0, 20, 10]\n",
        "nomes = ['Caio', 'Alex', 'Renata', 'Patrícia', 'Bruno', 'Anta']\n",
        "\n",
        "print(min(numeros)) # 0\n",
        "print(max(numeros)) # 20\n",
        "print(min(nomes)) # Alex\n",
        "print(max(nomes)) # Renata"
      ]
    },
    {
      "cell_type": "markdown",
      "metadata": {
        "id": "FfbDQO4e3PC0"
      },
      "source": [
        "## sum()\n",
        "Para trabalhar com coleções na linguagem Python, temos também a função sum(), que é usada para retornar a soma de todos os elementos da coleção."
      ]
    },
    {
      "cell_type": "code",
      "execution_count": 9,
      "metadata": {
        "id": "LZ37XcdV3Rpg"
      },
      "outputs": [
        {
          "name": "stdout",
          "output_type": "stream",
          "text": [
            "20\n"
          ]
        }
      ],
      "source": [
        "numeros = [11, 3, 6]\n",
        "\n",
        "print(sum(numeros)) # 10"
      ]
    },
    {
      "cell_type": "markdown",
      "metadata": {
        "id": "ltZtnazF3WUP"
      },
      "source": [
        "## len()\n",
        "A função len() é bastante usada em Python para retornar o tamanho de um objeto. Quando usada com coleções, retorna o total de itens que a coleção possui."
      ]
    },
    {
      "cell_type": "code",
      "execution_count": 10,
      "metadata": {
        "colab": {
          "base_uri": "https://localhost:8080/"
        },
        "id": "UPPdZ0e73Yrv",
        "outputId": "c8bc753b-4349-4c86-d437-e1d012544090"
      },
      "outputs": [
        {
          "name": "stdout",
          "output_type": "stream",
          "text": [
            "4\n"
          ]
        }
      ],
      "source": [
        "paises = ['Argentina', 'Brasil', 'Colômbia', 'Uruguai']\n",
        "print(len(paises)) # 4"
      ]
    },
    {
      "cell_type": "markdown",
      "metadata": {
        "id": "U8XGdtmn3c5m"
      },
      "source": [
        "## type()\n",
        "Com a função type() podemos obter o tipo do objeto passado no parâmetro."
      ]
    },
    {
      "cell_type": "code",
      "execution_count": 11,
      "metadata": {
        "colab": {
          "base_uri": "https://localhost:8080/"
        },
        "id": "O-ZTtWcT3gU1",
        "outputId": "b26f86c2-a324-4343-9b29-f9fd1af4d2b0"
      },
      "outputs": [
        {
          "name": "stdout",
          "output_type": "stream",
          "text": [
            "<class 'list'>\n",
            "<class 'tuple'>\n",
            "<class 'dict'>\n"
          ]
        }
      ],
      "source": [
        "professores = ['Carla', 'Daniel', 'Ingrid', 'Roberto']\n",
        "estacoes = ('Primavera', 'Verão', 'Outono', 'Inverno')\n",
        "cliente = {\n",
        "    'Nome': 'Fábio Garcia',\n",
        "    'email' : 'fabio_garcia_9@outlook.com'\n",
        "}\n",
        "\n",
        "print(type(professores)) # list\n",
        "print(type(estacoes)) # tuple\n",
        "print(type(cliente)) # dict\n"
      ]
    },
    {
      "cell_type": "markdown",
      "metadata": {
        "id": "K2G0sjUtuvLY"
      },
      "source": [
        "## Exercício 01\n",
        "\n",
        "Escreva uma lista para armazenar uma agenda de nomes. Exibir o maior nome e menor nome e somar a quantidade de nomes."
      ]
    },
    {
      "cell_type": "code",
      "execution_count": 13,
      "metadata": {
        "id": "okYDE6JHvgES"
      },
      "outputs": [
        {
          "name": "stdout",
          "output_type": "stream",
          "text": [
            "Carlos\n",
            "Vinicius\n",
            "162\n"
          ]
        }
      ],
      "source": [
        "nomes = ['Carlos', 'Vinicius', 'Santa', 'Rosa']\n",
        "idade = (16,75,21,50)\n",
        "print(min(nomes))\n",
        "print(max(nomes))\n",
        "print(sum(idade))\n"
      ]
    },
    {
      "cell_type": "markdown",
      "metadata": {
        "id": "UejMUxoN3srH"
      },
      "source": [
        "## Exercício 02\n",
        "Faça uma aplicativo que utilize Função(def), Listas e as funções Len,Max,Min e Sum."
      ]
    },
    {
      "cell_type": "code",
      "execution_count": 21,
      "metadata": {
        "id": "AMkxacKW4Gef"
      },
      "outputs": [
        {
          "name": "stdout",
          "output_type": "stream",
          "text": [
            "39.5\n",
            "79\n"
          ]
        }
      ],
      "source": [
        "def funcao():\n",
        "    media = [23, 34, 45, 56]\n",
        "    print(sum(media) / len(media))\n",
        "    lista = [max(media), min(media)]\n",
        "    print(sum(lista))\n",
        "funcao()\n"
      ]
    }
  ],
  "metadata": {
    "colab": {
      "provenance": []
    },
    "kernelspec": {
      "display_name": "Python 3",
      "name": "python3"
    },
    "language_info": {
      "codemirror_mode": {
        "name": "ipython",
        "version": 3
      },
      "file_extension": ".py",
      "mimetype": "text/x-python",
      "name": "python",
      "nbconvert_exporter": "python",
      "pygments_lexer": "ipython3",
      "version": "3.7.8"
    }
  },
  "nbformat": 4,
  "nbformat_minor": 0
}
