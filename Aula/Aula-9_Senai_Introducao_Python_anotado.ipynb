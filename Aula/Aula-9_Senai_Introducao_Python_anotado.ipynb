{
  "cells": [
    {
      "cell_type": "markdown",
      "metadata": {
        "id": "ZiW71sXl3as2"
      },
      "source": [
        "# Aula 9: Introdução à Linguagem de Programação Python\n",
        "Bem vindo ao Google Colaboratory!\n",
        "Nós iremos utilizar essa plataforma para fazer nossas atividades com o Python. Vamos fazer alguns testes?"
      ]
    },
    {
      "cell_type": "markdown",
      "metadata": {
        "id": "hvtRw3Pnh3tG"
      },
      "source": [
        "## Array e Matriz"
      ]
    },
    {
      "cell_type": "markdown",
      "metadata": {
        "id": "Ci6bZmFRiQga"
      },
      "source": [
        "Em Python, você pode criar uma matriz usando diferentes estruturas de dados. Os mais comuns são listas e matrizes NumPy. Veja como você pode trabalhar com arrays usando ambos os métodos:\n",
        "\n",
        "Usando listas Python : as listas Python são versáteis e podem armazenar elementos de diferentes tipos de dados. Você pode criar e manipular arrays usando funções de lista integradas.\n",
        "Criando uma matriz :"
      ]
    },
    {
      "cell_type": "code",
      "execution_count": 11,
      "metadata": {
        "id": "H2ydQ7_TiVDX"
      },
      "outputs": [],
      "source": [
        "# Lista vazia\n",
        "my_array = []\n",
        "\n",
        "# Lista com elementos\n",
        "my_array = [1, 2, 3, 4, 5]"
      ]
    },
    {
      "cell_type": "code",
      "execution_count": 12,
      "metadata": {
        "id": "uAQAF2fViaZo"
      },
      "outputs": [
        {
          "name": "stdout",
          "output_type": "stream",
          "text": [
            "1\n",
            "3\n"
          ]
        }
      ],
      "source": [
        "# Acessando um elemento específico por índice\n",
        "print(my_array[0])  # Output: 1\n",
        "print(my_array[2])  # Output: 3"
      ]
    },
    {
      "cell_type": "markdown",
      "metadata": {
        "id": "3SbAY_uYilfh"
      },
      "source": [
        "**Iterando** pelo array :"
      ]
    },
    {
      "cell_type": "code",
      "execution_count": 15,
      "metadata": {
        "colab": {
          "base_uri": "https://localhost:8080/"
        },
        "id": "knLAizGGiiyr",
        "outputId": "b6b78bba-b150-4a4b-fd10-7872ad487a21"
      },
      "outputs": [
        {
          "name": "stdout",
          "output_type": "stream",
          "text": [
            "1\n",
            "2\n",
            "3\n",
            "4\n",
            "5\n"
          ]
        }
      ],
      "source": [
        "for element in my_array:\n",
        "    print(element)"
      ]
    },
    {
      "cell_type": "markdown",
      "metadata": {
        "id": "RnOwkDhK9aUi"
      },
      "source": [
        "### Biblioteca **array**\n",
        "Em Python o conceito de arrays multidimensionais não existe. O que existe é uma alternativa, que são os arrays encadeados, ou seja, cada elemento do array corresponde a outro array, ou como uma list de list em Java.\n",
        "\n",
        "Veja um exemplo, na Listagem abaixo, de como pode ser criada uma matriz de **10** linhas e **5** colunas e como ela pode ser “varrida”."
      ]
    },
    {
      "cell_type": "code",
      "execution_count": 16,
      "metadata": {
        "colab": {
          "base_uri": "https://localhost:8080/"
        },
        "id": "PV8hPT33DZnc",
        "outputId": "cf9618df-a0d4-4b9a-9904-675c52f6afcb"
      },
      "outputs": [
        {
          "name": "stdout",
          "output_type": "stream",
          "text": [
            "10\n",
            "20\n",
            "30\n"
          ]
        }
      ],
      "source": [
        "import array as arr\n",
        "\n",
        "numbers = arr.array('i',[10,20,30])\n",
        "\n",
        "print(numbers[0]) # gets the 1st element\n",
        "print(numbers[1]) # gets the 2nd element\n",
        "print(numbers[2]) # gets the 3rd element\n",
        "\n"
      ]
    },
    {
      "cell_type": "code",
      "execution_count": 17,
      "metadata": {
        "colab": {
          "base_uri": "https://localhost:8080/"
        },
        "id": "0irTbI1DDrqS",
        "outputId": "d420fcf6-550e-4a44-a41f-72f6d1fb3112"
      },
      "outputs": [
        {
          "name": "stdout",
          "output_type": "stream",
          "text": [
            "10\n",
            "20\n",
            "30\n",
            "40\n"
          ]
        }
      ],
      "source": [
        "import array as arr\n",
        "\n",
        "numbers = arr.array('i',[10,20,30,40])\n",
        "for number in numbers:\n",
        "    print(number)\n",
        "\n",
        "\n",
        "\n"
      ]
    },
    {
      "cell_type": "markdown",
      "metadata": {
        "id": "bTYdKi8ef-cP"
      },
      "source": [
        "## Utilizando a biblioteca NumPy"
      ]
    },
    {
      "cell_type": "markdown",
      "metadata": {
        "id": "V78qpFIOgCcC"
      },
      "source": [
        "O Python tem um módulo especialmente desenvolvido para criar e tratar matrizes, o Numpy é uma biblioteca robusta que tem muitos métodos para se trabalhar com matrizes. Hoje entenderemos como podemos inicializar matrizes de diferente formas.\n",
        "\n",
        "INSTALANDO A BIBLIOTECA NUMPY VIA PIP"
      ]
    },
    {
      "cell_type": "code",
      "execution_count": 18,
      "metadata": {
        "colab": {
          "base_uri": "https://localhost:8080/"
        },
        "id": "2S01mxUJgVbN",
        "outputId": "aedd4057-8839-4589-8518-f050461924e3"
      },
      "outputs": [
        {
          "name": "stdout",
          "output_type": "stream",
          "text": [
            "Defaulting to user installation because normal site-packages is not writeable\n",
            "Requirement already satisfied: numpy in c:\\users\\aluno\\appdata\\roaming\\python\\python37\\site-packages (1.21.6)\n",
            "Note: you may need to restart the kernel to use updated packages.\n"
          ]
        },
        {
          "name": "stderr",
          "output_type": "stream",
          "text": [
            "WARNING: You are using pip version 20.1.1; however, version 23.3.1 is available.\n",
            "You should consider upgrading via the 'c:\\Program Files (x86)\\Microsoft Visual Studio\\Shared\\Python37_64\\python.exe -m pip install --upgrade pip' command.\n"
          ]
        }
      ],
      "source": [
        "pip install numpy"
      ]
    },
    {
      "cell_type": "markdown",
      "metadata": {
        "id": "aUUzJnlvgZXD"
      },
      "source": [
        "## IMPORTANDO A BIBLIOTECA\n",
        "Código:"
      ]
    },
    {
      "cell_type": "code",
      "execution_count": 6,
      "metadata": {
        "id": "kEGKJJasgbV6"
      },
      "outputs": [],
      "source": [
        "# Convencionalmente a biblioteca é nomeada com o nome np\n",
        "import numpy as np"
      ]
    },
    {
      "cell_type": "markdown",
      "metadata": {
        "id": "spZsqm_Vgech"
      },
      "source": [
        "### CRIANDO UMA MATRIZ\n",
        "\n",
        "O Método numpy.array() nos permite a possibilidade de criar matrizes de n-dimensões.\n",
        "\n",
        "Nesse exemplo criaremos uma matriz 2D com 2 Linhas e 3 Colunas.\n",
        "\n",
        "Código:"
      ]
    },
    {
      "cell_type": "code",
      "execution_count": 19,
      "metadata": {
        "colab": {
          "base_uri": "https://localhost:8080/"
        },
        "id": "gcDOxtaigl28",
        "outputId": "f5f590aa-6cf5-42ec-ec4b-f9ce3faf7d65"
      },
      "outputs": [
        {
          "data": {
            "text/plain": [
              "array([[1, 2, 3],\n",
              "       [4, 5, 6]])"
            ]
          },
          "execution_count": 19,
          "metadata": {},
          "output_type": "execute_result"
        }
      ],
      "source": [
        "# Matriz 2D\n",
        "matriz = np.array([[1, 2, 3], [4, 5, 6]])\n",
        "matriz"
      ]
    },
    {
      "cell_type": "code",
      "execution_count": 8,
      "metadata": {
        "colab": {
          "base_uri": "https://localhost:8080/"
        },
        "id": "tbqqmWjfg0hH",
        "outputId": "10d70cd5-6e6e-410b-b125-ff23a1081ae5"
      },
      "outputs": [
        {
          "name": "stdout",
          "output_type": "stream",
          "text": [
            "Dimensão da matriz: 2\n",
            "Shape da Matriz: (2, 3)\n",
            "Número de elementos da Matriz: 6\n",
            "Tipo dos elementos da Matriz: int32\n",
            "Tamanho em Bytes de cada elemento da Matriz: 4\n",
            "Local da menmória onde está alocado essa matriz: <memory at 0x000001EE3346AE48>\n"
          ]
        }
      ],
      "source": [
        "# Informações da Matriz criada\n",
        "print(f\"Dimensão da matriz: {matriz.ndim}\")\n",
        "print(f\"Shape da Matriz: {matriz.shape}\")\n",
        "print(f\"Número de elementos da Matriz: {matriz.size}\")\n",
        "print(f\"Tipo dos elementos da Matriz: {matriz.dtype}\")\n",
        "print(f\"Tamanho em Bytes de cada elemento da Matriz: {matriz.itemsize}\")\n",
        "print(f\"Local da menmória onde está alocado essa matriz: {matriz.data}\")"
      ]
    },
    {
      "cell_type": "markdown",
      "metadata": {
        "id": "4xL3n5khhFVS"
      },
      "source": [
        "Como inserir valores em matriz utilizando o FOR"
      ]
    },
    {
      "cell_type": "code",
      "execution_count": 7,
      "metadata": {
        "colab": {
          "base_uri": "https://localhost:8080/"
        },
        "id": "OWd54OtXhKQ0",
        "outputId": "e243ec94-994c-430d-c1b9-8bbe1bc5b94f"
      },
      "outputs": [
        {
          "name": "stdout",
          "output_type": "stream",
          "text": [
            "Matriz resultante:\n",
            "[[5. 5. 5. 5.]\n",
            " [5. 5. 5. 5.]\n",
            " [5. 5. 5. 5.]]\n",
            "5.0\n"
          ]
        }
      ],
      "source": [
        "import numpy as np\n",
        "\n",
        "# Definir as dimensões da matriz\n",
        "linhas = 3\n",
        "colunas = 4\n",
        "\n",
        "# Criar a matriz preenchida inicialmente com zeros (ou qualquer valor padrão)\n",
        "matriz = np.zeros((linhas, colunas))\n",
        "\n",
        "# Usar o loop for para inserir os dados na matriz\n",
        "for i in range(linhas):\n",
        "    for j in range(colunas):\n",
        "        valor = float(input(f\"Digite o valor para a posição [{i}, {j}]: \"))\n",
        "        matriz[i, j] = valor\n",
        "\n",
        "print(\"Matriz resultante:\")\n",
        "print(matriz)\n",
        "\n",
        "print (matriz[0][2])"
      ]
    },
    {
      "cell_type": "markdown",
      "metadata": {
        "id": "bdwgGfx9APHG"
      },
      "source": [
        "# Exercício 01\n",
        "\n",
        "Faça um aplicação python que armazene 10 notas de um aluno em uma Array.\n",
        "No final mostrar a media.\n",
        "obs: altera para que o usuario posso lançar quantas notas queira\n"
      ]
    },
    {
      "cell_type": "code",
      "execution_count": 30,
      "metadata": {
        "id": "SQyN3SXiA9t5"
      },
      "outputs": [
        {
          "name": "stdout",
          "output_type": "stream",
          "text": [
            "A média das notas é: 7.0\n"
          ]
        }
      ],
      "source": [
        "QN = int(input(\"Quantas notas ira lançar\"))\n",
        "notas = []\n",
        "\n",
        "for i in range(QN):\n",
        "    nota = float(input(f\"Digite a nota {i + 1}: \"))\n",
        "    notas.append(nota)\n",
        "\n",
        "media = sum(notas) / len(notas)\n",
        "\n",
        "print(f\"A média das notas é: {media}\")\n"
      ]
    },
    {
      "cell_type": "markdown",
      "metadata": {
        "id": "49d7pWj5A-Kg"
      },
      "source": [
        "# Exercício 02\n",
        "\n",
        "Escreva um programa Python NumPy que converte esta matriz de binários (0s e 1s) em uma matriz de booleanos (True e False). Dica: use o método astype() da NumPy para realizar esta tarefa.\n",
        "\n",
        "obs: acresentei que usuario posso colocar o numero de linhas e colunas, e o binario fica no aleatorio"
      ]
    },
    {
      "cell_type": "code",
      "execution_count": 3,
      "metadata": {
        "id": "j7lNi_BJCjuh"
      },
      "outputs": [
        {
          "name": "stdout",
          "output_type": "stream",
          "text": [
            "\n",
            "Matriz binária:\n",
            "[[0 0 0 1 1 1]\n",
            " [0 0 0 0 0 1]\n",
            " [0 1 0 0 0 0]\n",
            " [1 1 0 0 0 1]\n",
            " [0 1 0 0 0 1]\n",
            " [0 0 1 0 0 1]]\n",
            "\n",
            "Matriz de Booleanos:\n",
            "[[False False False  True  True  True]\n",
            " [False False False False False  True]\n",
            " [False  True False False False False]\n",
            " [ True  True False False False  True]\n",
            " [False  True False False False  True]\n",
            " [False False  True False False  True]]\n"
          ]
        }
      ],
      "source": [
        "import numpy as np\n",
        "\n",
        "num_linhas = int(input(\"Digite o número de linhas: \"))\n",
        "num_colunas = int(input(\"Digite o número de colunas: \"))\n",
        "\n",
        "matriz_binaria = np.random.randint(2, size=(num_linhas, num_colunas))\n",
        "\n",
        "matriz_booleana = matriz_binaria.astype(bool)\n",
        "\n",
        "\n",
        "print(\"\\nMatriz binária:\")\n",
        "print(matriz_binaria)\n",
        "\n",
        "print(\"\\nMatriz de Booleanos:\")\n",
        "print(matriz_booleana)\n",
        "\n"
      ]
    },
    {
      "cell_type": "markdown",
      "metadata": {},
      "source": [
        "## Exercício 03\n",
        "Verifique na matriz abaixo qual numero é par e impar.\n",
        "\n",
        "```\n",
        "Matriz: 4 x 3\n",
        "     3     4     3     \n",
        "     5     4     8   \n",
        "     44    66    6   \n",
        "     6     9     10\n",
        "```\n",
        "\n",
        "fora adicionar quantas linhas, colunas e poder colocar os dados, deixar o impar e par na em tabela"
      ]
    },
    {
      "cell_type": "code",
      "execution_count": 2,
      "metadata": {},
      "outputs": [
        {
          "name": "stdout",
          "output_type": "stream",
          "text": [
            "IMPAR PAR IMPAR PAR \n",
            "PAR IMPAR PAR IMPAR \n",
            "IMPAR PAR IMPAR PAR \n",
            "PAR IMPAR PAR IMPAR \n",
            "\n",
            "Matriz resultante:\n",
            "[[1 2 1 2]\n",
            " [2 1 2 1]\n",
            " [1 2 1 2]\n",
            " [2 1 2 1]]\n"
          ]
        }
      ],
      "source": [
        "import numpy as np\n",
        "\n",
        "linhas = int(input(\"Quantas linhas você quer? \"))\n",
        "colunas = int(input(\"Quantas colunas você quer? \"))\n",
        "matriz = np.zeros((linhas, colunas), dtype=int)\n",
        "\n",
        "for i in range(linhas):\n",
        "    for j in range(colunas):\n",
        "        valor = int(input(f\"Digite o valor para a posição [{i}, {j}]: \"))\n",
        "        matriz[i, j] = valor\n",
        "        if valor % 2 == 0:\n",
        "            print(\"PAR\", end=' ')\n",
        "        else:\n",
        "            print(\"IMPAR\", end=' ')\n",
        "    print() \n",
        "print(\"\\nMatriz resultante:\")\n",
        "print(matriz)\n"
      ]
    },
    {
      "cell_type": "markdown",
      "metadata": {},
      "source": [
        "## Exercício 04\n",
        "Verifique na matriz abaixo qual numero é primo"
      ]
    },
    {
      "cell_type": "code",
      "execution_count": 2,
      "metadata": {},
      "outputs": [
        {
          "name": "stdout",
          "output_type": "stream",
          "text": [
            "O número na posição (0, 0), 2, é primo.\n",
            "O número na posição (0, 1), 2, é primo.\n",
            "O número na posição (1, 0), 2, é primo.\n",
            "O número na posição (1, 1), 2, é primo.\n"
          ]
        }
      ],
      "source": [
        "import numpy as np\n",
        "\n",
        "linhas = int(input(\"Quantas linhas você quer? \"))\n",
        "colunas = int(input(\"Quantas colunas você quer? \"))\n",
        "matriz = np.zeros((linhas, colunas), dtype=int)\n",
        "\n",
        "for l in range(linhas):\n",
        "    for c in range(colunas):\n",
        "        numero = int(input(f\"Digite o número para a posição ({l}, {c}): \"))\n",
        "        matriz[l][c] = numero\n",
        "\n",
        "for l in range(linhas):\n",
        "    for c in range(colunas):\n",
        "        numero = matriz[l][c]\n",
        "        eh_primo = True\n",
        "\n",
        "        if numero < 2:\n",
        "            eh_primo = False\n",
        "        else:\n",
        "            for i in range(2, int(np.sqrt(numero)) + 1):\n",
        "                if numero % i == 0:\n",
        "                    eh_primo = False\n",
        "                    break\n",
        "\n",
        "        if eh_primo:\n",
        "            print(f\"O número na posição ({l}, {c}), {numero}, é primo.\")\n",
        "        else:\n",
        "            print(f\"O número na posição ({l}, {c}), {numero}, não é primo.\")\n"
      ]
    },
    {
      "cell_type": "code",
      "execution_count": null,
      "metadata": {},
      "outputs": [],
      "source": [
        "#Teste de Primalidade de Fermat\n",
        "import random\n",
        "\n",
        "def mod_exp(base, exp, mod):\n",
        "    result = 1\n",
        "    base = base % mod\n",
        "    while exp > 0:\n",
        "        if exp % 2 == 1:\n",
        "            result = (result * base) % mod\n",
        "        exp = exp // 2\n",
        "        base = (base * base) % mod\n",
        "    return result\n",
        "\n",
        "def fermat_test(n, k=5):\n",
        "    if n == 2 or n == 3:\n",
        "        return True\n",
        "\n",
        "    if n <= 1 or n % 2 == 0:\n",
        "        return False\n",
        "\n",
        "    for _ in range(k):\n",
        "        a = random.randint(2, n - 2)\n",
        "        if mod_exp(a, n - 1, n) != 1:\n",
        "            return False\n",
        "\n",
        "    return True\n",
        "\n",
        "numero_usuario = int(input(\"Digite um número para verificar se é primo: \"))\n",
        "\n",
        "if fermat_test(numero_usuario):\n",
        "    print(f\"{numero_usuario} é provavelmente primo.\")\n",
        "else:\n",
        "    print(f\"{numero_usuario} é composto.\")\n"
      ]
    },
    {
      "cell_type": "code",
      "execution_count": 1,
      "metadata": {},
      "outputs": [
        {
          "name": "stdout",
          "output_type": "stream",
          "text": [
            "2 3 5 7 11 13 17 19 23 29 31 37 41 43 47 53 59 61 67 71 73 79 83 89 97 101 103 107 109 113 127 131 137 139 149 151 157 163 167 173 179 181 191 193 197 199 211 223 227 229 233 239 241 251 257 263 269 271 277 281 283 293 307 311 313 317 331 337 347 349 353 359 367 373 379 383 389 397 401 409 419 421 431 433 439 443 449 457 461 463 467 479 487 491 499 503 509 521 523 541 547 557 563 569 571 577 587 593 599 601 607 613 617 619 631 641 643 647 653 659 661 673 677 683 691 701 709 719 727 733 739 743 751 757 761 769 773 787 797 809 811 821 823 827 829 839 853 857 859 863 877 881 883 887 907 911 919 929 937 941 947 953 967 971 977 983 991 997 "
          ]
        }
      ],
      "source": [
        "# Mostrando os numeros primos de 0 a 1000\n",
        "import random\n",
        "\n",
        "def mod_exp(base, exp, mod):\n",
        "    result = 1\n",
        "    base = base % mod\n",
        "    while exp > 0:\n",
        "        if exp % 2 == 1:\n",
        "            result = (result * base) % mod\n",
        "        exp = exp // 2\n",
        "        base = (base * base) % mod\n",
        "    return result\n",
        "\n",
        "def fermat_test(n, k=5):\n",
        "    if n == 2 or n == 3:\n",
        "        return True\n",
        "\n",
        "    if n <= 1 or n % 2 == 0:\n",
        "        return False\n",
        "\n",
        "    for _ in range(k):\n",
        "        a = random.randint(2, n - 2)\n",
        "        if mod_exp(a, n - 1, n) != 1:\n",
        "            return False\n",
        "\n",
        "    return True\n",
        "\n",
        "for num in range(1, 1000):\n",
        "    if fermat_test(num):\n",
        "        print(num, end=' ')\n"
      ]
    }
  ],
  "metadata": {
    "colab": {
      "provenance": []
    },
    "kernelspec": {
      "display_name": "Python 3",
      "name": "python3"
    },
    "language_info": {
      "codemirror_mode": {
        "name": "ipython",
        "version": 3
      },
      "file_extension": ".py",
      "mimetype": "text/x-python",
      "name": "python",
      "nbconvert_exporter": "python",
      "pygments_lexer": "ipython3",
      "version": "3.11.6"
    }
  },
  "nbformat": 4,
  "nbformat_minor": 0
}
