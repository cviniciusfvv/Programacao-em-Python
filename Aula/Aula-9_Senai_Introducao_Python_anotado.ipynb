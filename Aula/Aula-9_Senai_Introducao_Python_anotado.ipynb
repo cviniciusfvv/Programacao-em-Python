{
  "cells": [
    {
      "cell_type": "markdown",
      "metadata": {
        "id": "ZiW71sXl3as2"
      },
      "source": [
        "# Aula 9: Introdução à Linguagem de Programação Python\n",
        "Bem vindo ao Google Colaboratory!\n",
        "Nós iremos utilizar essa plataforma para fazer nossas atividades com o Python. Vamos fazer alguns testes?"
      ]
    },
    {
      "cell_type": "markdown",
      "metadata": {
        "id": "hvtRw3Pnh3tG"
      },
      "source": [
        "## Array e Matriz"
      ]
    },
    {
      "cell_type": "markdown",
      "metadata": {
        "id": "Ci6bZmFRiQga"
      },
      "source": [
        "Em Python, você pode criar uma matriz usando diferentes estruturas de dados. Os mais comuns são listas e matrizes NumPy. Veja como você pode trabalhar com arrays usando ambos os métodos:\n",
        "\n",
        "Usando listas Python : as listas Python são versáteis e podem armazenar elementos de diferentes tipos de dados. Você pode criar e manipular arrays usando funções de lista integradas.\n",
        "Criando uma matriz :"
      ]
    },
    {
      "cell_type": "code",
      "execution_count": 11,
      "metadata": {
        "id": "H2ydQ7_TiVDX"
      },
      "outputs": [],
      "source": [
        "# Lista vazia\n",
        "my_array = []\n",
        "\n",
        "# Lista com elementos\n",
        "my_array = [1, 2, 3, 4, 5]"
      ]
    },
    {
      "cell_type": "code",
      "execution_count": 12,
      "metadata": {
        "id": "uAQAF2fViaZo"
      },
      "outputs": [
        {
          "name": "stdout",
          "output_type": "stream",
          "text": [
            "1\n",
            "3\n"
          ]
        }
      ],
      "source": [
        "# Acessando um elemento específico por índice\n",
        "print(my_array[0])  # Output: 1\n",
        "print(my_array[2])  # Output: 3"
      ]
    },
    {
      "cell_type": "markdown",
      "metadata": {
        "id": "3SbAY_uYilfh"
      },
      "source": [
        "**Iterando** pelo array :"
      ]
    },
    {
      "cell_type": "code",
      "execution_count": 15,
      "metadata": {
        "colab": {
          "base_uri": "https://localhost:8080/"
        },
        "id": "knLAizGGiiyr",
        "outputId": "b6b78bba-b150-4a4b-fd10-7872ad487a21"
      },
      "outputs": [
        {
          "name": "stdout",
          "output_type": "stream",
          "text": [
            "1\n",
            "2\n",
            "3\n",
            "4\n",
            "5\n"
          ]
        }
      ],
      "source": [
        "for element in my_array:\n",
        "    print(element)"
      ]
    },
    {
      "cell_type": "markdown",
      "metadata": {
        "id": "RnOwkDhK9aUi"
      },
      "source": [
        "### Biblioteca **array**\n",
        "Em Python o conceito de arrays multidimensionais não existe. O que existe é uma alternativa, que são os arrays encadeados, ou seja, cada elemento do array corresponde a outro array, ou como uma list de list em Java.\n",
        "\n",
        "Veja um exemplo, na Listagem abaixo, de como pode ser criada uma matriz de **10** linhas e **5** colunas e como ela pode ser “varrida”."
      ]
    },
    {
      "cell_type": "code",
      "execution_count": 16,
      "metadata": {
        "colab": {
          "base_uri": "https://localhost:8080/"
        },
        "id": "PV8hPT33DZnc",
        "outputId": "cf9618df-a0d4-4b9a-9904-675c52f6afcb"
      },
      "outputs": [
        {
          "name": "stdout",
          "output_type": "stream",
          "text": [
            "10\n",
            "20\n",
            "30\n"
          ]
        }
      ],
      "source": [
        "import array as arr\n",
        "\n",
        "numbers = arr.array('i',[10,20,30])\n",
        "\n",
        "print(numbers[0]) # gets the 1st element\n",
        "print(numbers[1]) # gets the 2nd element\n",
        "print(numbers[2]) # gets the 3rd element\n",
        "\n"
      ]
    },
    {
      "cell_type": "code",
      "execution_count": 17,
      "metadata": {
        "colab": {
          "base_uri": "https://localhost:8080/"
        },
        "id": "0irTbI1DDrqS",
        "outputId": "d420fcf6-550e-4a44-a41f-72f6d1fb3112"
      },
      "outputs": [
        {
          "name": "stdout",
          "output_type": "stream",
          "text": [
            "10\n",
            "20\n",
            "30\n",
            "40\n"
          ]
        }
      ],
      "source": [
        "import array as arr\n",
        "\n",
        "numbers = arr.array('i',[10,20,30,40])\n",
        "for number in numbers:\n",
        "    print(number)\n",
        "\n",
        "\n",
        "\n"
      ]
    },
    {
      "cell_type": "markdown",
      "metadata": {
        "id": "bTYdKi8ef-cP"
      },
      "source": [
        "## Utilizando a biblioteca NumPy"
      ]
    },
    {
      "cell_type": "markdown",
      "metadata": {
        "id": "V78qpFIOgCcC"
      },
      "source": [
        "O Python tem um módulo especialmente desenvolvido para criar e tratar matrizes, o Numpy é uma biblioteca robusta que tem muitos métodos para se trabalhar com matrizes. Hoje entenderemos como podemos inicializar matrizes de diferente formas.\n",
        "\n",
        "INSTALANDO A BIBLIOTECA NUMPY VIA PIP"
      ]
    },
    {
      "cell_type": "code",
      "execution_count": 18,
      "metadata": {
        "colab": {
          "base_uri": "https://localhost:8080/"
        },
        "id": "2S01mxUJgVbN",
        "outputId": "aedd4057-8839-4589-8518-f050461924e3"
      },
      "outputs": [
        {
          "name": "stdout",
          "output_type": "stream",
          "text": [
            "Defaulting to user installation because normal site-packages is not writeable\n",
            "Requirement already satisfied: numpy in c:\\users\\aluno\\appdata\\roaming\\python\\python37\\site-packages (1.21.6)\n",
            "Note: you may need to restart the kernel to use updated packages.\n"
          ]
        },
        {
          "name": "stderr",
          "output_type": "stream",
          "text": [
            "WARNING: You are using pip version 20.1.1; however, version 23.3.1 is available.\n",
            "You should consider upgrading via the 'c:\\Program Files (x86)\\Microsoft Visual Studio\\Shared\\Python37_64\\python.exe -m pip install --upgrade pip' command.\n"
          ]
        }
      ],
      "source": [
        "pip install numpy"
      ]
    },
    {
      "cell_type": "markdown",
      "metadata": {
        "id": "aUUzJnlvgZXD"
      },
      "source": [
        "## IMPORTANDO A BIBLIOTECA\n",
        "Código:"
      ]
    },
    {
      "cell_type": "code",
      "execution_count": 6,
      "metadata": {
        "id": "kEGKJJasgbV6"
      },
      "outputs": [],
      "source": [
        "# Convencionalmente a biblioteca é nomeada com o nome np\n",
        "import numpy as np"
      ]
    },
    {
      "cell_type": "markdown",
      "metadata": {
        "id": "spZsqm_Vgech"
      },
      "source": [
        "### CRIANDO UMA MATRIZ\n",
        "\n",
        "O Método numpy.array() nos permite a possibilidade de criar matrizes de n-dimensões.\n",
        "\n",
        "Nesse exemplo criaremos uma matriz 2D com 2 Linhas e 3 Colunas.\n",
        "\n",
        "Código:"
      ]
    },
    {
      "cell_type": "code",
      "execution_count": 19,
      "metadata": {
        "colab": {
          "base_uri": "https://localhost:8080/"
        },
        "id": "gcDOxtaigl28",
        "outputId": "f5f590aa-6cf5-42ec-ec4b-f9ce3faf7d65"
      },
      "outputs": [
        {
          "data": {
            "text/plain": [
              "array([[1, 2, 3],\n",
              "       [4, 5, 6]])"
            ]
          },
          "execution_count": 19,
          "metadata": {},
          "output_type": "execute_result"
        }
      ],
      "source": [
        "# Matriz 2D\n",
        "matriz = np.array([[1, 2, 3], [4, 5, 6]])\n",
        "matriz"
      ]
    },
    {
      "cell_type": "code",
      "execution_count": 8,
      "metadata": {
        "colab": {
          "base_uri": "https://localhost:8080/"
        },
        "id": "tbqqmWjfg0hH",
        "outputId": "10d70cd5-6e6e-410b-b125-ff23a1081ae5"
      },
      "outputs": [
        {
          "name": "stdout",
          "output_type": "stream",
          "text": [
            "Dimensão da matriz: 2\n",
            "Shape da Matriz: (2, 3)\n",
            "Número de elementos da Matriz: 6\n",
            "Tipo dos elementos da Matriz: int32\n",
            "Tamanho em Bytes de cada elemento da Matriz: 4\n",
            "Local da menmória onde está alocado essa matriz: <memory at 0x000001EE3346AE48>\n"
          ]
        }
      ],
      "source": [
        "# Informações da Matriz criada\n",
        "print(f\"Dimensão da matriz: {matriz.ndim}\")\n",
        "print(f\"Shape da Matriz: {matriz.shape}\")\n",
        "print(f\"Número de elementos da Matriz: {matriz.size}\")\n",
        "print(f\"Tipo dos elementos da Matriz: {matriz.dtype}\")\n",
        "print(f\"Tamanho em Bytes de cada elemento da Matriz: {matriz.itemsize}\")\n",
        "print(f\"Local da menmória onde está alocado essa matriz: {matriz.data}\")"
      ]
    },
    {
      "cell_type": "markdown",
      "metadata": {
        "id": "4xL3n5khhFVS"
      },
      "source": [
        "Como inserir valores em matriz utilizando o FOR"
      ]
    },
    {
      "cell_type": "code",
      "execution_count": 7,
      "metadata": {
        "colab": {
          "base_uri": "https://localhost:8080/"
        },
        "id": "OWd54OtXhKQ0",
        "outputId": "e243ec94-994c-430d-c1b9-8bbe1bc5b94f"
      },
      "outputs": [
        {
          "name": "stdout",
          "output_type": "stream",
          "text": [
            "Matriz resultante:\n",
            "[[5. 5. 5. 5.]\n",
            " [5. 5. 5. 5.]\n",
            " [5. 5. 5. 5.]]\n",
            "5.0\n"
          ]
        }
      ],
      "source": [
        "import numpy as np\n",
        "\n",
        "# Definir as dimensões da matriz\n",
        "linhas = 3\n",
        "colunas = 4\n",
        "\n",
        "# Criar a matriz preenchida inicialmente com zeros (ou qualquer valor padrão)\n",
        "matriz = np.zeros((linhas, colunas))\n",
        "\n",
        "# Usar o loop for para inserir os dados na matriz\n",
        "for i in range(linhas):\n",
        "    for j in range(colunas):\n",
        "        valor = float(input(f\"Digite o valor para a posição [{i}, {j}]: \"))\n",
        "        matriz[i, j] = valor\n",
        "\n",
        "print(\"Matriz resultante:\")\n",
        "print(matriz)\n",
        "\n",
        "print (matriz[0][2])"
      ]
    },
    {
      "cell_type": "markdown",
      "metadata": {
        "id": "bdwgGfx9APHG"
      },
      "source": [
        "# Exercício 01\n",
        "\n",
        "Faça um aplicação python que armazene 10 notas de um aluno em uma Array.\n",
        "No final mostrar a media.\n",
        "\n"
      ]
    },
    {
      "cell_type": "code",
      "execution_count": 30,
      "metadata": {
        "id": "SQyN3SXiA9t5"
      },
      "outputs": [
        {
          "name": "stdout",
          "output_type": "stream",
          "text": [
            "A média das notas é: 7.0\n"
          ]
        }
      ],
      "source": [
        "QN = int(input(\"Quantas notas ira lançar\"))\n",
        "notas = []\n",
        "\n",
        "for i in range(QN):\n",
        "    nota = float(input(f\"Digite a nota {i + 1}: \"))\n",
        "    notas.append(nota)\n",
        "\n",
        "media = sum(notas) / len(notas)\n",
        "\n",
        "print(f\"A média das notas é: {media}\")\n"
      ]
    },
    {
      "cell_type": "markdown",
      "metadata": {
        "id": "49d7pWj5A-Kg"
      },
      "source": [
        "# Exercício 02\n",
        "\n",
        "Escreva um programa Python NumPy que converte esta matriz de binários (0s e 1s) em uma matriz de booleanos (True e False). Dica: use o método astype() da NumPy para realizar esta tarefa."
      ]
    },
    {
      "cell_type": "code",
      "execution_count": 6,
      "metadata": {
        "id": "j7lNi_BJCjuh"
      },
      "outputs": [
        {
          "name": "stdout",
          "output_type": "stream",
          "text": [
            "Matriz binário:\n",
            "[[0 1 0]\n",
            " [1 0 1]\n",
            " [0 0 1]]\n",
            "\n",
            "Matriz de Booleanos:\n",
            "[[False  True False]\n",
            " [ True False  True]\n",
            " [False False  True]]\n"
          ]
        }
      ],
      "source": [
        "import numpy as np\n",
        "\n",
        "matriz_binaria = np.array([[0, 1, 0], [1, 0, 1], [0, 0, 1]])\n",
        "\n",
        "matriz_booleana = matriz_binaria.astype(bool)\n",
        "\n",
        "print(\"Matriz binário:\")\n",
        "print(matriz_binaria)\n",
        "\n",
        "print(\"\\nMatriz de Booleanos:\")\n",
        "print(matriz_booleana)\n"
      ]
    },
    {
      "cell_type": "markdown",
      "metadata": {},
      "source": [
        "## Exercício 03\n",
        "Verifique na matriz abaixo qual numero é par e impar.\n",
        "\n",
        "```\n",
        "Matriz: 4 x 3\n",
        "     3     4     3     \n",
        "     5     4     8   \n",
        "     44    66    6   \n",
        "     6     9     10\n",
        "```"
      ]
    },
    {
      "cell_type": "code",
      "execution_count": 2,
      "metadata": {},
      "outputs": [
        {
          "name": "stdout",
          "output_type": "stream",
          "text": [
            "IMPAR PAR IMPAR IMPAR \n",
            "Matriz resultante:\n",
            "[[1. 2.]\n",
            " [3. 1.]]\n"
          ]
        }
      ],
      "source": [
        "import numpy as np\n",
        "\n",
        "linhas = int(input(\"Quantas linhas você quer? \"))\n",
        "colunas = int(input(\"Quantas colunas você quer? \"))\n",
        "matriz = np.zeros((linhas, colunas))\n",
        "\n",
        "for i in range(linhas):\n",
        "    for j in range(colunas):\n",
        "        valor = float(input(f\"Digite o valor para a posição [{i}, {j}]: \"))\n",
        "        matriz[i, j] = valor\n",
        "        if int(valor) % 2 == 0:\n",
        "            print(\"PAR\", end=' ')\n",
        "        else:\n",
        "            print(\"IMPAR\", end=' ')\n",
        "\n",
        "print(\"\\nMatriz resultante:\")\n",
        "print(matriz)"
      ]
    },
    {
      "cell_type": "markdown",
      "metadata": {},
      "source": [
        "## Exercício 04\n",
        "Verifique na matriz abaixo qual numero é primo"
      ]
    },
    {
      "cell_type": "code",
      "execution_count": 2,
      "metadata": {},
      "outputs": [
        {
          "name": "stdout",
          "output_type": "stream",
          "text": [
            "Múltiplo de 2\n",
            "Múltiplo de 4\n",
            "Múltiplo de 5\n",
            "Múltiplo de 8\n",
            "Múltiplo de 10\n",
            "Múltiplo de 16\n",
            "Múltiplo de 20\n",
            "Múltiplo de 25\n",
            "Múltiplo de 32\n",
            "Múltiplo de 40\n",
            "Múltiplo de 50\n",
            "Múltiplo de 80\n",
            "Múltiplo de 100\n",
            "Múltiplo de 125\n",
            "Múltiplo de 160\n",
            "Múltiplo de 200\n",
            "Múltiplo de 250\n",
            "Múltiplo de 400\n",
            "Múltiplo de 500\n",
            "Múltiplo de 625\n",
            "Múltiplo de 800\n",
            "Múltiplo de 1000\n",
            "Múltiplo de 1250\n",
            "Múltiplo de 2000\n",
            "Múltiplo de 2500\n",
            "Múltiplo de 4000\n",
            "Múltiplo de 5000\n",
            "Múltiplo de 10000\n",
            "Tem 28  múltiplos acima de 2 e abaixo de 20000\n"
          ]
        }
      ],
      "source": [
        "n = int(input(\"Verificar numeros primos ate: \"))\n",
        "mult=0\n",
        "\n",
        "for count in range(2,n):\n",
        "    if (n % count == 0):\n",
        "        print(\"Múltiplo de\",count)\n",
        "        mult += 1\n",
        "\n",
        "if(mult==0):\n",
        "    print(\"É primo\")\n",
        "else:\n",
        "    print(\"Tem\",mult,\" múltiplos acima de 2 e abaixo de\",n)"
      ]
    }
  ],
  "metadata": {
    "colab": {
      "provenance": []
    },
    "kernelspec": {
      "display_name": "Python 3",
      "name": "python3"
    },
    "language_info": {
      "codemirror_mode": {
        "name": "ipython",
        "version": 3
      },
      "file_extension": ".py",
      "mimetype": "text/x-python",
      "name": "python",
      "nbconvert_exporter": "python",
      "pygments_lexer": "ipython3",
      "version": "3.11.6"
    }
  },
  "nbformat": 4,
  "nbformat_minor": 0
}
