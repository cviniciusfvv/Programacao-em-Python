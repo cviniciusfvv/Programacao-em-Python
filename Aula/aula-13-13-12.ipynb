{
 "cells": [
  {
   "cell_type": "code",
   "execution_count": 17,
   "metadata": {},
   "outputs": [
    {
     "name": "stdout",
     "output_type": "stream",
     "text": [
      "(107 avaliações)\n"
     ]
    }
   ],
   "source": [
    "from selenium.webdriver.common.by import By\n",
    "from selenium import webdriver\n",
    "import time\n",
    "\n",
    "driver = webdriver.Chrome()\n",
    "\n",
    "#driver.get(\"https://www.magazineluiza.com.br/mesa-de-jantar-4-cadeiras-retangular-freijo-e-off-white-indekes-luiza/p/237805200/mo/meec/\") #Maga\n",
    "#driver.get(\"https://www.magazineluiza.com.br/kit-6-cadeiras-reforcada-para-mesa-de-jantar-luxo-linho-balaqui-decor/p/ffj31e6cca/mo/mcad/\") #Maga\n",
    "driver.get(\"https://www.americanas.com.br/produto/6470509899/gin-flor-de-sevilla-tanqueray-sevilla-garrafa-700ml?pfm_carac=gin&pfm_index=1&pfm_page=search&pfm_pos=grid&pfm_type=search_page&offerId=636e9ffd24635081e7261089&buyboxToken=smartbuybox-acom-v2-5d91a296-348a-4bc6-9f68-e8a57c16411f-2023-12-13%2017%3A33%3A01%200000-none-default&cor=Laranja&tamanho=%C3%9Anico&condition=NEW\")\n",
    "\n",
    "driver.implicitly_wait(3)\n",
    "\n",
    "try:\n",
    "    #avaliacao = driver.find_element(By.XPATH,'gPbRSC').text\n",
    "    avaliacao = driver.find_element(By.XPATH,'//*[@id=\"rsyswpsdk\"]/div/main/div[2]/div/div[1]/div/div/div[2]/div[1]/a[1]/div/span[2]').text\n",
    "except: \n",
    "    avaliacao = \"Não avaliado\"\n",
    "time.sleep(3)\n",
    "print(avaliacao)"
   ]
  },
  {
   "cell_type": "markdown",
   "metadata": {},
   "source": []
  },
  {
   "cell_type": "code",
   "execution_count": 5,
   "metadata": {},
   "outputs": [
    {
     "data": {
      "text/plain": [
       "'OK'"
      ]
     },
     "execution_count": 5,
     "metadata": {},
     "output_type": "execute_result"
    }
   ],
   "source": [
    "import pyautogui\n",
    "import time\n",
    "\n",
    "pyautogui.alert(\"quem mexer no PC vai levar um pescotopa\\nentedeu seu beduino\")\n",
    "pyautogui.PAUSE = 1\n",
    "pyautogui.press('winleft')\n",
    "\n",
    "pyautogui.write('https://campinaszerbini.sp.senai.br/')\n",
    "pyautogui.press('enter')\n",
    "time.sleep(10)\n",
    "pyautogui.alert('o codigo foi finalizado')"
   ]
  },
  {
   "cell_type": "code",
   "execution_count": null,
   "metadata": {},
   "outputs": [],
   "source": [
    "import pyautogui\n",
    "import time\n",
    "\n",
    "x, y = pyautogui.position()\n",
    "time.sleep(1)\n",
    "print('posição do mouse')\n",
    "print('x = ' + str(x) + ' y = ' + str(y))\n"
   ]
  }
 ],
 "metadata": {
  "kernelspec": {
   "display_name": "Python 3",
   "language": "python",
   "name": "python3"
  },
  "language_info": {
   "codemirror_mode": {
    "name": "ipython",
    "version": 3
   },
   "file_extension": ".py",
   "mimetype": "text/x-python",
   "name": "python",
   "nbconvert_exporter": "python",
   "pygments_lexer": "ipython3",
   "version": "3.12.0"
  }
 },
 "nbformat": 4,
 "nbformat_minor": 2
}
