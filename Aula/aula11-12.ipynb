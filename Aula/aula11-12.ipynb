{
 "cells": [
  {
   "cell_type": "code",
   "execution_count": 9,
   "metadata": {},
   "outputs": [],
   "source": [
    "from selenium import webdriver\n",
    "class GoogleBot():\n",
    "    def __init__(self):\n",
    "        self.driver = webdriver.Chrome()"
   ]
  },
  {
   "cell_type": "code",
   "execution_count": 3,
   "metadata": {},
   "outputs": [
    {
     "name": "stdout",
     "output_type": "stream",
     "text": [
      "Depois de 5 anos de desenvolvimento conturbado, The Day Before finalmente chegou, mas não vendeu suficiente para manter o estúdio\n"
     ]
    }
   ],
   "source": [
    "from selenium import webdriver\n",
    "from selenium.webdriver.common.by import By\n",
    "\n",
    "driver = webdriver.Chrome()\n",
    "driver.get('https://www.adrenaline.com.br/noticias/criadora-de-the-day-before-anuncia-fechamento-do-estudio/?feed_id=22697&_unique_id=65775a324beb2&fbclid=IwAR2rlFOHtnPCWGORg_P5ayJNwuZMhzuuw3hc3TtTjXOaXKPPHWUINyvHIaA')\n",
    "\n",
    "result = driver.find_element(By.XPATH, '/html/body/main/section[1]/div[4]/div/p[2]').text\n",
    "\n",
    "print(result)"
   ]
  },
  {
   "cell_type": "code",
   "execution_count": 2,
   "metadata": {},
   "outputs": [
    {
     "name": "stdout",
     "output_type": "stream",
     "text": [
      "Formação técnica profissionalizante de nível médio. Ao concluírem o curso, os alunos, além de uma formação sólida, recebem o diploma de habilitação profissional de técnico para o exercício da profissão. Saiba mais\n",
      "Presencial Cursos Técnicos Administração e Gestão\n",
      "TÉCNICO EM ADMINISTRAÇÃO\n",
      "O curso técnico de Administração tem por objetivo habilitar profissionais em realizar e...\n",
      "Carga horária: 1125 horas\n",
      "SAIBA MAIS\n",
      "VER UNIDADES\n",
      "\n",
      "Presencial Cursos Técnicos Design Gráfico, Papel, Celulose, Gráf...\n",
      "TÉCNICO EM CELULOSE E PAPEL\n",
      "O curso técnico de Celulose e Papel tem por objetivo habilitar profissionais em control...\n",
      "Carga horária: 1200 horas\n",
      "SAIBA MAIS\n",
      "VER UNIDADES\n",
      "\n",
      "Presencial Cursos Técnicos Mecatrônica, Sistemas de Automação, E...\n",
      "TÉCNICO EM ELETRÔNICA\n",
      "O Curso Técnico em Eletrônica tem por objetivo habilitar profissionais para desenvolver...\n",
      "Carga horária: 1200 horas\n",
      "SAIBA MAIS\n",
      "VER UNIDADES\n",
      "\n",
      "\n",
      "Presencial Cursos Técnicos Mecatrônica, Sistemas de Automação, E...\n",
      "TÉCNICO EM MECATRÔNICA\n",
      "O Curso Técnico de Mecatrônica tem por objetivo habilitar profissionais para implementa...\n",
      "Carga horária: 1200 horas\n",
      "SAIBA MAIS\n",
      "VER UNIDADES\n",
      "\n",
      "\n",
      "Presencial Cursos Técnicos Tecnologia da Informação e Informática\n",
      "TÉCNICO EM REDES DE COMPUTADORES\n",
      "O Curso Técnico em Redes de Computadores tem por objetivo habilitar profissionais para ...\n",
      "Carga horária: 1200 horas\n",
      "SAIBA MAIS\n",
      "VER UNIDADES\n",
      "\n",
      "\n",
      "Presencial Cursos Técnicos Alimentos e Bebidas\n",
      "TÉCNICO EM ALIMENTOS\n",
      "O Curso Técnico em Alimentos tem por objetivo habilitar profissionais para coordenar a ...\n",
      "Carga horária: 1200 horas\n",
      "SAIBA MAIS\n",
      "VER UNIDADES\n",
      "\n",
      "Presencial Cursos Técnicos Fabricação Mecânica e Manutenção Indu...\n",
      "TÉCNICO EM ELETROMECÂNICA\n",
      "O curso Técnico em Eletromecânica tem por objetivo habilitar profissionais no planejame...\n",
      "Carga horária: 1200 horas\n",
      "SAIBA MAIS\n",
      "VER UNIDADES\n",
      "\n",
      "Presencial Cursos Técnicos Fabricação Mecânica e Manutenção Indu...\n",
      "TÉCNICO EM FABRICAÇÃO MECÂNICA\n",
      "O curso Técnico em Fabricação Mecânica tem por objetivo habilitar profissionais para at...\n",
      "Carga horária: 1200 horas\n",
      "SAIBA MAIS\n",
      "VER UNIDADES\n",
      "\n",
      "Presencial Cursos Técnicos Química, Cerâmica e Plásticos\n",
      "TÉCNICO EM QUÍMICA\n",
      "O curso Técnico de Química tem por objetivo habilitar profissionais em executar ativida...\n",
      "Carga horária: 1200 horas\n",
      "SAIBA MAIS\n",
      "VER UNIDADES\n",
      "\n",
      "Presencial Cursos Técnicos Refrigeração e Climatização\n",
      "TÉCNICO EM REFRIGERAÇÃO E CLIMATIZAÇÃO\n",
      "O curso técnico de Refrigeração e Climatização tem por objetivo habilitar profissionais...\n",
      "Carga horária: 1200 horas\n",
      "SAIBA MAIS\n",
      "VER UNIDADES\n",
      "\n",
      "\n",
      "\n",
      "\n",
      "\n",
      "\n",
      "\n",
      "\n",
      "\n",
      "\n",
      "\n",
      "\n",
      "\n",
      "\n",
      "1 a 10 de 13\n",
      "1\n",
      "2\n",
      "Próximo\n"
     ]
    }
   ],
   "source": [
    "from selenium import webdriver\n",
    "from selenium.webdriver.common.by import By\n",
    "\n",
    "driver = webdriver.Chrome()\n",
    "driver.get('https://www.sp.senai.br/cursos/cursos-tecnicos/0?modalidade=1&gratuito=1')\n",
    "\n",
    "result = driver.find_element(By.XPATH, '//*[@id=\"card-cursos\"]').text\n",
    "\n",
    "print(result)"
   ]
  },
  {
   "cell_type": "code",
   "execution_count": 2,
   "metadata": {},
   "outputs": [
    {
     "ename": "NoSuchElementException",
     "evalue": "Message: no such element: Unable to locate element: {\"method\":\"css selector\",\"selector\":\"[name=\"btnk\"]\"}\n  (Session info: chrome=119.0.6045.200); For documentation on this error, please visit: https://www.selenium.dev/documentation/webdriver/troubleshooting/errors#no-such-element-exception\nStacktrace:\n\tGetHandleVerifier [0x00007FF75B9482B2+55298]\n\t(No symbol) [0x00007FF75B8B5E02]\n\t(No symbol) [0x00007FF75B7705AB]\n\t(No symbol) [0x00007FF75B7B175C]\n\t(No symbol) [0x00007FF75B7B18DC]\n\t(No symbol) [0x00007FF75B7ECBC7]\n\t(No symbol) [0x00007FF75B7D20EF]\n\t(No symbol) [0x00007FF75B7EAAA4]\n\t(No symbol) [0x00007FF75B7D1E83]\n\t(No symbol) [0x00007FF75B7A670A]\n\t(No symbol) [0x00007FF75B7A7964]\n\tGetHandleVerifier [0x00007FF75BCC0AAB+3694587]\n\tGetHandleVerifier [0x00007FF75BD1728E+4048862]\n\tGetHandleVerifier [0x00007FF75BD0F173+4015811]\n\tGetHandleVerifier [0x00007FF75B9E47D6+695590]\n\t(No symbol) [0x00007FF75B8C0CE8]\n\t(No symbol) [0x00007FF75B8BCF34]\n\t(No symbol) [0x00007FF75B8BD062]\n\t(No symbol) [0x00007FF75B8AD3A3]\n\tBaseThreadInitThunk [0x00007FFC061C7344+20]\n\tRtlUserThreadStart [0x00007FFC076A26B1+33]\n",
     "output_type": "error",
     "traceback": [
      "\u001b[1;31m---------------------------------------------------------------------------\u001b[0m",
      "\u001b[1;31mNoSuchElementException\u001b[0m                    Traceback (most recent call last)",
      "\u001b[1;32m~\\AppData\\Local\\Temp\\ipykernel_8004\\1277126003.py\u001b[0m in \u001b[0;36m<module>\u001b[1;34m\u001b[0m\n\u001b[0;32m      9\u001b[0m \u001b[1;33m\u001b[0m\u001b[0m\n\u001b[0;32m     10\u001b[0m \u001b[1;33m\u001b[0m\u001b[0m\n\u001b[1;32m---> 11\u001b[1;33m \u001b[0mresult\u001b[0m \u001b[1;33m=\u001b[0m \u001b[0mnav\u001b[0m\u001b[1;33m.\u001b[0m\u001b[0mfind_element\u001b[0m\u001b[1;33m(\u001b[0m\u001b[0mBy\u001b[0m\u001b[1;33m.\u001b[0m\u001b[0mNAME\u001b[0m\u001b[1;33m,\u001b[0m \u001b[1;34m'btnk'\u001b[0m\u001b[1;33m)\u001b[0m\u001b[1;33m.\u001b[0m\u001b[0mclick\u001b[0m\u001b[1;33m(\u001b[0m\u001b[1;33m)\u001b[0m\u001b[1;33m\u001b[0m\u001b[1;33m\u001b[0m\u001b[0m\n\u001b[0m\u001b[0;32m     12\u001b[0m \u001b[0mprint\u001b[0m\u001b[1;33m(\u001b[0m\u001b[0mresult\u001b[0m\u001b[1;33m)\u001b[0m\u001b[1;33m\u001b[0m\u001b[1;33m\u001b[0m\u001b[0m\n",
      "\u001b[1;32m~\\AppData\\Roaming\\Python\\Python37\\site-packages\\selenium\\webdriver\\remote\\webdriver.py\u001b[0m in \u001b[0;36mfind_element\u001b[1;34m(self, by, value)\u001b[0m\n\u001b[0;32m    737\u001b[0m             \u001b[0mvalue\u001b[0m \u001b[1;33m=\u001b[0m \u001b[1;34mf'[name=\"{value}\"]'\u001b[0m\u001b[1;33m\u001b[0m\u001b[1;33m\u001b[0m\u001b[0m\n\u001b[0;32m    738\u001b[0m \u001b[1;33m\u001b[0m\u001b[0m\n\u001b[1;32m--> 739\u001b[1;33m         \u001b[1;32mreturn\u001b[0m \u001b[0mself\u001b[0m\u001b[1;33m.\u001b[0m\u001b[0mexecute\u001b[0m\u001b[1;33m(\u001b[0m\u001b[0mCommand\u001b[0m\u001b[1;33m.\u001b[0m\u001b[0mFIND_ELEMENT\u001b[0m\u001b[1;33m,\u001b[0m \u001b[1;33m{\u001b[0m\u001b[1;34m\"using\"\u001b[0m\u001b[1;33m:\u001b[0m \u001b[0mby\u001b[0m\u001b[1;33m,\u001b[0m \u001b[1;34m\"value\"\u001b[0m\u001b[1;33m:\u001b[0m \u001b[0mvalue\u001b[0m\u001b[1;33m}\u001b[0m\u001b[1;33m)\u001b[0m\u001b[1;33m[\u001b[0m\u001b[1;34m\"value\"\u001b[0m\u001b[1;33m]\u001b[0m\u001b[1;33m\u001b[0m\u001b[1;33m\u001b[0m\u001b[0m\n\u001b[0m\u001b[0;32m    740\u001b[0m \u001b[1;33m\u001b[0m\u001b[0m\n\u001b[0;32m    741\u001b[0m     \u001b[1;32mdef\u001b[0m \u001b[0mfind_elements\u001b[0m\u001b[1;33m(\u001b[0m\u001b[0mself\u001b[0m\u001b[1;33m,\u001b[0m \u001b[0mby\u001b[0m\u001b[1;33m=\u001b[0m\u001b[0mBy\u001b[0m\u001b[1;33m.\u001b[0m\u001b[0mID\u001b[0m\u001b[1;33m,\u001b[0m \u001b[0mvalue\u001b[0m\u001b[1;33m:\u001b[0m \u001b[0mOptional\u001b[0m\u001b[1;33m[\u001b[0m\u001b[0mstr\u001b[0m\u001b[1;33m]\u001b[0m \u001b[1;33m=\u001b[0m \u001b[1;32mNone\u001b[0m\u001b[1;33m)\u001b[0m \u001b[1;33m->\u001b[0m \u001b[0mList\u001b[0m\u001b[1;33m[\u001b[0m\u001b[0mWebElement\u001b[0m\u001b[1;33m]\u001b[0m\u001b[1;33m:\u001b[0m\u001b[1;33m\u001b[0m\u001b[1;33m\u001b[0m\u001b[0m\n",
      "\u001b[1;32m~\\AppData\\Roaming\\Python\\Python37\\site-packages\\selenium\\webdriver\\remote\\webdriver.py\u001b[0m in \u001b[0;36mexecute\u001b[1;34m(self, driver_command, params)\u001b[0m\n\u001b[0;32m    343\u001b[0m         \u001b[0mresponse\u001b[0m \u001b[1;33m=\u001b[0m \u001b[0mself\u001b[0m\u001b[1;33m.\u001b[0m\u001b[0mcommand_executor\u001b[0m\u001b[1;33m.\u001b[0m\u001b[0mexecute\u001b[0m\u001b[1;33m(\u001b[0m\u001b[0mdriver_command\u001b[0m\u001b[1;33m,\u001b[0m \u001b[0mparams\u001b[0m\u001b[1;33m)\u001b[0m\u001b[1;33m\u001b[0m\u001b[1;33m\u001b[0m\u001b[0m\n\u001b[0;32m    344\u001b[0m         \u001b[1;32mif\u001b[0m \u001b[0mresponse\u001b[0m\u001b[1;33m:\u001b[0m\u001b[1;33m\u001b[0m\u001b[1;33m\u001b[0m\u001b[0m\n\u001b[1;32m--> 345\u001b[1;33m             \u001b[0mself\u001b[0m\u001b[1;33m.\u001b[0m\u001b[0merror_handler\u001b[0m\u001b[1;33m.\u001b[0m\u001b[0mcheck_response\u001b[0m\u001b[1;33m(\u001b[0m\u001b[0mresponse\u001b[0m\u001b[1;33m)\u001b[0m\u001b[1;33m\u001b[0m\u001b[1;33m\u001b[0m\u001b[0m\n\u001b[0m\u001b[0;32m    346\u001b[0m             \u001b[0mresponse\u001b[0m\u001b[1;33m[\u001b[0m\u001b[1;34m\"value\"\u001b[0m\u001b[1;33m]\u001b[0m \u001b[1;33m=\u001b[0m \u001b[0mself\u001b[0m\u001b[1;33m.\u001b[0m\u001b[0m_unwrap_value\u001b[0m\u001b[1;33m(\u001b[0m\u001b[0mresponse\u001b[0m\u001b[1;33m.\u001b[0m\u001b[0mget\u001b[0m\u001b[1;33m(\u001b[0m\u001b[1;34m\"value\"\u001b[0m\u001b[1;33m,\u001b[0m \u001b[1;32mNone\u001b[0m\u001b[1;33m)\u001b[0m\u001b[1;33m)\u001b[0m\u001b[1;33m\u001b[0m\u001b[1;33m\u001b[0m\u001b[0m\n\u001b[0;32m    347\u001b[0m             \u001b[1;32mreturn\u001b[0m \u001b[0mresponse\u001b[0m\u001b[1;33m\u001b[0m\u001b[1;33m\u001b[0m\u001b[0m\n",
      "\u001b[1;32m~\\AppData\\Roaming\\Python\\Python37\\site-packages\\selenium\\webdriver\\remote\\errorhandler.py\u001b[0m in \u001b[0;36mcheck_response\u001b[1;34m(self, response)\u001b[0m\n\u001b[0;32m    227\u001b[0m                 \u001b[0malert_text\u001b[0m \u001b[1;33m=\u001b[0m \u001b[0mvalue\u001b[0m\u001b[1;33m[\u001b[0m\u001b[1;34m\"alert\"\u001b[0m\u001b[1;33m]\u001b[0m\u001b[1;33m.\u001b[0m\u001b[0mget\u001b[0m\u001b[1;33m(\u001b[0m\u001b[1;34m\"text\"\u001b[0m\u001b[1;33m)\u001b[0m\u001b[1;33m\u001b[0m\u001b[1;33m\u001b[0m\u001b[0m\n\u001b[0;32m    228\u001b[0m             \u001b[1;32mraise\u001b[0m \u001b[0mexception_class\u001b[0m\u001b[1;33m(\u001b[0m\u001b[0mmessage\u001b[0m\u001b[1;33m,\u001b[0m \u001b[0mscreen\u001b[0m\u001b[1;33m,\u001b[0m \u001b[0mstacktrace\u001b[0m\u001b[1;33m,\u001b[0m \u001b[0malert_text\u001b[0m\u001b[1;33m)\u001b[0m  \u001b[1;31m# type: ignore[call-arg]  # mypy is not smart enough here\u001b[0m\u001b[1;33m\u001b[0m\u001b[1;33m\u001b[0m\u001b[0m\n\u001b[1;32m--> 229\u001b[1;33m         \u001b[1;32mraise\u001b[0m \u001b[0mexception_class\u001b[0m\u001b[1;33m(\u001b[0m\u001b[0mmessage\u001b[0m\u001b[1;33m,\u001b[0m \u001b[0mscreen\u001b[0m\u001b[1;33m,\u001b[0m \u001b[0mstacktrace\u001b[0m\u001b[1;33m)\u001b[0m\u001b[1;33m\u001b[0m\u001b[1;33m\u001b[0m\u001b[0m\n\u001b[0m",
      "\u001b[1;31mNoSuchElementException\u001b[0m: Message: no such element: Unable to locate element: {\"method\":\"css selector\",\"selector\":\"[name=\"btnk\"]\"}\n  (Session info: chrome=119.0.6045.200); For documentation on this error, please visit: https://www.selenium.dev/documentation/webdriver/troubleshooting/errors#no-such-element-exception\nStacktrace:\n\tGetHandleVerifier [0x00007FF75B9482B2+55298]\n\t(No symbol) [0x00007FF75B8B5E02]\n\t(No symbol) [0x00007FF75B7705AB]\n\t(No symbol) [0x00007FF75B7B175C]\n\t(No symbol) [0x00007FF75B7B18DC]\n\t(No symbol) [0x00007FF75B7ECBC7]\n\t(No symbol) [0x00007FF75B7D20EF]\n\t(No symbol) [0x00007FF75B7EAAA4]\n\t(No symbol) [0x00007FF75B7D1E83]\n\t(No symbol) [0x00007FF75B7A670A]\n\t(No symbol) [0x00007FF75B7A7964]\n\tGetHandleVerifier [0x00007FF75BCC0AAB+3694587]\n\tGetHandleVerifier [0x00007FF75BD1728E+4048862]\n\tGetHandleVerifier [0x00007FF75BD0F173+4015811]\n\tGetHandleVerifier [0x00007FF75B9E47D6+695590]\n\t(No symbol) [0x00007FF75B8C0CE8]\n\t(No symbol) [0x00007FF75B8BCF34]\n\t(No symbol) [0x00007FF75B8BD062]\n\t(No symbol) [0x00007FF75B8AD3A3]\n\tBaseThreadInitThunk [0x00007FFC061C7344+20]\n\tRtlUserThreadStart [0x00007FFC076A26B1+33]\n"
     ]
    }
   ],
   "source": [
    "from selenium import webdriver\n",
    "from selenium.webdriver.common.by import By\n",
    "from selenium.webdriver.common.keys import Keys\n",
    "\n",
    "nav = webdriver.Chrome()\n",
    "nav.get('https://www.google.com/')\n",
    "\n",
    "nav.find_element(By.NAME, 'q').send_keys('tempo agora')\n",
    "\n",
    "\n",
    "result = nav.find_element(By.NAME, 'btnk').click()\n",
    "print(result)"
   ]
  },
  {
   "cell_type": "code",
   "execution_count": null,
   "metadata": {},
   "outputs": [],
   "source": [
    "from selenium import webdriver\n",
    "from selenium.webdriver.common.by import By\n",
    "from selenium.webdriver.common.keys import Keys\n",
    "\n",
    "nav = webdriver.Chrome()\n",
    "nav.get('https://www.google.com/')\n",
    "\n",
    "search_box = nav.find_element(By.NAME, 'q')\n",
    "search_box.send_keys('tempo agora')\n",
    "search_box.send_keys(Keys.RETURN)\n",
    "\n",
    "\n",
    "search_results = nav.find_elements(By.CSS_SELECTOR, 'div.g')\n",
    "\n",
    "\n",
    "for result in search_results:\n",
    "    print(result.text)\n",
    "\n",
    "\n",
    "nav.quit()"
   ]
  }
 ],
 "metadata": {
  "kernelspec": {
   "display_name": "Python 3",
   "language": "python",
   "name": "python3"
  },
  "language_info": {
   "codemirror_mode": {
    "name": "ipython",
    "version": 3
   },
   "file_extension": ".py",
   "mimetype": "text/x-python",
   "name": "python",
   "nbconvert_exporter": "python",
   "pygments_lexer": "ipython3",
   "version": "3.7.8"
  }
 },
 "nbformat": 4,
 "nbformat_minor": 2
}
