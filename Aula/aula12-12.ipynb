{
 "cells": [
  {
   "cell_type": "code",
   "execution_count": 40,
   "metadata": {},
   "outputs": [
    {
     "ename": "NoSuchWindowException",
     "evalue": "Message: no such window: target window already closed\nfrom unknown error: web view not found\n  (Session info: chrome=119.0.6045.200)\nStacktrace:\n\tGetHandleVerifier [0x00007FF75B9482B2+55298]\n\t(No symbol) [0x00007FF75B8B5E02]\n\t(No symbol) [0x00007FF75B7705AB]\n\t(No symbol) [0x00007FF75B750038]\n\t(No symbol) [0x00007FF75B7D6BC7]\n\t(No symbol) [0x00007FF75B7EA15F]\n\t(No symbol) [0x00007FF75B7D1E83]\n\t(No symbol) [0x00007FF75B7A670A]\n\t(No symbol) [0x00007FF75B7A7964]\n\tGetHandleVerifier [0x00007FF75BCC0AAB+3694587]\n\tGetHandleVerifier [0x00007FF75BD1728E+4048862]\n\tGetHandleVerifier [0x00007FF75BD0F173+4015811]\n\tGetHandleVerifier [0x00007FF75B9E47D6+695590]\n\t(No symbol) [0x00007FF75B8C0CE8]\n\t(No symbol) [0x00007FF75B8BCF34]\n\t(No symbol) [0x00007FF75B8BD062]\n\t(No symbol) [0x00007FF75B8AD3A3]\n\tBaseThreadInitThunk [0x00007FFC061C7344+20]\n\tRtlUserThreadStart [0x00007FFC076A26B1+33]\n",
     "output_type": "error",
     "traceback": [
      "\u001b[1;31m---------------------------------------------------------------------------\u001b[0m",
      "\u001b[1;31mNoSuchWindowException\u001b[0m                     Traceback (most recent call last)",
      "\u001b[1;32m~\\AppData\\Local\\Temp\\ipykernel_5872\\3671797922.py\u001b[0m in \u001b[0;36m<module>\u001b[1;34m\u001b[0m\n\u001b[0;32m      8\u001b[0m \u001b[0mtime\u001b[0m\u001b[1;33m.\u001b[0m\u001b[0msleep\u001b[0m\u001b[1;33m(\u001b[0m\u001b[1;36m1\u001b[0m\u001b[1;33m)\u001b[0m\u001b[1;33m\u001b[0m\u001b[1;33m\u001b[0m\u001b[0m\n\u001b[0;32m      9\u001b[0m \u001b[0muser\u001b[0m \u001b[1;33m=\u001b[0m \u001b[0mnav\u001b[0m\u001b[1;33m.\u001b[0m\u001b[0mfind_element\u001b[0m\u001b[1;33m(\u001b[0m\u001b[0mBy\u001b[0m\u001b[1;33m.\u001b[0m\u001b[0mID\u001b[0m\u001b[1;33m,\u001b[0m \u001b[1;34m'email'\u001b[0m\u001b[1;33m)\u001b[0m\u001b[1;33m\u001b[0m\u001b[1;33m\u001b[0m\u001b[0m\n\u001b[1;32m---> 10\u001b[1;33m \u001b[0muser\u001b[0m\u001b[1;33m.\u001b[0m\u001b[0msend_keys\u001b[0m\u001b[1;33m(\u001b[0m\u001b[1;34m'oscar@gmail.com'\u001b[0m\u001b[1;33m)\u001b[0m\u001b[1;33m\u001b[0m\u001b[1;33m\u001b[0m\u001b[0m\n\u001b[0m\u001b[0;32m     11\u001b[0m \u001b[0msenha\u001b[0m \u001b[1;33m=\u001b[0m \u001b[0mnav\u001b[0m\u001b[1;33m.\u001b[0m\u001b[0mfind_element\u001b[0m\u001b[1;33m(\u001b[0m\u001b[0mBy\u001b[0m\u001b[1;33m.\u001b[0m\u001b[0mID\u001b[0m\u001b[1;33m,\u001b[0m \u001b[1;34m'senha_id'\u001b[0m\u001b[1;33m)\u001b[0m\u001b[1;33m\u001b[0m\u001b[1;33m\u001b[0m\u001b[0m\n\u001b[0;32m     12\u001b[0m \u001b[0msenha\u001b[0m\u001b[1;33m.\u001b[0m\u001b[0msend_keys\u001b[0m\u001b[1;33m(\u001b[0m\u001b[1;34m'1234'\u001b[0m\u001b[1;33m)\u001b[0m\u001b[1;33m\u001b[0m\u001b[1;33m\u001b[0m\u001b[0m\n",
      "\u001b[1;32m~\\AppData\\Roaming\\Python\\Python37\\site-packages\\selenium\\webdriver\\remote\\webelement.py\u001b[0m in \u001b[0;36msend_keys\u001b[1;34m(self, *value)\u001b[0m\n\u001b[0;32m    230\u001b[0m \u001b[1;33m\u001b[0m\u001b[0m\n\u001b[0;32m    231\u001b[0m         self._execute(\n\u001b[1;32m--> 232\u001b[1;33m             \u001b[0mCommand\u001b[0m\u001b[1;33m.\u001b[0m\u001b[0mSEND_KEYS_TO_ELEMENT\u001b[0m\u001b[1;33m,\u001b[0m \u001b[1;33m{\u001b[0m\u001b[1;34m\"text\"\u001b[0m\u001b[1;33m:\u001b[0m \u001b[1;34m\"\"\u001b[0m\u001b[1;33m.\u001b[0m\u001b[0mjoin\u001b[0m\u001b[1;33m(\u001b[0m\u001b[0mkeys_to_typing\u001b[0m\u001b[1;33m(\u001b[0m\u001b[0mvalue\u001b[0m\u001b[1;33m)\u001b[0m\u001b[1;33m)\u001b[0m\u001b[1;33m,\u001b[0m \u001b[1;34m\"value\"\u001b[0m\u001b[1;33m:\u001b[0m \u001b[0mkeys_to_typing\u001b[0m\u001b[1;33m(\u001b[0m\u001b[0mvalue\u001b[0m\u001b[1;33m)\u001b[0m\u001b[1;33m}\u001b[0m\u001b[1;33m\u001b[0m\u001b[1;33m\u001b[0m\u001b[0m\n\u001b[0m\u001b[0;32m    233\u001b[0m         )\n\u001b[0;32m    234\u001b[0m \u001b[1;33m\u001b[0m\u001b[0m\n",
      "\u001b[1;32m~\\AppData\\Roaming\\Python\\Python37\\site-packages\\selenium\\webdriver\\remote\\webelement.py\u001b[0m in \u001b[0;36m_execute\u001b[1;34m(self, command, params)\u001b[0m\n\u001b[0;32m    393\u001b[0m             \u001b[0mparams\u001b[0m \u001b[1;33m=\u001b[0m \u001b[1;33m{\u001b[0m\u001b[1;33m}\u001b[0m\u001b[1;33m\u001b[0m\u001b[1;33m\u001b[0m\u001b[0m\n\u001b[0;32m    394\u001b[0m         \u001b[0mparams\u001b[0m\u001b[1;33m[\u001b[0m\u001b[1;34m\"id\"\u001b[0m\u001b[1;33m]\u001b[0m \u001b[1;33m=\u001b[0m \u001b[0mself\u001b[0m\u001b[1;33m.\u001b[0m\u001b[0m_id\u001b[0m\u001b[1;33m\u001b[0m\u001b[1;33m\u001b[0m\u001b[0m\n\u001b[1;32m--> 395\u001b[1;33m         \u001b[1;32mreturn\u001b[0m \u001b[0mself\u001b[0m\u001b[1;33m.\u001b[0m\u001b[0m_parent\u001b[0m\u001b[1;33m.\u001b[0m\u001b[0mexecute\u001b[0m\u001b[1;33m(\u001b[0m\u001b[0mcommand\u001b[0m\u001b[1;33m,\u001b[0m \u001b[0mparams\u001b[0m\u001b[1;33m)\u001b[0m\u001b[1;33m\u001b[0m\u001b[1;33m\u001b[0m\u001b[0m\n\u001b[0m\u001b[0;32m    396\u001b[0m \u001b[1;33m\u001b[0m\u001b[0m\n\u001b[0;32m    397\u001b[0m     \u001b[1;32mdef\u001b[0m \u001b[0mfind_element\u001b[0m\u001b[1;33m(\u001b[0m\u001b[0mself\u001b[0m\u001b[1;33m,\u001b[0m \u001b[0mby\u001b[0m\u001b[1;33m=\u001b[0m\u001b[0mBy\u001b[0m\u001b[1;33m.\u001b[0m\u001b[0mID\u001b[0m\u001b[1;33m,\u001b[0m \u001b[0mvalue\u001b[0m\u001b[1;33m=\u001b[0m\u001b[1;32mNone\u001b[0m\u001b[1;33m)\u001b[0m \u001b[1;33m->\u001b[0m \u001b[0mWebElement\u001b[0m\u001b[1;33m:\u001b[0m\u001b[1;33m\u001b[0m\u001b[1;33m\u001b[0m\u001b[0m\n",
      "\u001b[1;32m~\\AppData\\Roaming\\Python\\Python37\\site-packages\\selenium\\webdriver\\remote\\webdriver.py\u001b[0m in \u001b[0;36mexecute\u001b[1;34m(self, driver_command, params)\u001b[0m\n\u001b[0;32m    343\u001b[0m         \u001b[0mresponse\u001b[0m \u001b[1;33m=\u001b[0m \u001b[0mself\u001b[0m\u001b[1;33m.\u001b[0m\u001b[0mcommand_executor\u001b[0m\u001b[1;33m.\u001b[0m\u001b[0mexecute\u001b[0m\u001b[1;33m(\u001b[0m\u001b[0mdriver_command\u001b[0m\u001b[1;33m,\u001b[0m \u001b[0mparams\u001b[0m\u001b[1;33m)\u001b[0m\u001b[1;33m\u001b[0m\u001b[1;33m\u001b[0m\u001b[0m\n\u001b[0;32m    344\u001b[0m         \u001b[1;32mif\u001b[0m \u001b[0mresponse\u001b[0m\u001b[1;33m:\u001b[0m\u001b[1;33m\u001b[0m\u001b[1;33m\u001b[0m\u001b[0m\n\u001b[1;32m--> 345\u001b[1;33m             \u001b[0mself\u001b[0m\u001b[1;33m.\u001b[0m\u001b[0merror_handler\u001b[0m\u001b[1;33m.\u001b[0m\u001b[0mcheck_response\u001b[0m\u001b[1;33m(\u001b[0m\u001b[0mresponse\u001b[0m\u001b[1;33m)\u001b[0m\u001b[1;33m\u001b[0m\u001b[1;33m\u001b[0m\u001b[0m\n\u001b[0m\u001b[0;32m    346\u001b[0m             \u001b[0mresponse\u001b[0m\u001b[1;33m[\u001b[0m\u001b[1;34m\"value\"\u001b[0m\u001b[1;33m]\u001b[0m \u001b[1;33m=\u001b[0m \u001b[0mself\u001b[0m\u001b[1;33m.\u001b[0m\u001b[0m_unwrap_value\u001b[0m\u001b[1;33m(\u001b[0m\u001b[0mresponse\u001b[0m\u001b[1;33m.\u001b[0m\u001b[0mget\u001b[0m\u001b[1;33m(\u001b[0m\u001b[1;34m\"value\"\u001b[0m\u001b[1;33m,\u001b[0m \u001b[1;32mNone\u001b[0m\u001b[1;33m)\u001b[0m\u001b[1;33m)\u001b[0m\u001b[1;33m\u001b[0m\u001b[1;33m\u001b[0m\u001b[0m\n\u001b[0;32m    347\u001b[0m             \u001b[1;32mreturn\u001b[0m \u001b[0mresponse\u001b[0m\u001b[1;33m\u001b[0m\u001b[1;33m\u001b[0m\u001b[0m\n",
      "\u001b[1;32m~\\AppData\\Roaming\\Python\\Python37\\site-packages\\selenium\\webdriver\\remote\\errorhandler.py\u001b[0m in \u001b[0;36mcheck_response\u001b[1;34m(self, response)\u001b[0m\n\u001b[0;32m    227\u001b[0m                 \u001b[0malert_text\u001b[0m \u001b[1;33m=\u001b[0m \u001b[0mvalue\u001b[0m\u001b[1;33m[\u001b[0m\u001b[1;34m\"alert\"\u001b[0m\u001b[1;33m]\u001b[0m\u001b[1;33m.\u001b[0m\u001b[0mget\u001b[0m\u001b[1;33m(\u001b[0m\u001b[1;34m\"text\"\u001b[0m\u001b[1;33m)\u001b[0m\u001b[1;33m\u001b[0m\u001b[1;33m\u001b[0m\u001b[0m\n\u001b[0;32m    228\u001b[0m             \u001b[1;32mraise\u001b[0m \u001b[0mexception_class\u001b[0m\u001b[1;33m(\u001b[0m\u001b[0mmessage\u001b[0m\u001b[1;33m,\u001b[0m \u001b[0mscreen\u001b[0m\u001b[1;33m,\u001b[0m \u001b[0mstacktrace\u001b[0m\u001b[1;33m,\u001b[0m \u001b[0malert_text\u001b[0m\u001b[1;33m)\u001b[0m  \u001b[1;31m# type: ignore[call-arg]  # mypy is not smart enough here\u001b[0m\u001b[1;33m\u001b[0m\u001b[1;33m\u001b[0m\u001b[0m\n\u001b[1;32m--> 229\u001b[1;33m         \u001b[1;32mraise\u001b[0m \u001b[0mexception_class\u001b[0m\u001b[1;33m(\u001b[0m\u001b[0mmessage\u001b[0m\u001b[1;33m,\u001b[0m \u001b[0mscreen\u001b[0m\u001b[1;33m,\u001b[0m \u001b[0mstacktrace\u001b[0m\u001b[1;33m)\u001b[0m\u001b[1;33m\u001b[0m\u001b[1;33m\u001b[0m\u001b[0m\n\u001b[0m",
      "\u001b[1;31mNoSuchWindowException\u001b[0m: Message: no such window: target window already closed\nfrom unknown error: web view not found\n  (Session info: chrome=119.0.6045.200)\nStacktrace:\n\tGetHandleVerifier [0x00007FF75B9482B2+55298]\n\t(No symbol) [0x00007FF75B8B5E02]\n\t(No symbol) [0x00007FF75B7705AB]\n\t(No symbol) [0x00007FF75B750038]\n\t(No symbol) [0x00007FF75B7D6BC7]\n\t(No symbol) [0x00007FF75B7EA15F]\n\t(No symbol) [0x00007FF75B7D1E83]\n\t(No symbol) [0x00007FF75B7A670A]\n\t(No symbol) [0x00007FF75B7A7964]\n\tGetHandleVerifier [0x00007FF75BCC0AAB+3694587]\n\tGetHandleVerifier [0x00007FF75BD1728E+4048862]\n\tGetHandleVerifier [0x00007FF75BD0F173+4015811]\n\tGetHandleVerifier [0x00007FF75B9E47D6+695590]\n\t(No symbol) [0x00007FF75B8C0CE8]\n\t(No symbol) [0x00007FF75B8BCF34]\n\t(No symbol) [0x00007FF75B8BD062]\n\t(No symbol) [0x00007FF75B8AD3A3]\n\tBaseThreadInitThunk [0x00007FFC061C7344+20]\n\tRtlUserThreadStart [0x00007FFC076A26B1+33]\n"
     ]
    }
   ],
   "source": [
    "from selenium import webdriver\n",
    "from selenium.webdriver.common.by import By\n",
    "from selenium.webdriver.common.keys import Keys\n",
    "import time\n",
    "\n",
    "nav = webdriver.Chrome()\n",
    "nav.get('https://professoroscarjr.000webhostapp.com/delivery/index.php')\n",
    "time.sleep(1)\n",
    "user = nav.find_element(By.ID, 'email')\n",
    "user.send_keys('oscar@gmail.com')\n",
    "senha = nav.find_element(By.ID, 'senha_id')\n",
    "senha.send_keys('1234')\n",
    "time.sleep(1)\n",
    "senha = nav.find_element(By.NAME, 'entrar').click()\n",
    "\n",
    "time.sleep(10)\n"
   ]
  },
  {
   "cell_type": "code",
   "execution_count": 28,
   "metadata": {},
   "outputs": [],
   "source": [
    "from selenium import webdriver\n",
    "from selenium.webdriver.common.by import By\n",
    "from selenium.webdriver.common.keys import Keys\n",
    "import time\n",
    "\n",
    "nav = webdriver.Chrome()\n",
    "nav.get('https://pt-br.facebook.com/')\n",
    "time.sleep(1)\n",
    "user = nav.find_element(By.ID, 'email')\n",
    "user.send_keys('carlosvfvvalentim@gmail.com')\n",
    "senha = nav.find_element(By.ID, 'pass')\n",
    "senha.send_keys('712156carlos')\n",
    "time.sleep(1)\n",
    "senha = nav.find_element(By.NAME, 'login').click()\n",
    "\n",
    "time.sleep(10)"
   ]
  },
  {
   "cell_type": "code",
   "execution_count": 39,
   "metadata": {},
   "outputs": [],
   "source": [
    "from selenium import webdriver\n",
    "from selenium.webdriver.common.by import By\n",
    "from selenium.webdriver.common.keys import Keys\n",
    "import time\n",
    "\n",
    "nav = webdriver.Chrome()\n",
    "nav.get('https://login.sesisenaispedu.org.br/adfs/ls/?client-request-id=217c9dfb-323c-8aad-d7d5-4a9f66f4f4a3&username=&wa=wsignin1.0&wtrealm=urn%3afederation%3aMicrosoftOnline&wctx=estsredirect%3d2%26estsrequest%3drQQIARAAjZFPaNNQAMbzmi52c2oZCB41eNpI8_K3adFDZ7Ou3dp1s-qsSElfkzb9kxfzknZu7i6isPNgCMouA0HEw9hJBC877SLCDuKxCMLQIQNRbPHicd_h43f74PdN0kJMSF6F_yJyw-agZQkcMof0X7yJseivrUdXromvnnz6mHtuHR-_3AQXiUlsYjqGTVyzFsSwV49VvR3ANnzfJUmex4HfxrgVw5ZlI1NSlRjCHR73DH4XgAMA-gDshOKqpEkahJIsK0JCE-NKIiaLQlxNII2TFFTlZKsqcJoBE5ykIQtKEMmqLB-GLiykAr8hDgt79qr5PTRqYa9TcTHxN-kNkEb-dJpk67o-vQTng7tBNrXgLGYyS2ahXJ_JpWEbp28ZWteu1KTlHm54pNBupVN2Vy9kplsp2-jNF6V6uUAqelCeKWMkzMGckZcX2-msubigl7JKttlFnFPV5OLtBzkuPgthh3Q9oRkP1J5lVQ2nFEjichk1hS4s7tCnkv2GZgaaOtjZpxnsmo5dOwiDL2HwNTwO6WQkMhalLlGXqZMweDEy-CU0t_XsaPd94W1-qv_59wdqf4TP2IqccsU7vupXb85Ilsjn9dWHyzU3O9V0e7rQavD5-RXdLJXgdSUpbDBgg2H2mNEIHaVY-kZR6DPgiAGPz1B7o6c48-AsOByXxxjUNuwOmZhcY-1axcct02GTa-xKh1QQGlLXaAcmYZP32MEEe399ff3dOerk_I-f20-3-3--zb6OUn8B0#')\n",
    "time.sleep(1)\n",
    "user = nav.find_element(By.ID, 'userNameInput')\n",
    "user.send_keys('carlos.valentim2@senaisp.edu.br')\n",
    "senha = nav.find_element(By.ID, 'passwordInput')\n",
    "senha.send_keys('712156Ca')\n",
    "time.sleep(1)\n",
    "senha = nav.find_element(By.ID, 'submitButton').click()\n",
    "\n",
    "time.sleep(10)"
   ]
  },
  {
   "cell_type": "markdown",
   "metadata": {},
   "source": [
    "cadastrar e logar pelo bot\n"
   ]
  },
  {
   "cell_type": "code",
   "execution_count": 2,
   "metadata": {},
   "outputs": [],
   "source": [
    "from selenium import webdriver\n",
    "from selenium.webdriver.common.by import By\n",
    "from selenium.webdriver.common.keys import Keys\n",
    "import time\n",
    "\n",
    "nav = webdriver.Chrome()\n",
    "nav.get('https://professoroscarjr.000webhostapp.com/delivery/index.php')\n",
    "time.sleep(1)\n",
    "\n",
    "cadastrar = nav.find_element(By.XPATH, '/html/body/div[1]/form/div/input').click()\n",
    "time.sleep(1)\n",
    "\n",
    "nome = nav.find_element(By.ID, 'fnome')\n",
    "nome.send_keys('PP')\n",
    "time.sleep(1)\n",
    "\n",
    "email = nav.find_element(By.ID, 'email_id')\n",
    "email.send_keys('pp@gmail.com')\n",
    "time.sleep(1)\n",
    "\n",
    "senha1 = nav.find_element(By.NAME, 'pass')\n",
    "senha1.send_keys('712156')\n",
    "time.sleep(1)\n",
    "\n",
    "senha2 = nav.find_element(By.NAME, 'pass2')\n",
    "senha2.send_keys('712156')\n",
    "time.sleep(1)\n",
    "\n",
    "local = nav.find_element(By.ID, 'country')\n",
    "local.send_keys('USA')\n",
    "time.sleep(1)\n",
    "\n",
    "bcadastrar = nav.find_element(By.XPATH, '/html/body/div[1]/form/input[5]').click()\n",
    "time.sleep(1)\n",
    "\n",
    "user = nav.find_element(By.ID, 'email')\n",
    "user.send_keys('PP')\n",
    "senha = nav.find_element(By.ID, 'senha_id')\n",
    "senha.send_keys('712156')\n",
    "time.sleep(1)\n",
    "senha = nav.find_element(By.NAME, 'entrar').click()\n",
    "\n",
    "time.sleep(10)\n",
    "\n"
   ]
  },
  {
   "cell_type": "markdown",
   "metadata": {},
   "source": [
    "extra"
   ]
  },
  {
   "cell_type": "code",
   "execution_count": 4,
   "metadata": {},
   "outputs": [],
   "source": [
    "from selenium import webdriver\n",
    "from selenium.webdriver.common.by import By\n",
    "from selenium.webdriver.common.keys import Keys\n",
    "import time\n",
    "\n",
    "nav = webdriver.Chrome()\n",
    "nav.get('https://www.google.com/')\n",
    "time.sleep(1)\n",
    "\n",
    "contag = nav.find_element(By.XPATH, '//*[@id=\"gb\"]/div/div[2]/a/span').click()\n",
    "time.sleep(1)\n",
    "\n",
    "user = nav.find_element(By.XPATH, '//*[@id=\"identifierId\"]')\n",
    "user.send_keys('carlosviniciusfvvalentim@gmail.com')\n",
    "time.sleep(1)\n",
    "\n",
    "contag = nav.find_element(By.XPATH, '//*[@id=\"identifierNext\"]/div/button/span').click()\n",
    "time.sleep(1)"
   ]
  }
 ],
 "metadata": {
  "kernelspec": {
   "display_name": "Python 3",
   "language": "python",
   "name": "python3"
  },
  "language_info": {
   "codemirror_mode": {
    "name": "ipython",
    "version": 3
   },
   "file_extension": ".py",
   "mimetype": "text/x-python",
   "name": "python",
   "nbconvert_exporter": "python",
   "pygments_lexer": "ipython3",
   "version": "3.12.0"
  }
 },
 "nbformat": 4,
 "nbformat_minor": 2
}
