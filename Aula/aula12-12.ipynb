{
 "cells": [
  {
   "cell_type": "code",
   "execution_count": null,
   "metadata": {},
   "outputs": [],
   "source": [
    "from selenium import webdriver\n",
    "from selenium.webdriver.common.by import By\n",
    "from selenium.webdriver.common.keys import Keys\n",
    "import time\n",
    "\n",
    "nav = webdriver.Chrome()\n",
    "nav.get('https://professoroscarjr.000webhostapp.com/delivery/index.php')\n",
    "time.sleep(1)\n",
    "user = nav.find_element(By.ID, 'email')\n",
    "user.send_keys('oscar@gmail.com')\n",
    "senha = nav.find_element(By.ID, 'senha_id')\n",
    "senha.send_keys('1234')\n",
    "time.sleep(1)\n",
    "senha = nav.find_element(By.NAME, 'entrar').click()\n",
    "\n",
    "time.sleep(10)\n"
   ]
  },
  {
   "cell_type": "code",
   "execution_count": 28,
   "metadata": {},
   "outputs": [],
   "source": [
    "from selenium import webdriver\n",
    "from selenium.webdriver.common.by import By\n",
    "from selenium.webdriver.common.keys import Keys\n",
    "import time\n",
    "\n",
    "nav = webdriver.Chrome()\n",
    "nav.get('https://pt-br.facebook.com/')\n",
    "time.sleep(1)\n",
    "user = nav.find_element(By.ID, 'email')\n",
    "user.send_keys('carlosvfvvalentim@gmail.com')\n",
    "senha = nav.find_element(By.ID, 'pass')\n",
    "senha.send_keys('712156carlos')\n",
    "time.sleep(1)\n",
    "senha = nav.find_element(By.NAME, 'login').click()\n",
    "\n",
    "time.sleep(10)"
   ]
  },
  {
   "cell_type": "code",
   "execution_count": 38,
   "metadata": {},
   "outputs": [],
   "source": [
    "from selenium import webdriver\n",
    "from selenium.webdriver.common.by import By\n",
    "from selenium.webdriver.common.keys import Keys\n",
    "import time\n",
    "\n",
    "nav = webdriver.Chrome()\n",
    "nav.get('https://login.sesisenaispedu.org.br/adfs/ls/?client-request-id=217c9dfb-323c-8aad-d7d5-4a9f66f4f4a3&username=&wa=wsignin1.0&wtrealm=urn%3afederation%3aMicrosoftOnline&wctx=estsredirect%3d2%26estsrequest%3drQQIARAAjZFPaNNQAMbzmi52c2oZCB41eNpI8_K3adFDZ7Ou3dp1s-qsSElfkzb9kxfzknZu7i6isPNgCMouA0HEw9hJBC877SLCDuKxCMLQIQNRbPHicd_h43f74PdN0kJMSF6F_yJyw-agZQkcMof0X7yJseivrUdXromvnnz6mHtuHR-_3AQXiUlsYjqGTVyzFsSwV49VvR3ANnzfJUmex4HfxrgVw5ZlI1NSlRjCHR73DH4XgAMA-gDshOKqpEkahJIsK0JCE-NKIiaLQlxNII2TFFTlZKsqcJoBE5ykIQtKEMmqLB-GLiykAr8hDgt79qr5PTRqYa9TcTHxN-kNkEb-dJpk67o-vQTng7tBNrXgLGYyS2ahXJ_JpWEbp28ZWteu1KTlHm54pNBupVN2Vy9kplsp2-jNF6V6uUAqelCeKWMkzMGckZcX2-msubigl7JKttlFnFPV5OLtBzkuPgthh3Q9oRkP1J5lVQ2nFEjichk1hS4s7tCnkv2GZgaaOtjZpxnsmo5dOwiDL2HwNTwO6WQkMhalLlGXqZMweDEy-CU0t_XsaPd94W1-qv_59wdqf4TP2IqccsU7vupXb85Ilsjn9dWHyzU3O9V0e7rQavD5-RXdLJXgdSUpbDBgg2H2mNEIHaVY-kZR6DPgiAGPz1B7o6c48-AsOByXxxjUNuwOmZhcY-1axcct02GTa-xKh1QQGlLXaAcmYZP32MEEe399ff3dOerk_I-f20-3-3--zb6OUn8B0#')\n",
    "time.sleep(1)\n",
    "user = nav.find_element(By.ID, 'userNameInput')\n",
    "user.send_keys('carlos.valentim2@senaisp.edu.br')\n",
    "senha = nav.find_element(By.ID, 'passwordInput')\n",
    "senha.send_keys('712156Ca')\n",
    "time.sleep(1)\n",
    "senha = nav.find_element(By.ID, 'submitButton').click()\n",
    "\n",
    "time.sleep(10)"
   ]
  }
 ],
 "metadata": {
  "kernelspec": {
   "display_name": "Python 3",
   "language": "python",
   "name": "python3"
  },
  "language_info": {
   "codemirror_mode": {
    "name": "ipython",
    "version": 3
   },
   "file_extension": ".py",
   "mimetype": "text/x-python",
   "name": "python",
   "nbconvert_exporter": "python",
   "pygments_lexer": "ipython3",
   "version": "3.7.8"
  }
 },
 "nbformat": 4,
 "nbformat_minor": 2
}
