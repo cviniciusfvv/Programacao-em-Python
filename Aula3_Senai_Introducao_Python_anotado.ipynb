{
  "nbformat": 4,
  "nbformat_minor": 0,
  "metadata": {
    "colab": {
      "provenance": []
    },
    "kernelspec": {
      "name": "python3",
      "display_name": "Python 3"
    },
    "language_info": {
      "name": "python"
    }
  },
  "cells": [
    {
      "cell_type": "markdown",
      "source": [
        "# Aula 3: Introdução à Linguagem de Programação Python\n",
        "Bem vindo ao Google Colaboratory!\n",
        "Nós iremos utilizar essa plataforma para fazer nossas atividades com o Python. Vamos fazer alguns testes?"
      ],
      "metadata": {
        "id": "Xt2qGKLLUHkI"
      }
    },
    {
      "cell_type": "markdown",
      "source": [
        "# **MATCH** CASE em PYTHON"
      ],
      "metadata": {
        "id": "gBRRvc22SeHM"
      }
    },
    {
      "cell_type": "markdown",
      "source": [
        "## Você sabe o que é **Match** Case Python? Eu vou te mostrar como essa estrutura vai te ajudar e vai substituir IF e ELSE do seu código\n",
        "\n",
        "\n",
        "```\n",
        "valor = int(input(\"Digite 1-Saque ou 2-Depósito 3-Saldo :\"))\n",
        "\n",
        "match valor:\n",
        "  case 1:\n",
        "    print(\"Saque - Informe o Valor\")\n",
        "  case 2:\n",
        "    print(\"Depósito - Informe a conta\")\n",
        "  case 3:\n",
        "    print(\"Saldo - C/C ou Poupança\")\n",
        "  case _:\n",
        "    print(\"1 2 ou 3 apenas\")\n",
        "```"
      ],
      "metadata": {
        "id": "5DCQUEkISgLM"
      }
    },
    {
      "cell_type": "code",
      "source": [],
      "metadata": {
        "id": "7CmKRjqJTpmC"
      },
      "execution_count": null,
      "outputs": []
    },
    {
      "cell_type": "code",
      "source": [],
      "metadata": {
        "id": "lyrZcyT1-PW0"
      },
      "execution_count": null,
      "outputs": []
    },
    {
      "cell_type": "markdown",
      "source": [
        "## Match Case:\n",
        "\n",
        "Como vamos transformar este código em um Match case?\n",
        "\n",
        "Match case é como o Python chama essa estrutura em outras linguagens ela é chamada de Switch Case.\n",
        "\n",
        "Nós vamos inserir na linha abaixo da variável  “Match” em seguida colocamos o nome da variável que neste caso é dia.\n",
        "\n",
        "Nosso objetivo é avaliar os casos da variável dia.\n",
        "\n",
        "Quais são os casos? Vamos inserir os casos na próxima linha.\n",
        "\n",
        "\n",
        "\n",
        "```\n",
        "\n",
        "match dia:\n",
        "  case 1:\n",
        "    print (\"Domingo\")\n",
        "  case 2:\n",
        "    print (\"Segunda\")\n",
        "  case 3:\n",
        "    print (\"Terça\")\n",
        "  case 4:\n",
        "    print (\"Quarta\" )\n",
        "  case 5:\n",
        "    print (\"Quinta\")\n",
        "  case 6:\n",
        "    print (\"Sexta\")\n",
        "  case 7:\n",
        "    print (\"Sábado\")\n",
        "  case _:\n",
        "    print(\"A semana só tem 7 dias :(\")\n",
        "\n",
        "```"
      ],
      "metadata": {
        "id": "e2mPSuG-Sn01"
      }
    },
    {
      "cell_type": "code",
      "source": [],
      "metadata": {
        "id": "nunE0800SzVU"
      },
      "execution_count": null,
      "outputs": []
    },
    {
      "cell_type": "markdown",
      "source": [
        "## Exercício 01\n",
        "Faça o JOGO\n",
        "\n",
        "*PEDRA\n",
        "\n",
        "*PAPEL\n",
        "\n",
        "*TESOURA\n"
      ],
      "metadata": {
        "id": "4wCdMWFL_uXU"
      }
    },
    {
      "cell_type": "code",
      "source": [
        "\n",
        "\n"
      ],
      "metadata": {
        "id": "1X3V10gHAgCf"
      },
      "execution_count": null,
      "outputs": []
    },
    {
      "cell_type": "markdown",
      "source": [
        "## Exercício 2\n",
        "\n",
        "Faça uma aplicação que simule um Caixa eletrônico onde;\n",
        "\n",
        "\n",
        "*   1 - Saque\n",
        "*   2 - Depósito\n",
        "*   3 - Transferência\n",
        "*   4 - Saldo\n",
        "\n",
        "      *   C/C\n",
        "      *   POUPANÇA\n",
        "\n",
        "\n",
        "\n",
        "\n",
        "\n"
      ],
      "metadata": {
        "id": "XAaPLqeN4ude"
      }
    },
    {
      "cell_type": "code",
      "source": [],
      "metadata": {
        "id": "59dwOoaX5PiC"
      },
      "execution_count": null,
      "outputs": []
    },
    {
      "cell_type": "markdown",
      "source": [
        "## Exercício 3\n",
        "\n",
        "Faça uma aplicação Python parfa escolher um candidato entre 4 candidatos em uma eleição.\n",
        "\n",
        "\n",
        "*   Bob Esponja\n",
        "*   Lula Molusco\n",
        "*   Sirigueijo\n",
        "*   Patrick\n",
        "\n",
        "\n",
        "\n",
        "\n"
      ],
      "metadata": {
        "id": "qfhOrRrw5Th9"
      }
    },
    {
      "cell_type": "code",
      "source": [],
      "metadata": {
        "id": "24MJanT4531D"
      },
      "execution_count": null,
      "outputs": []
    }
  ]
}