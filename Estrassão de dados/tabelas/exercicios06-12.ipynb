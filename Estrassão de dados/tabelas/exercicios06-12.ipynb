{
 "cells": [
  {
   "cell_type": "code",
   "execution_count": 2,
   "metadata": {},
   "outputs": [],
   "source": [
    "import urllib.request\n",
    "from bs4 import BeautifulSoup"
   ]
  },
  {
   "cell_type": "code",
   "execution_count": 16,
   "metadata": {},
   "outputs": [
    {
     "name": "stdout",
     "output_type": "stream",
     "text": [
      "   Posição          Estado Codigo/IBGE              Capital          Área\n",
      "1        1     Porto Velho     1100205             Rondônia  34 090,952\\n\n",
      "2        2          Manaus     1302603             Amazonas  11 401,092\\n\n",
      "3        3      Rio Branco     1200401                 Acre   8 834,942\\n\n",
      "4        4    Campo Grande     5002704   Mato Grosso do Sul   8 082,978\\n\n",
      "5        5          Macapá     1600303                Amapá   6 563,849\\n\n",
      "6        6        Brasília     5300108     Distrito Federal   5 760,783\\n\n",
      "7        7       Boa Vista     1400100              Roraima   5 687,037\\n\n",
      "8        8          Cuiabá     5103403          Mato Grosso    4 327,45\\n\n",
      "9        9          Palmas     1721000            Tocantins   2 227,444\\n\n",
      "10      10       São Paulo     3550308            São Paulo   1 521,110\\n\n",
      "11      11        Teresina     2211001                Piauí   1 391,046\\n\n",
      "12      12  Rio de Janeiro     3304557       Rio de Janeiro   1 200,329\\n\n",
      "13      13           Belém     1501402                        1 059,466\\n\n",
      "14      14         Goiânia     5208707                Goiás     728,841\\n\n",
      "15      15        Salvador     2927408                          693,453\\n\n",
      "16      16   Florianópolis     4205407       Santa Catarina     674,844\\n\n",
      "17      17        São Luís     2111300             Maranhão     582,974\\n\n",
      "18      18          Maceió     2704302              Alagoas     509,320\\n\n",
      "19      19    Porto Alegre     4314902    Rio Grande do Sul     495,390\\n\n",
      "20      20        Curitiba     4106902               Paraná     434,892\\n\n",
      "21      21  Belo Horizonte     3106200         Minas Gerais     331,354\\n\n",
      "22      22       Fortaleza     2304400                Ceará     312,353\\n\n",
      "23      23          Recife     2611606           Pernambuco     218,843\\n\n",
      "24      24     João Pessoa     2507507              Paraíba     210,044\\n\n",
      "25      25         Aracaju     2800308              Sergipe     182,163\\n\n",
      "26      26           Natal     2408102  Rio Grande do Norte     167,401\\n\n",
      "27      27         Vitória     3205309       Espírito Santo      97,123\\n\n"
     ]
    }
   ],
   "source": [
    "wiki = \"https://pt.wikipedia.org/wiki/Lista_de_capitais_do_Brasil_por_%C3%A1rea\"\n",
    "page = urllib.request.urlopen(wiki)\n",
    "soup = BeautifulSoup(page, 'html.parser')\n",
    "table = soup.find('table', {'class': 'wikitable'})\n",
    "\n",
    "A = []\n",
    "B = []\n",
    "C = []\n",
    "D = []\n",
    "E = []\n",
    "\n",
    "for row in table.findAll('tr'):\n",
    "    cells = row.findAll('td')\n",
    "    if len(cells) == 5:\n",
    "        A.append(cells[0].find(string=True))\n",
    "        B.append(cells[1].find(string=True))\n",
    "        C.append(cells[2].find(string=True))\n",
    "        D.append(cells[3].find('a').text)\n",
    "        E.append(cells[4].find(string=True))\n",
    "\n",
    "import pandas as pd\n",
    "\n",
    "df = pd.DataFrame(index=A, columns=['Posição'])\n",
    "df['Posição'] = A\n",
    "df['Estado'] = B\n",
    "df['Codigo/IBGE'] = C\n",
    "df['Capital'] = D\n",
    "df['Área'] = E\n",
    "\n",
    "df\n",
    "\n",
    "pessoas = pd.DataFrame(df)\n",
    "type(pessoas)\n",
    "print(pessoas)\n",
    "pessoas.to_csv('pessoas.csv')\n"
   ]
  },
  {
   "cell_type": "code",
   "execution_count": 15,
   "metadata": {},
   "outputs": [
    {
     "name": "stdout",
     "output_type": "stream",
     "text": [
      "      Posição   Estado       Codigo/IBGE            Capital          Área\n",
      "1º         1º  3550308         São Paulo          São Paulo  11 451 245\\n\n",
      "2º         2º  3304557    Rio de Janeiro     Rio de Janeiro   6 211 423\\n\n",
      "3º         3º  5300108          Brasília   Distrito Federal   2 817 068\\n\n",
      "4º         4º  2304400         Fortaleza              Ceará   2 428 678\\n\n",
      "5º         5º  2927408          Salvador                      2 418 005\\n\n",
      "...       ...      ...               ...                ...           ...\n",
      "5566º   5566º  4322350    União da Serra  Rio Grande do Sul       1 084\\n\n",
      "5567º   5567º  4306924     Engenho Velho  Rio Grande do Sul         932\\n\n",
      "5568º   5568º  5101209        Araguainha        Mato Grosso         909\\n\n",
      "5569º   5569º  3507209              Borá          São Paulo         839\\n\n",
      "5570º   5570º  3166600  Serra da Saudade       Minas Gerais         771\\n\n",
      "\n",
      "[5570 rows x 5 columns]\n"
     ]
    }
   ],
   "source": [
    "wiki = \"https://pt.wikipedia.org/wiki/Lista_de_munic%C3%ADpios_do_Brasil_por_popula%C3%A7%C3%A3o\"\n",
    "page = urllib.request.urlopen(wiki)\n",
    "soup = BeautifulSoup(page, 'html.parser')\n",
    "table = soup.find('table', {'class': 'wikitable'})\n",
    "\n",
    "A = []\n",
    "B = []\n",
    "C = []\n",
    "D = []\n",
    "E = []\n",
    "\n",
    "for row in table.findAll('tr'):\n",
    "    cells = row.findAll('td')\n",
    "    if len(cells) == 5:\n",
    "        A.append(cells[0].find(string=True))\n",
    "        B.append(cells[1].find(string=True))\n",
    "        C.append(cells[2].find(string=True))\n",
    "        D.append(cells[3].find('a').text)\n",
    "        E.append(cells[4].find(string=True))\n",
    "\n",
    "import pandas as pd\n",
    "\n",
    "df = pd.DataFrame(index=A, columns=['Posição'])\n",
    "df['Posição'] = A\n",
    "df['Estado'] = B\n",
    "df['Codigo/IBGE'] = C\n",
    "df['Capital'] = D\n",
    "df['Área'] = E\n",
    "\n",
    "df\n",
    "\n",
    "pessoas = pd.DataFrame(df)\n",
    "type(pessoas)\n",
    "print(pessoas)\n",
    "pessoas.to_csv('pessoas1.csv')\n"
   ]
  }
 ],
 "metadata": {
  "kernelspec": {
   "display_name": "Python 3",
   "language": "python",
   "name": "python3"
  },
  "language_info": {
   "codemirror_mode": {
    "name": "ipython",
    "version": 3
   },
   "file_extension": ".py",
   "mimetype": "text/x-python",
   "name": "python",
   "nbconvert_exporter": "python",
   "pygments_lexer": "ipython3",
   "version": "3.7.8"
  }
 },
 "nbformat": 4,
 "nbformat_minor": 2
}
