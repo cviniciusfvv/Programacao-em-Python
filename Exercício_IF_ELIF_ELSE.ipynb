{
  "cells": [
    {
      "cell_type": "markdown",
      "metadata": {
        "id": "zG6XCvSVREp1"
      },
      "source": [
        "Exercício com Laço de Repetição\n",
        "# IF - ELIF - ELSE\n",
        "\n",
        "Neste Bloco de notas vamos realizam alguns exercícios para reforçar nosso aprendizado em Estruturas Condicionais IF-ELIF-ELSE"
      ]
    },
    {
      "cell_type": "markdown",
      "metadata": {
        "id": "-6HBlPoETCbB"
      },
      "source": [
        "01-Faça um Programa que leia um número e exiba o dia correspondente da semana. (1-Domingo, 2- Segunda, etc.), se digitar outro valor deve aparecer valor inválido."
      ]
    },
    {
      "cell_type": "code",
      "execution_count": 14,
      "metadata": {
        "id": "Ovw4LfX5WyyO"
      },
      "outputs": [
        {
          "name": "stdout",
          "output_type": "stream",
          "text": [
            "Segunda - Feira\n",
            "atenção, digite um numero entre 1 a 7\n"
          ]
        }
      ],
      "source": [
        "semana = int(input(\" Digite de 1-7 para escolher o dia da semana\"))\n",
        "if (semana == 1):\n",
        "    print(\"Segunda - Feira\")\n",
        "elif (semana == 2):\n",
        "    print(\"Terça = Terça\")\n",
        "elif (semana == 3):\n",
        "    print (\"Quarta - Quarta\")\n",
        "elif (semana == 4):\n",
        "    print(\"Quinta - Quinta\")\n",
        "elif (semana == 5):\n",
        "    print(\"Sexta - Feira\")\n",
        "elif (semana == 6):\n",
        "    print (\"Sabado\")\n",
        "elif (semana == 7):\n",
        "    print (\"Domingo\")\n",
        "else:\n",
        "    print(\"atenção, digite um numero entre 1 a 7\")"
      ]
    },
    {
      "cell_type": "markdown",
      "metadata": {
        "id": "A9yXBKNCTEuv"
      },
      "source": [
        "02-Faça um Programa que peça um número e em seguida informe se o número é PAR ou IMPAR."
      ]
    },
    {
      "cell_type": "code",
      "execution_count": 17,
      "metadata": {
        "id": "Xs2wEke8TELt"
      },
      "outputs": [
        {
          "name": "stdout",
          "output_type": "stream",
          "text": [
            "O numero é Ímpar\n"
          ]
        }
      ],
      "source": [
        "a = int(input(\"Informe um número: \"))\n",
        "if(a%2 == 0):\n",
        "    print('O numero é par')\n",
        "else:\n",
        "    print('O numero é Ímpar')"
      ]
    },
    {
      "cell_type": "markdown",
      "metadata": {
        "id": "pHzGmP0URkEj"
      },
      "source": [
        "03 - Faça um programa que pede duas notas de um aluno. Em seguida ele deve calcular a média do aluno e dar o seguinte resultado:\n",
        "\n",
        "    A mensagem \"Aprovado\", se a média alcançada for maior ou igual a sete;\n",
        "    A mensagem \"Reprovado\", se a média for menor do que sete;\n",
        "    A mensagem \"Aprovado com Distinção\", se a média for igual a dez."
      ]
    },
    {
      "cell_type": "code",
      "execution_count": 28,
      "metadata": {
        "id": "2_-wusRWRD1h"
      },
      "outputs": [
        {
          "name": "stdout",
          "output_type": "stream",
          "text": [
            "Aprovado\n",
            "Média:  9.5\n"
          ]
        }
      ],
      "source": [
        "primeiro = int(input('Primeira nota: '))\n",
        "segundo = int(input('Segunda nota: '))\n",
        "soma = (primeiro + segundo) / 2\n",
        "\n",
        "if soma >= 7:\n",
        "    print(\"Aprovado\")\n",
        "elif soma == 10:  \n",
        "    print(\"Aprovado com destinção\")\n",
        "else:\n",
        "    print(\"Reprovado\")\n",
        "\n",
        "print('Média: ', soma)\n"
      ]
    },
    {
      "cell_type": "markdown",
      "metadata": {
        "id": "j0gzep_PTfNz"
      },
      "source": [
        "04-Um posto está vendendo combustíveis com a seguinte tabela de descontos:\n",
        "\n",
        "```\n",
        "    até 20 litros, desconto de 3% por litro\n",
        "    acima de 20 litros, desconto de 5% por litro\n",
        "```\n",
        "Peça para o usuário informar o VALOR do combustível e a QUANTIDADE de compustível. No final exibir na tela;\n",
        "```\n",
        "    Varlor sem desconto\n",
        "    Valor do desconto\n",
        "    Valor à pagar\n",
        "```"
      ]
    },
    {
      "cell_type": "code",
      "execution_count": 79,
      "metadata": {
        "id": "Hfr0Zoz-U0fX"
      },
      "outputs": [
        {
          "name": "stdout",
          "output_type": "stream",
          "text": [
            "Valor sem desconto: 95.00 \n",
            "Valor do desconto: 5.00\n",
            "Valor a pagar: 95.00\n"
          ]
        }
      ],
      "source": [
        "litro_gasolina = float(input(\"Preço do combustivel: \"))\n",
        "litros_abastecer = float(input(\"Quantos litros você quer abastecer: \"))\n",
        "\n",
        "if litros_abastecer < 20:\n",
        "    pagar = litro_gasolina * litros_abastecer\n",
        "    desconto = pagar * 0.03  # Corrigindo o cálculo do desconto\n",
        "    total = pagar - desconto\n",
        "\n",
        "elif  litros_abastecer >= 20:\n",
        "    pagar = litro_gasolina * litros_abastecer\n",
        "    desconto = pagar * 0.05  # Corrigindo o cálculo do desconto\n",
        "    total = pagar - desconto\n",
        "\n",
        "print(f\"Valor sem desconto: {total:.2f} \")\n",
        "print(f\"Valor do desconto: {desconto:.2f}\")\n",
        "print(f\"Valor a pagar: {total:.2f}\")\n",
        "\n",
        "\n",
        "    \n",
        "    "
      ]
    },
    {
      "cell_type": "markdown",
      "metadata": {
        "id": "NkChlI1QR51a"
      },
      "source": [
        "05-As Organizações Tabajara resolveram dar um aumento de salário aos seus colaboradores e lhe contrataram para desenvolver o programa que calculará os reajustes.\n",
        "\n",
        "Faça um programa que recebe o salário de um colaborador e o reajuste segundo o seguinte critério, baseado no salário atual:\n",
        "```\n",
        "salários até R$ 280,00 (incluindo) : aumento de 20%\n",
        "salários entre R$ 280,00 e R$ 700,00 : aumento de 15%\n",
        "salários entre R$ 700,00 e R$ 1500,00 : aumento de 10%\n",
        "salários de R$ 1500,00 em diante : aumento de 5% Após o aumento ser realizado, informe na tela:\n",
        "  \n",
        "⦁\t    salário antes do reajuste;\n",
        "⦁\t    percentual de aumento aplicado;\n",
        "⦁\t    valor do aumento;\n",
        "⦁\t    novo salário, após o aumento.\n",
        "```"
      ]
    },
    {
      "cell_type": "code",
      "execution_count": 80,
      "metadata": {
        "id": "ulDpx19-S7Bu"
      },
      "outputs": [
        {
          "name": "stdout",
          "output_type": "stream",
          "text": [
            "Salário antes do reajuste R$: 1000.00\n",
            "Percentual de aumento aplicado: 10 %\n",
            "Valor do aumento R$: 100.00\n",
            "Novo salário, após o aumento R$: 1100.00\n"
          ]
        }
      ],
      "source": [
        "sal = float(input(\"Informe seu salário: \"))\n",
        "\n",
        "if sal < 280:\n",
        "    porcentual = 20\n",
        "    aumento = sal * 0.20 \n",
        "    salnovo = sal + aumento\n",
        "\n",
        "elif sal > 280 and sal < 700:\n",
        "    porcentual = 15\n",
        "    aumento = sal * 0.15 \n",
        "    salnovo = sal + aumento\n",
        "\n",
        "elif sal > 700 and sal < 1500:\n",
        "    porcentual = 10\n",
        "    aumento = sal * 0.10\n",
        "    salnovo = sal + aumento\n",
        "\n",
        "elif sal > 1500:\n",
        "    porcentual = 10\n",
        "    aumento = sal * 0.10\n",
        "    salnovo = sal + aumento\n",
        "    \n",
        "print(f\"Salário antes do reajuste R$: {sal:.2f}\")\n",
        "print(f\"Percentual de aumento aplicado:\", porcentual, \"%\")\n",
        "print(f\"Valor do aumento R$: {aumento:.2f}\")\n",
        "print(f\"Novo salário, após o aumento R$: {salnovo:.2f}\")\n",
        "\n"
      ]
    },
    {
      "cell_type": "markdown",
      "metadata": {
        "id": "8hRJdtx5VHts"
      },
      "source": [
        "06-Um Hortifruti está vendendo frutas com a seguinte tabela de preços:\n",
        "\n",
        "```\n",
        "                  Até 5 Kg                Acima de 5 Kg\n",
        "                  R$ 2,50 por Kg          R$ 2,20 por Kg\n",
        "```\n",
        "Se o cliente comprar mais de 8 Kg em frutas receberá ainda um desconto de 10% sobre este total. Escreva um algoritmo para ler a quantidade (em Kg) e escreva o valor a ser pago pelo cliente.\n"
      ]
    },
    {
      "cell_type": "code",
      "execution_count": 99,
      "metadata": {
        "id": "jmegzaj-pR4h"
      },
      "outputs": [
        {
          "name": "stdout",
          "output_type": "stream",
          "text": [
            "kilos das frutas R$: 7.90\n",
            "Valor da compra das frutas R$: 17.38\n"
          ]
        }
      ],
      "source": [
        "kilospegar = float(input(\"Quantos quilos de fruto pegou: \"))\n",
        "\n",
        "if kilospegar <= 5:\n",
        "    preco = 2.50 * kilospegar\n",
        "elif kilospegar >5 and kilospegar <8:\n",
        "    preco = 2.20 * kilospegar\n",
        "elif kilospegar >= 8:\n",
        "    preco = (2.20 * kilospegar) - ((2.20 * kilospegar) * 0.10)\n",
        "print(f\"kilos das frutas R$: {kilospegar:.2f}\")\n",
        "print(f\"Valor da compra das frutas R$: {preco:.2f}\")"
      ]
    }
  ],
  "metadata": {
    "colab": {
      "provenance": []
    },
    "kernelspec": {
      "display_name": "Python 3",
      "name": "python3"
    },
    "language_info": {
      "codemirror_mode": {
        "name": "ipython",
        "version": 3
      },
      "file_extension": ".py",
      "mimetype": "text/x-python",
      "name": "python",
      "nbconvert_exporter": "python",
      "pygments_lexer": "ipython3",
      "version": "3.7.8"
    }
  },
  "nbformat": 4,
  "nbformat_minor": 0
}
