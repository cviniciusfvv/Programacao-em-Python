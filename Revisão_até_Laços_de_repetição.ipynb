{
  "cells": [
    {
      "cell_type": "markdown",
      "metadata": {
        "id": "ndTBTY3o4x6T"
      },
      "source": [
        "# `Content Review ` :-)\n",
        "[ **Revisãozona**]\n",
        "\n",
        "Nesta aula revisaremos a linguagem de programação Python e também forneceremos alguns exemplos mais detalhados das idéias da seções anteriores. Se achar necessário temos o menu Atividades com Material de apoio com recursos como a Documentação da Linguagem Python, E-books e Apostilas Python. Nosso objetivo aqui é reforçar alguns conceitos que serão fundamentais para os capítulos posteriores."
      ]
    },
    {
      "cell_type": "markdown",
      "metadata": {
        "id": "78phtmK9-j68"
      },
      "source": [
        "# Indentação\n",
        "\n",
        "Python é fácil de aprender e cheio de recursos. Para quem vem de outras linguagens baseadas em C, tais como o Java ou C#, alguns elementos do Python podem ser novidade. Aqui não há abertura e fechamento de chaves, é opcional o ponto e vírgula no final das expressões e a indentação é quem delimita os escopos como parte integrante da sintaxe."
      ]
    },
    {
      "cell_type": "markdown",
      "metadata": {
        "id": "Wds26q9TARdR"
      },
      "source": [
        "## Indentação faz parte da sintaxe\n",
        "Indentação é uma forma de arrumar o código, fazendo com que algumas linhas fiquem mais à direita que outras, à medida que adicionamos espaços em seu início. Para a maioria das linguagens a indentação não é obrigatória, mas no caso Python isso é diferente.\n",
        "\n",
        "A indentação é uma característica importante no Python, pois além de promover a legibilidade é essencial para o bom funcionamento do código. Em outras palavras, se a indentação não estiver adequada o programa pode se comportar de forma inesperada ou até mesmo não compilar."
      ]
    },
    {
      "cell_type": "markdown",
      "metadata": {
        "id": "SVzCifbJAkTE"
      },
      "source": [
        "Agora veja esse novo exemplo no qual o comando print será executado de qualquer forma por **não** **estar** **indentado** e, por isso, não estar contido no if."
      ]
    },
    {
      "cell_type": "code",
      "execution_count": 1,
      "metadata": {
        "colab": {
          "base_uri": "https://localhost:8080/",
          "height": 135
        },
        "id": "_BVJpr42AhoP",
        "outputId": "56245288-1d3e-4d27-9f1e-0a80c6a88a18"
      },
      "outputs": [
        {
          "name": "stdout",
          "output_type": "stream",
          "text": [
            "x é maior que 8\n"
          ]
        }
      ],
      "source": [
        "x = 10\n",
        "if x > 8:\n",
        "  print(\"x é maior que 8\")"
      ]
    },
    {
      "cell_type": "code",
      "execution_count": null,
      "metadata": {
        "id": "to0BiulzBFEZ"
      },
      "outputs": [],
      "source": [
        "contador = 0\n",
        "while contador < 5:\n",
        "  print(contador)\n",
        "  contador = contador + 1"
      ]
    },
    {
      "cell_type": "markdown",
      "metadata": {
        "id": "37QcBZ7ADWqm"
      },
      "source": [
        "---"
      ]
    },
    {
      "cell_type": "markdown",
      "metadata": {
        "id": "GJPwB-LaDUNn"
      },
      "source": [
        "## Não é necessário usar ponto vírgula no fim de um comando\n",
        "Em boa parte das linguagens de programação as linhas de código devem terminar com um ponto e vírgula (;). No Python isso é opcional. Um caso onde o ponto e vírgula seria necessário é quando temos mais de um comando em uma mesma linha. O Código 6 mostra como é isso na prática."
      ]
    },
    {
      "cell_type": "code",
      "execution_count": null,
      "metadata": {
        "colab": {
          "base_uri": "https://localhost:8080/"
        },
        "id": "yA_aWVqKDY1d",
        "outputId": "04a92928-77a6-4927-b5ee-e66700978b5d"
      },
      "outputs": [
        {
          "name": "stdout",
          "output_type": "stream",
          "text": [
            "o valor de a é  1\n",
            "o valor de b é  2\n",
            "o valor de c é  3\n"
          ]
        }
      ],
      "source": [
        "a = 1\n",
        "b = 2\n",
        "c = 3\n",
        "print(\"o valor de a é \", a);print(\"o valor de b é \", b); print(\"o valor de c é \", c)"
      ]
    },
    {
      "cell_type": "markdown",
      "metadata": {
        "id": "KR1Iyx0SDj2g"
      },
      "source": [
        "---"
      ]
    },
    {
      "cell_type": "markdown",
      "metadata": {
        "id": "tp_7BCCwDme9"
      },
      "source": [
        "# Parênteses são opcionais\n",
        "Vale ressaltar que no Python não há a necessidade de fazer o uso de parêntesis para as estruturas de controle de fluxo como if, for e while."
      ]
    },
    {
      "cell_type": "code",
      "execution_count": null,
      "metadata": {
        "colab": {
          "base_uri": "https://localhost:8080/"
        },
        "id": "qD6II_UuDofh",
        "outputId": "564b0596-286e-4cac-8c37-ef558f0aba28"
      },
      "outputs": [
        {
          "name": "stdout",
          "output_type": "stream",
          "text": [
            "x é maior que 8\n",
            "x é maior que 8\n"
          ]
        }
      ],
      "source": [
        "x = 10\n",
        "if (x > 8):\n",
        "  print(\"x é maior que 8\")\n",
        "\n",
        "\n",
        "x = 10\n",
        "if x > 8: # nessa linha removemos os parêntesis\n",
        "  print(\"x é maior que 8\")"
      ]
    },
    {
      "cell_type": "markdown",
      "metadata": {
        "id": "QXdjz_irDyZX"
      },
      "source": [
        "---"
      ]
    },
    {
      "cell_type": "markdown",
      "metadata": {
        "id": "tGkZliiV52qm"
      },
      "source": [
        "## Variáveis\n",
        "\n",
        "Variáveis são um dos recursos mais básicos das linguagens de programação. Utilizadas para armazenar valores em memória, elas nos permitem gravar e ler esses dados com facilidade a partir de um nome definido por nós."
      ]
    },
    {
      "cell_type": "code",
      "execution_count": null,
      "metadata": {
        "colab": {
          "base_uri": "https://localhost:8080/"
        },
        "id": "KGEUVTsR4urK",
        "outputId": "c21c08c4-c5ab-4736-9fbc-6f8ab9b4a428"
      },
      "outputs": [
        {
          "name": "stdout",
          "output_type": "stream",
          "text": [
            "<class 'str'>\n",
            "<class 'int'>\n",
            "<class 'float'>\n",
            "<class 'bool'>\n"
          ]
        }
      ],
      "source": [
        "nome = \"18\" #String\n",
        "idade = 18 # inteiro\n",
        "salario = 5534.00 # float\n",
        "casado = True # Bool\n",
        "\n",
        "print(type(nome))\n",
        "print(type(idade))\n",
        "print(type(salario))\n",
        "print(type(casado))\n"
      ]
    },
    {
      "cell_type": "markdown",
      "metadata": {
        "id": "0P9RS_eM6mn2"
      },
      "source": [
        "# Listas, Tuplas e Dicionários\n",
        "\n",
        "As coleções permitem armazenar múltiplos itens dentro de uma única unidade, que funciona como um container. Neste artigo veremos três dentre as coleções mais utilizadas em Python, que são as listas, tuplas e dicionários."
      ]
    },
    {
      "cell_type": "code",
      "execution_count": null,
      "metadata": {
        "id": "bkvWQOvo69o5"
      },
      "outputs": [],
      "source": [
        "programadores = ['Victor', 'Juliana', 'Samuel', 'Caio', 'Luana']\n",
        "profissoes = ('Programador', 'Designer', 'FrontEnd', 'BackEnd')\n",
        "dados_aluno = {\n",
        "    'Nome': 'Pedro',\n",
        "    'Fone': '19 8884456'\n",
        "}"
      ]
    },
    {
      "cell_type": "markdown",
      "metadata": {
        "id": "OigoR6DD9IjS"
      },
      "source": [
        "# Estrutura Condicional\n",
        "\n",
        "Quando programamos, muitas vezes precisamos que determinado bloco de código seja executado apenas se uma determinada condição for verdadeira. Em casos assim, devemos fazer uso de uma estrutura de condição.\n",
        "\n",
        "if\n",
        "\n",
        "if-else\n",
        "\n",
        "if-elif-else"
      ]
    },
    {
      "cell_type": "code",
      "execution_count": null,
      "metadata": {
        "colab": {
          "base_uri": "https://localhost:8080/"
        },
        "id": "d-3xmim69c6j",
        "outputId": "28cd9e0e-5512-4ec3-b3de-54daae0e74dc"
      },
      "outputs": [
        {
          "name": "stdout",
          "output_type": "stream",
          "text": [
            "Possui CNH? 1-Sim 2-Não1\n",
            "Digite sua idade:55\n",
            "renovação por 3 anos\n"
          ]
        }
      ],
      "source": [
        "valor = int(input(\"Possui CNH? 1-Sim 2-Não\"))\n",
        "match valor:\n",
        "  case 2:\n",
        "    idade = int(input(\"Digite sua idade:\"))\n",
        "    if idade >= 18:\n",
        "      print('maior de idade')\n",
        "    else:\n",
        "      print('menor de idade')\n",
        "  case 1:\n",
        "    if idade >= 18:\n",
        "      print('maior de idade')\n",
        "    else:\n",
        "      print('menor de idade'\n",
        "\n",
        "valor = int(input(\"Possui CNH? 1-Sim 2-Não\"))\n",
        "if valor == 1\n",
        "  idade = int(input(\"Digite sua idade:\"))\n",
        "  if idade >= 50 and idade < 60:\n",
        "     print('renovação por 3 anos')\n",
        "  else:\n",
        "      print('Renovação por 10 anos')\n",
        "\n",
        "if valor == 2\n",
        "  idade = int(input(\"Digite sua idade:\"))\n",
        "  if idade >= 18:\n",
        "     print('Pode providenciar a CNH')\n",
        "  else:\n",
        "      print('Vai de busão')\n"
      ]
    },
    {
      "cell_type": "markdown",
      "metadata": {
        "id": "izfOhZ4x9hwU"
      },
      "source": [
        "\n",
        "# Laços de Repetição\n",
        "\n",
        "## Loops com FOR e WHILE\n",
        "\n",
        "Em algumas situações, é comum que uma mesma instrução (ou conjunto delas) precise ser executada várias vezes seguidas. Nesses casos, normalmente utilizamos um loop (ou laço de repetição), que permite executar um bloco de código repetidas vezes, enquanto uma dada condição é atendida.\n",
        "\n",
        "Em Python, os loops são codificados por meio dos comandos for e while. O primeiro nos permite percorrer os itens de uma coleção e, para cada um deles, executar um bloco de código. Já o while, executa um conjunto de instruções várias vezes enquanto uma condição é atendida.\n"
      ]
    },
    {
      "cell_type": "markdown",
      "metadata": {
        "id": "8TbuJLXU-LBA"
      },
      "source": [
        "# FOR"
      ]
    },
    {
      "cell_type": "code",
      "execution_count": null,
      "metadata": {
        "colab": {
          "base_uri": "https://localhost:8080/"
        },
        "id": "iA0oDa9496ye",
        "outputId": "346a3bc9-9159-40c9-ad55-a339c91c0f00"
      },
      "outputs": [
        {
          "name": "stdout",
          "output_type": "stream",
          "text": [
            "Pedro\n",
            "João\n",
            "Leticia\n"
          ]
        }
      ],
      "source": [
        "nomes = ['Pedro', 'João', 'Leticia']\n",
        "for n in nomes:\n",
        "    print(n)"
      ]
    },
    {
      "cell_type": "markdown",
      "metadata": {
        "id": "C6CxENl--Ui8"
      },
      "source": [
        "# WHILE"
      ]
    },
    {
      "cell_type": "code",
      "execution_count": null,
      "metadata": {
        "id": "LespbHLa-XzD"
      },
      "outputs": [],
      "source": [
        "contador = 0\n",
        "while contador < 3:\n",
        "  senha =int(input(\"Digite sua senha\"))\n",
        "  if (senha == 1234):\n",
        "     print(\"Acesso ao caixa\")\n",
        "     break\n",
        "  else:\n",
        "      print(\"Senha incorreta\")\n",
        "      contador+=1\n",
        "if contador == 3:\n",
        "  print(\"Seu cartão foi bloqueado!!!!!hahaha\")\n"
      ]
    },
    {
      "cell_type": "markdown",
      "metadata": {
        "id": "KE32ivhIEroO"
      },
      "source": [
        "# Exercício\n",
        "\n"
      ]
    },
    {
      "cell_type": "markdown",
      "metadata": {
        "id": "tqMqYeYPEvSj"
      },
      "source": [
        "01 - Faça um Programa que peça dois números e imprima a soma."
      ]
    },
    {
      "cell_type": "code",
      "execution_count": 2,
      "metadata": {
        "id": "LpkuBwwHk2XW"
      },
      "outputs": [
        {
          "name": "stdout",
          "output_type": "stream",
          "text": [
            "resultado da soma é de valor 1 2.00 e valor 2 1.00 é: 3.00\n"
          ]
        }
      ],
      "source": [
        "valor1 = float(input(\"Digite valor 1\"))\n",
        "valor2 = float(input(\"Digite valor 2\"))\n",
        "\n",
        "resultado = valor1 + valor2\n",
        "\n",
        "print(f\"resultado da soma do valor 1 {valor1:.2f} e valor 2 {valor2:.2f} é: {resultado:.2f}\")"
      ]
    },
    {
      "cell_type": "markdown",
      "metadata": {
        "id": "1jQugUQwFDFu"
      },
      "source": [
        "02-Faça um Programa que pergunte quanto você ganha por hora e o número de horas trabalhadas no mês. Calcule e mostre o total do seu salário no referido mês."
      ]
    },
    {
      "cell_type": "code",
      "execution_count": 3,
      "metadata": {
        "id": "BLT0LbpDk35d"
      },
      "outputs": [
        {
          "name": "stdout",
          "output_type": "stream",
          "text": [
            "você trabalhou: 200.00, e seu salario hora é 20.00 e seu salário é 4000.00\n"
          ]
        }
      ],
      "source": [
        "salhora = float(input(\"Digite seu sálario hora: \"))\n",
        "horastra = float(input (\" Digite horas trabalhadas nesse mês: \"))\n",
        "\n",
        "salario = salhora * horastra\n",
        "\n",
        "print(f\"você trabalhou: {horastra:.2f}, e seu salario hora é {salhora:.2f} e seu salário é {salario:.2f}\")"
      ]
    },
    {
      "cell_type": "markdown",
      "metadata": {
        "id": "ewR4iXmCFLOo"
      },
      "source": [
        "03-Faça um Programa que converta metros para centímetros."
      ]
    },
    {
      "cell_type": "code",
      "execution_count": 5,
      "metadata": {
        "id": "7VL__CZLk5N1"
      },
      "outputs": [
        {
          "name": "stdout",
          "output_type": "stream",
          "text": [
            "1.00 metros da 100.00 centimetros\n"
          ]
        }
      ],
      "source": [
        "metro = float(input(\"Metros\"))\n",
        "centimentro = metro * 100\n",
        "\n",
        "print(f\"{metro:.2f} metros da {centimentro:.2f} centimetros\")"
      ]
    },
    {
      "attachments": {},
      "cell_type": "markdown",
      "metadata": {
        "id": "EYnz5JcJFSPO"
      },
      "source": [
        "04-Faça um programa para uma loja de tintas. O programa deverá pedir o tamanho em metros quadrados da área a ser pintada. Considere que a cobertura da tinta é de 1 litro para cada 3 metros quadrados e que a tinta é vendida em latas de 18 litros, que custam R$ 80,00. Informe ao usuário a quantidades de latas de tinta a serem compradas e o preço total.\n"
      ]
    },
    {
      "cell_type": "code",
      "execution_count": 13,
      "metadata": {
        "id": "Iy9B3tUKk5w1"
      },
      "outputs": [
        {
          "name": "stdout",
          "output_type": "stream",
          "text": [
            "latas de tinta 2\n",
            "Gasto com pitura 160\n"
          ]
        }
      ],
      "source": [
        "metroQd = int(input(\"quantidade em metros\"))\n",
        "cobertura = metroQd/3\n",
        "qlata = cobertura/18\n",
        "print(f\"latas de tinta {round(qlata)}\")\n",
        "print(f\"Gasto com pitura {round(qlata)*80}\")\n"
      ]
    },
    {
      "cell_type": "markdown",
      "metadata": {
        "id": "OtQF3hs1FzsF"
      },
      "source": [
        "05-Tendo como dados de entrada a altura de uma pessoa, construa um algoritmo que calcule seu peso ideal, usando a seguinte fórmula: (72.7*altura) - 58"
      ]
    },
    {
      "cell_type": "code",
      "execution_count": 15,
      "metadata": {
        "id": "oZtZP3Xck6Yd"
      },
      "outputs": [
        {
          "name": "stdout",
          "output_type": "stream",
          "text": [
            "Seu peso atual é 100.00 kg, mas para sua atual 1.60 cm, é 41.68 Kg \n"
          ]
        }
      ],
      "source": [
        "peso1 = float(input(\"Digite seu peso Kg: \"))\n",
        "altura = float(input(\"Digite sua altura em m\"))\n",
        "ideal = (72.7*altura) - 58\n",
        "peso2 = peso1 - ideal\n",
        "print(f\"Seu peso atual é {peso1:.2f} kg, mas para sua atual {altura:.2f} cm, é {peso2:.2f} Kg \")\n"
      ]
    },
    {
      "cell_type": "markdown",
      "metadata": {
        "id": "zFveaQw4GAQA"
      },
      "source": [
        "06-Faça um Programa que pergunte quanto você ganha por hora e o número de horas trabalhadas no mês. Calcule e mostre o total do seu salário no referido mês, sabendo-se que são descontados 11% para o Imposto de Renda, 8% para o INSS e 5% para o sindicato, faça um programa que nos dê:\n",
        "salário bruto.\n",
        "quanto pagou ao INSS.\n",
        "quanto pagou ao sindicato.\n",
        "o salário líquido.\n",
        "calcule os descontos e o salário líquido, conforme a tabela abaixo:\n",
        "\n",
        "**Salário Bruto** : R$\n",
        "\n",
        "**IR** (11%) : R$\n",
        "\n",
        "**INSS** (8%) : R$\n",
        "\n",
        "**Sindicato** ( 5%) : R$\n",
        "\n",
        "**Salário Liquido** : R$"
      ]
    },
    {
      "cell_type": "code",
      "execution_count": 48,
      "metadata": {
        "id": "CLHoULyak6_d"
      },
      "outputs": [
        {
          "name": "stdout",
          "output_type": "stream",
          "text": [
            "seu desconto de IR é R$: 0.00\n",
            "Seu desconto INSS R$: 115.20 \n",
            "Seu desconto de sindicato é R$: 72.00\n",
            "Seu salario liquido R$: 1252.80\n"
          ]
        }
      ],
      "source": [
        "salario = float(input(\"informe seu salario bruto\"))\n",
        "INSS = salario * (8/100)\n",
        "sindicato = salario * (5/100)\n",
        "\n",
        "if salario <= 2112:\n",
        "    IR = 0\n",
        "    salarioliq = salario - INSS - sindicato\n",
        "\n",
        "elif salario >= 2112.01 and salario <=2826.65:\n",
        "    IR = (salario - INSS) * (7.5/100)\n",
        "    salarioliq = salario - INSS - sindicato - IR\n",
        "\n",
        "elif salario >= 2826.66 and salario <= 3751.05:\n",
        "    IR = (salario - INSS) * (15/100)\n",
        "    salarioliq = salario - INSS - sindicato - IR\n",
        "\n",
        "elif salario >= 3751.06 and salario <= 4664.68:\n",
        "    IR = (salario - INSS) * (22.5/100)\n",
        "    salarioliq = salario - INSS - sindicato - IR\n",
        "else:\n",
        "    IR = (salario - INSS) * (27.5/100)\n",
        "    salarioliq = salario - INSS - sindicato - IR\n",
        "\n",
        "    \n",
        "\n",
        "print(f\"seu desconto de IR é R$: {IR:.2f}\")\n",
        "print(f\"Seu desconto INSS R$: {INSS:.2f} \")\n",
        "print(f\"Seu desconto de sindicato é R$: {sindicato:.2f}\")\n",
        "print(f\"Seu salario liquido R$: {salarioliq:.2f}\")\n"
      ]
    },
    {
      "cell_type": "markdown",
      "metadata": {
        "id": "r73SSsIBxCl7"
      },
      "source": [
        "07-Faça um programa que peça para n pessoas a sua idade, ao final o programa devera verificar se a média de idade da turma varia entre 0 e 25,26 e 60 e maior que 60; e então, dizer se a turma é jovem, adulta ou idosa, conforme a média calculada."
      ]
    },
    {
      "cell_type": "code",
      "execution_count": 56,
      "metadata": {
        "id": "VC_1LuwaxLCu"
      },
      "outputs": [
        {
          "name": "stdout",
          "output_type": "stream",
          "text": [
            "jovem\n",
            "Jovem adulto\n",
            "Jovem adulto\n",
            "jovem velho\n",
            "Jovem adulto\n"
          ]
        }
      ],
      "source": [
        "qpessoas = int(input(\"numeros de pessoas: \"))\n",
        "for n in range (qpessoas):\n",
        "    idade = int(input(\"sua idade\"))\n",
        "    media=+idade\n",
        "    if (media < 25):\n",
        "        print(\"jovem\")\n",
        "    if (idade >=25 and idade <60):\n",
        "        print(\"Jovem adulto\")\n",
        "    elif(idade >= 60):\n",
        "        print(\"jovem velho\")\n"
      ]
    },
    {
      "cell_type": "markdown",
      "metadata": {
        "id": "oMj16yZ1yDtp"
      },
      "source": [
        "08-Numa eleição existem três candidatos. Faça um programa que peça o número total de eleitores. Peça para cada eleitor votar e ao final mostrar o número de votos de cada candidato."
      ]
    },
    {
      "cell_type": "code",
      "execution_count": 59,
      "metadata": {
        "id": "el4RGs9cyFv_"
      },
      "outputs": [
        {
          "name": "stdout",
          "output_type": "stream",
          "text": [
            "Cand1 wins\n"
          ]
        }
      ],
      "source": [
        "cand1 = 0\n",
        "cand2 = 0\n",
        "cand3 = 0\n",
        "\n",
        "nuncand = int(input(\"Número de candidatos: \"))\n",
        "\n",
        "for n in range(nuncand):\n",
        "    cand = int(input(\"Escolha entre 1-Cand1, 2-Cand2 e 3-Cand3: \"))\n",
        "    \n",
        "    # Correção: Utilizando uma estrutura de controle if-elif-else ao invés de match\n",
        "    if cand == 1:\n",
        "        cand1 += 1\n",
        "    elif cand == 2:\n",
        "        cand2 += 1\n",
        "    elif cand == 3:\n",
        "        cand3 += 1\n",
        "    else:\n",
        "        print(\"Escolha entre 1-Cand1, 2-Cand2 ou 3-Cand3\")\n",
        "\n",
        "# Correção: Corrigindo a lógica para determinar o vencedor\n",
        "if cand1 > cand2 and cand1 > cand3:\n",
        "    print(\"Cand1 wins\")\n",
        "elif cand2 > cand1 and cand2 > cand3:\n",
        "    print(\"Cand2 wins\")\n",
        "elif cand3 > cand1 and cand3 > cand2:\n",
        "    print(\"Cand3 wins\")\n",
        "else:\n",
        "    print(\"Empate ou escolhas inválidas\")\n"
      ]
    },
    {
      "cell_type": "markdown",
      "metadata": {
        "id": "R3bUYGaByU0x"
      },
      "source": [
        "09-Um funcionário de uma empresa recebe aumento salarial anualmente: Sabe-se que:\n",
        "Esse funcionário foi contratado em 1995, com salário inicial de R$ 1.000,00;\n",
        "Em 1996 recebeu aumento de 1,5% sobre seu salário inicial;\n",
        "A partir de 1997 (inclusive), os aumentos salariais sempre correspondem ao dobro do percentual do ano anterior. Faça um programa que determine o salário atual desse funcionário. Após concluir isto, altere o programa permitindo que o usuário digite o salário inicial do funcionário."
      ]
    },
    {
      "cell_type": "code",
      "execution_count": 9,
      "metadata": {
        "id": "xEgxO1xpyXcZ"
      },
      "outputs": [
        {
          "name": "stdout",
          "output_type": "stream",
          "text": [
            "Seu salário Inicial é de R$ 1000.00 em 1997\n",
            "Anos trabalhados na empresa: 24 ano(s) e ano atual de trabalho 2021\n",
            "Seu salário é R$: 1015.00 em 1997\n",
            "Seu salário é R$: 1030.22 em 1998\n",
            "Seu salário é R$: 1045.68 em 1999\n",
            "Seu salário é R$: 1061.36 em 2000\n",
            "Seu salário é R$: 1077.28 em 2001\n",
            "Seu salário é R$: 1093.44 em 2002\n",
            "Seu salário é R$: 1109.84 em 2003\n",
            "Seu salário é R$: 1126.49 em 2004\n",
            "Seu salário é R$: 1143.39 em 2005\n",
            "Seu salário é R$: 1160.54 em 2006\n",
            "Seu salário é R$: 1177.95 em 2007\n",
            "Seu salário é R$: 1195.62 em 2008\n",
            "Seu salário é R$: 1213.55 em 2009\n",
            "Seu salário é R$: 1231.76 em 2010\n",
            "Seu salário é R$: 1250.23 em 2011\n",
            "Seu salário é R$: 1268.99 em 2012\n",
            "Seu salário é R$: 1288.02 em 2013\n",
            "Seu salário é R$: 1307.34 em 2014\n",
            "Seu salário é R$: 1326.95 em 2015\n",
            "Seu salário é R$: 1346.86 em 2016\n",
            "Seu salário é R$: 1367.06 em 2017\n",
            "Seu salário é R$: 1387.56 em 2018\n",
            "Seu salário é R$: 1408.38 em 2019\n",
            "Seu salário é R$: 1429.50 em 2020\n"
          ]
        }
      ],
      "source": [
        "salario = float(input(\"Digite seu salário R$: \"))\n",
        "anostra = int(input(\"Quantos anos trabalhado: \"))\n",
        "print(f\"Seu salário Inicial é de R$ {salario:.2f} em 1997\")\n",
        "print(f\"Anos trabalhados na empresa: {anostra} ano(s) e ano atual de trabalho {anostra + 1997}\")\n",
        "correcao = 1.5 / 100\n",
        "\n",
        "for i in range(anostra):\n",
        "    salario = salario * (1 + correcao)\n",
        "    print(f\"Seu salário é R$: {salario:.2f} em {1997 + i}\")\n",
        "\n",
        "\n"
      ]
    }
  ],
  "metadata": {
    "colab": {
      "provenance": []
    },
    "kernelspec": {
      "display_name": "Python 3",
      "name": "python3"
    },
    "language_info": {
      "codemirror_mode": {
        "name": "ipython",
        "version": 3
      },
      "file_extension": ".py",
      "mimetype": "text/x-python",
      "name": "python",
      "nbconvert_exporter": "python",
      "pygments_lexer": "ipython3",
      "version": "3.11.6"
    }
  },
  "nbformat": 4,
  "nbformat_minor": 0
}
