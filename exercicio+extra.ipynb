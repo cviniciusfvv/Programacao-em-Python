{
 "cells": [
  {
   "cell_type": "markdown",
   "metadata": {},
   "source": [
    "1 Calcular a média de uma lista de números: Crie um programa que receba uma lista de números e retorne a média dos valores presentes na lista."
   ]
  },
  {
   "cell_type": "code",
   "execution_count": 6,
   "metadata": {},
   "outputs": [
    {
     "name": "stdout",
     "output_type": "stream",
     "text": [
      "Primeiro valor: 4\n",
      "Segundo valor: 5\n",
      "Terceiro valor: 2\n",
      "Média: 3.67\n"
     ]
    }
   ],
   "source": [
    "a = int(input(\"Digite o primeiro valor: \"))\n",
    "b = int(input(\"Digite o segundo valor: \"))\n",
    "c = int(input(\"Digite o terceiro valor: \"))\n",
    "\n",
    "media = (a + b + c) / 3\n",
    "\n",
    "print(f\"Primeiro valor: {a}\")\n",
    "print(f\"Segundo valor: {b}\")\n",
    "print(f\"Terceiro valor: {c}\")\n",
    "print(f\"Média: {media:.2f}\")\n"
   ]
  },
  {
   "cell_type": "markdown",
   "metadata": {},
   "source": [
    "2 Verificar se um número é par ou ímpar: Desenvolva um programa que receba um número como entrada e determine se ele é par ou ímpar."
   ]
  },
  {
   "cell_type": "code",
   "execution_count": 9,
   "metadata": {},
   "outputs": [
    {
     "name": "stdout",
     "output_type": "stream",
     "text": [
      "O numero é Ímpar\n",
      "Seu numero é: 1\n"
     ]
    }
   ],
   "source": [
    "a = int(input(\"Informe um número: \"))\n",
    "if(a%2 == 0):\n",
    "    print('O numero é par')\n",
    "else:\n",
    "    print('O numero é Ímpar')\n",
    "\n",
    "print(f'Seu numero é: {a}')"
   ]
  },
  {
   "cell_type": "markdown",
   "metadata": {},
   "source": [
    "3 Converter temperatura de Celsius para Fahrenheit: Escreva um programa que converta uma temperatura em graus Celsius para Fahrenheit."
   ]
  },
  {
   "cell_type": "code",
   "execution_count": 1,
   "metadata": {},
   "outputs": [
    {
     "name": "stdout",
     "output_type": "stream",
     "text": [
      "Sua temperatura em Fahrenheit: 95.00°F \n",
      "Sua temperatura em Celsius: 35.00°C \n"
     ]
    }
   ],
   "source": [
    "c = float(input(\"Digite sua temperatura em Celsus: \"))\n",
    "fe = (c * 9/5) + 32\n",
    "\n",
    "print(f\"Sua temperatura em Fahrenheit: {fe:.2f}°F \")\n",
    "print(f\"Sua temperatura em Celsius: {c:.2f}°C \")"
   ]
  },
  {
   "cell_type": "markdown",
   "metadata": {},
   "source": [
    "4 Calcular o fatorial de um número: Crie uma função que calcule o fatorial de um número dado como entrada."
   ]
  },
  {
   "cell_type": "code",
   "execution_count": 4,
   "metadata": {},
   "outputs": [
    {
     "name": "stdout",
     "output_type": "stream",
     "text": [
      "24\n"
     ]
    }
   ],
   "source": [
    "numero = int(input(\"Fatorial de: \") )\n",
    "\n",
    "resultado=1\n",
    "count=1\n",
    "\n",
    "while count <= numero:\n",
    "    resultado *= count\n",
    "    count += 1\n",
    "\n",
    "print(resultado)"
   ]
  },
  {
   "cell_type": "markdown",
   "metadata": {},
   "source": [
    "5 Verificar se uma palavra é um palíndromo: Implemente um programa que verifique se uma palavra é um palíndromo, ou seja, se pode ser lida da mesma forma tanto da esquerda para a direita quanto da direita para a esquerda."
   ]
  },
  {
   "cell_type": "code",
   "execution_count": 11,
   "metadata": {},
   "outputs": [
    {
     "name": "stdout",
     "output_type": "stream",
     "text": [
      "A palavra 'Axa' é um palíndromo.\n"
     ]
    }
   ],
   "source": [
    "def verifica_palindromo(palavra):\n",
    "    palavra = palavra.lower().replace(\" \", \"\")\n",
    "    \n",
    "    if palavra == palavra[::-1]:\n",
    "        return True\n",
    "    else:\n",
    "        return False\n",
    "\n",
    "palavra = input(\"Digite uma palavra para verificar se é um palíndromo: \")\n",
    "\n",
    "if verifica_palindromo(palavra):\n",
    "    print(f\"A palavra '{palavra}' é um palíndromo.\")\n",
    "else:\n",
    "    print(f\"A palavra '{palavra}' não é um palíndromo.\")"
   ]
  },
  {
   "cell_type": "markdown",
   "metadata": {},
   "source": [
    "6 Contar a quantidade de vogais em uma palavra: Desenvolva uma função que receba uma palavra como entrada e retorne a quantidade de vogais presentes na palavra."
   ]
  },
  {
   "cell_type": "code",
   "execution_count": null,
   "metadata": {},
   "outputs": [],
   "source": []
  },
  {
   "cell_type": "markdown",
   "metadata": {},
   "source": [
    "7 Encontrar o maior elemento em uma lista: Escreva um programa que encontre o maior elemento em uma lista de números."
   ]
  },
  {
   "cell_type": "code",
   "execution_count": null,
   "metadata": {},
   "outputs": [],
   "source": []
  },
  {
   "cell_type": "markdown",
   "metadata": {},
   "source": [
    "8 Ordenar uma lista em ordem crescente: Crie uma função que receba uma lista de números como entrada e retorne a mesma lista ordenada em ordem crescente."
   ]
  },
  {
   "cell_type": "code",
   "execution_count": null,
   "metadata": {},
   "outputs": [],
   "source": []
  },
  {
   "cell_type": "markdown",
   "metadata": {},
   "source": [
    "9 Verificar se um número é primo: Implemente um programa que verifique se um número é primo, ou seja, se é divisível apenas por 1 e por ele mesmo."
   ]
  },
  {
   "cell_type": "code",
   "execution_count": null,
   "metadata": {},
   "outputs": [],
   "source": []
  },
  {
   "cell_type": "markdown",
   "metadata": {},
   "source": [
    "10 Calcular o valor do juros compostos: Desenvolva uma função que calcule o valor final de um investimento com base em uma taxa de juros e um período de tempo."
   ]
  },
  {
   "cell_type": "code",
   "execution_count": null,
   "metadata": {},
   "outputs": [],
   "source": []
  }
 ],
 "metadata": {
  "kernelspec": {
   "display_name": "Python 3",
   "language": "python",
   "name": "python3"
  },
  "language_info": {
   "codemirror_mode": {
    "name": "ipython",
    "version": 3
   },
   "file_extension": ".py",
   "mimetype": "text/x-python",
   "name": "python",
   "nbconvert_exporter": "python",
   "pygments_lexer": "ipython3",
   "version": "3.11.6"
  }
 },
 "nbformat": 4,
 "nbformat_minor": 2
}
