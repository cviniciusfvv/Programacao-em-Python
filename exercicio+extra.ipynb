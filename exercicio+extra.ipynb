{
 "cells": [
  {
   "cell_type": "markdown",
   "metadata": {},
   "source": [
    "1 Calcular a média de uma lista de números: Crie um programa que receba uma lista de números e retorne a média dos valores presentes na lista."
   ]
  },
  {
   "cell_type": "code",
   "execution_count": 4,
   "metadata": {},
   "outputs": [
    {
     "name": "stdout",
     "output_type": "stream",
     "text": [
      "A média dos números [1.1, 2.2, 3.3, 4.4, 5.5] é: 3.3\n"
     ]
    }
   ],
   "source": [
    "# pergunta os numeros que entrar na lista\n",
    "num_elementos = int(input(\"Digite a quantidade de números na lista: \")) \n",
    "\n",
    "# lista\n",
    "numeros = []\n",
    "\n",
    "# aqui repitira o numero de vezes no que foi digita a cima\n",
    "for i in range(num_elementos):\n",
    "    numero = float(input(f\"Digite o número {i + 1}: \"))\n",
    "    numeros.append(numero)\n",
    "\n",
    "# caso a lista estiver zarada\n",
    "if not numeros:\n",
    "    print(\"A lista está vazia. Não é possível calcular a média.\")\n",
    "\n",
    "# o calculo da media da lista\n",
    "else:\n",
    "    soma = sum(numeros)\n",
    "    media = soma / len(numeros)\n",
    "    print(f\"A média dos números {numeros} é: {media}\")\n"
   ]
  },
  {
   "cell_type": "markdown",
   "metadata": {},
   "source": [
    "2 Verificar se um número é par ou ímpar: Desenvolva um programa que receba um número como entrada e determine se ele é par ou ímpar."
   ]
  },
  {
   "cell_type": "code",
   "execution_count": 9,
   "metadata": {},
   "outputs": [
    {
     "name": "stdout",
     "output_type": "stream",
     "text": [
      "O numero é Ímpar\n",
      "Seu numero é: 1\n"
     ]
    }
   ],
   "source": [
    "# pede\n",
    "a = int(input(\"Informe um número: \"))\n",
    "if(a%2 == 0):\n",
    "    print('O numero é par')\n",
    "else:\n",
    "    print('O numero é Ímpar')\n",
    "\n",
    "print(f'Seu numero é: {a}')"
   ]
  },
  {
   "cell_type": "markdown",
   "metadata": {},
   "source": [
    "3 Converter temperatura de Celsius para Fahrenheit: Escreva um programa que converta uma temperatura em graus Celsius para Fahrenheit."
   ]
  },
  {
   "cell_type": "code",
   "execution_count": 1,
   "metadata": {},
   "outputs": [
    {
     "name": "stdout",
     "output_type": "stream",
     "text": [
      "Sua temperatura em Fahrenheit: 95.00°F \n",
      "Sua temperatura em Celsius: 35.00°C \n"
     ]
    }
   ],
   "source": [
    "c = float(input(\"Digite sua temperatura em Celsus: \"))\n",
    "fe = (c * 9/5) + 32\n",
    "\n",
    "print(f\"Sua temperatura em Fahrenheit: {fe:.2f}°F \")\n",
    "print(f\"Sua temperatura em Celsius: {c:.2f}°C \")"
   ]
  },
  {
   "cell_type": "markdown",
   "metadata": {},
   "source": [
    "4 Calcular o fatorial de um número: Crie uma função que calcule o fatorial de um número dado como entrada."
   ]
  },
  {
   "cell_type": "code",
   "execution_count": 4,
   "metadata": {},
   "outputs": [
    {
     "name": "stdout",
     "output_type": "stream",
     "text": [
      "3628800\n"
     ]
    }
   ],
   "source": [
    "numero = int(input(\"Fatorial de: \") )\n",
    "\n",
    "resultado=1\n",
    "count=1\n",
    "\n",
    "while count <= numero:\n",
    "    resultado *= count\n",
    "    count += 1\n",
    "\n",
    "print(resultado)"
   ]
  },
  {
   "cell_type": "markdown",
   "metadata": {},
   "source": [
    "5 Verificar se uma palavra é um palíndromo: Implemente um programa que verifique se uma palavra é um palíndromo, ou seja, se pode ser lida da mesma forma tanto da esquerda para a direita quanto da direita para a esquerda."
   ]
  },
  {
   "cell_type": "code",
   "execution_count": 11,
   "metadata": {},
   "outputs": [
    {
     "name": "stdout",
     "output_type": "stream",
     "text": [
      "A palavra 'Axa' é um palíndromo.\n"
     ]
    }
   ],
   "source": [
    "def verifica_palindromo(palavra):\n",
    "    palavra = palavra.lower().replace(\" \", \"\")\n",
    "    \n",
    "    if palavra == palavra[::-1]:\n",
    "        return True\n",
    "    else:\n",
    "        return False\n",
    "\n",
    "palavra = input(\"Digite uma palavra para verificar se é um palíndromo: \")\n",
    "\n",
    "if verifica_palindromo(palavra):\n",
    "    print(f\"A palavra '{palavra}' é um palíndromo.\")\n",
    "else:\n",
    "    print(f\"A palavra '{palavra}' não é um palíndromo.\")"
   ]
  },
  {
   "cell_type": "markdown",
   "metadata": {},
   "source": [
    "6 Contar a quantidade de vogais em uma palavra: Desenvolva uma função que receba uma palavra como entrada e retorne a quantidade de vogais presentes na palavra."
   ]
  },
  {
   "cell_type": "code",
   "execution_count": 2,
   "metadata": {},
   "outputs": [
    {
     "name": "stdout",
     "output_type": "stream",
     "text": [
      "A palavra 'Vinicius' tem 4 vogais.\n"
     ]
    }
   ],
   "source": [
    "palavra = input(\"Digite uma palavra: \")\n",
    "\n",
    "quantidade_vogais = sum(palavra.lower().count(vogal) for vogal in \"aeiou\")\n",
    "\n",
    "print(f\"A palavra '{palavra}' tem {quantidade_vogais} vogais.\")\n"
   ]
  },
  {
   "cell_type": "markdown",
   "metadata": {},
   "source": [
    "7 Encontrar o maior elemento em uma lista: Escreva um programa que encontre o maior elemento em uma lista de números."
   ]
  },
  {
   "cell_type": "code",
   "execution_count": 5,
   "metadata": {},
   "outputs": [
    {
     "name": "stdout",
     "output_type": "stream",
     "text": [
      "O maior elemento na lista é: 3.0\n"
     ]
    }
   ],
   "source": [
    "\n",
    "quantidade_numeros = int(input(\"Quantos números você gostaria de digitar? \"))\n",
    "\n",
    "\n",
    "numeros = []\n",
    "\n",
    "\n",
    "for i in range(quantidade_numeros):\n",
    "    numero = float(input(f\"Digite o {i + 1}º número: \"))\n",
    "    numeros.append(numero)\n",
    "\n",
    "\n",
    "maior_elemento = max(numeros)\n",
    "\n",
    "\n",
    "print(f\"O maior elemento na lista é: {maior_elemento}\")\n"
   ]
  },
  {
   "cell_type": "markdown",
   "metadata": {},
   "source": [
    "8 Ordenar uma lista em ordem crescente: Crie uma função que receba uma lista de números como entrada e retorne a mesma lista ordenada em ordem crescente."
   ]
  },
  {
   "cell_type": "code",
   "execution_count": 6,
   "metadata": {},
   "outputs": [
    {
     "name": "stdout",
     "output_type": "stream",
     "text": [
      "Lista ordenada em ordem crescente: [1.0, 2.0, 3.0, 4.0, 5.0, 6.0]\n"
     ]
    }
   ],
   "source": [
    "quantidade_numeros = int(input(\"Quantos números você gostaria de digitar? \"))\n",
    "\n",
    "numeros = []\n",
    "\n",
    "for i in range(quantidade_numeros):\n",
    "    numero = float(input(f\"Digite o {i + 1}º número: \"))\n",
    "    numeros.append(numero)\n",
    "\n",
    "numeros.sort()\n",
    "\n",
    "print(\"Lista ordenada em ordem crescente:\", numeros)\n"
   ]
  },
  {
   "cell_type": "markdown",
   "metadata": {},
   "source": [
    "9 Verificar se um número é primo: Implemente um programa que verifique se um número é primo, ou seja, se é divisível apenas por 1 e por ele mesmo."
   ]
  },
  {
   "cell_type": "code",
   "execution_count": 7,
   "metadata": {},
   "outputs": [
    {
     "name": "stdout",
     "output_type": "stream",
     "text": [
      "21 não é primo.\n"
     ]
    }
   ],
   "source": [
    "numero = int(input(\"Digite um número: \"))\n",
    "\n",
    "if numero > 1:\n",
    "    for i in range(2, int(numero**0.5) + 1):\n",
    "        if (numero % i) == 0:\n",
    "            print(f\"{numero} não é primo.\")\n",
    "            break\n",
    "    else:\n",
    "        print(f\"{numero} é primo.\")\n",
    "else:\n",
    "    print(f\"{numero} não é primo.\")\n"
   ]
  },
  {
   "cell_type": "markdown",
   "metadata": {},
   "source": [
    "10 Calcular o valor do juros compostos: Desenvolva uma função que calcule o valor final de um investimento com base em uma taxa de juros e um período de tempo."
   ]
  },
  {
   "cell_type": "code",
   "execution_count": 5,
   "metadata": {},
   "outputs": [
    {
     "name": "stdout",
     "output_type": "stream",
     "text": [
      "Valor do investimento inicial: 5000.00\n",
      "taxa de juros: 6.00\n",
      "perdio em anos: 5.00\n",
      "por ano: 6.00\n",
      "O valor final do investimento é: 5368709120000.00\n"
     ]
    }
   ],
   "source": [
    "principal = float(input(\"Digite o principal (quantia inicial): \"))\n",
    "taxa_juros = float(input(\"Digite a taxa de juros anual (em decimal): \"))\n",
    "periodos = float(input(\"Digite o número de anos: \"))\n",
    "vezes_compostos_ano = int(input(\"Digite o número de vezes que os juros são compostos por ano: \"))\n",
    "\n",
    "valor_final = principal * (1 + taxa_juros/vezes_compostos_ano)**(vezes_compostos_ano * periodos)\n",
    "\n",
    "print(f\"Valor do investimento inicial: {principal:.2f}\")\n",
    "print(f\"taxa de juros: {taxa_juros:.2f}\")\n",
    "print(f\"perdio em anos: {periodos:.2f}\")\n",
    "print(f\"por ano: {vezes_compostos_ano:.2f}\")\n",
    "print(f\"O valor final do investimento é: {valor_final:.2f}\")\n"
   ]
  }
 ],
 "metadata": {
  "kernelspec": {
   "display_name": "Python 3",
   "language": "python",
   "name": "python3"
  },
  "language_info": {
   "codemirror_mode": {
    "name": "ipython",
    "version": 3
   },
   "file_extension": ".py",
   "mimetype": "text/x-python",
   "name": "python",
   "nbconvert_exporter": "python",
   "pygments_lexer": "ipython3",
   "version": "3.11.6"
  }
 },
 "nbformat": 4,
 "nbformat_minor": 2
}
