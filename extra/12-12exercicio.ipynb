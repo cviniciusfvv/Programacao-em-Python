{
 "cells": [
  {
   "cell_type": "markdown",
   "metadata": {},
   "source": [
    "cadastrar e logar pelo bot\n",
    "carlosviniciusfvvalentim@gmail.com"
   ]
  },
  {
   "cell_type": "code",
   "execution_count": 15,
   "metadata": {},
   "outputs": [],
   "source": [
    "from selenium import webdriver\n",
    "from selenium.webdriver.common.by import By\n",
    "from selenium.webdriver.common.keys import Keys\n",
    "import time\n",
    "\n",
    "nav = webdriver.Chrome()\n",
    "nav.get('https://professoroscarjr.000webhostapp.com/delivery/index.php')\n",
    "time.sleep(1)\n",
    "\n",
    "cadastrar = nav.find_element(By.XPATH, '/html/body/div[1]/form/div/input').click()\n",
    "time.sleep(1)\n",
    "\n",
    "nome = nav.find_element(By.ID, 'fnome')\n",
    "nome.send_keys('Carlos V')\n",
    "time.sleep(1)\n",
    "\n",
    "email = nav.find_element(By.ID, 'email_id')\n",
    "email.send_keys('carlosviniciusfvvalent@gmail.com')\n",
    "time.sleep(1)\n",
    "\n",
    "senha1 = nav.find_element(By.NAME, 'pass')\n",
    "senha1.send_keys('712156')\n",
    "time.sleep(1)\n",
    "\n",
    "senha2 = nav.find_element(By.NAME, 'pass2')\n",
    "senha2.send_keys('712156')\n",
    "time.sleep(1)\n",
    "\n",
    "local = nav.find_element(By.ID, 'country')\n",
    "local.send_keys('USA')\n",
    "time.sleep(1)\n",
    "\n",
    "bcadastrar = nav.find_element(By.XPATH, '/html/body/div[1]/form/input[5]').click()\n",
    "time.sleep(1)\n",
    "\n",
    "user = nav.find_element(By.ID, 'email')\n",
    "user.send_keys('carlosviniciusfvvalent@gmail.com')\n",
    "senha = nav.find_element(By.ID, 'senha_id')\n",
    "senha.send_keys('712156')\n",
    "time.sleep(1)\n",
    "senha = nav.find_element(By.NAME, 'entrar').click()\n",
    "\n",
    "time.sleep(10)\n",
    "\n"
   ]
  }
 ],
 "metadata": {
  "kernelspec": {
   "display_name": "Python 3",
   "language": "python",
   "name": "python3"
  },
  "language_info": {
   "name": "python",
   "version": "3.7.8"
  }
 },
 "nbformat": 4,
 "nbformat_minor": 2
}
