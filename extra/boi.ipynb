{
 "cells": [
  {
   "cell_type": "markdown",
   "metadata": {},
   "source": [
    "Calculadora de leilão de bois"
   ]
  },
  {
   "cell_type": "code",
   "execution_count": 8,
   "metadata": {},
   "outputs": [
    {
     "name": "stdout",
     "output_type": "stream",
     "text": [
      "Valor da parcela: 460.20 \n",
      "Qauntidade de parcelas:  6\n",
      "Quantidade de cabeças: 10\n",
      "Valor total: 27612.00\n"
     ]
    }
   ],
   "source": [
    "valor = float(input(\"Digite o valor da parcela leião: \"))\n",
    "parcelas = int(input(\"Digite a quantidade de parcelas\"))\n",
    "quantidade = int(input(\"Quantidade de cabeças\"))\n",
    "resultado = (valor * parcelas) * quantidade\n",
    "\n",
    "print(f\"Valor da parcela: {valor:.2f} \")\n",
    "print(\"Qauntidade de parcelas: \", parcelas)\n",
    "print(\"Quantidade de cabeças:\", quantidade)\n",
    "print(f\"Valor total: {resultado:.2f}\")"
   ]
  }
 ],
 "metadata": {
  "kernelspec": {
   "display_name": "Python 3",
   "language": "python",
   "name": "python3"
  },
  "language_info": {
   "codemirror_mode": {
    "name": "ipython",
    "version": 3
   },
   "file_extension": ".py",
   "mimetype": "text/x-python",
   "name": "python",
   "nbconvert_exporter": "python",
   "pygments_lexer": "ipython3",
   "version": "3.11.6"
  }
 },
 "nbformat": 4,
 "nbformat_minor": 2
}
