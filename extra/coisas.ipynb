{
 "cells": [
  {
   "cell_type": "markdown",
   "metadata": {},
   "source": [
    "Calculadora de leilão de bois"
   ]
  },
  {
   "cell_type": "code",
   "execution_count": 10,
   "metadata": {},
   "outputs": [
    {
     "name": "stdout",
     "output_type": "stream",
     "text": [
      "Valor da parcela: 500.00 \n",
      "Qauntidade de parcelas:  6\n",
      "Quantidade de cabeças: 1\n",
      "Valor total: 3000.00\n"
     ]
    }
   ],
   "source": [
    "valor = float(input(\"Digite o valor da parcela leião: \"))\n",
    "parcelas = int(input(\"Digite a quantidade de parcelas\"))\n",
    "quantidade = int(input(\"Quantidade de cabeças\"))\n",
    "resultado = (valor * parcelas) * quantidade\n",
    "\n",
    "print(f\"Valor da parcela: {valor:.2f} \")\n",
    "print(\"Qauntidade de parcelas: \", parcelas)\n",
    "print(\"Quantidade de cabeças:\", quantidade)\n",
    "print(f\"Valor total: {resultado:.2f}\")"
   ]
  },
  {
   "cell_type": "markdown",
   "metadata": {},
   "source": [
    "Calculadora de faltas"
   ]
  },
  {
   "cell_type": "code",
   "execution_count": 11,
   "metadata": {},
   "outputs": [
    {
     "name": "stdout",
     "output_type": "stream",
     "text": [
      "Seu curso tem 80 Horas\n",
      "Então você pode ter 20 horas de falta\n",
      "Você pode ter 5 dia de falta\n"
     ]
    }
   ],
   "source": [
    "HC = int(input(\"Quntas horas tem seu curso\")) #Hora total do curso\n",
    "faltas = HC * (25/100) #quantidade de faltas em horas\n",
    "dia = faltas / 4 #quantidade de faltas em dias\n",
    "print(f\"Seu curso tem {HC} Horas\") #mostra hora total do curso\n",
    "print(f\"Então você pode ter {faltas:.0f} horas de falta\") #mostra o total de faltas em horas do curso\n",
    "print(f\"Você pode ter {dia:.0f} dia de falta\") #mostra o total de faltas em dias do curso"
   ]
  }
 ],
 "metadata": {
  "kernelspec": {
   "display_name": "Python 3",
   "language": "python",
   "name": "python3"
  },
  "language_info": {
   "codemirror_mode": {
    "name": "ipython",
    "version": 3
   },
   "file_extension": ".py",
   "mimetype": "text/x-python",
   "name": "python",
   "nbconvert_exporter": "python",
   "pygments_lexer": "ipython3",
   "version": "3.11.6"
  }
 },
 "nbformat": 4,
 "nbformat_minor": 2
}
