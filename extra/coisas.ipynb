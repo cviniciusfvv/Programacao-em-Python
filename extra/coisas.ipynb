{
 "cells": [
  {
   "cell_type": "markdown",
   "metadata": {},
   "source": [
    "Calculadora de leilão de bois"
   ]
  },
  {
   "cell_type": "code",
   "execution_count": 2,
   "metadata": {},
   "outputs": [
    {
     "name": "stdout",
     "output_type": "stream",
     "text": [
      "Valor da parcela: 1250.00 \n",
      "Qauntidade de parcelas:  35\n",
      "Quantidade de cabeças: 250\n",
      "Valor total: 10937500.00\n"
     ]
    }
   ],
   "source": [
    "valor = float(input(\"Digite o valor da parcela leião: \"))\n",
    "parcelas = int(input(\"Digite a quantidade de parcelas\"))\n",
    "quantidade = int(input(\"Quantidade de cabeças\"))\n",
    "resultado = (valor * parcelas) * quantidade\n",
    "\n",
    "print(f\"Valor da parcela: {valor:.2f} \")\n",
    "print(\"Qauntidade de parcelas: \", parcelas)\n",
    "print(\"Quantidade de cabeças:\", quantidade)\n",
    "print(f\"Valor total: {resultado:.2f}\")"
   ]
  },
  {
   "cell_type": "markdown",
   "metadata": {},
   "source": [
    "Calculadora de faltas e dias de cursos"
   ]
  },
  {
   "cell_type": "code",
   "execution_count": 1,
   "metadata": {},
   "outputs": [
    {
     "name": "stdout",
     "output_type": "stream",
     "text": [
      "Seu curso tem 800 Horas\n",
      "Então você pode ter 200 horas de falta\n",
      "ou pode ter 50 dia(s) de falta\n",
      "total de 200 dias do curso\n"
     ]
    }
   ],
   "source": [
    "import math\n",
    "\n",
    "HC = int(input(\"Quntas horas tem seu curso\")) #Hora total do curso\n",
    "faltas = HC * (25/100) #quantidade de faltas em horas\n",
    "dia = faltas / 4 #quantidade de faltas em dias\n",
    "tdias = HC / 4\n",
    "print(f\"Seu curso tem {HC} Horas\") #mostra hora total do curso\n",
    "print(f\"Então você pode ter {math.floor(faltas)} horas de falta\") #mostra o total de faltas em horas do curso\n",
    "print(f\"ou pode ter {math.floor(dia)} dia(s) de falta\") #mostra o total de faltas em dias do curso\n",
    "print(f\"total de {math.floor(tdias)} dias do curso\") #mostra o total em dias"
   ]
  },
  {
   "cell_type": "markdown",
   "metadata": {},
   "source": [
    "Calculadora de passe"
   ]
  },
  {
   "cell_type": "code",
   "execution_count": 2,
   "metadata": {},
   "outputs": [
    {
     "name": "stdout",
     "output_type": "stream",
     "text": [
      "Passe estudante: você tem 7 passe(s) de estudante\n",
      "Total de passe R$: 16.53\n"
     ]
    }
   ],
   "source": [
    "import math\n",
    "\n",
    "quant = float(input(\"Digite o valor do passe que tem R$: \"))\n",
    "tipop = int(input(\"Digite 1 para passe comum, ou, 2 para passe estudante\"))\n",
    "\n",
    "if tipop == 1:\n",
    "    qp1 = valorp / 5.45\n",
    "    qp2 = valorp / 5.90\n",
    "    print(f\"Passe comum: caso você pegue 2 ônibus, você tem {math.floor(qp1)} passe(s); caso você pegue 3 ônibus, você tem {math.floor(qp2)} passe(s)\")\n",
    "    print(f\"Total de passe R$: {valorp:.2f}\")\n",
    "elif tipop == 2:\n",
    "    qp3 = valorp / 2.18\n",
    "    print(f\"Passe estudante: você tem {math.floor(qp3)} passe(s) de estudante\")\n",
    "    print(f\"Total de passe R$: {valorp:.2f}\")\n",
    "else:\n",
    "    print(\"Porra marreco, só tem 2 casos\")\n"
   ]
  },
  {
   "cell_type": "code",
   "execution_count": 11,
   "metadata": {},
   "outputs": [
    {
     "name": "stdout",
     "output_type": "stream",
     "text": [
      "Total de viagens: 5 \n",
      "Total de passe R$: 10.90\n"
     ]
    }
   ],
   "source": [
    "\n",
    "quant = int(input(\"quantas viagens quer quer: \"))\n",
    "tipop = int(input(\"Digite 1 para passe comum, ou, 2 para passe estudante\"))\n",
    "\n",
    "if tipop == 1:\n",
    "    qp1 = quant * 5.45\n",
    "    qp2 = quant * 5.90\n",
    "    print(f\"Passe comum: caso você pegue 2 ônibus, você tem R$: {qp1:.2f}; caso você pegue 3 ônibus, você tem R$: {qp2:.2f}\")\n",
    "    print(f\"Total de viagens: {quant:.2f}\")\n",
    "elif tipop == 2:\n",
    "    qp3 = quant * 2.18\n",
    "    print(f\"Total de viagens: {quant:.0f} \")\n",
    "    print(f\"Total de passe R$: {qp3:.2f}\")\n",
    "else:\n",
    "    print(\"Porra marreco, só tem 2 casos\")"
   ]
  }
 ],
 "metadata": {
  "kernelspec": {
   "display_name": "Python 3",
   "language": "python",
   "name": "python3"
  },
  "language_info": {
   "codemirror_mode": {
    "name": "ipython",
    "version": 3
   },
   "file_extension": ".py",
   "mimetype": "text/x-python",
   "name": "python",
   "nbconvert_exporter": "python",
   "pygments_lexer": "ipython3",
   "version": "3.11.6"
  }
 },
 "nbformat": 4,
 "nbformat_minor": 2
}
