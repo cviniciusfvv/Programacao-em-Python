{
 "cells": [
  {
   "cell_type": "markdown",
   "metadata": {},
   "source": [
    "Calculadora de leilão de bois"
   ]
  },
  {
   "cell_type": "code",
   "execution_count": 2,
   "metadata": {},
   "outputs": [
    {
     "name": "stdout",
     "output_type": "stream",
     "text": [
      "Valor da parcela: 1250.00 \n",
      "Qauntidade de parcelas:  35\n",
      "Quantidade de cabeças: 250\n",
      "Valor total: 10937500.00\n"
     ]
    }
   ],
   "source": [
    "valor = float(input(\"Digite o valor da parcela leião: \"))\n",
    "parcelas = int(input(\"Digite a quantidade de parcelas\"))\n",
    "quantidade = int(input(\"Quantidade de cabeças\"))\n",
    "resultado = (valor * parcelas) * quantidade\n",
    "\n",
    "print(f\"Valor da parcela: {valor:.2f} \")\n",
    "print(\"Qauntidade de parcelas: \", parcelas)\n",
    "print(\"Quantidade de cabeças:\", quantidade)\n",
    "print(f\"Valor total: {resultado:.2f}\")"
   ]
  },
  {
   "cell_type": "markdown",
   "metadata": {},
   "source": [
    "Calculadora de faltas e dias de cursos"
   ]
  },
  {
   "cell_type": "code",
   "execution_count": 1,
   "metadata": {},
   "outputs": [
    {
     "name": "stdout",
     "output_type": "stream",
     "text": [
      "Seu curso tem 800 Horas\n",
      "Então você pode ter 200 horas de falta\n",
      "ou pode ter 50 dia(s) de falta\n",
      "total de 200 dias do curso\n"
     ]
    }
   ],
   "source": [
    "import math\n",
    "\n",
    "HC = int(input(\"Quntas horas tem seu curso\")) #Hora total do curso\n",
    "faltas = HC * (25/100) #quantidade de faltas em horas\n",
    "dia = faltas / 4 #quantidade de faltas em dias\n",
    "tdias = HC / 4\n",
    "print(f\"Seu curso tem {HC} Horas\") #mostra hora total do curso\n",
    "print(f\"Então você pode ter {math.floor(faltas)} horas de falta\") #mostra o total de faltas em horas do curso\n",
    "print(f\"ou pode ter {math.floor(dia)} dia(s) de falta\") #mostra o total de faltas em dias do curso\n",
    "print(f\"total de {math.floor(tdias)} dias do curso\") #mostra o total em dias"
   ]
  },
  {
   "cell_type": "markdown",
   "metadata": {},
   "source": [
    "Calculadora de passe"
   ]
  },
  {
   "cell_type": "code",
   "execution_count": 2,
   "metadata": {},
   "outputs": [
    {
     "name": "stdout",
     "output_type": "stream",
     "text": [
      "Passe estudante: você tem 7 passe(s) de estudante\n",
      "Total de passe R$: 16.53\n"
     ]
    }
   ],
   "source": [
    "import math\n",
    "\n",
    "valorp= float(input(\"Digite o valor do passe que tem R$: \"))\n",
    "tipop = int(input(\"Digite 1 para passe comum, ou, 2 para passe estudante\"))\n",
    "\n",
    "if tipop == 1:\n",
    "    qp1 = valorp / 5.45\n",
    "    qp2 = valorp / 5.90\n",
    "    print(f\"Passe comum: caso você pegue 2 ônibus, você tem {math.floor(qp1)} passe(s); caso você pegue 3 ônibus, você tem {math.floor(qp2)} passe(s)\")\n",
    "    print(f\"Total de passe R$: {valorp:.2f}\")\n",
    "elif tipop == 2:\n",
    "    qp3 = valorp / 2.18\n",
    "    print(f\"Passe estudante: você tem {math.floor(qp3)} passe(s) de estudante\")\n",
    "    print(f\"Total de passe R$: {valorp:.2f}\")\n",
    "else:\n",
    "    print(\"Porra marreco, só tem 2 casos\")\n"
   ]
  },
  {
   "cell_type": "code",
   "execution_count": 11,
   "metadata": {},
   "outputs": [
    {
     "name": "stdout",
     "output_type": "stream",
     "text": [
      "Total de viagens: 5 \n",
      "Total de passe R$: 10.90\n"
     ]
    }
   ],
   "source": [
    "\n",
    "quant = int(input(\"quantas viagens quer quer: \"))\n",
    "tipop = int(input(\"Digite 1 para passe comum, ou, 2 para passe estudante\"))\n",
    "\n",
    "if tipop == 1:\n",
    "    qp1 = quant * 5.45\n",
    "    qp2 = quant * 5.90\n",
    "    print(f\"Passe comum: caso você pegue 2 ônibus, você tem R$: {qp1:.2f}; caso você pegue 3 ônibus, você tem R$: {qp2:.2f}\")\n",
    "    print(f\"Total de viagens: {quant:.2f}\")\n",
    "elif tipop == 2:\n",
    "    qp3 = quant * 2.18\n",
    "    print(f\"Total de viagens: {quant:.0f} \")\n",
    "    print(f\"Total de passe R$: {qp3:.2f}\")\n",
    "else:\n",
    "    print(\"Porra marreco, só tem 2 casos\")"
   ]
  },
  {
   "cell_type": "code",
   "execution_count": 2,
   "metadata": {},
   "outputs": [
    {
     "name": "stdout",
     "output_type": "stream",
     "text": [
      "Total de viagens: 200\n",
      "Total de passe R$: 436.00\n"
     ]
    }
   ],
   "source": [
    "import math\n",
    "\n",
    "op = int(input(\"Qual opção você quer: 1 - saldo viagem, 2 - viagem saldo\")) #escolha entre o quanto de dinhero em viagens ou viagens em dinheiro\n",
    "\n",
    "if op == 1: # saldo viagem\n",
    "    valorp = float(input(\"Digite o valor do passe que tem R$: \"))\n",
    "    tipop = int(input(\"Digite 1 para passe comum, ou, 2 para passe estudante médio/técnico, ou, 3 passe estudante universitario\"))\n",
    "\n",
    "    if tipop == 1: #passe comum\n",
    "        qp1 = valorp / 5.45\n",
    "        qp2 = valorp / 5.90\n",
    "        print(f\"Passe comum: caso você pegue 2 ônibus, você tem {math.floor(qp1)} passe(s); caso você pegue 3 ônibus, você tem {math.floor(qp2)} passe(s)\")\n",
    "        print(f\"Total de passe R$: {valorp:.2f}\")\n",
    "    elif tipop == 2: #passe estudante médio/técnico\n",
    "        qp3 = valorp / 2.18\n",
    "        print(f\"Passe estudante: você tem {math.floor(qp3)} passe(s) de estudante médio/técnico, pois você paga 40% do passe\")\n",
    "        print(f\"Total de passe R$: {valorp:.2f}\")\n",
    "    elif tipop == 3: #passe estudante universitario\n",
    "        qp4 = valorp / 2.73\n",
    "        print(f\"Passe estudante: você tem {math.floor(qp4)} passe(s) de estudante universitario, pois você paga 50% do passe\")\n",
    "        print(f\"Total de passe R$: {valorp:.2f}\")\n",
    "    else:\n",
    "        print(\"Opção não existe\")\n",
    "\n",
    "elif op == 2:\n",
    "    quant = int(input(\"Quantas viagens quer fazer: \"))\n",
    "    tipop = int(input(\"Digite 1 para passe comum, ou, 2 para passe estudante médio/técnico, ou, 3 passe estudante universitario\"))\n",
    "\n",
    "    if tipop == 1:\n",
    "        qp1 = quant * 5.45\n",
    "        qp2 = quant * 5.90\n",
    "        print(f\"Passe comum: caso você pegue 2 ônibus, você tem R$: {qp1:.2f}; caso você pegue 3 ônibus, você tem R$: {qp2:.2f}\")\n",
    "        print(f\"Total de viagens: {quant}\")\n",
    "    elif tipop == 2:\n",
    "        qp3 = quant * 2.18\n",
    "        print(f\"Total de viagens: {quant}\")\n",
    "        print(f\"Total de passe R$: {qp3:.2f}\")\n",
    "    elif tipop == 3: #passe estudante universitario\n",
    "        qp4 = valorp * 2.73\n",
    "        print(f\"Passe estudante: você tem {math.floor(qp4)} passe(s) de estudante universitario, pois você paga 50% do passe\")\n",
    "        print(f\"Total de passe R$: {valorp:.2f}\")\n",
    "    else:\n",
    "        print(\"Opção não existe\")\n",
    "\n",
    "else:\n",
    "    print(\"Opção não existe\")\n"
   ]
  },
  {
   "cell_type": "code",
   "execution_count": 23,
   "metadata": {},
   "outputs": [
    {
     "name": "stdout",
     "output_type": "stream",
     "text": [
      "6 é composto.\n"
     ]
    }
   ],
   "source": [
    "import random\n",
    "\n",
    "def mod_exp(base, exp, mod):\n",
    "    result = 1\n",
    "    base = base % mod\n",
    "    while exp > 0:\n",
    "        if exp % 2 == 1:\n",
    "            result = (result * base) % mod\n",
    "        exp = exp // 2\n",
    "        base = (base * base) % mod\n",
    "    return result\n",
    "\n",
    "def fermat_test(n, k=5):\n",
    "    if n == 2 or n == 3:\n",
    "        return True\n",
    "\n",
    "    if n <= 1 or n % 2 == 0:\n",
    "        return False\n",
    "\n",
    "    for _ in range(k):\n",
    "        a = random.randint(2, n - 2)\n",
    "        if mod_exp(a, n - 1, n) != 1:\n",
    "            return False\n",
    "\n",
    "    return True\n",
    "\n",
    "# Solicita ao usuário inserir um número\n",
    "numero_usuario = int(input(\"Digite um número para verificar se é primo: \"))\n",
    "\n",
    "# Executa o teste de Fermat\n",
    "if fermat_test(numero_usuario):\n",
    "    print(f\"{numero_usuario} é provavelmente primo.\")\n",
    "else:\n",
    "    print(f\"{numero_usuario} é composto.\")\n"
   ]
  }
 ],
 "metadata": {
  "kernelspec": {
   "display_name": "Python 3",
   "language": "python",
   "name": "python3"
  },
  "language_info": {
   "codemirror_mode": {
    "name": "ipython",
    "version": 3
   },
   "file_extension": ".py",
   "mimetype": "text/x-python",
   "name": "python",
   "nbconvert_exporter": "python",
   "pygments_lexer": "ipython3",
   "version": "3.11.6"
  }
 },
 "nbformat": 4,
 "nbformat_minor": 2
}
