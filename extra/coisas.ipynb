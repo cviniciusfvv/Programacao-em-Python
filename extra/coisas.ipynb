{
 "cells": [
  {
   "cell_type": "code",
   "execution_count": 1,
   "metadata": {},
   "outputs": [
    {
     "name": "stdout",
     "output_type": "stream",
     "text": [
      "Defaulting to user installation because normal site-packages is not writeable\n",
      "Collecting selenium\n",
      "  Downloading selenium-4.11.2-py3-none-any.whl.metadata (7.0 kB)\n",
      "Requirement already satisfied: urllib3<3,>=1.26 in c:\\users\\aluno\\appdata\\roaming\\python\\python37\\site-packages (from urllib3[socks]<3,>=1.26->selenium) (2.0.7)\n",
      "Collecting trio~=0.17 (from selenium)\n",
      "  Downloading trio-0.22.2-py3-none-any.whl.metadata (4.7 kB)\n",
      "Collecting trio-websocket~=0.9 (from selenium)\n",
      "  Downloading trio_websocket-0.11.1-py3-none-any.whl.metadata (4.7 kB)\n",
      "Requirement already satisfied: certifi>=2021.10.8 in c:\\users\\aluno\\appdata\\roaming\\python\\python37\\site-packages (from selenium) (2023.11.17)\n",
      "Requirement already satisfied: attrs>=20.1.0 in c:\\users\\aluno\\appdata\\roaming\\python\\python37\\site-packages (from trio~=0.17->selenium) (23.1.0)\n",
      "Collecting sortedcontainers (from trio~=0.17->selenium)\n",
      "  Downloading sortedcontainers-2.4.0-py2.py3-none-any.whl (29 kB)\n",
      "Requirement already satisfied: idna in c:\\users\\aluno\\appdata\\roaming\\python\\python37\\site-packages (from trio~=0.17->selenium) (3.6)\n",
      "Collecting outcome (from trio~=0.17->selenium)\n",
      "  Downloading outcome-1.3.0.post0-py2.py3-none-any.whl.metadata (2.6 kB)\n",
      "Requirement already satisfied: sniffio in c:\\users\\aluno\\appdata\\roaming\\python\\python37\\site-packages (from trio~=0.17->selenium) (1.3.0)\n",
      "Collecting cffi>=1.14 (from trio~=0.17->selenium)\n",
      "  Downloading cffi-1.15.1-cp37-cp37m-win_amd64.whl (179 kB)\n",
      "     ------------------------------------ 179.3/179.3 kB 676.2 kB/s eta 0:00:00\n",
      "Requirement already satisfied: exceptiongroup>=1.0.0rc9 in c:\\users\\aluno\\appdata\\roaming\\python\\python37\\site-packages (from trio~=0.17->selenium) (1.2.0)\n",
      "Collecting wsproto>=0.14 (from trio-websocket~=0.9->selenium)\n",
      "  Downloading wsproto-1.2.0-py3-none-any.whl (24 kB)\n",
      "Collecting pysocks!=1.5.7,<2.0,>=1.5.6 (from urllib3[socks]<3,>=1.26->selenium)\n",
      "  Downloading PySocks-1.7.1-py3-none-any.whl (16 kB)\n",
      "Requirement already satisfied: importlib-metadata in c:\\users\\aluno\\appdata\\roaming\\python\\python37\\site-packages (from attrs>=20.1.0->trio~=0.17->selenium) (6.7.0)\n",
      "Collecting pycparser (from cffi>=1.14->trio~=0.17->selenium)\n",
      "  Downloading pycparser-2.21-py2.py3-none-any.whl (118 kB)\n",
      "     ------------------------------------ 118.7/118.7 kB 867.7 kB/s eta 0:00:00\n",
      "Collecting h11<1,>=0.9.0 (from wsproto>=0.14->trio-websocket~=0.9->selenium)\n",
      "  Downloading h11-0.14.0-py3-none-any.whl (58 kB)\n",
      "     -------------------------------------- 58.3/58.3 kB 384.2 kB/s eta 0:00:00\n",
      "Requirement already satisfied: typing-extensions in c:\\users\\aluno\\appdata\\roaming\\python\\python37\\site-packages (from h11<1,>=0.9.0->wsproto>=0.14->trio-websocket~=0.9->selenium) (4.7.1)\n",
      "Requirement already satisfied: zipp>=0.5 in c:\\users\\aluno\\appdata\\roaming\\python\\python37\\site-packages (from importlib-metadata->attrs>=20.1.0->trio~=0.17->selenium) (3.15.0)\n",
      "Downloading selenium-4.11.2-py3-none-any.whl (7.2 MB)\n",
      "   ---------------------------------------- 7.2/7.2 MB 2.8 MB/s eta 0:00:00\n",
      "Downloading trio-0.22.2-py3-none-any.whl (400 kB)\n",
      "   -------------------------------------- 400.2/400.2 kB 356.5 kB/s eta 0:00:00\n",
      "Downloading trio_websocket-0.11.1-py3-none-any.whl (17 kB)\n",
      "Downloading outcome-1.3.0.post0-py2.py3-none-any.whl (10 kB)\n",
      "Installing collected packages: sortedcontainers, pysocks, pycparser, h11, wsproto, cffi, outcome, trio, trio-websocket, selenium\n",
      "Successfully installed cffi-1.15.1 h11-0.14.0 outcome-1.3.0.post0 pycparser-2.21 pysocks-1.7.1 selenium-4.11.2 sortedcontainers-2.4.0 trio-0.22.2 trio-websocket-0.11.1 wsproto-1.2.0\n",
      "Note: you may need to restart the kernel to use updated packages.\n"
     ]
    }
   ],
   "source": [
    "pip install selenium"
   ]
  },
  {
   "cell_type": "code",
   "execution_count": 1,
   "metadata": {},
   "outputs": [
    {
     "name": "stdout",
     "output_type": "stream",
     "text": [
      "Valor da parcela: 500.00 \n",
      "Quantidade de parcelas:  6\n",
      "Valor total: 60000.00\n",
      "Quantidade de cabeças: 20\n",
      "Valor por cabeça: 3000.00\n",
      "Até mais, marreco\n"
     ]
    }
   ],
   "source": [
    "while True:\n",
    "    valor = float(input(\"Digite o valor da parcela do leilão: \"))\n",
    "    parcelas = int(input(\"Digite a quantidade de parcelas: \"))\n",
    "    quantidade = int(input(\"Quantidade de cabeças: \"))\n",
    "    \n",
    "    resultado = (valor * parcelas) * quantidade\n",
    "    valorcabe = resultado / quantidade\n",
    "\n",
    "    print(f\"Valor da parcela: {valor:.2f} \")\n",
    "    print(\"Quantidade de parcelas: \", parcelas)\n",
    "    print(f\"Valor total: {resultado:.2f}\")\n",
    "    print(\"Quantidade de cabeças:\", quantidade)\n",
    "    print(f\"Valor por cabeça: {valorcabe:.2f}\")\n",
    "\n",
    "    continuar = input(\"Deseja continuar? (S para sim, qualquer outra tecla para não): \").upper()\n",
    "    \n",
    "    if continuar != 'S':\n",
    "        print(\"Até mais, marreco\")\n",
    "        break"
   ]
  },
  {
   "cell_type": "markdown",
   "metadata": {},
   "source": [
    "Calculadora de faltas e dias de cursos"
   ]
  },
  {
   "cell_type": "code",
   "execution_count": 6,
   "metadata": {},
   "outputs": [
    {
     "name": "stdout",
     "output_type": "stream",
     "text": [
      "Seu curso tem 180 Horas\n",
      "Então você pode ter 45 horas de falta\n",
      "ou pode ter 11 dia(s) de falta\n",
      "total de 45 dias do curso\n"
     ]
    }
   ],
   "source": [
    "import math\n",
    "\n",
    "HC = int(input(\"Quntas horas tem seu curso\")) #Hora total do curso\n",
    "faltas = HC * (25/100) #quantidade de faltas em horas\n",
    "dia = faltas / 4 #quantidade de faltas em dias\n",
    "tdias = HC / 4\n",
    "print(f\"Seu curso tem {HC} Horas\") #mostra hora total do curso\n",
    "print(f\"Então você pode ter {math.floor(faltas)} horas de falta\") #mostra o total de faltas em horas do curso\n",
    "print(f\"ou pode ter {math.floor(dia)} dia(s) de falta\") #mostra o total de faltas em dias do curso\n",
    "print(f\"total de {math.floor(tdias)} dias do curso\") #mostra o total em dias"
   ]
  },
  {
   "cell_type": "markdown",
   "metadata": {},
   "source": [
    "Calculadora de passe"
   ]
  },
  {
   "cell_type": "code",
   "execution_count": 2,
   "metadata": {},
   "outputs": [
    {
     "name": "stdout",
     "output_type": "stream",
     "text": [
      "Passe estudante: você tem 7 passe(s) de estudante\n",
      "Total de passe R$: 16.53\n"
     ]
    }
   ],
   "source": [
    "import math\n",
    "\n",
    "valorp= float(input(\"Digite o valor do passe que tem R$: \"))\n",
    "tipop = int(input(\"Digite 1 para passe comum, ou, 2 para passe estudante\"))\n",
    "\n",
    "if tipop == 1:\n",
    "    qp1 = valorp / 5.45\n",
    "    qp2 = valorp / 5.90\n",
    "    print(f\"Passe comum: caso você pegue 2 ônibus, você tem {math.floor(qp1)} passe(s); caso você pegue 3 ônibus, você tem {math.floor(qp2)} passe(s)\")\n",
    "    print(f\"Total de passe R$: {valorp:.2f}\")\n",
    "elif tipop == 2:\n",
    "    qp3 = valorp / 2.18\n",
    "    print(f\"Passe estudante: você tem {math.floor(qp3)} passe(s) de estudante\")\n",
    "    print(f\"Total de passe R$: {valorp:.2f}\")\n",
    "else:\n",
    "    print(\"Porra marreco, só tem 2 casos\")\n"
   ]
  },
  {
   "cell_type": "code",
   "execution_count": 11,
   "metadata": {},
   "outputs": [
    {
     "name": "stdout",
     "output_type": "stream",
     "text": [
      "Total de viagens: 5 \n",
      "Total de passe R$: 10.90\n"
     ]
    }
   ],
   "source": [
    "\n",
    "quant = int(input(\"quantas viagens quer quer: \"))\n",
    "tipop = int(input(\"Digite 1 para passe comum, ou, 2 para passe estudante\"))\n",
    "\n",
    "if tipop == 1:\n",
    "    qp1 = quant * 5.45\n",
    "    qp2 = quant * 5.90\n",
    "    print(f\"Passe comum: caso você pegue 2 ônibus, você tem R$: {qp1:.2f}; caso você pegue 3 ônibus, você tem R$: {qp2:.2f}\")\n",
    "    print(f\"Total de viagens: {quant:.2f}\")\n",
    "elif tipop == 2:\n",
    "    qp3 = quant * 2.18\n",
    "    print(f\"Total de viagens: {quant:.0f} \")\n",
    "    print(f\"Total de passe R$: {qp3:.2f}\")\n",
    "else:\n",
    "    print(\"Porra marreco, só tem 2 casos\")"
   ]
  },
  {
   "cell_type": "code",
   "execution_count": null,
   "metadata": {},
   "outputs": [],
   "source": [
    "import math\n",
    "\n",
    "while True:\n",
    "    op = int(input(\"Qual opção você quer: 1 - saldo viagem, 2 - viagem saldo, 0 - sair: \"))\n",
    "\n",
    "    if op == 0:\n",
    "        print(\"Saindo do programa. Até mais!\")\n",
    "        break  # Encerra o loop\n",
    "    if op == 1:  # saldo viagem\n",
    "        while True:\n",
    "            tipop = int(input(\"Digite 1 para passe comum, 2 para passe estudante médio/técnico, 3 passe estudante universitario, 0 - sair: \"))\n",
    "            \n",
    "            if tipop == 0:\n",
    "                print(\"Saindo do programa. Até mais!\")\n",
    "                break  # Encerra o loop interno\n",
    "            valorp = float(input(\"Digite o valor do passe que tem R$: \"))\n",
    "            if tipop == 1:  # passe comum\n",
    "                qp1 = valorp / 5.45\n",
    "                qp2 = valorp / 5.90\n",
    "                print(f\"Passe comum: caso você pegue 2 ônibus, você tem {math.floor(qp1)} passe(s); caso você pegue 3 ônibus, você tem {math.floor(qp2)} passe(s)\")\n",
    "                print(f\"Total de passe R$: {valorp:.2f}\")\n",
    "            elif tipop == 2:  # passe estudante médio/técnico\n",
    "                qp3 = valorp / 2.18\n",
    "                print(f\"Passe estudante: você tem {math.floor(qp3)} passe(s) de estudante médio/técnico, pois você paga 40% do passe\")\n",
    "                print(f\"Total de passe R$: {valorp:.2f}\")\n",
    "            elif tipop == 3:  # passe estudante universitário\n",
    "                qp4 = valorp / 2.73\n",
    "                print(f\"Passe estudante: você tem {math.floor(qp4)} passe(s) de estudante universitario, pois você paga 50% do passe\")\n",
    "                print(f\"Total de passe R$: {valorp:.2f}\")\n",
    "            else:\n",
    "                print(\"Opção não existe\")\n",
    "    elif op == 2:\n",
    "        while True:\n",
    "            tipop = int(input(\"Digite 1 para passe comum, 2 para passe estudante médio/técnico, 3 passe estudante universitario, 0 - sair: \"))\n",
    "\n",
    "            if tipop == 0:\n",
    "                print(\"Saindo do programa. Até mais!\")\n",
    "                break  # Encerra o loop interno\n",
    "            quant = int(input(\"Quantas viagens quer fazer: \"))\n",
    "            if tipop == 1:\n",
    "                qp1 = quant * 5.45\n",
    "                qp2 = quant * 5.90\n",
    "                print(f\"Passe comum: caso você pegue 2 ônibus, você tem R$: {qp1:.2f}; caso você pegue 3 ônibus, você tem R$: {qp2:.2f}\")\n",
    "                print(f\"Total de viagens: {quant}\")\n",
    "            elif tipop == 2:\n",
    "                qp3 = quant * 2.18\n",
    "                print(f\"Total de viagens: {quant}\")\n",
    "                print(f\"Total de passe R$: {qp3:.2f}\")\n",
    "            elif tipop == 3:  # passe estudante universitário\n",
    "                qp4 = quant * 2.73\n",
    "                print(f\"Total de viagens: {quant}\")\n",
    "                print(f\"Total de passe R$: {qp4:.2f}\")\n",
    "            else:\n",
    "                print(\"Opção não existe\")\n",
    "    else:\n",
    "        print(\"Opção não existe\")\n"
   ]
  }
 ],
 "metadata": {
  "kernelspec": {
   "display_name": "Python 3",
   "language": "python",
   "name": "python3"
  },
  "language_info": {
   "codemirror_mode": {
    "name": "ipython",
    "version": 3
   },
   "file_extension": ".py",
   "mimetype": "text/x-python",
   "name": "python",
   "nbconvert_exporter": "python",
   "pygments_lexer": "ipython3",
   "version": "3.11.7"
  }
 },
 "nbformat": 4,
 "nbformat_minor": 2
}
