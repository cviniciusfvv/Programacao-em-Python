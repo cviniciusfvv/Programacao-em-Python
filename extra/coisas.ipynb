{
 "cells": [
  {
   "cell_type": "markdown",
   "metadata": {},
   "source": [
    "Calculadora de leilão de bois"
   ]
  },
  {
   "cell_type": "code",
   "execution_count": 1,
   "metadata": {},
   "outputs": [
    {
     "name": "stdout",
     "output_type": "stream",
     "text": [
      "Valor da parcela: 50.00 \n",
      "Qauntidade de parcelas:  36\n",
      "Quantidade de cabeças: 20\n",
      "Valor total: 36000.00\n"
     ]
    },
    {
     "ename": "SyntaxError",
     "evalue": "'break' outside loop (3643402680.py, line 14)",
     "output_type": "error",
     "traceback": [
      "\u001b[1;36m  Cell \u001b[1;32mIn[1], line 14\u001b[1;36m\u001b[0m\n\u001b[1;33m    break\u001b[0m\n\u001b[1;37m    ^\u001b[0m\n\u001b[1;31mSyntaxError\u001b[0m\u001b[1;31m:\u001b[0m 'break' outside loop\n"
     ]
    }
   ],
   "source": [
    "while True:\n",
    "    valor = float(input(\"Digite o valor da parcela do leilão: \"))\n",
    "    parcelas = int(input(\"Digite a quantidade de parcelas: \"))\n",
    "    quantidade = int(input(\"Quantidade de cabeças: \"))\n",
    "    \n",
    "    resultado = (valor * parcelas) * quantidade\n",
    "\n",
    "    print(f\"Valor da parcela: {valor:.2f} \")\n",
    "    print(\"Quantidade de parcelas: \", parcelas)\n",
    "    print(\"Quantidade de cabeças:\", quantidade)\n",
    "    print(f\"Valor total: {resultado:.2f}\")\n",
    "\n",
    "    continuar = input(\"Deseja continuar? (S para sim, qualquer outra tecla para não): \").upper()\n",
    "    \n",
    "    if continuar != 'S':\n",
    "        print(\"Até mais, marreco\")\n",
    "        break"
   ]
  },
  {
   "cell_type": "markdown",
   "metadata": {},
   "source": [
    "Calculadora de faltas e dias de cursos"
   ]
  },
  {
   "cell_type": "code",
   "execution_count": 1,
   "metadata": {},
   "outputs": [
    {
     "name": "stdout",
     "output_type": "stream",
     "text": [
      "Seu curso tem 800 Horas\n",
      "Então você pode ter 200 horas de falta\n",
      "ou pode ter 50 dia(s) de falta\n",
      "total de 200 dias do curso\n"
     ]
    }
   ],
   "source": [
    "import math\n",
    "\n",
    "HC = int(input(\"Quntas horas tem seu curso\")) #Hora total do curso\n",
    "faltas = HC * (25/100) #quantidade de faltas em horas\n",
    "dia = faltas / 4 #quantidade de faltas em dias\n",
    "tdias = HC / 4\n",
    "print(f\"Seu curso tem {HC} Horas\") #mostra hora total do curso\n",
    "print(f\"Então você pode ter {math.floor(faltas)} horas de falta\") #mostra o total de faltas em horas do curso\n",
    "print(f\"ou pode ter {math.floor(dia)} dia(s) de falta\") #mostra o total de faltas em dias do curso\n",
    "print(f\"total de {math.floor(tdias)} dias do curso\") #mostra o total em dias"
   ]
  },
  {
   "cell_type": "markdown",
   "metadata": {},
   "source": [
    "Calculadora de passe"
   ]
  },
  {
   "cell_type": "code",
   "execution_count": 2,
   "metadata": {},
   "outputs": [
    {
     "name": "stdout",
     "output_type": "stream",
     "text": [
      "Passe estudante: você tem 7 passe(s) de estudante\n",
      "Total de passe R$: 16.53\n"
     ]
    }
   ],
   "source": [
    "import math\n",
    "\n",
    "valorp= float(input(\"Digite o valor do passe que tem R$: \"))\n",
    "tipop = int(input(\"Digite 1 para passe comum, ou, 2 para passe estudante\"))\n",
    "\n",
    "if tipop == 1:\n",
    "    qp1 = valorp / 5.45\n",
    "    qp2 = valorp / 5.90\n",
    "    print(f\"Passe comum: caso você pegue 2 ônibus, você tem {math.floor(qp1)} passe(s); caso você pegue 3 ônibus, você tem {math.floor(qp2)} passe(s)\")\n",
    "    print(f\"Total de passe R$: {valorp:.2f}\")\n",
    "elif tipop == 2:\n",
    "    qp3 = valorp / 2.18\n",
    "    print(f\"Passe estudante: você tem {math.floor(qp3)} passe(s) de estudante\")\n",
    "    print(f\"Total de passe R$: {valorp:.2f}\")\n",
    "else:\n",
    "    print(\"Porra marreco, só tem 2 casos\")\n"
   ]
  },
  {
   "cell_type": "code",
   "execution_count": 11,
   "metadata": {},
   "outputs": [
    {
     "name": "stdout",
     "output_type": "stream",
     "text": [
      "Total de viagens: 5 \n",
      "Total de passe R$: 10.90\n"
     ]
    }
   ],
   "source": [
    "\n",
    "quant = int(input(\"quantas viagens quer quer: \"))\n",
    "tipop = int(input(\"Digite 1 para passe comum, ou, 2 para passe estudante\"))\n",
    "\n",
    "if tipop == 1:\n",
    "    qp1 = quant * 5.45\n",
    "    qp2 = quant * 5.90\n",
    "    print(f\"Passe comum: caso você pegue 2 ônibus, você tem R$: {qp1:.2f}; caso você pegue 3 ônibus, você tem R$: {qp2:.2f}\")\n",
    "    print(f\"Total de viagens: {quant:.2f}\")\n",
    "elif tipop == 2:\n",
    "    qp3 = quant * 2.18\n",
    "    print(f\"Total de viagens: {quant:.0f} \")\n",
    "    print(f\"Total de passe R$: {qp3:.2f}\")\n",
    "else:\n",
    "    print(\"Porra marreco, só tem 2 casos\")"
   ]
  },
  {
   "cell_type": "code",
   "execution_count": 1,
   "metadata": {},
   "outputs": [
    {
     "name": "stdout",
     "output_type": "stream",
     "text": [
      "Passe estudante: você tem 229 passe(s) de estudante médio/técnico, pois você paga 40% do passe\n",
      "Total de passe R$: 500.00\n",
      "Saindo do programa. Até mais!\n",
      "Saindo do programa. Até mais!\n",
      "Saindo do programa. Até mais!\n"
     ]
    }
   ],
   "source": [
    "import math\n",
    "\n",
    "while True:\n",
    "    op = int(input(\"Qual opção você quer: 1 - saldo viagem, 2 - viagem saldo, 0 - sair: \"))\n",
    "\n",
    "    if op == 0:\n",
    "        print(\"Saindo do programa. Até mais!\")\n",
    "        break  # Encerra o loop\n",
    "    if op == 1:  # saldo viagem\n",
    "        while True:\n",
    "            tipop = int(input(\"Digite 1 para passe comum, 2 para passe estudante médio/técnico, 3 passe estudante universitario, 0 - sair: \"))\n",
    "            \n",
    "            if tipop == 0:\n",
    "                print(\"Saindo do programa. Até mais!\")\n",
    "                break  # Encerra o loop interno\n",
    "            valorp = float(input(\"Digite o valor do passe que tem R$: \"))\n",
    "            if tipop == 1:  # passe comum\n",
    "                qp1 = valorp / 5.45\n",
    "                qp2 = valorp / 5.90\n",
    "                print(f\"Passe comum: caso você pegue 2 ônibus, você tem {math.floor(qp1)} passe(s); caso você pegue 3 ônibus, você tem {math.floor(qp2)} passe(s)\")\n",
    "                print(f\"Total de passe R$: {valorp:.2f}\")\n",
    "            elif tipop == 2:  # passe estudante médio/técnico\n",
    "                qp3 = valorp / 2.18\n",
    "                print(f\"Passe estudante: você tem {math.floor(qp3)} passe(s) de estudante médio/técnico, pois você paga 40% do passe\")\n",
    "                print(f\"Total de passe R$: {valorp:.2f}\")\n",
    "            elif tipop == 3:  # passe estudante universitário\n",
    "                qp4 = valorp / 2.73\n",
    "                print(f\"Passe estudante: você tem {math.floor(qp4)} passe(s) de estudante universitario, pois você paga 50% do passe\")\n",
    "                print(f\"Total de passe R$: {valorp:.2f}\")\n",
    "            else:\n",
    "                print(\"Opção não existe\")\n",
    "    elif op == 2:\n",
    "        while True:\n",
    "            tipop = int(input(\"Digite 1 para passe comum, 2 para passe estudante médio/técnico, 3 passe estudante universitario, 0 - sair: \"))\n",
    "\n",
    "            if tipop == 0:\n",
    "                print(\"Saindo do programa. Até mais!\")\n",
    "                break  # Encerra o loop interno\n",
    "            quant = int(input(\"Quantas viagens quer fazer: \"))\n",
    "            if tipop == 1:\n",
    "                qp1 = quant * 5.45\n",
    "                qp2 = quant * 5.90\n",
    "                print(f\"Passe comum: caso você pegue 2 ônibus, você tem R$: {qp1:.2f}; caso você pegue 3 ônibus, você tem R$: {qp2:.2f}\")\n",
    "                print(f\"Total de viagens: {quant}\")\n",
    "            elif tipop == 2:\n",
    "                qp3 = quant * 2.18\n",
    "                print(f\"Total de viagens: {quant}\")\n",
    "                print(f\"Total de passe R$: {qp3:.2f}\")\n",
    "            elif tipop == 3:  # passe estudante universitário\n",
    "                qp4 = quant * 2.73\n",
    "                print(f\"Total de viagens: {quant}\")\n",
    "                print(f\"Total de passe R$: {qp4:.2f}\")\n",
    "            else:\n",
    "                print(\"Opção não existe\")\n",
    "    else:\n",
    "        print(\"Opção não existe\")\n"
   ]
  }
 ],
 "metadata": {
  "kernelspec": {
   "display_name": "Python 3",
   "language": "python",
   "name": "python3"
  },
  "language_info": {
   "codemirror_mode": {
    "name": "ipython",
    "version": 3
   },
   "file_extension": ".py",
   "mimetype": "text/x-python",
   "name": "python",
   "nbconvert_exporter": "python",
   "pygments_lexer": "ipython3",
   "version": "3.12.0"
  }
 },
 "nbformat": 4,
 "nbformat_minor": 2
}
