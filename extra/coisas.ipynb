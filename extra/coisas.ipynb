{
 "cells": [
  {
   "cell_type": "code",
   "execution_count": 1,
   "metadata": {},
   "outputs": [
    {
     "name": "stdout",
     "output_type": "stream",
     "text": [
      "Requirement already satisfied: selenium in c:\\users\\carlo\\appdata\\local\\programs\\python\\python312\\lib\\site-packages (4.18.1)\n",
      "Requirement already satisfied: urllib3<3,>=1.26 in c:\\users\\carlo\\appdata\\local\\programs\\python\\python312\\lib\\site-packages (from urllib3[socks]<3,>=1.26->selenium) (2.2.1)\n",
      "Requirement already satisfied: trio~=0.17 in c:\\users\\carlo\\appdata\\local\\programs\\python\\python312\\lib\\site-packages (from selenium) (0.24.0)\n",
      "Requirement already satisfied: trio-websocket~=0.9 in c:\\users\\carlo\\appdata\\local\\programs\\python\\python312\\lib\\site-packages (from selenium) (0.11.1)\n",
      "Requirement already satisfied: certifi>=2021.10.8 in c:\\users\\carlo\\appdata\\local\\programs\\python\\python312\\lib\\site-packages (from selenium) (2024.2.2)\n",
      "Requirement already satisfied: typing_extensions>=4.9.0 in c:\\users\\carlo\\appdata\\local\\programs\\python\\python312\\lib\\site-packages (from selenium) (4.9.0)\n",
      "Requirement already satisfied: attrs>=20.1.0 in c:\\users\\carlo\\appdata\\local\\programs\\python\\python312\\lib\\site-packages (from trio~=0.17->selenium) (23.2.0)\n",
      "Requirement already satisfied: sortedcontainers in c:\\users\\carlo\\appdata\\local\\programs\\python\\python312\\lib\\site-packages (from trio~=0.17->selenium) (2.4.0)\n",
      "Requirement already satisfied: idna in c:\\users\\carlo\\appdata\\local\\programs\\python\\python312\\lib\\site-packages (from trio~=0.17->selenium) (3.6)\n",
      "Requirement already satisfied: outcome in c:\\users\\carlo\\appdata\\local\\programs\\python\\python312\\lib\\site-packages (from trio~=0.17->selenium) (1.3.0.post0)\n",
      "Requirement already satisfied: sniffio>=1.3.0 in c:\\users\\carlo\\appdata\\local\\programs\\python\\python312\\lib\\site-packages (from trio~=0.17->selenium) (1.3.0)\n",
      "Requirement already satisfied: cffi>=1.14 in c:\\users\\carlo\\appdata\\local\\programs\\python\\python312\\lib\\site-packages (from trio~=0.17->selenium) (1.16.0)\n",
      "Requirement already satisfied: wsproto>=0.14 in c:\\users\\carlo\\appdata\\local\\programs\\python\\python312\\lib\\site-packages (from trio-websocket~=0.9->selenium) (1.2.0)\n",
      "Requirement already satisfied: pysocks!=1.5.7,<2.0,>=1.5.6 in c:\\users\\carlo\\appdata\\local\\programs\\python\\python312\\lib\\site-packages (from urllib3[socks]<3,>=1.26->selenium) (1.7.1)\n",
      "Requirement already satisfied: pycparser in c:\\users\\carlo\\appdata\\local\\programs\\python\\python312\\lib\\site-packages (from cffi>=1.14->trio~=0.17->selenium) (2.21)\n",
      "Requirement already satisfied: h11<1,>=0.9.0 in c:\\users\\carlo\\appdata\\local\\programs\\python\\python312\\lib\\site-packages (from wsproto>=0.14->trio-websocket~=0.9->selenium) (0.14.0)\n",
      "Note: you may need to restart the kernel to use updated packages.\n"
     ]
    }
   ],
   "source": [
    "pip install selenium"
   ]
  },
  {
   "cell_type": "code",
   "execution_count": 10,
   "metadata": {},
   "outputs": [
    {
     "name": "stdout",
     "output_type": "stream",
     "text": [
      "Valor da parcela: 200.00 \n",
      "Quantidade de parcelas:  200\n",
      "Valor total: 8000000.00\n",
      "Quantidade de cabeças: 200\n",
      "Valor por cabeça: 40000.00\n"
     ]
    },
    {
     "ename": "ValueError",
     "evalue": "invalid literal for int() with base 10: ''",
     "output_type": "error",
     "traceback": [
      "\u001b[1;31m---------------------------------------------------------------------------\u001b[0m",
      "\u001b[1;31mValueError\u001b[0m                                Traceback (most recent call last)",
      "Cell \u001b[1;32mIn[10], line 4\u001b[0m\n\u001b[0;32m      2\u001b[0m valor \u001b[38;5;241m=\u001b[39m \u001b[38;5;28mfloat\u001b[39m(\u001b[38;5;28minput\u001b[39m(\u001b[38;5;124m\"\u001b[39m\u001b[38;5;124mDigite o valor da parcela do leilão: \u001b[39m\u001b[38;5;124m\"\u001b[39m))\n\u001b[0;32m      3\u001b[0m parcelas \u001b[38;5;241m=\u001b[39m \u001b[38;5;28mint\u001b[39m(\u001b[38;5;28minput\u001b[39m(\u001b[38;5;124m\"\u001b[39m\u001b[38;5;124mDigite a quantidade de parcelas: \u001b[39m\u001b[38;5;124m\"\u001b[39m))\n\u001b[1;32m----> 4\u001b[0m quantidade \u001b[38;5;241m=\u001b[39m \u001b[38;5;28;43mint\u001b[39;49m\u001b[43m(\u001b[49m\u001b[38;5;28;43minput\u001b[39;49m\u001b[43m(\u001b[49m\u001b[38;5;124;43m\"\u001b[39;49m\u001b[38;5;124;43mQuantidade de cabeças: \u001b[39;49m\u001b[38;5;124;43m\"\u001b[39;49m\u001b[43m)\u001b[49m\u001b[43m)\u001b[49m\n\u001b[0;32m      6\u001b[0m resultado \u001b[38;5;241m=\u001b[39m (valor \u001b[38;5;241m*\u001b[39m parcelas) \u001b[38;5;241m*\u001b[39m quantidade\n\u001b[0;32m      7\u001b[0m valorcabe \u001b[38;5;241m=\u001b[39m resultado \u001b[38;5;241m/\u001b[39m quantidade\n",
      "\u001b[1;31mValueError\u001b[0m: invalid literal for int() with base 10: ''"
     ]
    }
   ],
   "source": [
    "while True:\n",
    "    valor = float(input(\"Digite o valor da parcela do leilão: \"))\n",
    "    parcelas = int(input(\"Digite a quantidade de parcelas: \"))\n",
    "    quantidade = int(input(\"Quantidade de cabeças: \"))\n",
    "    \n",
    "    resultado = (valor * parcelas) * quantidade\n",
    "    valorcabe = resultado / quantidade\n",
    "\n",
    "    print(f\"Valor da parcela: {valor:.2f} \")\n",
    "    print(\"Quantidade de parcelas: \", parcelas)\n",
    "    print(f\"Valor total: {resultado:.2f}\")\n",
    "    print(\"Quantidade de cabeças:\", quantidade)\n",
    "    print(f\"Valor por cabeça: {valorcabe:.2f}\")\n",
    "\n",
    "    continuar = input(\"Deseja continuar? (S para sim, qualquer outra tecla para não): \").upper()\n",
    "    \n",
    "    if continuar != 'S':\n",
    "        print(\"Até mais, marreco\")\n",
    "        break"
   ]
  },
  {
   "cell_type": "markdown",
   "metadata": {},
   "source": [
    "Calculadora de faltas e dias de cursos"
   ]
  },
  {
   "cell_type": "code",
   "execution_count": 6,
   "metadata": {},
   "outputs": [
    {
     "name": "stdout",
     "output_type": "stream",
     "text": [
      "Seu curso tem 180 Horas\n",
      "Então você pode ter 45 horas de falta\n",
      "ou pode ter 11 dia(s) de falta\n",
      "total de 45 dias do curso\n"
     ]
    }
   ],
   "source": [
    "import math\n",
    "\n",
    "HC = int(input(\"Quntas horas tem seu curso\")) #Hora total do curso\n",
    "faltas = HC * (25/100) #quantidade de faltas em horas\n",
    "dia = faltas / 4 #quantidade de faltas em dias\n",
    "tdias = HC / 4\n",
    "print(f\"Seu curso tem {HC} Horas\") #mostra hora total do curso\n",
    "print(f\"Então você pode ter {math.floor(faltas)} horas de falta\") #mostra o total de faltas em horas do curso\n",
    "print(f\"ou pode ter {math.floor(dia)} dia(s) de falta\") #mostra o total de faltas em dias do curso\n",
    "print(f\"total de {math.floor(tdias)} dias do curso\") #mostra o total em dias"
   ]
  },
  {
   "cell_type": "markdown",
   "metadata": {},
   "source": [
    "Calculadora de passe"
   ]
  },
  {
   "cell_type": "code",
   "execution_count": 2,
   "metadata": {},
   "outputs": [
    {
     "name": "stdout",
     "output_type": "stream",
     "text": [
      "Passe estudante: você tem 7 passe(s) de estudante\n",
      "Total de passe R$: 16.53\n"
     ]
    }
   ],
   "source": [
    "import math\n",
    "\n",
    "valorp= float(input(\"Digite o valor do passe que tem R$: \"))\n",
    "tipop = int(input(\"Digite 1 para passe comum, ou, 2 para passe estudante\"))\n",
    "\n",
    "if tipop == 1:\n",
    "    qp1 = valorp / 5.45\n",
    "    qp2 = valorp / 5.90\n",
    "    print(f\"Passe comum: caso você pegue 2 ônibus, você tem {math.floor(qp1)} passe(s); caso você pegue 3 ônibus, você tem {math.floor(qp2)} passe(s)\")\n",
    "    print(f\"Total de passe R$: {valorp:.2f}\")\n",
    "elif tipop == 2:\n",
    "    qp3 = valorp / 2.18\n",
    "    print(f\"Passe estudante: você tem {math.floor(qp3)} passe(s) de estudante\")\n",
    "    print(f\"Total de passe R$: {valorp:.2f}\")\n",
    "else:\n",
    "    print(\"Porra marreco, só tem 2 casos\")\n"
   ]
  },
  {
   "cell_type": "code",
   "execution_count": 11,
   "metadata": {},
   "outputs": [
    {
     "name": "stdout",
     "output_type": "stream",
     "text": [
      "Total de viagens: 5 \n",
      "Total de passe R$: 10.90\n"
     ]
    }
   ],
   "source": [
    "\n",
    "quant = int(input(\"quantas viagens quer quer: \"))\n",
    "tipop = int(input(\"Digite 1 para passe comum, ou, 2 para passe estudante\"))\n",
    "\n",
    "if tipop == 1:\n",
    "    qp1 = quant * 5.45\n",
    "    qp2 = quant * 5.90\n",
    "    print(f\"Passe comum: caso você pegue 2 ônibus, você tem R$: {qp1:.2f}; caso você pegue 3 ônibus, você tem R$: {qp2:.2f}\")\n",
    "    print(f\"Total de viagens: {quant:.2f}\")\n",
    "elif tipop == 2:\n",
    "    qp3 = quant * 2.18\n",
    "    print(f\"Total de viagens: {quant:.0f} \")\n",
    "    print(f\"Total de passe R$: {qp3:.2f}\")\n",
    "else:\n",
    "    print(\"Porra marreco, só tem 2 casos\")"
   ]
  },
  {
   "cell_type": "code",
   "execution_count": 3,
   "metadata": {},
   "outputs": [
    {
     "ename": "ValueError",
     "evalue": "invalid literal for int() with base 10: ''",
     "output_type": "error",
     "traceback": [
      "\u001b[1;31m---------------------------------------------------------------------------\u001b[0m",
      "\u001b[1;31mValueError\u001b[0m                                Traceback (most recent call last)",
      "Cell \u001b[1;32mIn[3], line 11\u001b[0m\n\u001b[0;32m      9\u001b[0m \u001b[38;5;28;01mif\u001b[39;00m op \u001b[38;5;241m==\u001b[39m \u001b[38;5;241m1\u001b[39m:  \u001b[38;5;66;03m# saldo viagem\u001b[39;00m\n\u001b[0;32m     10\u001b[0m     \u001b[38;5;28;01mwhile\u001b[39;00m \u001b[38;5;28;01mTrue\u001b[39;00m:\n\u001b[1;32m---> 11\u001b[0m         tipop \u001b[38;5;241m=\u001b[39m \u001b[38;5;28;43mint\u001b[39;49m\u001b[43m(\u001b[49m\u001b[38;5;28;43minput\u001b[39;49m\u001b[43m(\u001b[49m\u001b[38;5;124;43m\"\u001b[39;49m\u001b[38;5;124;43mDigite 1 para passe comum, 2 para passe estudante médio/técnico, 3 passe estudante universitario, 0 - sair: \u001b[39;49m\u001b[38;5;124;43m\"\u001b[39;49m\u001b[43m)\u001b[49m\u001b[43m)\u001b[49m\n\u001b[0;32m     13\u001b[0m         \u001b[38;5;28;01mif\u001b[39;00m tipop \u001b[38;5;241m==\u001b[39m \u001b[38;5;241m0\u001b[39m:\n\u001b[0;32m     14\u001b[0m             \u001b[38;5;28mprint\u001b[39m(\u001b[38;5;124m\"\u001b[39m\u001b[38;5;124mSaindo do programa. Até mais!\u001b[39m\u001b[38;5;124m\"\u001b[39m)\n",
      "\u001b[1;31mValueError\u001b[0m: invalid literal for int() with base 10: ''"
     ]
    }
   ],
   "source": [
    "\n",
    "import math\n",
    "\n",
    "while True:\n",
    "    op = int(input(\"Qual opção você quer: 1 - saldo viagem, 2 - viagem saldo, 0 - sair: \"))\n",
    "\n",
    "    if op == 0:\n",
    "        print(\"Saindo do programa. Até mais!\")\n",
    "        break  # Encerra o loop\n",
    "    if op == 1:  # saldo viagem\n",
    "        while True:\n",
    "            tipop = int(input(\"Digite 1 para passe comum, 2 para passe estudante médio/técnico, 3 passe estudante universitario, 0 - sair: \"))\n",
    "            \n",
    "            if tipop == 0:\n",
    "                print(\"Saindo do programa. Até mais!\")\n",
    "                break  # Encerra o loop interno\n",
    "            valorp = float(input(\"Digite o valor do passe que tem R$: \"))\n",
    "            if tipop == 1:  # passe comum\n",
    "                qp1 = valorp / 5.45\n",
    "                qp2 = valorp / 5.90\n",
    "                print(f\"Passe comum: caso você pegue 2 ônibus, você tem {math.floor(qp1)} passe(s); caso você pegue 3 ônibus, você tem {math.floor(qp2)} passe(s)\")\n",
    "                print(f\"Total de passe R$: {valorp:.2f}\")\n",
    "            elif tipop == 2:  # passe estudante médio/técnico\n",
    "                qp3 = valorp / 2.18\n",
    "                print(f\"Passe estudante: você tem {math.floor(qp3)} passe(s) de estudante médio/técnico, pois você paga 40% do passe\")\n",
    "                print(f\"Total de passe R$: {valorp:.2f}\")\n",
    "            elif tipop == 3:  # passe estudante universitário\n",
    "                qp4 = valorp / 2.73\n",
    "                print(f\"Passe estudante: você tem {math.floor(qp4)} passe(s) de estudante universitario, pois você paga 50% do passe\")\n",
    "                print(f\"Total de passe R$: {valorp:.2f}\")\n",
    "            else:\n",
    "                print(\"Opção não existe\")\n",
    "    elif op == 2:\n",
    "        while True:\n",
    "            tipop = int(input(\"Digite 1 para passe comum, 2 para passe estudante médio/técnico, 3 passe estudante universitario, 0 - sair: \"))\n",
    "\n",
    "            if tipop == 0:\n",
    "                print(\"Saindo do programa. Até mais!\")\n",
    "                break  # Encerra o loop interno\n",
    "            quant = int(input(\"Quantas viagens quer fazer: \"))\n",
    "            if tipop == 1:\n",
    "                qp1 = quant * 5.45\n",
    "                qp2 = quant * 5.90\n",
    "                print(f\"Passe comum: caso você pegue 2 ônibus, você tem R$: {qp1:.2f}; caso você pegue 3 ônibus, você tem R$: {qp2:.2f}\")\n",
    "                print(f\"Total de viagens: {quant}\")\n",
    "            elif tipop == 2:\n",
    "                qp3 = quant * 2.18\n",
    "                print(f\"Total de viagens: {quant}\")\n",
    "                print(f\"Total de passe R$: {qp3:.2f}\")\n",
    "            elif tipop == 3:  # passe estudante universitário\n",
    "                qp4 = quant * 2.73\n",
    "                print(f\"Total de viagens: {quant}\")\n",
    "                print(f\"Total de passe R$: {qp4:.2f}\")\n",
    "            else:\n",
    "                print(\"Opção não existe\")\n",
    "    else:\n",
    "        print(\"Opção não existe\")\n"
   ]
  }
 ],
 "metadata": {
  "kernelspec": {
   "display_name": "Python 3",
   "language": "python",
   "name": "python3"
  },
  "language_info": {
   "codemirror_mode": {
    "name": "ipython",
    "version": 3
   },
   "file_extension": ".py",
   "mimetype": "text/x-python",
   "name": "python",
   "nbconvert_exporter": "python",
   "pygments_lexer": "ipython3",
   "version": "3.12.2"
  }
 },
 "nbformat": 4,
 "nbformat_minor": 2
}
