{
 "cells": [
  {
   "cell_type": "markdown",
   "metadata": {},
   "source": [
    "## 1-Faça um Programa que peça as 4 notas bimestrais e mostre a média"
   ]
  },
  {
   "cell_type": "code",
   "execution_count": 5,
   "metadata": {},
   "outputs": [
    {
     "name": "stdout",
     "output_type": "stream",
     "text": [
      "Algo de errado não está certo\n"
     ]
    }
   ],
   "source": [
    "try:\n",
    "    a1 = float(input(\"Digite a nota do Bimestre 1: \"))\n",
    "    a2 = float(input(\"Digite a nota do Bimestre 2: \"))\n",
    "    a3 = float(input(\"Digite a nota do Bimestre 3: \"))\n",
    "    a4 = float(input(\"Digite a nota do Bimestre 4: \"))\n",
    "    def calcula_media(a1, a2, a3, a4):\n",
    "        media = (a1 + a2 + a3 + a4) / 4\n",
    "        if media >= 6 and media < 8:\n",
    "            print(\"Fez sua obrigação\")\n",
    "        elif media >= 8:\n",
    "            print(\"Fez sua obrigação 2.0\")\n",
    "        else:\n",
    "            print(\"Perdeu seu pc seu marreco\")\n",
    "        print(f\"Nota final: {media:.2f}\")\n",
    "    calcula_media(a1, a2, a3, a4)\n",
    "except ValueError as valueError:\n",
    "    print(\"Algo de errado não está certo\")\n"
   ]
  },
  {
   "cell_type": "markdown",
   "metadata": {},
   "source": [
    "## 2-Faça um Programa que calcule a área de um quadrado, em seguida mostre o dobro desta área para o usuário."
   ]
  },
  {
   "cell_type": "code",
   "execution_count": 12,
   "metadata": {},
   "outputs": [
    {
     "name": "stdout",
     "output_type": "stream",
     "text": [
      "A área do quadrado é: 4.0\n",
      "O dobro da área do quadrado é: 8.0\n"
     ]
    }
   ],
   "source": [
    "lado = float(input(\"Digite o comprimento do lado do quadrado: \"))\n",
    "area_quadrado = lado ** 2\n",
    "dobro_area = area_quadrado * 2\n",
    "\n",
    "print(f\"A área do quadrado é: {area_quadrado}\")\n",
    "print(f\"O dobro da área do quadrado é: {dobro_area}\")\n"
   ]
  },
  {
   "cell_type": "markdown",
   "metadata": {},
   "source": [
    "## 3-João Papo-de-Pescador, homem de bem, comprou um microcomputador para controlar o rendimento diário de seu trabalho. Toda vez que ele traz um peso de peixes maior que o estabelecido pelo regulamento de pesca do estado de São Paulo (50 quilos) deve pagar uma multa de R$ 4,00 por quilo excedente. João precisa que você faça um programa que leia a variável  (peso de peixes) e calcule o excesso. Gravar na variável  a quantidade de quilos além do limite e na variável  o valor da multa que João deverá pagar. Imprima os dados do programa com as mensagens adequadas."
   ]
  },
  {
   "cell_type": "code",
   "execution_count": 11,
   "metadata": {},
   "outputs": [
    {
     "name": "stdout",
     "output_type": "stream",
     "text": [
      "Peso de peixes dentro do limite. Nenhuma multa será aplicada.\n",
      "O peso da carga é Kg: 20.00.\n"
     ]
    }
   ],
   "source": [
    "peso_peixes = float(input(\"Informe o peso dos peixes em quilos: \"))\n",
    "limite_peso = 50\n",
    "\n",
    "if peso_peixes > limite_peso:\n",
    "    excesso_peso = peso_peixes - limite_peso\n",
    "    valor_multa = excesso_peso * 4.0\n",
    "    print(f\"Peso de peixes excedeu o limite em {excesso_peso:.2f} quilos.\")\n",
    "    print(f\"João deverá pagar uma multa de R${valor_multa:.2f}.\")\n",
    "    print(f\"O peso da carga é Kg: {peso_peixes:.2f}.\")\n",
    "else:\n",
    "    print(\"Peso de peixes dentro do limite. Nenhuma multa será aplicada.\")\n",
    "    print(f\"O peso da carga é Kg: {peso_peixes:.2f}.\")\n"
   ]
  },
  {
   "cell_type": "markdown",
   "metadata": {},
   "source": [
    "## 4-Faça um programa para uma loja de tintas. O programa deverá pedir o tamanho em metros quadrados da área a ser pintada. Considere que a cobertura da tinta é de 1 litro para cada 3 metros quadrados e que a tinta é vendida em latas de 18 litros, que custam R$ 80,00. Informe ao usuário a quantidades de latas de tinta a serem compradas e o preço total."
   ]
  },
  {
   "cell_type": "code",
   "execution_count": 16,
   "metadata": {},
   "outputs": [
    {
     "name": "stdout",
     "output_type": "stream",
     "text": [
      "Quantidade de latas de tinta necessárias: 2\n",
      "Preço total: R$160.00\n"
     ]
    }
   ],
   "source": [
    "import math\n",
    "\n",
    "cobertura_por_litro = 3\n",
    "capacidade_lata = 18\n",
    "preco_lata = 80.00\n",
    "area_a_ser_pintada = float(input(\"Informe o tamanho da área a ser pintada (em metros quadrados): \"))\n",
    "litros_necessarios = math.ceil(area_a_ser_pintada / cobertura_por_litro)\n",
    "latas_necessarias = math.ceil(litros_necessarios / capacidade_lata)\n",
    "preco_total = latas_necessarias * preco_lata\n",
    "print(f\"Quantidade de latas de tinta necessárias: {latas_necessarias}\")\n",
    "print(f\"Preço total: R${preco_total:.2f}\")\n"
   ]
  },
  {
   "cell_type": "markdown",
   "metadata": {},
   "source": [
    "## 5-Desenvolva um gerador de tabuada, capaz de gerar a tabuada de qualquer número inteiro entre 1 a 10. O usuário deve informar de qual numero ele deseja ver a tabuada. A saída deve ser conforme o exemplo abaixo:\n",
    "\n",
    "Tabuada de 5: \n",
    "5 X 1 = 5 \n",
    "5 X 2 = 10 \n",
    "... \n",
    "5 X 10 = 50\n"
   ]
  },
  {
   "cell_type": "code",
   "execution_count": null,
   "metadata": {},
   "outputs": [],
   "source": [
    "numero = int(input(\"Informe um número para ver a tabuada (entre 1 e 20): \"))\n",
    "if 1 <= numero <= 20:\n",
    "    print(f\"Tabuada de {numero}:\")\n",
    "\n",
    "    for i in range(1, 11):\n",
    "        resultado = numero * i\n",
    "        print(f\"{numero} X {i} = {resultado}\")\n",
    "else:\n",
    "    print(\"Número fora do intervalo permitido.\")"
   ]
  },
  {
   "cell_type": "code",
   "execution_count": null,
   "metadata": {},
   "outputs": [],
   "source": [
    "numero = int(input(\"Informe um número para ver a tabuada: \"))\n",
    "if numero:\n",
    "    print(f\"Tabuada de {numero}:\")\n",
    "\n",
    "    for i in range(numero):\n",
    "        resultado = numero * i\n",
    "        print(f\"{numero} X {i} = {resultado}\")\n"
   ]
  },
  {
   "cell_type": "code",
   "execution_count": 8,
   "metadata": {},
   "outputs": [
    {
     "name": "stdout",
     "output_type": "stream",
     "text": [
      "Tabuada de 6:\n",
      "6 ^ 0 = 1\n",
      "6 ^ 1 = 6\n",
      "6 ^ 2 = 36\n",
      "6 ^ 3 = 216\n",
      "6 ^ 4 = 1296\n",
      "6 ^ 5 = 7776\n"
     ]
    }
   ],
   "source": [
    "numero = int(input(\"Informe um número para ver seu espoente: \"))\n",
    "if numero:\n",
    "    print(f\"Tabuada de {numero}:\")\n",
    "\n",
    "    for i in range(numero):\n",
    "        resultado = numero ** i\n",
    "        print(f\"{numero} ^ {i} = {resultado}\")"
   ]
  },
  {
   "cell_type": "markdown",
   "metadata": {},
   "source": [
    "## 6-(Laço)O Sr. Manoel Joaquim expandiu seus negócios para além dos negócios de 1,99 e agora possui uma loja de conveniências. Faça um programa que implemente uma caixa registradora rudimentar. O programa deverá receber um número desconhecido de valores referentes aos preços das mercadorias. Um valor zero deve ser informado pelo operador para indicar o final da compra. O programa deve então mostrar o total da compra e perguntar o valor em dinheiro que o cliente forneceu, para então calcular e mostrar o valor do troco. Após esta operação, o programa deverá voltar ao ponto inicial, para registrar a próxima compra. A saída deve ser conforme o exemplo abaixo:\n",
    "\n",
    "Lojas Tabajara \n",
    "Produto 1: R$ 2.20 \n",
    "Produto 2: R$ 5.80 \n",
    "Produto 3: R$ 0 \n",
    "Total: R$ 9.00 \n",
    "Dinheiro: R$ 20.00 \n",
    "Troco: R$ 11.00 "
   ]
  },
  {
   "cell_type": "code",
   "execution_count": 22,
   "metadata": {},
   "outputs": [
    {
     "name": "stdout",
     "output_type": "stream",
     "text": [
      "Lojas Tabajara\n",
      "Valor R$200.00 do produto 1\n",
      "Total: R$ 200.00\n",
      "Cliente deu R$: 250.00\n",
      "Total com desconto R$: 170.00\n",
      "Troco: R$ 80.00\n",
      "\n",
      "Té mais marreco\n"
     ]
    }
   ],
   "source": [
    "import math\n",
    "\n",
    "while True:\n",
    "    print(\"Lojas Tabajara\")\n",
    "    num_produtos = int(input(\"Quantos produtos você comprou? \"))\n",
    "    total_compra = 0\n",
    "    desconto = 0\n",
    "\n",
    "    for produto_numero in range(1, num_produtos + 1):\n",
    "        preco_produto = float(input(f\"Produto {produto_numero}: R$ \"))\n",
    "        print(f\"produto {produto_numero} custou R${preco_produto:.2f}\")\n",
    "        total_compra += preco_produto\n",
    "\n",
    "    if total_compra >= 100 and total_compra < 150:\n",
    "        desconto = total_compra * 0.10\n",
    "    elif total_compra >= 150:\n",
    "        desconto = total_compra * 0.15\n",
    "    elif total_compra >= 200:\n",
    "        desconto = total_compra * 0.20\n",
    "\n",
    "    total_compra_com_desconto = total_compra - desconto\n",
    "\n",
    "    print(f\"Total: R$ {total_compra:.2f}\")\n",
    "    dinheiro_cliente = float(input(\"Dinheiro: R$ \"))\n",
    "    print(f\"Cliente deu R$: {dinheiro_cliente:.2f}\")\n",
    "    print(f\"Total com desconto R$: {total_compra_com_desconto:.2f}\")\n",
    "\n",
    "    if dinheiro_cliente >= total_compra_com_desconto:\n",
    "        troco = dinheiro_cliente - total_compra_com_desconto\n",
    "        print(f\"Troco: R$ {troco:.2f}\\n\")\n",
    "    else:\n",
    "        print(\"po marreco, ve isso direito!!!!\") \n",
    "\n",
    "    continuar = input(\"Deseja registrar outra compra? (S para sim, qualquer outra tecla para não): \").upper()\n",
    "    if continuar != 'S':\n",
    "        print(\"Té mais marreco\")\n",
    "        break\n"
   ]
  },
  {
   "cell_type": "markdown",
   "metadata": {},
   "source": [
    "## 7-Faça um programa com uma função chamada \"somaImposto\". A função possui dois parâmetros formais: \"taxaImposto\", que é a quantia de imposto sobre vendas expressa em porcentagem e custo, que é o custo de um item antes do imposto. A função “altera” o valor de custo para incluir o imposto sobre vendas."
   ]
  },
  {
   "cell_type": "code",
   "execution_count": 8,
   "metadata": {},
   "outputs": [
    {
     "name": "stdout",
     "output_type": "stream",
     "text": [
      "O custo do item sem imposto é: R$ 1200.00\n",
      "O custo do item com imposto é: R$ 1296.00\n"
     ]
    }
   ],
   "source": [
    "def somaImposto(taxaImposto, custo):\n",
    "    imposto = custo * (taxaImposto / 100)\n",
    "    custo_com_imposto = custo + imposto\n",
    "    return custo_com_imposto\n",
    "taxa = float(input(\"Informe a taxa de imposto sobre vendas em porcentagem: \"))\n",
    "custo_sem_imposto = float(input(\"Informe o custo do item antes do imposto: \"))\n",
    "custo_com_imposto = somaImposto(taxa, custo_sem_imposto)\n",
    "print(f\"O custo do item sem imposto é: R$ {custo_sem_imposto:.2f}\")\n",
    "print(f\"O custo do item com imposto é: R$ {custo_com_imposto:.2f}\")\n"
   ]
  },
  {
   "cell_type": "markdown",
   "metadata": {},
   "source": [
    "## 8-(Lista) Faça um Programa que peça as quatro notas de 10 alunos, calcule e armazene num vetor a média de cada aluno, imprima o número de alunos com média maior ou igual a 7.0"
   ]
  },
  {
   "cell_type": "code",
   "execution_count": 21,
   "metadata": {},
   "outputs": [
    {
     "name": "stdout",
     "output_type": "stream",
     "text": [
      "\n",
      "Aluno 1:\n",
      "\n",
      "Aluno 2:\n",
      "\n",
      "Aluno 3:\n",
      "Média do Aluno 1: 8.00\n",
      "Média do Aluno 2: 6.75\n",
      "Média do Aluno 3: 5.00\n",
      "\n",
      "Número de alunos com média maior ou igual a 7.0: 1\n"
     ]
    }
   ],
   "source": [
    "num_alunos = int(input(\"Informe o número de alunos: \"))\n",
    "medias_alunos = []\n",
    "for aluno in range(1, num_alunos + 1):\n",
    "    print(f\"\\nAluno {aluno}:\")\n",
    "    notas = [float(input(f\"Informe a nota {i}: \")) for i in range(1, 5)]\n",
    "    media = sum(notas) / len(notas)\n",
    "    medias_alunos.append(media)\n",
    "for aluno, media in enumerate(medias_alunos, start=1):\n",
    "    print(f\"Média do Aluno {aluno}: {media:.2f}\")\n",
    "alunos_aprovados = sum(media >= 7.0 for media in medias_alunos)\n",
    "print(f\"\\nNúmero de alunos com média maior ou igual a 7.0: {alunos_aprovados}\")\n",
    "\n"
   ]
  },
  {
   "cell_type": "markdown",
   "metadata": {},
   "source": [
    "## 9-(vetor)Faça um Programa que leia um vetor A com 10 números inteiros, calcule e mostre a soma dos quadrados dos elementos do vetor."
   ]
  },
  {
   "cell_type": "code",
   "execution_count": 20,
   "metadata": {},
   "outputs": [
    {
     "name": "stdout",
     "output_type": "stream",
     "text": [
      "A soma dos quadrados dos elementos do vetor A é: 12\n"
     ]
    }
   ],
   "source": [
    "import math\n",
    "inicio_intervalo = int(input(\"Informe o início do intervalo: \"))\n",
    "fim_intervalo = int(input(\"Informe o fim do intervalo: \"))\n",
    "if inicio_intervalo >= fim_intervalo:\n",
    "    print(\"O início do intervalo deve ser menor que o fim.\")\n",
    "else:\n",
    "    vetor_A = [int(input(f\"Informe o {i + 1}º número inteiro: \")) for i in range(inicio_intervalo, fim_intervalo)]\n",
    "    soma_quadrados = sum(x**2 for x in vetor_A)\n",
    "    print(f\"A soma dos quadrados dos elementos do vetor A é: {soma_quadrados}\")\n"
   ]
  },
  {
   "cell_type": "markdown",
   "metadata": {},
   "source": [
    "## 10- Faça um programa que solicite o nome do usuário e imprima-o na vertical."
   ]
  },
  {
   "cell_type": "code",
   "execution_count": 1,
   "metadata": {},
   "outputs": [],
   "source": [
    "quantidade_nomes = int(input(\"Quantos nomes você deseja inserir? \"))\n",
    "for _ in range(quantidade_nomes):\n",
    "    nome = input(\"Digite o seu nome: \")\n",
    "    print(\"\\n\".join(nome))\n",
    "    print()\n"
   ]
  }
 ],
 "metadata": {
  "kernelspec": {
   "display_name": "Python 3",
   "language": "python",
   "name": "python3"
  },
  "language_info": {
   "codemirror_mode": {
    "name": "ipython",
    "version": 3
   },
   "file_extension": ".py",
   "mimetype": "text/x-python",
   "name": "python",
   "nbconvert_exporter": "python",
   "pygments_lexer": "ipython3",
   "version": "3.12.0"
  }
 },
 "nbformat": 4,
 "nbformat_minor": 2
}
