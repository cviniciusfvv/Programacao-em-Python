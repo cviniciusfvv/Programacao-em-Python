{
 "cells": [
  {
   "cell_type": "markdown",
   "metadata": {},
   "source": [
    "## 1-Faça um Programa que peça as 4 notas bimestrais e mostre a média"
   ]
  },
  {
   "cell_type": "code",
   "execution_count": 5,
   "metadata": {},
   "outputs": [
    {
     "name": "stdout",
     "output_type": "stream",
     "text": [
      "Algo de errado não está certo\n"
     ]
    }
   ],
   "source": [
    "try:\n",
    "    a1 = float(input(\"Digite a nota do Bimestre 1: \"))\n",
    "    a2 = float(input(\"Digite a nota do Bimestre 2: \"))\n",
    "    a3 = float(input(\"Digite a nota do Bimestre 3: \"))\n",
    "    a4 = float(input(\"Digite a nota do Bimestre 4: \"))\n",
    "    def calcula_media(a1, a2, a3, a4):\n",
    "        media = (a1 + a2 + a3 + a4) / 4\n",
    "        if media >= 6 and media < 8:\n",
    "            print(\"Fez sua obrigação\")\n",
    "        elif media >= 8:\n",
    "            print(\"Fez sua obrigação 2.0\")\n",
    "        else:\n",
    "            print(\"Perdeu seu pc seu marreco\")\n",
    "        print(f\"Nota final: {media:.2f}\")\n",
    "    calcula_media(a1, a2, a3, a4)\n",
    "except ValueError as valueError:\n",
    "    print(\"Algo de errado não está certo\")\n"
   ]
  },
  {
   "cell_type": "markdown",
   "metadata": {},
   "source": [
    "## 2-Faça um Programa que calcule a área de um quadrado, em seguida mostre o dobro desta área para o usuário."
   ]
  },
  {
   "cell_type": "code",
   "execution_count": 4,
   "metadata": {},
   "outputs": [
    {
     "name": "stdout",
     "output_type": "stream",
     "text": [
      "A área do quadrado é: 4.0\n",
      "O dobro da área do quadrado é: 8.0\n"
     ]
    }
   ],
   "source": [
    "lado = float(input(\"Digite o comprimento do lado do quadrado: \"))\n",
    "area_quadrado = lado ** 2\n",
    "dobro_area = area_quadrado * 2\n",
    "\n",
    "print(f\"A área do quadrado é: {area_quadrado}\")\n",
    "print(f\"O dobro da área do quadrado é: {dobro_area}\")\n"
   ]
  },
  {
   "cell_type": "markdown",
   "metadata": {},
   "source": [
    "## 3-João Papo-de-Pescador, homem de bem, comprou um microcomputador para controlar o rendimento diário de seu trabalho. Toda vez que ele traz um peso de peixes maior que o estabelecido pelo regulamento de pesca do estado de São Paulo (50 quilos) deve pagar uma multa de R$ 4,00 por quilo excedente. João precisa que você faça um programa que leia a variável  (peso de peixes) e calcule o excesso. Gravar na variável  a quantidade de quilos além do limite e na variável  o valor da multa que João deverá pagar. Imprima os dados do programa com as mensagens adequadas."
   ]
  },
  {
   "cell_type": "code",
   "execution_count": 9,
   "metadata": {},
   "outputs": [
    {
     "name": "stdout",
     "output_type": "stream",
     "text": [
      "Peso de peixes excedeu o limite em 950.00 quilos.\n",
      "João deverá pagar uma multa de R$3800.00.\n",
      "O peso da carga é Kg: 1000.00.\n"
     ]
    }
   ],
   "source": [
    "peso_peixes = float(input(\"Informe o peso dos peixes em quilos: \"))\n",
    "limite_peso = 50\n",
    "\n",
    "if peso_peixes > limite_peso:\n",
    "    excesso_peso = peso_peixes - limite_peso\n",
    "    valor_multa = excesso_peso * 4.0\n",
    "    print(f\"Peso de peixes excedeu o limite em {excesso_peso:.2f} quilos.\")\n",
    "    print(f\"João deverá pagar uma multa de R${valor_multa:.2f}.\")\n",
    "    print(f\"O peso da carga é Kg: {peso_peixes:.2f}.\")\n",
    "else:\n",
    "    print(\"Peso de peixes dentro do limite. Nenhuma multa será aplicada.\")\n",
    "    print(f\"O peso da carga é Kg: {peso_peixes:.2f}.\")\n"
   ]
  },
  {
   "cell_type": "markdown",
   "metadata": {},
   "source": [
    "## 4-Faça um programa para uma loja de tintas. O programa deverá pedir o tamanho em metros quadrados da área a ser pintada. Considere que a cobertura da tinta é de 1 litro para cada 3 metros quadrados e que a tinta é vendida em latas de 18 litros, que custam R$ 80,00. Informe ao usuário a quantidades de latas de tinta a serem compradas e o preço total."
   ]
  },
  {
   "cell_type": "code",
   "execution_count": 15,
   "metadata": {},
   "outputs": [
    {
     "name": "stdout",
     "output_type": "stream",
     "text": [
      "Quantidade de latas de tinta necessárias: 56\n",
      "Preço total: R$4480.00\n"
     ]
    }
   ],
   "source": [
    "import math\n",
    "\n",
    "cobertura_por_litro = 3\n",
    "capacidade_lata = 18\n",
    "preco_lata = 80.00\n",
    "area_a_ser_pintada = float(input(\"Informe o tamanho da área a ser pintada (em metros quadrados): \"))\n",
    "litros_necessarios = math.ceil(area_a_ser_pintada / cobertura_por_litro)\n",
    "latas_necessarias = math.ceil(litros_necessarios / capacidade_lata)\n",
    "preco_total = latas_necessarias * preco_lata\n",
    "print(f\"Quantidade de latas de tinta necessárias: {latas_necessarias}\")\n",
    "print(f\"Preço total: R${preco_total:.2f}\")\n"
   ]
  },
  {
   "cell_type": "markdown",
   "metadata": {},
   "source": [
    "## 5-Desenvolva um gerador de tabuada, capaz de gerar a tabuada de qualquer número inteiro entre 1 a 10. O usuário deve informar de qual numero ele deseja ver a tabuada. A saída deve ser conforme o exemplo abaixo:\n",
    "\n",
    "Tabuada de 5: \n",
    "5 X 1 = 5 \n",
    "5 X 2 = 10 \n",
    "... \n",
    "5 X 10 = 50\n"
   ]
  },
  {
   "cell_type": "code",
   "execution_count": 17,
   "metadata": {},
   "outputs": [
    {
     "name": "stdout",
     "output_type": "stream",
     "text": [
      "Tabuada de 20:\n",
      "20 X 1 = 20\n",
      "20 X 2 = 40\n",
      "20 X 3 = 60\n",
      "20 X 4 = 80\n",
      "20 X 5 = 100\n",
      "20 X 6 = 120\n",
      "20 X 7 = 140\n",
      "20 X 8 = 160\n",
      "20 X 9 = 180\n",
      "20 X 10 = 200\n"
     ]
    }
   ],
   "source": [
    "numero = int(input(\"Informe um número para ver a tabuada (entre 1 e 20): \"))\n",
    "if 1 <= numero <= 20:\n",
    "    print(f\"Tabuada de {numero}:\")\n",
    "\n",
    "    for i in range(1, 11):\n",
    "        resultado = numero * i\n",
    "        print(f\"{numero} X {i} = {resultado}\")\n",
    "else:\n",
    "    print(\"Número fora do intervalo permitido.\")\n"
   ]
  },
  {
   "cell_type": "markdown",
   "metadata": {},
   "source": [
    "## 6-(Laço)O Sr. Manoel Joaquim expandiu seus negócios para além dos negócios de 1,99 e agora possui uma loja de conveniências. Faça um programa que implemente uma caixa registradora rudimentar. O programa deverá receber um número desconhecido de valores referentes aos preços das mercadorias. Um valor zero deve ser informado pelo operador para indicar o final da compra. O programa deve então mostrar o total da compra e perguntar o valor em dinheiro que o cliente forneceu, para então calcular e mostrar o valor do troco. Após esta operação, o programa deverá voltar ao ponto inicial, para registrar a próxima compra. A saída deve ser conforme o exemplo abaixo:\n",
    "\n",
    "Lojas Tabajara \n",
    "Produto 1: R$ 2.20 \n",
    "Produto 2: R$ 5.80 \n",
    "Produto 3: R$ 0 \n",
    "Total: R$ 9.00 \n",
    "Dinheiro: R$ 20.00 \n",
    "Troco: R$ 11.00 "
   ]
  },
  {
   "cell_type": "code",
   "execution_count": 10,
   "metadata": {},
   "outputs": [
    {
     "name": "stdout",
     "output_type": "stream",
     "text": [
      "Lojas Tabajara\n",
      "Valor R$10.00 do produto 1\n",
      "Valor R$20.00 do produto 2\n",
      "Valor R$30.00 do produto 3\n",
      "Valor R$50.00 do produto 4\n",
      "Valor R$10.00 do produto 5\n",
      "Total: R$ 120.00\n",
      "Cliente deu R$: 20.00\n",
      "Troco: R$ -100.00\n",
      "\n",
      "Lojas Tabajara\n",
      "Valor R$10.00 do produto 1\n",
      "Valor R$20.00 do produto 2\n",
      "Total: R$ 30.00\n",
      "Cliente deu R$: 100.00\n",
      "Troco: R$ 70.00\n",
      "\n"
     ]
    }
   ],
   "source": [
    "import math\n",
    "\n",
    "while True:\n",
    "    print(\"Lojas Tabajara\")\n",
    "    num_produtos = int(input(\"Quantos produtos você comprou? \"))\n",
    "    total_compra = 0\n",
    "    for produto_numero in range(1, num_produtos + 1):\n",
    "        preco_produto = float(input(f\"Produto {produto_numero}: R$ \"))\n",
    "        print(f\"Valor R${preco_produto:.2f} do produto {produto_numero}\")\n",
    "        total_compra += preco_produto\n",
    "    print(f\"Total: R$ {total_compra:.2f}\")\n",
    "    dinheiro_cliente = float(input(\"Dinheiro: R$ \"))\n",
    "    print(f\"Cliente deu R$: {dinheiro_cliente:.2f}\")\n",
    "    troco = dinheiro_cliente - total_compra\n",
    "    print(f\"Troco: R$ {troco:.2f}\\n\")\n",
    "    continuar = input(\"Deseja registrar outra compra? (S para sim, qualquer outra tecla para não): \").upper()\n",
    "    if continuar != 'S':\n",
    "        break\n"
   ]
  },
  {
   "cell_type": "markdown",
   "metadata": {},
   "source": [
    "## 7-Faça um programa com uma função chamada \"somaImposto\". A função possui dois parâmetros formais: \"taxaImposto\", que é a quantia de imposto sobre vendas expressa em porcentagem e custo, que é o custo de um item antes do imposto. A função “altera” o valor de custo para incluir o imposto sobre vendas."
   ]
  },
  {
   "cell_type": "code",
   "execution_count": 8,
   "metadata": {},
   "outputs": [
    {
     "name": "stdout",
     "output_type": "stream",
     "text": [
      "O custo do item sem imposto é: R$ 1200.00\n",
      "O custo do item com imposto é: R$ 1296.00\n"
     ]
    }
   ],
   "source": [
    "def somaImposto(taxaImposto, custo):\n",
    "    imposto = custo * (taxaImposto / 100)\n",
    "    custo_com_imposto = custo + imposto\n",
    "    return custo_com_imposto\n",
    "taxa = float(input(\"Informe a taxa de imposto sobre vendas em porcentagem: \"))\n",
    "custo_sem_imposto = float(input(\"Informe o custo do item antes do imposto: \"))\n",
    "custo_com_imposto = somaImposto(taxa, custo_sem_imposto)\n",
    "print(f\"O custo do item sem imposto é: R$ {custo_sem_imposto:.2f}\")\n",
    "print(f\"O custo do item com imposto é: R$ {custo_com_imposto:.2f}\")\n"
   ]
  },
  {
   "cell_type": "markdown",
   "metadata": {},
   "source": [
    "## 8-(Lista) Faça um Programa que peça as quatro notas de 10 alunos, calcule e armazene num vetor a média de cada aluno, imprima o número de alunos com média maior ou igual a 7.0"
   ]
  },
  {
   "cell_type": "code",
   "execution_count": 3,
   "metadata": {},
   "outputs": [
    {
     "name": "stdout",
     "output_type": "stream",
     "text": [
      "\n",
      "Aluno 1:\n",
      "\n",
      "Aluno 2:\n",
      "Média do Aluno 1: 5.00\n",
      "Média do Aluno 2: 7.00\n",
      "\n",
      "Número de alunos com média maior ou igual a 7.0: 1\n"
     ]
    }
   ],
   "source": [
    "num_alunos = int(input(\"Informe o número de alunos: \"))\n",
    "medias_alunos = []\n",
    "for aluno in range(1, num_alunos + 1):\n",
    "    print(f\"\\nAluno {aluno}:\")\n",
    "    notas = [float(input(f\"Informe a nota {i}: \")) for i in range(1, 5)]\n",
    "    media = sum(notas) / len(notas)\n",
    "    medias_alunos.append(media)\n",
    "for aluno, media in enumerate(medias_alunos, start=1):\n",
    "    print(f\"Média do Aluno {aluno}: {media:.2f}\")\n",
    "alunos_aprovados = sum(media >= 7.0 for media in medias_alunos)\n",
    "print(f\"\\nNúmero de alunos com média maior ou igual a 7.0: {alunos_aprovados}\")\n",
    "\n"
   ]
  },
  {
   "cell_type": "markdown",
   "metadata": {},
   "source": [
    "## 9-(vetor)Faça um Programa que leia um vetor A com 10 números inteiros, calcule e mostre a soma dos quadrados dos elementos do vetor."
   ]
  },
  {
   "cell_type": "code",
   "execution_count": 6,
   "metadata": {},
   "outputs": [
    {
     "name": "stdout",
     "output_type": "stream",
     "text": [
      "A soma dos quadrados dos elementos do vetor A é: 3\n"
     ]
    }
   ],
   "source": [
    "import math\n",
    "inicio_intervalo = int(input(\"Informe o início do intervalo: \"))\n",
    "fim_intervalo = int(input(\"Informe o fim do intervalo: \"))\n",
    "if inicio_intervalo >= fim_intervalo:\n",
    "    print(\"O início do intervalo deve ser menor que o fim.\")\n",
    "else:\n",
    "    vetor_A = [int(input(f\"Informe o {i + 1}º número inteiro: \")) for i in range(inicio_intervalo, fim_intervalo)]\n",
    "    soma_quadrados = sum(x**2 for x in vetor_A)\n",
    "    print(f\"A soma dos quadrados dos elementos do vetor A é: {soma_quadrados}\")\n"
   ]
  },
  {
   "cell_type": "markdown",
   "metadata": {},
   "source": [
    "## 10- Faça um programa que solicite o nome do usuário e imprima-o na vertical."
   ]
  },
  {
   "cell_type": "code",
   "execution_count": 1,
   "metadata": {},
   "outputs": [
    {
     "name": "stdout",
     "output_type": "stream",
     "text": [
      "C\n",
      "a\n",
      "r\n",
      "l\n",
      "o\n",
      "s\n",
      "\n",
      "V\n",
      "i\n",
      "n\n",
      "i\n",
      "c\n",
      "i\n",
      "u\n",
      "s\n",
      "\n"
     ]
    }
   ],
   "source": [
    "quantidade_nomes = int(input(\"Quantos nomes você deseja inserir? \"))\n",
    "for _ in range(quantidade_nomes):\n",
    "    nome = input(\"Digite o seu nome: \")\n",
    "    print(\"\\n\".join(nome))\n",
    "    print()\n"
   ]
  }
 ],
 "metadata": {
  "kernelspec": {
   "display_name": "Python 3",
   "language": "python",
   "name": "python3"
  },
  "language_info": {
   "codemirror_mode": {
    "name": "ipython",
    "version": 3
   },
   "file_extension": ".py",
   "mimetype": "text/x-python",
   "name": "python",
   "nbconvert_exporter": "python",
   "pygments_lexer": "ipython3",
   "version": "3.7.8"
  }
 },
 "nbformat": 4,
 "nbformat_minor": 2
}
