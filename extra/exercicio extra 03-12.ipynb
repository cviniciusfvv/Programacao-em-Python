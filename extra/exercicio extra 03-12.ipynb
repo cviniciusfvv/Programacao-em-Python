{
 "cells": [
  {
   "cell_type": "markdown",
   "metadata": {},
   "source": [
    "## 1-Faça um Programa que peça as 4 notas bimestrais e mostre a média"
   ]
  },
  {
   "cell_type": "code",
   "execution_count": 2,
   "metadata": {},
   "outputs": [
    {
     "name": "stdout",
     "output_type": "stream",
     "text": [
      "Fez sua obrigação\n",
      "Nota final: 7.25\n"
     ]
    }
   ],
   "source": [
    "try:\n",
    "    a1 = float(input(\"Digite a nota do Bimestre 1: \"))\n",
    "    a2 = float(input(\"Digite a nota do Bimestre 2: \"))\n",
    "    a3 = float(input(\"Digite a nota do Bimestre 3: \"))\n",
    "    a4 = float(input(\"Digite a nota do Bimestre 4: \"))\n",
    "    def calcula_media(a1, a2, a3, a4):\n",
    "        media = (a1 + a2 + a3 + a4) / 4\n",
    "        if media >= 6 and media < 8:\n",
    "            print(\"Fez sua obrigação\")\n",
    "        elif media >= 8:\n",
    "            print(\"Fez sua obrigação 2.0\")\n",
    "        else:\n",
    "            print(\"Perdeu seu pc seu marreco\")\n",
    "        print(f\"Nota final: {media:.2f}\")\n",
    "    calcula_media(a1, a2, a3, a4)\n",
    "except ValueError as valueError:\n",
    "    print(\"Algo de errado não está certo\")"
   ]
  },
  {
   "cell_type": "markdown",
   "metadata": {},
   "source": [
    "## 2-Faça um Programa que calcule a área de um quadrado, em seguida mostre o dobro desta área para o usuário."
   ]
  },
  {
   "cell_type": "code",
   "execution_count": 3,
   "metadata": {},
   "outputs": [
    {
     "name": "stdout",
     "output_type": "stream",
     "text": [
      "A área do quadrado é: 2550.25\n",
      "O dobro da área do quadrado é: 5100.5\n"
     ]
    }
   ],
   "source": [
    "lado = float(input(\"Digite o comprimento do lado do quadrado: \"))\n",
    "area_quadrado = lado ** 2\n",
    "dobro_area = area_quadrado * 2\n",
    "\n",
    "print(f\"A área do quadrado é: {area_quadrado}\")\n",
    "print(f\"O dobro da área do quadrado é: {dobro_area}\")\n"
   ]
  },
  {
   "cell_type": "markdown",
   "metadata": {},
   "source": [
    "## 3-João Papo-de-Pescador, homem de bem, comprou um microcomputador para controlar o rendimento diário de seu trabalho. Toda vez que ele traz um peso de peixes maior que o estabelecido pelo regulamento de pesca do estado de São Paulo (50 quilos) deve pagar uma multa de R$ 4,00 por quilo excedente. João precisa que você faça um programa que leia a variável  (peso de peixes) e calcule o excesso. Gravar na variável  a quantidade de quilos além do limite e na variável  o valor da multa que João deverá pagar. Imprima os dados do programa com as mensagens adequadas."
   ]
  },
  {
   "cell_type": "code",
   "execution_count": 7,
   "metadata": {},
   "outputs": [
    {
     "name": "stdout",
     "output_type": "stream",
     "text": [
      "Peso de peixes excedeu o limite em 0.10 quilos.\n",
      "João deverá pagar uma multa de R$0.40.\n",
      "O peso da carga é Kg: 50.10.\n"
     ]
    }
   ],
   "source": [
    "peso_peixes = float(input(\"Informe o peso dos peixes em quilos: \"))\n",
    "limite_peso = 50\n",
    "\n",
    "if peso_peixes > limite_peso:\n",
    "    excesso_peso = peso_peixes - limite_peso\n",
    "    valor_multa = excesso_peso * 4.0\n",
    "    print(f\"Peso de peixes excedeu o limite em {excesso_peso:.2f} quilos.\")\n",
    "    print(f\"João deverá pagar uma multa de R${valor_multa:.2f}.\")\n",
    "    print(f\"O peso da carga é Kg: {peso_peixes:.2f}.\")\n",
    "else:\n",
    "    print(\"Peso de peixes dentro do limite. Nenhuma multa será aplicada.\")\n",
    "    print(f\"O peso da carga é Kg: {peso_peixes:.2f}.\")\n"
   ]
  },
  {
   "cell_type": "markdown",
   "metadata": {},
   "source": [
    "## 4-Faça um programa para uma loja de tintas. O programa deverá pedir o tamanho em metros quadrados da área a ser pintada. Considere que a cobertura da tinta é de 1 litro para cada 3 metros quadrados e que a tinta é vendida em latas de 18 litros, que custam R$ 80,00. Informe ao usuário a quantidades de latas de tinta a serem compradas e o preço total."
   ]
  },
  {
   "cell_type": "code",
   "execution_count": 15,
   "metadata": {},
   "outputs": [
    {
     "name": "stdout",
     "output_type": "stream",
     "text": [
      "Quantidade de latas de tinta necessárias: 56\n",
      "Preço total: R$4480.00\n"
     ]
    }
   ],
   "source": [
    "import math\n",
    "\n",
    "cobertura_por_litro = 3\n",
    "capacidade_lata = 18\n",
    "preco_lata = 80.00\n",
    "area_a_ser_pintada = float(input(\"Informe o tamanho da área a ser pintada (em metros quadrados): \"))\n",
    "litros_necessarios = math.ceil(area_a_ser_pintada / cobertura_por_litro)\n",
    "latas_necessarias = math.ceil(litros_necessarios / capacidade_lata)\n",
    "preco_total = latas_necessarias * preco_lata\n",
    "print(f\"Quantidade de latas de tinta necessárias: {latas_necessarias}\")\n",
    "print(f\"Preço total: R${preco_total:.2f}\")\n"
   ]
  },
  {
   "cell_type": "markdown",
   "metadata": {},
   "source": [
    "## 5-Desenvolva um gerador de tabuada, capaz de gerar a tabuada de qualquer número inteiro entre 1 a 10. O usuário deve informar de qual numero ele deseja ver a tabuada. A saída deve ser conforme o exemplo abaixo:\n",
    "\n",
    "Tabuada de 5: \n",
    "5 X 1 = 5 \n",
    "5 X 2 = 10 \n",
    "... \n",
    "5 X 10 = 50\n"
   ]
  },
  {
   "cell_type": "code",
   "execution_count": 17,
   "metadata": {},
   "outputs": [
    {
     "name": "stdout",
     "output_type": "stream",
     "text": [
      "Tabuada de 20:\n",
      "20 X 1 = 20\n",
      "20 X 2 = 40\n",
      "20 X 3 = 60\n",
      "20 X 4 = 80\n",
      "20 X 5 = 100\n",
      "20 X 6 = 120\n",
      "20 X 7 = 140\n",
      "20 X 8 = 160\n",
      "20 X 9 = 180\n",
      "20 X 10 = 200\n"
     ]
    }
   ],
   "source": [
    "numero = int(input(\"Informe um número para ver a tabuada (entre 1 e 20): \"))\n",
    "if 1 <= numero <= 20:\n",
    "    print(f\"Tabuada de {numero}:\")\n",
    "\n",
    "    for i in range(1, 11):\n",
    "        resultado = numero * i\n",
    "        print(f\"{numero} X {i} = {resultado}\")\n",
    "else:\n",
    "    print(\"Número fora do intervalo permitido.\")\n"
   ]
  },
  {
   "cell_type": "markdown",
   "metadata": {},
   "source": [
    "## 6-(Laço)O Sr. Manoel Joaquim expandiu seus negócios para além dos negócios de 1,99 e agora possui uma loja de conveniências. Faça um programa que implemente uma caixa registradora rudimentar. O programa deverá receber um número desconhecido de valores referentes aos preços das mercadorias. Um valor zero deve ser informado pelo operador para indicar o final da compra. O programa deve então mostrar o total da compra e perguntar o valor em dinheiro que o cliente forneceu, para então calcular e mostrar o valor do troco. Após esta operação, o programa deverá voltar ao ponto inicial, para registrar a próxima compra. A saída deve ser conforme o exemplo abaixo:\n",
    "\n",
    "Lojas Tabajara \n",
    "Produto 1: R$ 2.20 \n",
    "Produto 2: R$ 5.80 \n",
    "Produto 3: R$ 0 \n",
    "Total: R$ 9.00 \n",
    "Dinheiro: R$ 20.00 \n",
    "Troco: R$ 11.00 "
   ]
  },
  {
   "cell_type": "code",
   "execution_count": null,
   "metadata": {},
   "outputs": [],
   "source": []
  },
  {
   "cell_type": "markdown",
   "metadata": {},
   "source": [
    "## 7-Faça um programa com uma função chamada \"somaImposto\". A função possui dois parâmetros formais: \"taxaImposto\", que é a quantia de imposto sobre vendas expressa em porcentagem e custo, que é o custo de um item antes do imposto. A função “altera” o valor de custo para incluir o imposto sobre vendas."
   ]
  },
  {
   "cell_type": "code",
   "execution_count": null,
   "metadata": {},
   "outputs": [],
   "source": []
  },
  {
   "cell_type": "markdown",
   "metadata": {},
   "source": [
    "## 8-(Lista) Faça um Programa que peça as quatro notas de 10 alunos, calcule e armazene num vetor a média de cada aluno, imprima o número de alunos com média maior ou igual a 7.0"
   ]
  },
  {
   "cell_type": "code",
   "execution_count": null,
   "metadata": {},
   "outputs": [],
   "source": []
  },
  {
   "cell_type": "markdown",
   "metadata": {},
   "source": [
    "## 9-(vetor)Faça um Programa que leia um vetor A com 10 números inteiros, calcule e mostre a soma dos quadrados dos elementos do vetor."
   ]
  },
  {
   "cell_type": "code",
   "execution_count": null,
   "metadata": {},
   "outputs": [],
   "source": []
  },
  {
   "cell_type": "markdown",
   "metadata": {},
   "source": [
    "## 10- Faça um programa que solicite o nome do usuário e imprima-o na vertical."
   ]
  },
  {
   "cell_type": "code",
   "execution_count": null,
   "metadata": {},
   "outputs": [],
   "source": []
  }
 ],
 "metadata": {
  "kernelspec": {
   "display_name": "Python 3",
   "language": "python",
   "name": "python3"
  },
  "language_info": {
   "codemirror_mode": {
    "name": "ipython",
    "version": 3
   },
   "file_extension": ".py",
   "mimetype": "text/x-python",
   "name": "python",
   "nbconvert_exporter": "python",
   "pygments_lexer": "ipython3",
   "version": "3.11.6"
  }
 },
 "nbformat": 4,
 "nbformat_minor": 2
}
