{
 "cells": [
  {
   "cell_type": "markdown",
   "metadata": {},
   "source": [
    "# Exercício 01\n",
    "\n",
    "Faça um aplicação python que armazene 10 notas de um aluno em uma Array.\n",
    "No final mostrar a media.\n",
    "obs: altera para que o usuario posso lançar quantas notas queira\n"
   ]
  },
  {
   "cell_type": "code",
   "execution_count": null,
   "metadata": {},
   "outputs": [],
   "source": [
    "QN = int(input(\"Quantas notas ira lançar\"))\n",
    "notas = []\n",
    "\n",
    "for i in range(QN):\n",
    "    nota = float(input(f\"Digite a nota {i + 1}: \"))\n",
    "    notas.append(nota)\n",
    "\n",
    "media = sum(notas) / len(notas)\n",
    "\n",
    "print(f\"A média das notas é: {media}\")"
   ]
  },
  {
   "cell_type": "markdown",
   "metadata": {},
   "source": [
    "# Exercício 02\n",
    "\n",
    "Escreva um programa Python NumPy que converte esta matriz de binários (0s e 1s) em uma matriz de booleanos (True e False). Dica: use o método astype() da NumPy para realizar esta tarefa.\n",
    "\n",
    "obs: acresentei que usuario posso colocar o numero de linhas e colunas, e o binario fica no aleatorio"
   ]
  },
  {
   "cell_type": "code",
   "execution_count": 3,
   "metadata": {},
   "outputs": [
    {
     "name": "stdout",
     "output_type": "stream",
     "text": [
      "\n",
      "Matriz binária:\n",
      "[[1]\n",
      " [0]]\n",
      "\n",
      "Matriz de Booleanos:\n",
      "[[ True]\n",
      " [False]]\n"
     ]
    }
   ],
   "source": [
    "import numpy as np\n",
    "\n",
    "num_linhas = int(input(\"Digite o número de linhas: \"))\n",
    "num_colunas = int(input(\"Digite o número de colunas: \"))\n",
    "\n",
    "matriz_binaria = np.random.randint(2, size=(num_linhas, num_colunas))\n",
    "\n",
    "matriz_booleana = matriz_binaria.astype(bool)\n",
    "\n",
    "\n",
    "print(\"\\nMatriz binária:\")\n",
    "print(matriz_binaria)\n",
    "\n",
    "print(\"\\nMatriz de Booleanos:\")\n",
    "print(matriz_booleana)"
   ]
  },
  {
   "cell_type": "markdown",
   "metadata": {},
   "source": [
    "## Exercício 03\n",
    "Verifique na matriz abaixo qual numero é par e impar.\n",
    "\n",
    "```\n",
    "Matriz: 4 x 3\n",
    "     3     4     3     \n",
    "     5     4     8   \n",
    "     44    66    6   \n",
    "     6     9     10\n",
    "```\n",
    "\n",
    "fora adicionar quantas linhas, colunas e poder colocar os dados, deixar o impar e par na em tabela"
   ]
  },
  {
   "cell_type": "code",
   "execution_count": 2,
   "metadata": {},
   "outputs": [
    {
     "name": "stdout",
     "output_type": "stream",
     "text": [
      "IMPAR PAR \n",
      "PAR IMPAR \n",
      "\n",
      "Matriz resultante:\n",
      "[[1 2]\n",
      " [2 1]]\n"
     ]
    }
   ],
   "source": [
    "import numpy as np\n",
    "\n",
    "linhas = int(input(\"Quantas linhas você quer? \"))\n",
    "colunas = int(input(\"Quantas colunas você quer? \"))\n",
    "matriz = np.zeros((linhas, colunas), dtype=int)\n",
    "\n",
    "for i in range(linhas):\n",
    "    for j in range(colunas):\n",
    "        valor = int(input(f\"Digite o valor para a posição [{i}, {j}]: \"))\n",
    "        matriz[i, j] = valor\n",
    "        if valor % 2 == 0:\n",
    "            print(\"PAR\", end=' ')\n",
    "        else:\n",
    "            print(\"IMPAR\", end=' ')\n",
    "    print() \n",
    "print(\"\\nMatriz resultante:\")\n",
    "print(matriz)"
   ]
  },
  {
   "cell_type": "markdown",
   "metadata": {},
   "source": [
    "## Exercício 04\n",
    "Verifique na matriz abaixo qual numero é primo"
   ]
  },
  {
   "cell_type": "code",
   "execution_count": null,
   "metadata": {},
   "outputs": [],
   "source": [
    "n = int(input(\"Verificar numeros primos ate: \"))\n",
    "mult=0\n",
    "\n",
    "for count in range(2,n):\n",
    "    if (n % count == 0):\n",
    "        print(\"Múltiplo de\",count)\n",
    "        mult += 1\n",
    "\n",
    "if(mult==0):\n",
    "    print(\"É primo\")\n",
    "else:\n",
    "    print(\"Tem\",mult,\" múltiplos acima de 2 e abaixo de\",n)\n",
    "\n",
    "#copiei do professor mais fiz como achar numeros primos abaixo"
   ]
  },
  {
   "cell_type": "markdown",
   "metadata": {},
   "source": [
    "Como mostrar os numero primos"
   ]
  },
  {
   "cell_type": "code",
   "execution_count": null,
   "metadata": {},
   "outputs": [],
   "source": [
    "#Teste de Primalidade de Fermat\n",
    "import random\n",
    "\n",
    "def mod_exp(base, exp, mod):\n",
    "    result = 1\n",
    "    base = base % mod\n",
    "    while exp > 0:\n",
    "        if exp % 2 == 1:\n",
    "            result = (result * base) % mod\n",
    "        exp = exp // 2\n",
    "        base = (base * base) % mod\n",
    "    return result\n",
    "\n",
    "def fermat_test(n, k=5):\n",
    "    if n == 2 or n == 3:\n",
    "        return True\n",
    "\n",
    "    if n <= 1 or n % 2 == 0:\n",
    "        return False\n",
    "\n",
    "    for _ in range(k):\n",
    "        a = random.randint(2, n - 2)\n",
    "        if mod_exp(a, n - 1, n) != 1:\n",
    "            return False\n",
    "\n",
    "    return True\n",
    "\n",
    "numero_usuario = int(input(\"Digite um número para verificar se é primo: \"))\n",
    "\n",
    "if fermat_test(numero_usuario):\n",
    "    print(f\"{numero_usuario} é provavelmente primo.\")\n",
    "else:\n",
    "    print(f\"{numero_usuario} é composto.\")\n"
   ]
  },
  {
   "cell_type": "code",
   "execution_count": 5,
   "metadata": {},
   "outputs": [
    {
     "name": "stdout",
     "output_type": "stream",
     "text": [
      "2 3 5 7 11 13 17 19 23 29 31 37 41 43 47 53 59 61 67 71 73 79 83 89 97 101 103 107 109 113 127 131 137 139 149 151 157 163 167 173 179 181 191 193 197 199 211 223 227 229 233 239 241 251 257 263 269 271 277 281 283 293 307 311 313 317 331 337 347 349 353 359 367 373 379 383 389 397 401 409 419 421 431 433 439 443 449 457 461 463 467 479 487 491 499 503 509 521 523 541 547 557 563 569 571 577 587 593 599 601 607 613 617 619 631 641 643 647 653 659 661 673 677 683 691 701 709 719 727 733 739 743 751 757 761 769 773 787 797 809 811 821 823 827 829 839 853 857 859 863 877 881 883 887 907 911 919 929 937 941 947 953 967 971 977 983 991 997 "
     ]
    }
   ],
   "source": [
    "# Mostrando os numeros primos de 0 a 1000\n",
    "import random\n",
    "\n",
    "def mod_exp(base, exp, mod):\n",
    "    result = 1\n",
    "    base = base % mod\n",
    "    while exp > 0:\n",
    "        if exp % 2 == 1:\n",
    "            result = (result * base) % mod\n",
    "        exp = exp // 2\n",
    "        base = (base * base) % mod\n",
    "    return result\n",
    "\n",
    "def fermat_test(n, k=5):\n",
    "    if n == 2 or n == 3:\n",
    "        return True\n",
    "\n",
    "    if n <= 1 or n % 2 == 0:\n",
    "        return False\n",
    "\n",
    "    for _ in range(k):\n",
    "        a = random.randint(2, n - 2)\n",
    "        if mod_exp(a, n - 1, n) != 1:\n",
    "            return False\n",
    "\n",
    "    return True\n",
    "\n",
    "for num in range(1, 1000):\n",
    "    if fermat_test(num):\n",
    "        print(num, end=' ')\n"
   ]
  }
 ],
 "metadata": {
  "kernelspec": {
   "display_name": "Python 3",
   "language": "python",
   "name": "python3"
  },
  "language_info": {
   "codemirror_mode": {
    "name": "ipython",
    "version": 3
   },
   "file_extension": ".py",
   "mimetype": "text/x-python",
   "name": "python",
   "nbconvert_exporter": "python",
   "pygments_lexer": "ipython3",
   "version": "3.11.6"
  }
 },
 "nbformat": 4,
 "nbformat_minor": 2
}
