{
 "cells": [
  {
   "cell_type": "code",
   "execution_count": 9,
   "metadata": {},
   "outputs": [],
   "source": [
    "import turtle\n",
    " \n",
    "turtle.pensize (5)\n",
    " \n",
    "turtle.pencolor (\"Black\")\n",
    " \n",
    "turtle.fillcolor (\"Green\")\n",
    "turtle.penup()\n",
    "turtle.goto (0, -200)\n",
    "turtle.pendown()\n",
    "turtle.circle (200)\n",
    " \n",
    "turtle.penup()\n",
    "turtle.goto (-100,50)\n",
    "turtle.pendown()\n",
    "turtle.begin_fill()\n",
    "turtle.circle (17.5)\n",
    "turtle.end_fill()\n",
    "turtle.penup()\n",
    "turtle.goto (100,50)\n",
    "turtle.pendown()\n",
    "turtle.begin_fill()\n",
    "turtle.circle (17.5)\n",
    "turtle.end_fill()\n",
    " \n",
    "turtle.penup()\n",
    "turtle.goto (0,50)\n",
    "turtle.pendown()\n",
    "turtle.circle (-70, steps=3)\n",
    " \n",
    "turtle.penup()\n",
    "turtle.goto (-100, -70)\n",
    "turtle.pendown()\n",
    "turtle.right (90)\n",
    "turtle.circle (100,180)\n",
    "turtle.mainloop()"
   ]
  }
 ],
 "metadata": {
  "kernelspec": {
   "display_name": "Python 3",
   "language": "python",
   "name": "python3"
  },
  "language_info": {
   "codemirror_mode": {
    "name": "ipython",
    "version": 3
   },
   "file_extension": ".py",
   "mimetype": "text/x-python",
   "name": "python",
   "nbconvert_exporter": "python",
   "pygments_lexer": "ipython3",
   "version": "3.7.8"
  }
 },
 "nbformat": 4,
 "nbformat_minor": 2
}
