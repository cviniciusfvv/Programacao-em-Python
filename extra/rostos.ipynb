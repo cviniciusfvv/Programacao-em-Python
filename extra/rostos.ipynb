{
 "cells": [
  {
   "cell_type": "code",
   "execution_count": null,
   "metadata": {},
   "outputs": [],
   "source": [
    "import turtle\n",
    "\n",
    "# Função para desenhar um círculo\n",
    "def draw_circle(radius, color, x, y):\n",
    "    turtle.penup()\n",
    "    turtle.goto(x, y)\n",
    "    turtle.pendown()\n",
    "    turtle.fillcolor(color)\n",
    "    turtle.begin_fill()\n",
    "    turtle.circle(radius)\n",
    "    turtle.end_fill()\n",
    "\n",
    "# Função para desenhar um triângulo\n",
    "def draw_triangle(size, color, x, y):\n",
    "    turtle.penup()\n",
    "    turtle.goto(x, y)\n",
    "    turtle.pendown()\n",
    "    turtle.fillcolor(color)\n",
    "    turtle.begin_fill()\n",
    "    for _ in range(3):\n",
    "        turtle.forward(size)\n",
    "        turtle.left(120)\n",
    "    turtle.end_fill()\n",
    "\n",
    "# Desenhar rosto do cavalo\n",
    "draw_circle(100, \"brown\", 0, -100)\n",
    "\n",
    "# Desenhar olhos\n",
    "draw_circle(15, \"black\", -30, 20)\n",
    "draw_circle(15, \"black\", 30, 20)\n",
    "\n",
    "# Desenhar orelhas\n",
    "draw_triangle(40, \"brown\", -40, 50)\n",
    "draw_triangle(40, \"brown\", 0, 50)\n",
    "\n",
    "# Desenhar boca\n",
    "turtle.width(3)\n",
    "turtle.penup()\n",
    "turtle.goto(-25, -60)\n",
    "turtle.pendown()\n",
    "turtle.right(90)\n",
    "turtle.circle(25, 180)\n",
    "\n",
    "# Manter a janela aberta\n",
    "turtle.done()\n"
   ]
  }
 ],
 "metadata": {
  "language_info": {
   "name": "python"
  }
 },
 "nbformat": 4,
 "nbformat_minor": 2
}
