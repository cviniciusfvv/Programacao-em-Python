{
 "cells": [
  {
   "cell_type": "code",
   "execution_count": 9,
   "metadata": {},
   "outputs": [],
   "source": [
    "from selenium import webdriver\n",
    "class GoogleBot():\n",
    "    def __init__(self):\n",
    "        self.driver = webdriver.Chrome()"
   ]
  },
  {
   "cell_type": "code",
   "execution_count": 3,
   "metadata": {},
   "outputs": [
    {
     "name": "stdout",
     "output_type": "stream",
     "text": [
      "Depois de 5 anos de desenvolvimento conturbado, The Day Before finalmente chegou, mas não vendeu suficiente para manter o estúdio\n"
     ]
    }
   ],
   "source": [
    "from selenium import webdriver\n",
    "from selenium.webdriver.common.by import By\n",
    "\n",
    "driver = webdriver.Chrome()\n",
    "driver.get('https://www.adrenaline.com.br/noticias/criadora-de-the-day-before-anuncia-fechamento-do-estudio/?feed_id=22697&_unique_id=65775a324beb2&fbclid=IwAR2rlFOHtnPCWGORg_P5ayJNwuZMhzuuw3hc3TtTjXOaXKPPHWUINyvHIaA')\n",
    "\n",
    "result = driver.find_element(By.XPATH, '/html/body/main/section[1]/div[4]/div/p[2]').text\n",
    "\n",
    "print(result)"
   ]
  },
  {
   "cell_type": "code",
   "execution_count": 4,
   "metadata": {},
   "outputs": [
    {
     "ename": "NoSuchWindowException",
     "evalue": "Message: no such window: target window already closed\nfrom unknown error: web view not found\n  (Session info: chrome=120.0.6099.71)\nStacktrace:\n\tGetHandleVerifier [0x00007FF6BE694D02+56194]\n\t(No symbol) [0x00007FF6BE6004B2]\n\t(No symbol) [0x00007FF6BE4A76AA]\n\t(No symbol) [0x00007FF6BE480AFD]\n\t(No symbol) [0x00007FF6BE51C9AB]\n\t(No symbol) [0x00007FF6BE53201F]\n\t(No symbol) [0x00007FF6BE515C23]\n\t(No symbol) [0x00007FF6BE4E4A45]\n\t(No symbol) [0x00007FF6BE4E5AD4]\n\tGetHandleVerifier [0x00007FF6BEA0D5BB+3695675]\n\tGetHandleVerifier [0x00007FF6BEA66197+4059159]\n\tGetHandleVerifier [0x00007FF6BEA5DF63+4025827]\n\tGetHandleVerifier [0x00007FF6BE72F029+687785]\n\t(No symbol) [0x00007FF6BE60B508]\n\t(No symbol) [0x00007FF6BE607564]\n\t(No symbol) [0x00007FF6BE6076E9]\n\t(No symbol) [0x00007FF6BE5F8094]\n\tBaseThreadInitThunk [0x00007FFAD0AF257D+29]\n\tRtlUserThreadStart [0x00007FFAD2BAAA58+40]\n",
     "output_type": "error",
     "traceback": [
      "\u001b[1;31m---------------------------------------------------------------------------\u001b[0m",
      "\u001b[1;31mNoSuchWindowException\u001b[0m                     Traceback (most recent call last)",
      "Cell \u001b[1;32mIn[4], line 8\u001b[0m\n\u001b[0;32m      5\u001b[0m nav \u001b[38;5;241m=\u001b[39m webdriver\u001b[38;5;241m.\u001b[39mChrome()\n\u001b[0;32m      6\u001b[0m nav\u001b[38;5;241m.\u001b[39mget(\u001b[38;5;124m'\u001b[39m\u001b[38;5;124mhttps://www.google.com/\u001b[39m\u001b[38;5;124m'\u001b[39m)\n\u001b[1;32m----> 8\u001b[0m \u001b[43mnav\u001b[49m\u001b[38;5;241;43m.\u001b[39;49m\u001b[43mfind_element\u001b[49m\u001b[43m(\u001b[49m\u001b[43mBy\u001b[49m\u001b[38;5;241;43m.\u001b[39;49m\u001b[43mNAME\u001b[49m\u001b[43m,\u001b[49m\u001b[43m \u001b[49m\u001b[38;5;124;43m'\u001b[39;49m\u001b[38;5;124;43mq\u001b[39;49m\u001b[38;5;124;43m'\u001b[39;49m\u001b[43m)\u001b[49m\u001b[38;5;241m.\u001b[39msend_keys(\u001b[38;5;124m'\u001b[39m\u001b[38;5;124mtempo agora\u001b[39m\u001b[38;5;124m'\u001b[39m)\n\u001b[0;32m     11\u001b[0m result \u001b[38;5;241m=\u001b[39m nav\u001b[38;5;241m.\u001b[39mfind_element(By\u001b[38;5;241m.\u001b[39mNAME, \u001b[38;5;124m'\u001b[39m\u001b[38;5;124mbtnk\u001b[39m\u001b[38;5;124m'\u001b[39m)\u001b[38;5;241m.\u001b[39mclick()\n\u001b[0;32m     12\u001b[0m \u001b[38;5;28mprint\u001b[39m(result)\n",
      "File \u001b[1;32mc:\\Users\\carlo\\AppData\\Local\\Programs\\Python\\Python312\\Lib\\site-packages\\selenium\\webdriver\\remote\\webdriver.py:742\u001b[0m, in \u001b[0;36mWebDriver.find_element\u001b[1;34m(self, by, value)\u001b[0m\n\u001b[0;32m    739\u001b[0m     by \u001b[38;5;241m=\u001b[39m By\u001b[38;5;241m.\u001b[39mCSS_SELECTOR\n\u001b[0;32m    740\u001b[0m     value \u001b[38;5;241m=\u001b[39m \u001b[38;5;124mf\u001b[39m\u001b[38;5;124m'\u001b[39m\u001b[38;5;124m[name=\u001b[39m\u001b[38;5;124m\"\u001b[39m\u001b[38;5;132;01m{\u001b[39;00mvalue\u001b[38;5;132;01m}\u001b[39;00m\u001b[38;5;124m\"\u001b[39m\u001b[38;5;124m]\u001b[39m\u001b[38;5;124m'\u001b[39m\n\u001b[1;32m--> 742\u001b[0m \u001b[38;5;28;01mreturn\u001b[39;00m \u001b[38;5;28;43mself\u001b[39;49m\u001b[38;5;241;43m.\u001b[39;49m\u001b[43mexecute\u001b[49m\u001b[43m(\u001b[49m\u001b[43mCommand\u001b[49m\u001b[38;5;241;43m.\u001b[39;49m\u001b[43mFIND_ELEMENT\u001b[49m\u001b[43m,\u001b[49m\u001b[43m \u001b[49m\u001b[43m{\u001b[49m\u001b[38;5;124;43m\"\u001b[39;49m\u001b[38;5;124;43musing\u001b[39;49m\u001b[38;5;124;43m\"\u001b[39;49m\u001b[43m:\u001b[49m\u001b[43m \u001b[49m\u001b[43mby\u001b[49m\u001b[43m,\u001b[49m\u001b[43m \u001b[49m\u001b[38;5;124;43m\"\u001b[39;49m\u001b[38;5;124;43mvalue\u001b[39;49m\u001b[38;5;124;43m\"\u001b[39;49m\u001b[43m:\u001b[49m\u001b[43m \u001b[49m\u001b[43mvalue\u001b[49m\u001b[43m}\u001b[49m\u001b[43m)\u001b[49m[\u001b[38;5;124m\"\u001b[39m\u001b[38;5;124mvalue\u001b[39m\u001b[38;5;124m\"\u001b[39m]\n",
      "File \u001b[1;32mc:\\Users\\carlo\\AppData\\Local\\Programs\\Python\\Python312\\Lib\\site-packages\\selenium\\webdriver\\remote\\webdriver.py:348\u001b[0m, in \u001b[0;36mWebDriver.execute\u001b[1;34m(self, driver_command, params)\u001b[0m\n\u001b[0;32m    346\u001b[0m response \u001b[38;5;241m=\u001b[39m \u001b[38;5;28mself\u001b[39m\u001b[38;5;241m.\u001b[39mcommand_executor\u001b[38;5;241m.\u001b[39mexecute(driver_command, params)\n\u001b[0;32m    347\u001b[0m \u001b[38;5;28;01mif\u001b[39;00m response:\n\u001b[1;32m--> 348\u001b[0m     \u001b[38;5;28;43mself\u001b[39;49m\u001b[38;5;241;43m.\u001b[39;49m\u001b[43merror_handler\u001b[49m\u001b[38;5;241;43m.\u001b[39;49m\u001b[43mcheck_response\u001b[49m\u001b[43m(\u001b[49m\u001b[43mresponse\u001b[49m\u001b[43m)\u001b[49m\n\u001b[0;32m    349\u001b[0m     response[\u001b[38;5;124m\"\u001b[39m\u001b[38;5;124mvalue\u001b[39m\u001b[38;5;124m\"\u001b[39m] \u001b[38;5;241m=\u001b[39m \u001b[38;5;28mself\u001b[39m\u001b[38;5;241m.\u001b[39m_unwrap_value(response\u001b[38;5;241m.\u001b[39mget(\u001b[38;5;124m\"\u001b[39m\u001b[38;5;124mvalue\u001b[39m\u001b[38;5;124m\"\u001b[39m, \u001b[38;5;28;01mNone\u001b[39;00m))\n\u001b[0;32m    350\u001b[0m     \u001b[38;5;28;01mreturn\u001b[39;00m response\n",
      "File \u001b[1;32mc:\\Users\\carlo\\AppData\\Local\\Programs\\Python\\Python312\\Lib\\site-packages\\selenium\\webdriver\\remote\\errorhandler.py:229\u001b[0m, in \u001b[0;36mErrorHandler.check_response\u001b[1;34m(self, response)\u001b[0m\n\u001b[0;32m    227\u001b[0m         alert_text \u001b[38;5;241m=\u001b[39m value[\u001b[38;5;124m\"\u001b[39m\u001b[38;5;124malert\u001b[39m\u001b[38;5;124m\"\u001b[39m]\u001b[38;5;241m.\u001b[39mget(\u001b[38;5;124m\"\u001b[39m\u001b[38;5;124mtext\u001b[39m\u001b[38;5;124m\"\u001b[39m)\n\u001b[0;32m    228\u001b[0m     \u001b[38;5;28;01mraise\u001b[39;00m exception_class(message, screen, stacktrace, alert_text)  \u001b[38;5;66;03m# type: ignore[call-arg]  # mypy is not smart enough here\u001b[39;00m\n\u001b[1;32m--> 229\u001b[0m \u001b[38;5;28;01mraise\u001b[39;00m exception_class(message, screen, stacktrace)\n",
      "\u001b[1;31mNoSuchWindowException\u001b[0m: Message: no such window: target window already closed\nfrom unknown error: web view not found\n  (Session info: chrome=120.0.6099.71)\nStacktrace:\n\tGetHandleVerifier [0x00007FF6BE694D02+56194]\n\t(No symbol) [0x00007FF6BE6004B2]\n\t(No symbol) [0x00007FF6BE4A76AA]\n\t(No symbol) [0x00007FF6BE480AFD]\n\t(No symbol) [0x00007FF6BE51C9AB]\n\t(No symbol) [0x00007FF6BE53201F]\n\t(No symbol) [0x00007FF6BE515C23]\n\t(No symbol) [0x00007FF6BE4E4A45]\n\t(No symbol) [0x00007FF6BE4E5AD4]\n\tGetHandleVerifier [0x00007FF6BEA0D5BB+3695675]\n\tGetHandleVerifier [0x00007FF6BEA66197+4059159]\n\tGetHandleVerifier [0x00007FF6BEA5DF63+4025827]\n\tGetHandleVerifier [0x00007FF6BE72F029+687785]\n\t(No symbol) [0x00007FF6BE60B508]\n\t(No symbol) [0x00007FF6BE607564]\n\t(No symbol) [0x00007FF6BE6076E9]\n\t(No symbol) [0x00007FF6BE5F8094]\n\tBaseThreadInitThunk [0x00007FFAD0AF257D+29]\n\tRtlUserThreadStart [0x00007FFAD2BAAA58+40]\n"
     ]
    }
   ],
   "source": [
    "from selenium import webdriver\n",
    "from selenium.webdriver.common.by import By\n",
    "from selenium.webdriver.common.keys import Keys\n",
    "\n",
    "nav = webdriver.Chrome()\n",
    "nav.get('https://www.google.com/')\n",
    "\n",
    "nav.find_element(By.NAME, 'q').send_keys('tempo agora')\n",
    "\n",
    "\n",
    "result = nav.find_element(By.NAME, 'btnk').click()\n",
    "print(result)"
   ]
  },
  {
   "cell_type": "code",
   "execution_count": 10,
   "metadata": {},
   "outputs": [
    {
     "name": "stdout",
     "output_type": "stream",
     "text": [
      "Previsão para 15 dias Campinas - SP - Tempo Agora - UOL\n",
      "Tempo Agora\n",
      "https://tempoagora.uol.com.br › Cidade\n",
      "Saiba qual é a previsão do tempo para os próximos 15 dias em Campinas - SP. Confira se há previsão de chuva, qual a temperatura e e as condições de tempo ...\n",
      "Clima e Previsão do tempo para hoje em Campinas - SP\n",
      "Tempo Agora\n",
      "https://tempoagora.uol.com.br › Cidade\n",
      "Temperatura. Temperatura mínima 18° Temperatura máxima 30° · Chuva. 0mm - 0% · Vento. ESE - 20km/h · Umidade. Úmidade mínima 37% Úmidade máxima 86% · Sol 05:16h 18: ...\n",
      "Tempo Agora em Campinas - SP: Clima em tempo real\n",
      "Climatempo\n",
      "https://www.climatempo.com.br › Cidade\n",
      "Verifique quais são as condições do momento, sensação térmica e a temperatura em Campinas - SP. Fique por dentro em tempo real para descobrir se está ...\n",
      "Previsão do Tempo em Campinas - SP | Hoje e Amanhã\n",
      "O TEMPO\n",
      "https://www.otempo.com.br › tempo › campinas-sp\n",
      "Sol e aumento de nuvens de manhã. Pancadas de chuva à tarde e à noite. Temperatura Mínima. 29ºC17ºC. Probabilidade 44%.\n",
      "Previsão do tempo para Campinas e Região\n",
      "CEPAGRI/UNICAMP\n",
      "https://www.cpa.unicamp.br › cepagri › previsao\n",
      "A RMC amanheceu sob céu nublado, com chuvisco isolado, e temperaturas em torno de 20ºC nesta segunda-feira, dia 11/12/2023. O tempo hoje permanece instável, ...\n",
      "Previsão do tempo Campinas SP. 14 dias\n",
      "Tempo.com\n",
      "https://www.tempo.com › Estado de São Paulo\n",
      "Previsão do tempo Campinas - SP · 01:00 Céu nublado 19° · 02:00 Períodos nublados 19° · 03:00 Céu encoberto 19° · 04:00 Céu nublado 20° · 05:00 Períodos nublados 19° ...\n",
      "INMET: Instituto Nacional de Meteorologia\n",
      "INMET\n",
      "https://portal.inmet.gov.br\n",
      "Monitoramento · Avisos Meteorológicos · Previsão de Tempo · Satélite · Previsão Numérica.\n",
      "INPE - Campinas / SP\n",
      "Centro de Previsão de Tempo e Estudos Climáticos\n",
      "https://www.cptec.inpe.br › cidades › tempo\n",
      "Página inicial; Previsão numérica de tempo (Campinas/SP). Campinas/SP. Previsão numérica de tempo por período (11/12/2023). 90% Manhã. 90% Tarde. 5% Noite.\n",
      "Previsão climática horária para Campinas, São Paulo\n",
      "The Weather Channel\n",
      "https://weather.com › pt-BR › clima › horaria › Campina...\n",
      "Quantidade de chuva0 cm. 2:00. 20°. 2%. Pouco Nublado. Sensação térmica20°. VentoSE 19 km/h. Umidade82%. Índice UV0 de 11. Nebulosidade24%.\n",
      "Clima ao vivo\n",
      "Clima ao vivo\n",
      "https://www.climaaovivo.com.br\n",
      "Qual cidade você quer ver agora? Ajudamos você a se programar com o tempo. Mais de 240 câmeras em mais de 180 cidades ao vivo em 25 estados do Brasil. Clima ...\n"
     ]
    }
   ],
   "source": [
    "from selenium import webdriver\n",
    "from selenium.webdriver.common.by import By\n",
    "from selenium.webdriver.common.keys import Keys\n",
    "\n",
    "nav = webdriver.Chrome()\n",
    "nav.get('https://www.google.com/')\n",
    "\n",
    "search_box = nav.find_element(By.NAME, 'q')\n",
    "search_box.send_keys('tempo agora')\n",
    "search_box.send_keys(Keys.RETURN)\n",
    "\n",
    "nav.implicitly_wait(5)\n",
    "\n",
    "search_results = nav.find_elements(By.CSS_SELECTOR, 'div.g')\n",
    "\n",
    "\n",
    "for result in search_results:\n",
    "    print(result.text)\n",
    "\n",
    "\n",
    "nav.quit()"
   ]
  }
 ],
 "metadata": {
  "kernelspec": {
   "display_name": "Python 3",
   "language": "python",
   "name": "python3"
  },
  "language_info": {
   "codemirror_mode": {
    "name": "ipython",
    "version": 3
   },
   "file_extension": ".py",
   "mimetype": "text/x-python",
   "name": "python",
   "nbconvert_exporter": "python",
   "pygments_lexer": "ipython3",
   "version": "3.12.0"
  }
 },
 "nbformat": 4,
 "nbformat_minor": 2
}
