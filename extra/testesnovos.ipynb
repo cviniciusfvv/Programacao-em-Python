{
 "cells": [
  {
   "cell_type": "code",
   "execution_count": 9,
   "metadata": {},
   "outputs": [],
   "source": [
    "from selenium import webdriver\n",
    "class GoogleBot():\n",
    "    def __init__(self):\n",
    "        self.driver = webdriver.Chrome()"
   ]
  },
  {
   "cell_type": "code",
   "execution_count": null,
   "metadata": {},
   "outputs": [],
   "source": [
    "from selenium import webdriver\n",
    "from selenium.webdriver.common.by import By\n",
    "\n",
    "driver = webdriver.Chrome()\n",
    "driver.get('https://www.globo.com/')\n",
    "\n",
    "result = driver.find_element(By.XPATH, '//*[@id=\"img_anch_CP_Y3OCRiIMDFX-KlQIdrr0MBg\"]/img').text\n",
    "\n",
    "print(result)"
   ]
  },
  {
   "cell_type": "code",
   "execution_count": 12,
   "metadata": {},
   "outputs": [
    {
     "ename": "NoSuchElementException",
     "evalue": "Message: no such element: Unable to locate element: {\"method\":\"css selector\",\"selector\":\"[name=\"btnk\"]\"}\n  (Session info: chrome=119.0.6045.200); For documentation on this error, please visit: https://www.selenium.dev/documentation/webdriver/troubleshooting/errors#no-such-element-exception\nStacktrace:\n\tGetHandleVerifier [0x00007FF6C9A082B2+55298]\n\t(No symbol) [0x00007FF6C9975E02]\n\t(No symbol) [0x00007FF6C98305AB]\n\t(No symbol) [0x00007FF6C987175C]\n\t(No symbol) [0x00007FF6C98718DC]\n\t(No symbol) [0x00007FF6C98ACBC7]\n\t(No symbol) [0x00007FF6C98920EF]\n\t(No symbol) [0x00007FF6C98AAAA4]\n\t(No symbol) [0x00007FF6C9891E83]\n\t(No symbol) [0x00007FF6C986670A]\n\t(No symbol) [0x00007FF6C9867964]\n\tGetHandleVerifier [0x00007FF6C9D80AAB+3694587]\n\tGetHandleVerifier [0x00007FF6C9DD728E+4048862]\n\tGetHandleVerifier [0x00007FF6C9DCF173+4015811]\n\tGetHandleVerifier [0x00007FF6C9AA47D6+695590]\n\t(No symbol) [0x00007FF6C9980CE8]\n\t(No symbol) [0x00007FF6C997CF34]\n\t(No symbol) [0x00007FF6C997D062]\n\t(No symbol) [0x00007FF6C996D3A3]\n\tBaseThreadInitThunk [0x00007FFC061C7344+20]\n\tRtlUserThreadStart [0x00007FFC076A26B1+33]\n",
     "output_type": "error",
     "traceback": [
      "\u001b[1;31m---------------------------------------------------------------------------\u001b[0m",
      "\u001b[1;31mNoSuchElementException\u001b[0m                    Traceback (most recent call last)",
      "\u001b[1;32m~\\AppData\\Local\\Temp\\ipykernel_9512\\1277126003.py\u001b[0m in \u001b[0;36m<module>\u001b[1;34m\u001b[0m\n\u001b[0;32m      9\u001b[0m \u001b[1;33m\u001b[0m\u001b[0m\n\u001b[0;32m     10\u001b[0m \u001b[1;33m\u001b[0m\u001b[0m\n\u001b[1;32m---> 11\u001b[1;33m \u001b[0mresult\u001b[0m \u001b[1;33m=\u001b[0m \u001b[0mnav\u001b[0m\u001b[1;33m.\u001b[0m\u001b[0mfind_element\u001b[0m\u001b[1;33m(\u001b[0m\u001b[0mBy\u001b[0m\u001b[1;33m.\u001b[0m\u001b[0mNAME\u001b[0m\u001b[1;33m,\u001b[0m \u001b[1;34m'btnk'\u001b[0m\u001b[1;33m)\u001b[0m\u001b[1;33m.\u001b[0m\u001b[0mclick\u001b[0m\u001b[1;33m(\u001b[0m\u001b[1;33m)\u001b[0m\u001b[1;33m\u001b[0m\u001b[1;33m\u001b[0m\u001b[0m\n\u001b[0m\u001b[0;32m     12\u001b[0m \u001b[0mprint\u001b[0m\u001b[1;33m(\u001b[0m\u001b[0mresult\u001b[0m\u001b[1;33m)\u001b[0m\u001b[1;33m\u001b[0m\u001b[1;33m\u001b[0m\u001b[0m\n",
      "\u001b[1;32m~\\AppData\\Roaming\\Python\\Python37\\site-packages\\selenium\\webdriver\\remote\\webdriver.py\u001b[0m in \u001b[0;36mfind_element\u001b[1;34m(self, by, value)\u001b[0m\n\u001b[0;32m    737\u001b[0m             \u001b[0mvalue\u001b[0m \u001b[1;33m=\u001b[0m \u001b[1;34mf'[name=\"{value}\"]'\u001b[0m\u001b[1;33m\u001b[0m\u001b[1;33m\u001b[0m\u001b[0m\n\u001b[0;32m    738\u001b[0m \u001b[1;33m\u001b[0m\u001b[0m\n\u001b[1;32m--> 739\u001b[1;33m         \u001b[1;32mreturn\u001b[0m \u001b[0mself\u001b[0m\u001b[1;33m.\u001b[0m\u001b[0mexecute\u001b[0m\u001b[1;33m(\u001b[0m\u001b[0mCommand\u001b[0m\u001b[1;33m.\u001b[0m\u001b[0mFIND_ELEMENT\u001b[0m\u001b[1;33m,\u001b[0m \u001b[1;33m{\u001b[0m\u001b[1;34m\"using\"\u001b[0m\u001b[1;33m:\u001b[0m \u001b[0mby\u001b[0m\u001b[1;33m,\u001b[0m \u001b[1;34m\"value\"\u001b[0m\u001b[1;33m:\u001b[0m \u001b[0mvalue\u001b[0m\u001b[1;33m}\u001b[0m\u001b[1;33m)\u001b[0m\u001b[1;33m[\u001b[0m\u001b[1;34m\"value\"\u001b[0m\u001b[1;33m]\u001b[0m\u001b[1;33m\u001b[0m\u001b[1;33m\u001b[0m\u001b[0m\n\u001b[0m\u001b[0;32m    740\u001b[0m \u001b[1;33m\u001b[0m\u001b[0m\n\u001b[0;32m    741\u001b[0m     \u001b[1;32mdef\u001b[0m \u001b[0mfind_elements\u001b[0m\u001b[1;33m(\u001b[0m\u001b[0mself\u001b[0m\u001b[1;33m,\u001b[0m \u001b[0mby\u001b[0m\u001b[1;33m=\u001b[0m\u001b[0mBy\u001b[0m\u001b[1;33m.\u001b[0m\u001b[0mID\u001b[0m\u001b[1;33m,\u001b[0m \u001b[0mvalue\u001b[0m\u001b[1;33m:\u001b[0m \u001b[0mOptional\u001b[0m\u001b[1;33m[\u001b[0m\u001b[0mstr\u001b[0m\u001b[1;33m]\u001b[0m \u001b[1;33m=\u001b[0m \u001b[1;32mNone\u001b[0m\u001b[1;33m)\u001b[0m \u001b[1;33m->\u001b[0m \u001b[0mList\u001b[0m\u001b[1;33m[\u001b[0m\u001b[0mWebElement\u001b[0m\u001b[1;33m]\u001b[0m\u001b[1;33m:\u001b[0m\u001b[1;33m\u001b[0m\u001b[1;33m\u001b[0m\u001b[0m\n",
      "\u001b[1;32m~\\AppData\\Roaming\\Python\\Python37\\site-packages\\selenium\\webdriver\\remote\\webdriver.py\u001b[0m in \u001b[0;36mexecute\u001b[1;34m(self, driver_command, params)\u001b[0m\n\u001b[0;32m    343\u001b[0m         \u001b[0mresponse\u001b[0m \u001b[1;33m=\u001b[0m \u001b[0mself\u001b[0m\u001b[1;33m.\u001b[0m\u001b[0mcommand_executor\u001b[0m\u001b[1;33m.\u001b[0m\u001b[0mexecute\u001b[0m\u001b[1;33m(\u001b[0m\u001b[0mdriver_command\u001b[0m\u001b[1;33m,\u001b[0m \u001b[0mparams\u001b[0m\u001b[1;33m)\u001b[0m\u001b[1;33m\u001b[0m\u001b[1;33m\u001b[0m\u001b[0m\n\u001b[0;32m    344\u001b[0m         \u001b[1;32mif\u001b[0m \u001b[0mresponse\u001b[0m\u001b[1;33m:\u001b[0m\u001b[1;33m\u001b[0m\u001b[1;33m\u001b[0m\u001b[0m\n\u001b[1;32m--> 345\u001b[1;33m             \u001b[0mself\u001b[0m\u001b[1;33m.\u001b[0m\u001b[0merror_handler\u001b[0m\u001b[1;33m.\u001b[0m\u001b[0mcheck_response\u001b[0m\u001b[1;33m(\u001b[0m\u001b[0mresponse\u001b[0m\u001b[1;33m)\u001b[0m\u001b[1;33m\u001b[0m\u001b[1;33m\u001b[0m\u001b[0m\n\u001b[0m\u001b[0;32m    346\u001b[0m             \u001b[0mresponse\u001b[0m\u001b[1;33m[\u001b[0m\u001b[1;34m\"value\"\u001b[0m\u001b[1;33m]\u001b[0m \u001b[1;33m=\u001b[0m \u001b[0mself\u001b[0m\u001b[1;33m.\u001b[0m\u001b[0m_unwrap_value\u001b[0m\u001b[1;33m(\u001b[0m\u001b[0mresponse\u001b[0m\u001b[1;33m.\u001b[0m\u001b[0mget\u001b[0m\u001b[1;33m(\u001b[0m\u001b[1;34m\"value\"\u001b[0m\u001b[1;33m,\u001b[0m \u001b[1;32mNone\u001b[0m\u001b[1;33m)\u001b[0m\u001b[1;33m)\u001b[0m\u001b[1;33m\u001b[0m\u001b[1;33m\u001b[0m\u001b[0m\n\u001b[0;32m    347\u001b[0m             \u001b[1;32mreturn\u001b[0m \u001b[0mresponse\u001b[0m\u001b[1;33m\u001b[0m\u001b[1;33m\u001b[0m\u001b[0m\n",
      "\u001b[1;32m~\\AppData\\Roaming\\Python\\Python37\\site-packages\\selenium\\webdriver\\remote\\errorhandler.py\u001b[0m in \u001b[0;36mcheck_response\u001b[1;34m(self, response)\u001b[0m\n\u001b[0;32m    227\u001b[0m                 \u001b[0malert_text\u001b[0m \u001b[1;33m=\u001b[0m \u001b[0mvalue\u001b[0m\u001b[1;33m[\u001b[0m\u001b[1;34m\"alert\"\u001b[0m\u001b[1;33m]\u001b[0m\u001b[1;33m.\u001b[0m\u001b[0mget\u001b[0m\u001b[1;33m(\u001b[0m\u001b[1;34m\"text\"\u001b[0m\u001b[1;33m)\u001b[0m\u001b[1;33m\u001b[0m\u001b[1;33m\u001b[0m\u001b[0m\n\u001b[0;32m    228\u001b[0m             \u001b[1;32mraise\u001b[0m \u001b[0mexception_class\u001b[0m\u001b[1;33m(\u001b[0m\u001b[0mmessage\u001b[0m\u001b[1;33m,\u001b[0m \u001b[0mscreen\u001b[0m\u001b[1;33m,\u001b[0m \u001b[0mstacktrace\u001b[0m\u001b[1;33m,\u001b[0m \u001b[0malert_text\u001b[0m\u001b[1;33m)\u001b[0m  \u001b[1;31m# type: ignore[call-arg]  # mypy is not smart enough here\u001b[0m\u001b[1;33m\u001b[0m\u001b[1;33m\u001b[0m\u001b[0m\n\u001b[1;32m--> 229\u001b[1;33m         \u001b[1;32mraise\u001b[0m \u001b[0mexception_class\u001b[0m\u001b[1;33m(\u001b[0m\u001b[0mmessage\u001b[0m\u001b[1;33m,\u001b[0m \u001b[0mscreen\u001b[0m\u001b[1;33m,\u001b[0m \u001b[0mstacktrace\u001b[0m\u001b[1;33m)\u001b[0m\u001b[1;33m\u001b[0m\u001b[1;33m\u001b[0m\u001b[0m\n\u001b[0m",
      "\u001b[1;31mNoSuchElementException\u001b[0m: Message: no such element: Unable to locate element: {\"method\":\"css selector\",\"selector\":\"[name=\"btnk\"]\"}\n  (Session info: chrome=119.0.6045.200); For documentation on this error, please visit: https://www.selenium.dev/documentation/webdriver/troubleshooting/errors#no-such-element-exception\nStacktrace:\n\tGetHandleVerifier [0x00007FF6C9A082B2+55298]\n\t(No symbol) [0x00007FF6C9975E02]\n\t(No symbol) [0x00007FF6C98305AB]\n\t(No symbol) [0x00007FF6C987175C]\n\t(No symbol) [0x00007FF6C98718DC]\n\t(No symbol) [0x00007FF6C98ACBC7]\n\t(No symbol) [0x00007FF6C98920EF]\n\t(No symbol) [0x00007FF6C98AAAA4]\n\t(No symbol) [0x00007FF6C9891E83]\n\t(No symbol) [0x00007FF6C986670A]\n\t(No symbol) [0x00007FF6C9867964]\n\tGetHandleVerifier [0x00007FF6C9D80AAB+3694587]\n\tGetHandleVerifier [0x00007FF6C9DD728E+4048862]\n\tGetHandleVerifier [0x00007FF6C9DCF173+4015811]\n\tGetHandleVerifier [0x00007FF6C9AA47D6+695590]\n\t(No symbol) [0x00007FF6C9980CE8]\n\t(No symbol) [0x00007FF6C997CF34]\n\t(No symbol) [0x00007FF6C997D062]\n\t(No symbol) [0x00007FF6C996D3A3]\n\tBaseThreadInitThunk [0x00007FFC061C7344+20]\n\tRtlUserThreadStart [0x00007FFC076A26B1+33]\n"
     ]
    }
   ],
   "source": [
    "from selenium import webdriver\n",
    "from selenium.webdriver.common.by import By\n",
    "from selenium.webdriver.common.keys import Keys\n",
    "\n",
    "nav = webdriver.Chrome()\n",
    "nav.get('https://www.google.com/')\n",
    "\n",
    "nav.find_element(By.NAME, 'q').send_keys('tempo agora')\n",
    "\n",
    "\n",
    "result = nav.find_element(By.NAME, 'btnk').click()\n",
    "print(result)"
   ]
  },
  {
   "cell_type": "code",
   "execution_count": 16,
   "metadata": {},
   "outputs": [
    {
     "name": "stdout",
     "output_type": "stream",
     "text": [
      "Resultado da Web com links de sites\n",
      "\n",
      "URL Shortener - url shortening service gg.gg\n",
      "GG.GG\n",
      "https://gg.gg\n",
      "·\n",
      "Traduzir esta página\n",
      "Logo URL Shortener - Get short link on GG.GG. Customize link ...\n",
      "Login\n",
      "Login. Email: Password: Remember Me. Forgot your ...\n",
      "About\n",
      "GG.gg is the fastest and easy way to share, save, track your links ...\n",
      "Registration\n",
      "... Register. Registration. Email: Password: Confirm Password ...\n",
      "Aderecista\n",
      "O que faz um aderecista? Neste vídeo, que faz parte da série ...\n",
      "Mais resultados de gg.gg »\n",
      "URL Shortener - url shortening service gg.gg\n",
      "GG.GG\n",
      "https://gg.gg\n",
      "·\n",
      "Traduzir esta página\n",
      "Logo URL Shortener - Get short link on GG.GG. Customize link ...\n",
      "\n",
      "Gg gg pad 101\n",
      "Casas Bahia\n",
      "https://casasbahia.com.br › gg-gg-pad-101\n",
      "Gg gg pad 101 em até 24x* no site ou aplicativo. Compre Gg gg pad 101 com o Carnê Casas Bahia e com frete grátis*\n",
      "gg.gg é Seguro? Revisão da Comunidade | WoT\n",
      "MyWOT\n",
      "https://www.mywot.com › scorecard › gg.gg\n",
      "A tabela de desempenho WoT fornece classificações e análises online de gg.gg sobre sua segurança e confiança. Então, está gg.gg seguro? Venha descobrir.\n",
      "GG| na App Store\n",
      "Apple\n",
      "https://apps.apple.com › app\n",
      "20 de mai. de 2023 — Welcome to GG, your gaming companion, a place to connect with fellow gamers, discover new games, and keep track of your experiences all in ...\n",
      "Avaliação: 4 · 11 comentários · Gratuito · iOS\n",
      "gggg em Promoção no Magazine Luiza\n",
      "Magazine Luiza\n",
      "https://www.magazineluiza.com.br › busca › gggg\n",
      "Procurando por gggg? Confira as ofertas que a Magalu separou para você. Facilidade no pagamento e entrega rápida. Vem ser feliz!\n",
      "GG| – Apps no Google Play\n",
      "Google Play\n",
      "https://play.google.com › store › apps › details\n",
      "Bem-vindo ao GG, seu companheiro de jogo, um lugar para se conectar com outros jogadores, descobrir novos jogos e acompanhar suas experiências em uma única ...\n",
      "Avaliação: 4 · 902 votos · Gratuito · Android · Redes sociais\n",
      "GG – Wikipédia, a enciclopédia livre\n",
      "Wikipedia\n",
      "https://pt.wikipedia.org › wiki\n",
      "GG, Gg ou gg pode referir-se a: GG Allin — vocalista de punk rock .gg · Gloria Groove — artista drag queen. Wikcionário. O Wikcionário tem os verbetes GG e ...\n"
     ]
    }
   ],
   "source": [
    "from selenium import webdriver\n",
    "from selenium.webdriver.common.by import By\n",
    "from selenium.webdriver.common.keys import Keys\n",
    "\n",
    "nav = webdriver.Chrome()\n",
    "nav.get('https://www.google.com/')\n",
    "\n",
    "search_box = nav.find_element(By.NAME, 'q')\n",
    "search_box.send_keys('GG_GG')\n",
    "search_box.send_keys(Keys.RETURN)\n",
    "\n",
    "nav.implicitly_wait(5)\n",
    "\n",
    "search_results = nav.find_elements(By.CSS_SELECTOR, 'div.g')\n",
    "\n",
    "\n",
    "for result in search_results:\n",
    "    print(result.text)\n",
    "\n",
    "\n",
    "nav.quit()"
   ]
  }
 ],
 "metadata": {
  "kernelspec": {
   "display_name": "Python 3",
   "language": "python",
   "name": "python3"
  },
  "language_info": {
   "codemirror_mode": {
    "name": "ipython",
    "version": 3
   },
   "file_extension": ".py",
   "mimetype": "text/x-python",
   "name": "python",
   "nbconvert_exporter": "python",
   "pygments_lexer": "ipython3",
   "version": "3.7.8"
  }
 },
 "nbformat": 4,
 "nbformat_minor": 2
}
