{
 "cells": [
  {
   "cell_type": "code",
   "execution_count": 9,
   "metadata": {},
   "outputs": [],
   "source": [
    "from selenium import webdriver\n",
    "class GoogleBot():\n",
    "    def __init__(self):\n",
    "        self.driver = webdriver.Chrome()"
   ]
  },
  {
   "cell_type": "code",
   "execution_count": null,
   "metadata": {},
   "outputs": [],
   "source": [
    "from selenium import webdriver\n",
    "from selenium.webdriver.common.by import By\n",
    "\n",
    "driver = webdriver.Chrome()\n",
    "driver.get('https://www.globo.com/')\n",
    "\n",
    "result = driver.find_element(By.XPATH, '//*[@id=\"img_anch_CP_Y3OCRiIMDFX-KlQIdrr0MBg\"]/img').text\n",
    "\n",
    "print(result)"
   ]
  },
  {
   "cell_type": "code",
   "execution_count": 4,
   "metadata": {},
   "outputs": [
    {
     "ename": "NoSuchElementException",
     "evalue": "Message: no such element: Unable to locate element: {\"method\":\"css selector\",\"selector\":\"[name=\"btnk\"]\"}\n  (Session info: chrome=120.0.6099.71); For documentation on this error, please visit: https://www.selenium.dev/documentation/webdriver/troubleshooting/errors#no-such-element-exception\nStacktrace:\n\tGetHandleVerifier [0x00007FF7CEF14D02+56194]\n\t(No symbol) [0x00007FF7CEE804B2]\n\t(No symbol) [0x00007FF7CED276AA]\n\t(No symbol) [0x00007FF7CED716D0]\n\t(No symbol) [0x00007FF7CED717EC]\n\t(No symbol) [0x00007FF7CEDB4D77]\n\t(No symbol) [0x00007FF7CED95EBF]\n\t(No symbol) [0x00007FF7CEDB2786]\n\t(No symbol) [0x00007FF7CED95C23]\n\t(No symbol) [0x00007FF7CED64A45]\n\t(No symbol) [0x00007FF7CED65AD4]\n\tGetHandleVerifier [0x00007FF7CF28D5BB+3695675]\n\tGetHandleVerifier [0x00007FF7CF2E6197+4059159]\n\tGetHandleVerifier [0x00007FF7CF2DDF63+4025827]\n\tGetHandleVerifier [0x00007FF7CEFAF029+687785]\n\t(No symbol) [0x00007FF7CEE8B508]\n\t(No symbol) [0x00007FF7CEE87564]\n\t(No symbol) [0x00007FF7CEE876E9]\n\t(No symbol) [0x00007FF7CEE78094]\n\tBaseThreadInitThunk [0x00007FFAD0AF257D+29]\n\tRtlUserThreadStart [0x00007FFAD2BAAA58+40]\n",
     "output_type": "error",
     "traceback": [
      "\u001b[1;31m---------------------------------------------------------------------------\u001b[0m",
      "\u001b[1;31mNoSuchElementException\u001b[0m                    Traceback (most recent call last)",
      "Cell \u001b[1;32mIn[4], line 11\u001b[0m\n\u001b[0;32m      6\u001b[0m nav\u001b[38;5;241m.\u001b[39mget(\u001b[38;5;124m'\u001b[39m\u001b[38;5;124mhttps://www.google.com/\u001b[39m\u001b[38;5;124m'\u001b[39m)\n\u001b[0;32m      8\u001b[0m nav\u001b[38;5;241m.\u001b[39mfind_element(By\u001b[38;5;241m.\u001b[39mNAME, \u001b[38;5;124m'\u001b[39m\u001b[38;5;124mq\u001b[39m\u001b[38;5;124m'\u001b[39m)\u001b[38;5;241m.\u001b[39msend_keys(\u001b[38;5;124m'\u001b[39m\u001b[38;5;124mtempo agora\u001b[39m\u001b[38;5;124m'\u001b[39m)\n\u001b[1;32m---> 11\u001b[0m result \u001b[38;5;241m=\u001b[39m \u001b[43mnav\u001b[49m\u001b[38;5;241;43m.\u001b[39;49m\u001b[43mfind_element\u001b[49m\u001b[43m(\u001b[49m\u001b[43mBy\u001b[49m\u001b[38;5;241;43m.\u001b[39;49m\u001b[43mNAME\u001b[49m\u001b[43m,\u001b[49m\u001b[43m \u001b[49m\u001b[38;5;124;43m'\u001b[39;49m\u001b[38;5;124;43mbtnk\u001b[39;49m\u001b[38;5;124;43m'\u001b[39;49m\u001b[43m)\u001b[49m\u001b[38;5;241m.\u001b[39mclick()\n\u001b[0;32m     12\u001b[0m \u001b[38;5;28mprint\u001b[39m(result)\n",
      "File \u001b[1;32mc:\\Users\\carlo\\AppData\\Local\\Programs\\Python\\Python312\\Lib\\site-packages\\selenium\\webdriver\\remote\\webdriver.py:742\u001b[0m, in \u001b[0;36mWebDriver.find_element\u001b[1;34m(self, by, value)\u001b[0m\n\u001b[0;32m    739\u001b[0m     by \u001b[38;5;241m=\u001b[39m By\u001b[38;5;241m.\u001b[39mCSS_SELECTOR\n\u001b[0;32m    740\u001b[0m     value \u001b[38;5;241m=\u001b[39m \u001b[38;5;124mf\u001b[39m\u001b[38;5;124m'\u001b[39m\u001b[38;5;124m[name=\u001b[39m\u001b[38;5;124m\"\u001b[39m\u001b[38;5;132;01m{\u001b[39;00mvalue\u001b[38;5;132;01m}\u001b[39;00m\u001b[38;5;124m\"\u001b[39m\u001b[38;5;124m]\u001b[39m\u001b[38;5;124m'\u001b[39m\n\u001b[1;32m--> 742\u001b[0m \u001b[38;5;28;01mreturn\u001b[39;00m \u001b[38;5;28;43mself\u001b[39;49m\u001b[38;5;241;43m.\u001b[39;49m\u001b[43mexecute\u001b[49m\u001b[43m(\u001b[49m\u001b[43mCommand\u001b[49m\u001b[38;5;241;43m.\u001b[39;49m\u001b[43mFIND_ELEMENT\u001b[49m\u001b[43m,\u001b[49m\u001b[43m \u001b[49m\u001b[43m{\u001b[49m\u001b[38;5;124;43m\"\u001b[39;49m\u001b[38;5;124;43musing\u001b[39;49m\u001b[38;5;124;43m\"\u001b[39;49m\u001b[43m:\u001b[49m\u001b[43m \u001b[49m\u001b[43mby\u001b[49m\u001b[43m,\u001b[49m\u001b[43m \u001b[49m\u001b[38;5;124;43m\"\u001b[39;49m\u001b[38;5;124;43mvalue\u001b[39;49m\u001b[38;5;124;43m\"\u001b[39;49m\u001b[43m:\u001b[49m\u001b[43m \u001b[49m\u001b[43mvalue\u001b[49m\u001b[43m}\u001b[49m\u001b[43m)\u001b[49m[\u001b[38;5;124m\"\u001b[39m\u001b[38;5;124mvalue\u001b[39m\u001b[38;5;124m\"\u001b[39m]\n",
      "File \u001b[1;32mc:\\Users\\carlo\\AppData\\Local\\Programs\\Python\\Python312\\Lib\\site-packages\\selenium\\webdriver\\remote\\webdriver.py:348\u001b[0m, in \u001b[0;36mWebDriver.execute\u001b[1;34m(self, driver_command, params)\u001b[0m\n\u001b[0;32m    346\u001b[0m response \u001b[38;5;241m=\u001b[39m \u001b[38;5;28mself\u001b[39m\u001b[38;5;241m.\u001b[39mcommand_executor\u001b[38;5;241m.\u001b[39mexecute(driver_command, params)\n\u001b[0;32m    347\u001b[0m \u001b[38;5;28;01mif\u001b[39;00m response:\n\u001b[1;32m--> 348\u001b[0m     \u001b[38;5;28;43mself\u001b[39;49m\u001b[38;5;241;43m.\u001b[39;49m\u001b[43merror_handler\u001b[49m\u001b[38;5;241;43m.\u001b[39;49m\u001b[43mcheck_response\u001b[49m\u001b[43m(\u001b[49m\u001b[43mresponse\u001b[49m\u001b[43m)\u001b[49m\n\u001b[0;32m    349\u001b[0m     response[\u001b[38;5;124m\"\u001b[39m\u001b[38;5;124mvalue\u001b[39m\u001b[38;5;124m\"\u001b[39m] \u001b[38;5;241m=\u001b[39m \u001b[38;5;28mself\u001b[39m\u001b[38;5;241m.\u001b[39m_unwrap_value(response\u001b[38;5;241m.\u001b[39mget(\u001b[38;5;124m\"\u001b[39m\u001b[38;5;124mvalue\u001b[39m\u001b[38;5;124m\"\u001b[39m, \u001b[38;5;28;01mNone\u001b[39;00m))\n\u001b[0;32m    350\u001b[0m     \u001b[38;5;28;01mreturn\u001b[39;00m response\n",
      "File \u001b[1;32mc:\\Users\\carlo\\AppData\\Local\\Programs\\Python\\Python312\\Lib\\site-packages\\selenium\\webdriver\\remote\\errorhandler.py:229\u001b[0m, in \u001b[0;36mErrorHandler.check_response\u001b[1;34m(self, response)\u001b[0m\n\u001b[0;32m    227\u001b[0m         alert_text \u001b[38;5;241m=\u001b[39m value[\u001b[38;5;124m\"\u001b[39m\u001b[38;5;124malert\u001b[39m\u001b[38;5;124m\"\u001b[39m]\u001b[38;5;241m.\u001b[39mget(\u001b[38;5;124m\"\u001b[39m\u001b[38;5;124mtext\u001b[39m\u001b[38;5;124m\"\u001b[39m)\n\u001b[0;32m    228\u001b[0m     \u001b[38;5;28;01mraise\u001b[39;00m exception_class(message, screen, stacktrace, alert_text)  \u001b[38;5;66;03m# type: ignore[call-arg]  # mypy is not smart enough here\u001b[39;00m\n\u001b[1;32m--> 229\u001b[0m \u001b[38;5;28;01mraise\u001b[39;00m exception_class(message, screen, stacktrace)\n",
      "\u001b[1;31mNoSuchElementException\u001b[0m: Message: no such element: Unable to locate element: {\"method\":\"css selector\",\"selector\":\"[name=\"btnk\"]\"}\n  (Session info: chrome=120.0.6099.71); For documentation on this error, please visit: https://www.selenium.dev/documentation/webdriver/troubleshooting/errors#no-such-element-exception\nStacktrace:\n\tGetHandleVerifier [0x00007FF7CEF14D02+56194]\n\t(No symbol) [0x00007FF7CEE804B2]\n\t(No symbol) [0x00007FF7CED276AA]\n\t(No symbol) [0x00007FF7CED716D0]\n\t(No symbol) [0x00007FF7CED717EC]\n\t(No symbol) [0x00007FF7CEDB4D77]\n\t(No symbol) [0x00007FF7CED95EBF]\n\t(No symbol) [0x00007FF7CEDB2786]\n\t(No symbol) [0x00007FF7CED95C23]\n\t(No symbol) [0x00007FF7CED64A45]\n\t(No symbol) [0x00007FF7CED65AD4]\n\tGetHandleVerifier [0x00007FF7CF28D5BB+3695675]\n\tGetHandleVerifier [0x00007FF7CF2E6197+4059159]\n\tGetHandleVerifier [0x00007FF7CF2DDF63+4025827]\n\tGetHandleVerifier [0x00007FF7CEFAF029+687785]\n\t(No symbol) [0x00007FF7CEE8B508]\n\t(No symbol) [0x00007FF7CEE87564]\n\t(No symbol) [0x00007FF7CEE876E9]\n\t(No symbol) [0x00007FF7CEE78094]\n\tBaseThreadInitThunk [0x00007FFAD0AF257D+29]\n\tRtlUserThreadStart [0x00007FFAD2BAAA58+40]\n"
     ]
    }
   ],
   "source": [
    "from selenium import webdriver\n",
    "from selenium.webdriver.common.by import By\n",
    "from selenium.webdriver.common.keys import Keys\n",
    "\n",
    "nav = webdriver.Chrome()\n",
    "nav.get('https://www.google.com/')\n",
    "\n",
    "nav.find_element(By.NAME, 'q').send_keys('tempo agora')\n",
    "\n",
    "\n",
    "result = nav.find_element(By.NAME, 'btnk').click()\n",
    "print(result)"
   ]
  },
  {
   "cell_type": "code",
   "execution_count": 16,
   "metadata": {},
   "outputs": [
    {
     "name": "stdout",
     "output_type": "stream",
     "text": [
      "Resultado da Web com links de sites\n",
      "\n",
      "URL Shortener - url shortening service gg.gg\n",
      "GG.GG\n",
      "https://gg.gg\n",
      "·\n",
      "Traduzir esta página\n",
      "Logo URL Shortener - Get short link on GG.GG. Customize link ...\n",
      "Login\n",
      "Login. Email: Password: Remember Me. Forgot your ...\n",
      "About\n",
      "GG.gg is the fastest and easy way to share, save, track your links ...\n",
      "Registration\n",
      "... Register. Registration. Email: Password: Confirm Password ...\n",
      "Aderecista\n",
      "O que faz um aderecista? Neste vídeo, que faz parte da série ...\n",
      "Mais resultados de gg.gg »\n",
      "URL Shortener - url shortening service gg.gg\n",
      "GG.GG\n",
      "https://gg.gg\n",
      "·\n",
      "Traduzir esta página\n",
      "Logo URL Shortener - Get short link on GG.GG. Customize link ...\n",
      "\n",
      "Gg gg pad 101\n",
      "Casas Bahia\n",
      "https://casasbahia.com.br › gg-gg-pad-101\n",
      "Gg gg pad 101 em até 24x* no site ou aplicativo. Compre Gg gg pad 101 com o Carnê Casas Bahia e com frete grátis*\n",
      "gg.gg é Seguro? Revisão da Comunidade | WoT\n",
      "MyWOT\n",
      "https://www.mywot.com › scorecard › gg.gg\n",
      "A tabela de desempenho WoT fornece classificações e análises online de gg.gg sobre sua segurança e confiança. Então, está gg.gg seguro? Venha descobrir.\n",
      "GG| na App Store\n",
      "Apple\n",
      "https://apps.apple.com › app\n",
      "20 de mai. de 2023 — Welcome to GG, your gaming companion, a place to connect with fellow gamers, discover new games, and keep track of your experiences all in ...\n",
      "Avaliação: 4 · 11 comentários · Gratuito · iOS\n",
      "gggg em Promoção no Magazine Luiza\n",
      "Magazine Luiza\n",
      "https://www.magazineluiza.com.br › busca › gggg\n",
      "Procurando por gggg? Confira as ofertas que a Magalu separou para você. Facilidade no pagamento e entrega rápida. Vem ser feliz!\n",
      "GG| – Apps no Google Play\n",
      "Google Play\n",
      "https://play.google.com › store › apps › details\n",
      "Bem-vindo ao GG, seu companheiro de jogo, um lugar para se conectar com outros jogadores, descobrir novos jogos e acompanhar suas experiências em uma única ...\n",
      "Avaliação: 4 · 902 votos · Gratuito · Android · Redes sociais\n",
      "GG – Wikipédia, a enciclopédia livre\n",
      "Wikipedia\n",
      "https://pt.wikipedia.org › wiki\n",
      "GG, Gg ou gg pode referir-se a: GG Allin — vocalista de punk rock .gg · Gloria Groove — artista drag queen. Wikcionário. O Wikcionário tem os verbetes GG e ...\n"
     ]
    }
   ],
   "source": [
    "from selenium import webdriver\n",
    "from selenium.webdriver.common.by import By\n",
    "from selenium.webdriver.common.keys import Keys\n",
    "\n",
    "nav = webdriver.Chrome()\n",
    "nav.get('https://www.google.com/')\n",
    "\n",
    "search_box = nav.find_element(By.NAME, 'q')\n",
    "search_box.send_keys('GG_GG')\n",
    "search_box.send_keys(Keys.RETURN)\n",
    "\n",
    "nav.implicitly_wait(5)\n",
    "\n",
    "search_results = nav.find_elements(By.CSS_SELECTOR, 'div.g')\n",
    "\n",
    "\n",
    "for result in search_results:\n",
    "    print(result.text)\n",
    "\n",
    "\n",
    "nav.quit()"
   ]
  }
 ],
 "metadata": {
  "kernelspec": {
   "display_name": "Python 3",
   "language": "python",
   "name": "python3"
  },
  "language_info": {
   "codemirror_mode": {
    "name": "ipython",
    "version": 3
   },
   "file_extension": ".py",
   "mimetype": "text/x-python",
   "name": "python",
   "nbconvert_exporter": "python",
   "pygments_lexer": "ipython3",
   "version": "3.12.0"
  }
 },
 "nbformat": 4,
 "nbformat_minor": 2
}
