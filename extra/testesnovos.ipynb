{
 "cells": [
  {
   "cell_type": "code",
   "execution_count": 9,
   "metadata": {},
   "outputs": [],
   "source": [
    "from selenium import webdriver\n",
    "class GoogleBot():\n",
    "    def __init__(self):\n",
    "        self.driver = webdriver.Chrome()"
   ]
  },
  {
   "cell_type": "code",
   "execution_count": 1,
   "metadata": {},
   "outputs": [
    {
     "name": "stdout",
     "output_type": "stream",
     "text": [
      "Depois de 5 anos de desenvolvimento conturbado, The Day Before finalmente chegou, mas não vendeu suficiente para manter o estúdio\n"
     ]
    }
   ],
   "source": [
    "from selenium import webdriver\n",
    "from selenium.webdriver.common.by import By\n",
    "\n",
    "driver = webdriver.Chrome()\n",
    "driver.get('https://www.adrenaline.com.br/noticias/criadora-de-the-day-before-anuncia-fechamento-do-estudio/?feed_id=22697&_unique_id=65775a324beb2&fbclid=IwAR2rlFOHtnPCWGORg_P5ayJNwuZMhzuuw3hc3TtTjXOaXKPPHWUINyvHIaA')\n",
    "\n",
    "result = driver.find_element(By.XPATH, '/html/body/main/section[1]/div[4]/div/p[2]').text\n",
    "\n",
    "print(result)"
   ]
  },
  {
   "cell_type": "code",
   "execution_count": 3,
   "metadata": {},
   "outputs": [
    {
     "ename": "NoSuchElementException",
     "evalue": "Message: no such element: Unable to locate element: {\"method\":\"css selector\",\"selector\":\"[name=\"btnk\"]\"}\n  (Session info: chrome=120.0.6099.131); For documentation on this error, please visit: https://www.selenium.dev/documentation/webdriver/troubleshooting/errors#no-such-element-exception\nStacktrace:\n\tGetHandleVerifier [0x00007FF665472142+3514994]\n\t(No symbol) [0x00007FF665090CE2]\n\t(No symbol) [0x00007FF664F376AA]\n\t(No symbol) [0x00007FF664F81860]\n\t(No symbol) [0x00007FF664F8197C]\n\t(No symbol) [0x00007FF664FC4EE7]\n\t(No symbol) [0x00007FF664FA602F]\n\t(No symbol) [0x00007FF664FC28F6]\n\t(No symbol) [0x00007FF664FA5D93]\n\t(No symbol) [0x00007FF664F74BDC]\n\t(No symbol) [0x00007FF664F75C64]\n\tGetHandleVerifier [0x00007FF66549E16B+3695259]\n\tGetHandleVerifier [0x00007FF6654F6737+4057191]\n\tGetHandleVerifier [0x00007FF6654EE4E3+4023827]\n\tGetHandleVerifier [0x00007FF6651C04F9+689705]\n\t(No symbol) [0x00007FF66509C048]\n\t(No symbol) [0x00007FF665098044]\n\t(No symbol) [0x00007FF6650981C9]\n\t(No symbol) [0x00007FF6650888C4]\n\tBaseThreadInitThunk [0x00007FFB23FB257D+29]\n\tRtlUserThreadStart [0x00007FFB249EAA58+40]\n",
     "output_type": "error",
     "traceback": [
      "\u001b[1;31m---------------------------------------------------------------------------\u001b[0m",
      "\u001b[1;31mNoSuchElementException\u001b[0m                    Traceback (most recent call last)",
      "Cell \u001b[1;32mIn[3], line 11\u001b[0m\n\u001b[0;32m      6\u001b[0m nav\u001b[38;5;241m.\u001b[39mget(\u001b[38;5;124m'\u001b[39m\u001b[38;5;124mhttps://www.google.com/\u001b[39m\u001b[38;5;124m'\u001b[39m)\n\u001b[0;32m      8\u001b[0m nav\u001b[38;5;241m.\u001b[39mfind_element(By\u001b[38;5;241m.\u001b[39mNAME, \u001b[38;5;124m'\u001b[39m\u001b[38;5;124mq\u001b[39m\u001b[38;5;124m'\u001b[39m)\u001b[38;5;241m.\u001b[39msend_keys(\u001b[38;5;124m'\u001b[39m\u001b[38;5;124mtempo agora\u001b[39m\u001b[38;5;124m'\u001b[39m)\n\u001b[1;32m---> 11\u001b[0m result \u001b[38;5;241m=\u001b[39m \u001b[43mnav\u001b[49m\u001b[38;5;241;43m.\u001b[39;49m\u001b[43mfind_element\u001b[49m\u001b[43m(\u001b[49m\u001b[43mBy\u001b[49m\u001b[38;5;241;43m.\u001b[39;49m\u001b[43mNAME\u001b[49m\u001b[43m,\u001b[49m\u001b[43m \u001b[49m\u001b[38;5;124;43m'\u001b[39;49m\u001b[38;5;124;43mbtnk\u001b[39;49m\u001b[38;5;124;43m'\u001b[39;49m\u001b[43m)\u001b[49m\u001b[38;5;241m.\u001b[39mclick()\n\u001b[0;32m     12\u001b[0m \u001b[38;5;28mprint\u001b[39m(result)\n",
      "File \u001b[1;32m~\\AppData\\Local\\Packages\\PythonSoftwareFoundation.Python.3.11_qbz5n2kfra8p0\\LocalCache\\local-packages\\Python311\\site-packages\\selenium\\webdriver\\remote\\webdriver.py:742\u001b[0m, in \u001b[0;36mWebDriver.find_element\u001b[1;34m(self, by, value)\u001b[0m\n\u001b[0;32m    739\u001b[0m     by \u001b[38;5;241m=\u001b[39m By\u001b[38;5;241m.\u001b[39mCSS_SELECTOR\n\u001b[0;32m    740\u001b[0m     value \u001b[38;5;241m=\u001b[39m \u001b[38;5;124mf\u001b[39m\u001b[38;5;124m'\u001b[39m\u001b[38;5;124m[name=\u001b[39m\u001b[38;5;124m\"\u001b[39m\u001b[38;5;132;01m{\u001b[39;00mvalue\u001b[38;5;132;01m}\u001b[39;00m\u001b[38;5;124m\"\u001b[39m\u001b[38;5;124m]\u001b[39m\u001b[38;5;124m'\u001b[39m\n\u001b[1;32m--> 742\u001b[0m \u001b[38;5;28;01mreturn\u001b[39;00m \u001b[38;5;28;43mself\u001b[39;49m\u001b[38;5;241;43m.\u001b[39;49m\u001b[43mexecute\u001b[49m\u001b[43m(\u001b[49m\u001b[43mCommand\u001b[49m\u001b[38;5;241;43m.\u001b[39;49m\u001b[43mFIND_ELEMENT\u001b[49m\u001b[43m,\u001b[49m\u001b[43m \u001b[49m\u001b[43m{\u001b[49m\u001b[38;5;124;43m\"\u001b[39;49m\u001b[38;5;124;43musing\u001b[39;49m\u001b[38;5;124;43m\"\u001b[39;49m\u001b[43m:\u001b[49m\u001b[43m \u001b[49m\u001b[43mby\u001b[49m\u001b[43m,\u001b[49m\u001b[43m \u001b[49m\u001b[38;5;124;43m\"\u001b[39;49m\u001b[38;5;124;43mvalue\u001b[39;49m\u001b[38;5;124;43m\"\u001b[39;49m\u001b[43m:\u001b[49m\u001b[43m \u001b[49m\u001b[43mvalue\u001b[49m\u001b[43m}\u001b[49m\u001b[43m)\u001b[49m[\u001b[38;5;124m\"\u001b[39m\u001b[38;5;124mvalue\u001b[39m\u001b[38;5;124m\"\u001b[39m]\n",
      "File \u001b[1;32m~\\AppData\\Local\\Packages\\PythonSoftwareFoundation.Python.3.11_qbz5n2kfra8p0\\LocalCache\\local-packages\\Python311\\site-packages\\selenium\\webdriver\\remote\\webdriver.py:348\u001b[0m, in \u001b[0;36mWebDriver.execute\u001b[1;34m(self, driver_command, params)\u001b[0m\n\u001b[0;32m    346\u001b[0m response \u001b[38;5;241m=\u001b[39m \u001b[38;5;28mself\u001b[39m\u001b[38;5;241m.\u001b[39mcommand_executor\u001b[38;5;241m.\u001b[39mexecute(driver_command, params)\n\u001b[0;32m    347\u001b[0m \u001b[38;5;28;01mif\u001b[39;00m response:\n\u001b[1;32m--> 348\u001b[0m     \u001b[38;5;28;43mself\u001b[39;49m\u001b[38;5;241;43m.\u001b[39;49m\u001b[43merror_handler\u001b[49m\u001b[38;5;241;43m.\u001b[39;49m\u001b[43mcheck_response\u001b[49m\u001b[43m(\u001b[49m\u001b[43mresponse\u001b[49m\u001b[43m)\u001b[49m\n\u001b[0;32m    349\u001b[0m     response[\u001b[38;5;124m\"\u001b[39m\u001b[38;5;124mvalue\u001b[39m\u001b[38;5;124m\"\u001b[39m] \u001b[38;5;241m=\u001b[39m \u001b[38;5;28mself\u001b[39m\u001b[38;5;241m.\u001b[39m_unwrap_value(response\u001b[38;5;241m.\u001b[39mget(\u001b[38;5;124m\"\u001b[39m\u001b[38;5;124mvalue\u001b[39m\u001b[38;5;124m\"\u001b[39m, \u001b[38;5;28;01mNone\u001b[39;00m))\n\u001b[0;32m    350\u001b[0m     \u001b[38;5;28;01mreturn\u001b[39;00m response\n",
      "File \u001b[1;32m~\\AppData\\Local\\Packages\\PythonSoftwareFoundation.Python.3.11_qbz5n2kfra8p0\\LocalCache\\local-packages\\Python311\\site-packages\\selenium\\webdriver\\remote\\errorhandler.py:229\u001b[0m, in \u001b[0;36mErrorHandler.check_response\u001b[1;34m(self, response)\u001b[0m\n\u001b[0;32m    227\u001b[0m         alert_text \u001b[38;5;241m=\u001b[39m value[\u001b[38;5;124m\"\u001b[39m\u001b[38;5;124malert\u001b[39m\u001b[38;5;124m\"\u001b[39m]\u001b[38;5;241m.\u001b[39mget(\u001b[38;5;124m\"\u001b[39m\u001b[38;5;124mtext\u001b[39m\u001b[38;5;124m\"\u001b[39m)\n\u001b[0;32m    228\u001b[0m     \u001b[38;5;28;01mraise\u001b[39;00m exception_class(message, screen, stacktrace, alert_text)  \u001b[38;5;66;03m# type: ignore[call-arg]  # mypy is not smart enough here\u001b[39;00m\n\u001b[1;32m--> 229\u001b[0m \u001b[38;5;28;01mraise\u001b[39;00m exception_class(message, screen, stacktrace)\n",
      "\u001b[1;31mNoSuchElementException\u001b[0m: Message: no such element: Unable to locate element: {\"method\":\"css selector\",\"selector\":\"[name=\"btnk\"]\"}\n  (Session info: chrome=120.0.6099.131); For documentation on this error, please visit: https://www.selenium.dev/documentation/webdriver/troubleshooting/errors#no-such-element-exception\nStacktrace:\n\tGetHandleVerifier [0x00007FF665472142+3514994]\n\t(No symbol) [0x00007FF665090CE2]\n\t(No symbol) [0x00007FF664F376AA]\n\t(No symbol) [0x00007FF664F81860]\n\t(No symbol) [0x00007FF664F8197C]\n\t(No symbol) [0x00007FF664FC4EE7]\n\t(No symbol) [0x00007FF664FA602F]\n\t(No symbol) [0x00007FF664FC28F6]\n\t(No symbol) [0x00007FF664FA5D93]\n\t(No symbol) [0x00007FF664F74BDC]\n\t(No symbol) [0x00007FF664F75C64]\n\tGetHandleVerifier [0x00007FF66549E16B+3695259]\n\tGetHandleVerifier [0x00007FF6654F6737+4057191]\n\tGetHandleVerifier [0x00007FF6654EE4E3+4023827]\n\tGetHandleVerifier [0x00007FF6651C04F9+689705]\n\t(No symbol) [0x00007FF66509C048]\n\t(No symbol) [0x00007FF665098044]\n\t(No symbol) [0x00007FF6650981C9]\n\t(No symbol) [0x00007FF6650888C4]\n\tBaseThreadInitThunk [0x00007FFB23FB257D+29]\n\tRtlUserThreadStart [0x00007FFB249EAA58+40]\n"
     ]
    }
   ],
   "source": [
    "from selenium import webdriver\n",
    "from selenium.webdriver.common.by import By\n",
    "from selenium.webdriver.common.keys import Keys\n",
    "\n",
    "nav = webdriver.Chrome()\n",
    "nav.get('https://www.google.com/')\n",
    "\n",
    "nav.find_element(By.NAME, 'q').send_keys('tempo agora')\n",
    "\n",
    "\n",
    "result = nav.find_element(By.NAME, 'btnk').click()\n",
    "print(result)"
   ]
  },
  {
   "cell_type": "code",
   "execution_count": 2,
   "metadata": {},
   "outputs": [
    {
     "name": "stdout",
     "output_type": "stream",
     "text": [
      "Previsão para 15 dias Campinas - SP - Tempo Agora - UOL\n",
      "Tempo Agora\n",
      "https://tempoagora.uol.com.br › Cidade\n",
      "Saiba qual é a previsão do tempo para os próximos 15 dias em Campinas - SP. Confira se há previsão de chuva, qual a temperatura e e as condições de tempo ...\n",
      "\n",
      "\n",
      "\n",
      "\n",
      "Previsão do tempo e clima | Meteorologia no Tempo Agora\n",
      "Tempo Agora\n",
      "https://tempoagora.uol.com.br\n",
      "Saiba mais sobre a previsão do tempo e clima no Tempo Agora! Confira se vai chover, a sensação térmica e as condições de tempo para os próximos dias.\n",
      "São Paulo · 15 dias · Rio de Janeiro - RJ · Previsão do tempo hoje para...\n",
      "Tempo Agora em Campinas - SP: Clima em tempo real\n",
      "Climatempo\n",
      "https://www.climatempo.com.br › Cidade\n",
      "Notícias e tempo agora emCampinas-SP. Qual é a média mensal de chuva em janeiro na cidade de Campinas - SP? Para o mês de janeiro, a chuva média é de 261 mm na ...\n",
      "Previsão do tempo Campinas SP. 14 dias\n",
      "Tempo.com\n",
      "https://www.tempo.com › Estado de São Paulo\n",
      "Sábado 13 Jan. Céu nublado com aguaceiros e tempestades. 80% 8.6 mm. 33° / 21°.\n",
      "Clima em Campinas - SP hoje: Previsão do tempo para hoje\n",
      "Climatempo\n",
      "https://www.climatempo.com.br › Cidade\n",
      "Temperatura. Temperatura mínima 20° Temperatura máxima 33° · Chuva. 0mm - 0% · Vento. ESE - 13km/h · Umidade. Úmidade mínima 31% Úmidade máxima 85% · Sol 05:29h 18: ...\n",
      "Previsão do tempo para Campinas e Região\n",
      "CEPAGRI/UNICAMP\n",
      "https://www.cpa.unicamp.br › cepagri › previsao\n",
      "5 de dez. de 2023 — A RMC amanheceu sob condições de céu claro com temperatura de 19,4C. Hoje e amanhã, o sol continuará predominando na região.\n",
      "Previsão do Tempo em Campinas - SP | Hoje e Amanhã\n",
      "O TEMPO\n",
      "https://www.otempo.com.br › tempo › campinas-sp\n",
      "Previsão do Tempo em. Campinas. -. SP. Sex - 05 de janeiro. 24 ºC. 0ºC. Temperatura Mínima 0ºC. Sensação. 24º. Vento. 13km/h. Umidade. 78%. Probabilidade.\n",
      "Campinas / SP\n",
      "Centro de Previsão de Tempo e Estudos Climáticos\n",
      "https://www.cptec.inpe.br › cidades › tempo\n",
      "Centro de Previsão de Tempo e Estudos Climáticos - CPTEC/INPE.\n",
      "INMET: Instituto Nacional de Meteorologia\n",
      "INMET\n",
      "https://portal.inmet.gov.br\n",
      "Monitoramento · Avisos Meteorológicos · Previsão de Tempo · Satélite · Previsão Numérica.\n",
      "Previsão climática horária para Campinas, São Paulo\n",
      "The Weather Channel\n",
      "https://weather.com › pt-BR › clima › horaria › Campin...\n",
      "Quantidade de chuva0 mm. 8:00. 23°. 1%. Ensolarado. Sensação térmica23°. VentoESE 12 km/h. Umidade73%. Índice UV3 de 11. Nebulosidade17%.\n"
     ]
    }
   ],
   "source": [
    "from selenium import webdriver\n",
    "from selenium.webdriver.common.by import By\n",
    "from selenium.webdriver.common.keys import Keys\n",
    "\n",
    "nav = webdriver.Chrome()\n",
    "nav.get('https://www.google.com/')\n",
    "\n",
    "search_box = nav.find_element(By.NAME, 'q')\n",
    "search_box.send_keys('tempo agora')\n",
    "search_box.send_keys(Keys.RETURN)\n",
    "\n",
    "nav.implicitly_wait(5)\n",
    "\n",
    "search_results = nav.find_elements(By.CSS_SELECTOR, 'div.g')\n",
    "\n",
    "\n",
    "for result in search_results:\n",
    "    print(result.text)\n",
    "\n",
    "\n",
    "nav.quit()"
   ]
  }
 ],
 "metadata": {
  "kernelspec": {
   "display_name": "Python 3",
   "language": "python",
   "name": "python3"
  },
  "language_info": {
   "codemirror_mode": {
    "name": "ipython",
    "version": 3
   },
   "file_extension": ".py",
   "mimetype": "text/x-python",
   "name": "python",
   "nbconvert_exporter": "python",
   "pygments_lexer": "ipython3",
   "version": "3.11.7"
  }
 },
 "nbformat": 4,
 "nbformat_minor": 2
}
